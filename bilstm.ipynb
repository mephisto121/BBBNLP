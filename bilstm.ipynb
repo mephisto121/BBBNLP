{
 "cells": [
  {
   "cell_type": "code",
   "execution_count": 1,
   "metadata": {},
   "outputs": [],
   "source": [
    "import pandas as pd\n",
    "import numpy as np\n",
    "import tensorflow as tf\n",
    "from tensorflow.keras.layers import  Dense, Bidirectional, LSTM, Dropout,Input, Embedding,GRU\n",
    "from tensorflow.keras.layers.experimental.preprocessing import TextVectorization\n",
    "from tensorflow.keras.losses import BinaryCrossentropy\n",
    "from tensorflow.keras.models import Model ,Sequential\n",
    "from tensorflow.keras.utils import to_categorical\n",
    "from tensorflow.keras.metrics import Precision, AUC, SpecificityAtSensitivity, SensitivityAtSpecificity, binary_accuracy\n",
    "from helper_functions import smi_tokenizer, mcc_metric\n",
    "from rdkit import Chem\n",
    "from rdkit.Chem import PandasTools\n",
    "from tensorflow.keras.wrappers.scikit_learn import KerasClassifier\n",
    "from attention import Attention\n",
    "from sklearn.model_selection import train_test_split\n",
    "from sklearn.preprocessing import LabelEncoder\n",
    "from sklearn.utils import class_weight"
   ]
  },
  {
   "cell_type": "code",
   "execution_count": 2,
   "metadata": {},
   "outputs": [
    {
     "data": {
      "text/html": [
       "<div>\n",
       "<style scoped>\n",
       "    .dataframe tbody tr th:only-of-type {\n",
       "        vertical-align: middle;\n",
       "    }\n",
       "\n",
       "    .dataframe tbody tr th {\n",
       "        vertical-align: top;\n",
       "    }\n",
       "\n",
       "    .dataframe thead th {\n",
       "        text-align: right;\n",
       "    }\n",
       "</style>\n",
       "<table border=\"1\" class=\"dataframe\">\n",
       "  <thead>\n",
       "    <tr style=\"text-align: right;\">\n",
       "      <th></th>\n",
       "      <th>NO.</th>\n",
       "      <th>compound_name</th>\n",
       "      <th>IUPAC_name</th>\n",
       "      <th>SMILES</th>\n",
       "      <th>CID</th>\n",
       "      <th>logBB</th>\n",
       "      <th>BBB+/BBB-</th>\n",
       "      <th>Inchi</th>\n",
       "      <th>threshold</th>\n",
       "      <th>reference</th>\n",
       "      <th>group</th>\n",
       "      <th>comments</th>\n",
       "    </tr>\n",
       "  </thead>\n",
       "  <tbody>\n",
       "    <tr>\n",
       "      <th>0</th>\n",
       "      <td>1</td>\n",
       "      <td>sulphasalazine</td>\n",
       "      <td>2-hydroxy-5-[[4-(pyridin-2-ylsulfamoyl)phenyl]...</td>\n",
       "      <td>O=C(O)c1cc(N=Nc2ccc(S(=O)(=O)Nc3ccccn3)cc2)ccc1O</td>\n",
       "      <td>5339.0</td>\n",
       "      <td>-2.69</td>\n",
       "      <td>BBB-</td>\n",
       "      <td>InChI=1S/C18H14N4O5S/c23-16-9-6-13(11-15(16)18...</td>\n",
       "      <td>NaN</td>\n",
       "      <td>R2|R2|R25|R46|</td>\n",
       "      <td>A</td>\n",
       "      <td>NaN</td>\n",
       "    </tr>\n",
       "  </tbody>\n",
       "</table>\n",
       "</div>"
      ],
      "text/plain": [
       "   NO.   compound_name                                         IUPAC_name  \\\n",
       "0    1  sulphasalazine  2-hydroxy-5-[[4-(pyridin-2-ylsulfamoyl)phenyl]...   \n",
       "\n",
       "                                             SMILES     CID  logBB BBB+/BBB-  \\\n",
       "0  O=C(O)c1cc(N=Nc2ccc(S(=O)(=O)Nc3ccccn3)cc2)ccc1O  5339.0  -2.69      BBB-   \n",
       "\n",
       "                                               Inchi  threshold  \\\n",
       "0  InChI=1S/C18H14N4O5S/c23-16-9-6-13(11-15(16)18...        NaN   \n",
       "\n",
       "        reference group comments  \n",
       "0  R2|R2|R25|R46|     A      NaN  "
      ]
     },
     "execution_count": 2,
     "metadata": {},
     "output_type": "execute_result"
    }
   ],
   "source": [
    "data = pd.read_table('F:/bbb/data/B3DB/B3DB_classification.tsv')\n",
    "data.head(1)"
   ]
  },
  {
   "cell_type": "code",
   "execution_count": 3,
   "metadata": {},
   "outputs": [],
   "source": [
    "X = data[\"SMILES\"]\n",
    "\n",
    "target=data['BBB+/BBB-'].values.tolist()\n",
    "label_encoder = LabelEncoder()\n",
    "y_classification = label_encoder.fit_transform(target)"
   ]
  },
  {
   "cell_type": "code",
   "execution_count": 4,
   "metadata": {},
   "outputs": [],
   "source": [
    "smile_data = [smi_tokenizer(smile) for smile in X]"
   ]
  },
  {
   "cell_type": "code",
   "execution_count": 5,
   "metadata": {},
   "outputs": [],
   "source": [
    "xtrain, xtest, ytrain, ytest = train_test_split(smile_data, y_classification, test_size=0.2, random_state=42)\n",
    "xtrain, xvalid, ytrain, yvalid  = train_test_split(xtrain, ytrain, test_size= 0.16, random_state=42)"
   ]
  },
  {
   "cell_type": "code",
   "execution_count": 6,
   "metadata": {},
   "outputs": [
    {
     "data": {
      "text/plain": [
       "7807"
      ]
     },
     "execution_count": 6,
     "metadata": {},
     "output_type": "execute_result"
    }
   ],
   "source": [
    "len(y_classification)"
   ]
  },
  {
   "cell_type": "code",
   "execution_count": 7,
   "metadata": {},
   "outputs": [
    {
     "data": {
      "text/plain": [
       "(array([0, 1], dtype=int64), array([4956, 2851], dtype=int64))"
      ]
     },
     "execution_count": 7,
     "metadata": {},
     "output_type": "execute_result"
    }
   ],
   "source": [
    "np.unique(y_classification, return_counts=True)"
   ]
  },
  {
   "cell_type": "code",
   "execution_count": 8,
   "metadata": {},
   "outputs": [
    {
     "name": "stderr",
     "output_type": "stream",
     "text": [
      "F:\\anaconda\\lib\\site-packages\\sklearn\\utils\\validation.py:70: FutureWarning: Pass classes=[0 1], y=[0 1 0 ... 0 1 0] as keyword args. From version 1.0 (renaming of 0.25) passing these as positional arguments will result in an error\n",
      "  warnings.warn(f\"Pass {args_msg} as keyword args. From version \"\n"
     ]
    }
   ],
   "source": [
    "class_weights = class_weight.compute_class_weight(\n",
    "           'balanced',\n",
    "            np.unique(ytrain), \n",
    "            ytrain)"
   ]
  },
  {
   "cell_type": "code",
   "execution_count": 9,
   "metadata": {},
   "outputs": [
    {
     "data": {
      "text/plain": [
       "array([0.79038577, 1.36092372])"
      ]
     },
     "execution_count": 9,
     "metadata": {},
     "output_type": "execute_result"
    }
   ],
   "source": [
    "class_weights"
   ]
  },
  {
   "cell_type": "code",
   "execution_count": 10,
   "metadata": {},
   "outputs": [],
   "source": [
    "class_weights = {0:0.78950695,\n",
    "                1: 1.36353712} "
   ]
  },
  {
   "cell_type": "code",
   "execution_count": 11,
   "metadata": {},
   "outputs": [],
   "source": [
    "text_vectorizer = TextVectorization(max_tokens=None, standardize=None, output_sequence_length=None,)"
   ]
  },
  {
   "cell_type": "code",
   "execution_count": 12,
   "metadata": {},
   "outputs": [
    {
     "data": {
      "text/plain": [
       "67"
      ]
     },
     "execution_count": 12,
     "metadata": {},
     "output_type": "execute_result"
    }
   ],
   "source": [
    "text_vectorizer.adapt(smile_data)\n",
    "word_in_vocab = text_vectorizer.get_vocabulary()\n",
    "len(word_in_vocab)"
   ]
  },
  {
   "cell_type": "code",
   "execution_count": 13,
   "metadata": {},
   "outputs": [],
   "source": [
    "input = Input(shape = (1,), dtype = 'string')\n",
    "x = text_vectorizer(input)\n",
    "x = Embedding(input_dim=len(word_in_vocab),\n",
    "                        output_dim=128, \n",
    "                        input_length=None,\n",
    "                        )(x)\n",
    "x = Bidirectional(LSTM(64, return_sequences=True,name = 'lstm1'))(x)\n",
    "x = Dropout(0.2)(x)\n",
    "x = Bidirectional(LSTM(64, return_sequences=True,name = 'lstm1'))(x)\n",
    "x = Bidirectional(LSTM(64, return_sequences=False,name = 'lstm1'))(x)\n",
    "x = Dropout(0.2)(x)\n",
    "\n",
    "x = Dense(256, activation = 'relu')(x)\n",
    "x = Dense(10, activation = 'relu')(x)\n",
    "output = Dense(1, activation = \"sigmoid\")(x)\n",
    "model = Model(inputs = input, outputs = output)\n"
   ]
  },
  {
   "cell_type": "code",
   "execution_count": 16,
   "metadata": {},
   "outputs": [
    {
     "name": "stdout",
     "output_type": "stream",
     "text": [
      "Epoch 1/60\n",
      "164/164 [==============================] - ETA: 0s - loss: 0.5503 - binary_accuracy: 0.7510 - auc_2: 0.7874 - mcc_metric: nan - precision_2: 0.6817 - sensitivity_at_specificity_2: 0.8485 - specificity_at_sensitivity_2: 0.9102WARNING:tensorflow:Can save best model only with val_auc available, skipping.\n",
      "164/164 [==============================] - 37s 93ms/step - loss: 0.5503 - binary_accuracy: 0.7510 - auc_2: 0.7874 - mcc_metric: nan - precision_2: 0.6817 - sensitivity_at_specificity_2: 0.8485 - specificity_at_sensitivity_2: 0.9102 - val_loss: 0.5089 - val_binary_accuracy: 0.7840 - val_auc_2: 0.8501 - val_mcc_metric: 0.5336 - val_precision_2: 0.6909 - val_sensitivity_at_specificity_2: 0.9036 - val_specificity_at_sensitivity_2: 0.9576\n",
      "Epoch 2/60\n",
      "164/164 [==============================] - ETA: 0s - loss: 0.4933 - binary_accuracy: 0.7973 - auc_2: 0.8326 - mcc_metric: 0.5687 - precision_2: 0.7291 - sensitivity_at_specificity_2: 0.8718 - specificity_at_sensitivity_2: 0.9491WARNING:tensorflow:Can save best model only with val_auc available, skipping.\n",
      "164/164 [==============================] - 13s 77ms/step - loss: 0.4933 - binary_accuracy: 0.7973 - auc_2: 0.8326 - mcc_metric: 0.5687 - precision_2: 0.7291 - sensitivity_at_specificity_2: 0.8718 - specificity_at_sensitivity_2: 0.9491 - val_loss: 0.4444 - val_binary_accuracy: 0.7920 - val_auc_2: 0.8580 - val_mcc_metric: 0.5439 - val_precision_2: 0.7135 - val_sensitivity_at_specificity_2: 0.9174 - val_specificity_at_sensitivity_2: 0.9717\n",
      "Epoch 3/60\n",
      "164/164 [==============================] - ETA: 0s - loss: 0.4812 - binary_accuracy: 0.7939 - auc_2: 0.8436 - mcc_metric: 0.5652 - precision_2: 0.7117 - sensitivity_at_specificity_2: 0.8952 - specificity_at_sensitivity_2: 0.9566WARNING:tensorflow:Can save best model only with val_auc available, skipping.\n",
      "164/164 [==============================] - 13s 78ms/step - loss: 0.4812 - binary_accuracy: 0.7939 - auc_2: 0.8436 - mcc_metric: 0.5652 - precision_2: 0.7117 - sensitivity_at_specificity_2: 0.8952 - specificity_at_sensitivity_2: 0.9566 - val_loss: 0.4580 - val_binary_accuracy: 0.7870 - val_auc_2: 0.8649 - val_mcc_metric: 0.5529 - val_precision_2: 0.6847 - val_sensitivity_at_specificity_2: 0.9118 - val_specificity_at_sensitivity_2: 0.9796\n",
      "Epoch 4/60\n",
      "164/164 [==============================] - ETA: 0s - loss: 0.4758 - binary_accuracy: 0.7941 - auc_2: 0.8413 - mcc_metric: 0.5665 - precision_2: 0.7125 - sensitivity_at_specificity_2: 0.8765 - specificity_at_sensitivity_2: 0.9671WARNING:tensorflow:Can save best model only with val_auc available, skipping.\n",
      "164/164 [==============================] - 13s 78ms/step - loss: 0.4758 - binary_accuracy: 0.7941 - auc_2: 0.8413 - mcc_metric: 0.5665 - precision_2: 0.7125 - sensitivity_at_specificity_2: 0.8765 - specificity_at_sensitivity_2: 0.9671 - val_loss: 0.4350 - val_binary_accuracy: 0.8120 - val_auc_2: 0.8696 - val_mcc_metric: 0.5772 - val_precision_2: 0.7760 - val_sensitivity_at_specificity_2: 0.9229 - val_specificity_at_sensitivity_2: 0.9733\n",
      "Epoch 5/60\n",
      "164/164 [==============================] - ETA: 0s - loss: 0.4550 - binary_accuracy: 0.8076 - auc_2: 0.8619 - mcc_metric: 0.5968 - precision_2: 0.7288 - sensitivity_at_specificity_2: 0.9087 - specificity_at_sensitivity_2: 0.9665WARNING:tensorflow:Can save best model only with val_auc available, skipping.\n",
      "164/164 [==============================] - 13s 79ms/step - loss: 0.4550 - binary_accuracy: 0.8076 - auc_2: 0.8619 - mcc_metric: 0.5968 - precision_2: 0.7288 - sensitivity_at_specificity_2: 0.9087 - specificity_at_sensitivity_2: 0.9665 - val_loss: 0.4459 - val_binary_accuracy: 0.7900 - val_auc_2: 0.8846 - val_mcc_metric: 0.5624 - val_precision_2: 0.6767 - val_sensitivity_at_specificity_2: 0.9421 - val_specificity_at_sensitivity_2: 0.9843\n",
      "Epoch 6/60\n",
      "163/164 [============================>.] - ETA: 0s - loss: 0.4378 - binary_accuracy: 0.8146 - auc_2: 0.8734 - mcc_metric: 0.6068 - precision_2: 0.7368 - sensitivity_at_specificity_2: 0.9191 - specificity_at_sensitivity_2: 0.9752WARNING:tensorflow:Can save best model only with val_auc available, skipping.\n",
      "164/164 [==============================] - 13s 79ms/step - loss: 0.4374 - binary_accuracy: 0.8151 - auc_2: 0.8738 - mcc_metric: 0.6079 - precision_2: 0.7375 - sensitivity_at_specificity_2: 0.9196 - specificity_at_sensitivity_2: 0.9750 - val_loss: 0.4190 - val_binary_accuracy: 0.8190 - val_auc_2: 0.8789 - val_mcc_metric: 0.6122 - val_precision_2: 0.7514 - val_sensitivity_at_specificity_2: 0.9174 - val_specificity_at_sensitivity_2: 0.9812\n",
      "Epoch 7/60\n",
      "163/164 [============================>.] - ETA: 0s - loss: 0.4404 - binary_accuracy: 0.8129 - auc_2: 0.8714 - mcc_metric: 0.6034 - precision_2: 0.7382 - sensitivity_at_specificity_2: 0.9107 - specificity_at_sensitivity_2: 0.9712WARNING:tensorflow:Can save best model only with val_auc available, skipping.\n",
      "164/164 [==============================] - 13s 80ms/step - loss: 0.4419 - binary_accuracy: 0.8128 - auc_2: 0.8705 - mcc_metric: 0.6032 - precision_2: 0.7385 - sensitivity_at_specificity_2: 0.9102 - specificity_at_sensitivity_2: 0.9708 - val_loss: 0.4156 - val_binary_accuracy: 0.8230 - val_auc_2: 0.8881 - val_mcc_metric: 0.6181 - val_precision_2: 0.7473 - val_sensitivity_at_specificity_2: 0.9421 - val_specificity_at_sensitivity_2: 0.9827\n",
      "Epoch 8/60\n",
      "164/164 [==============================] - ETA: 0s - loss: 0.4282 - binary_accuracy: 0.8112 - auc_2: 0.8818 - mcc_metric: 0.6033 - precision_2: 0.7236 - sensitivity_at_specificity_2: 0.9341 - specificity_at_sensitivity_2: 0.9714WARNING:tensorflow:Can save best model only with val_auc available, skipping.\n",
      "164/164 [==============================] - 13s 79ms/step - loss: 0.4282 - binary_accuracy: 0.8112 - auc_2: 0.8818 - mcc_metric: 0.6033 - precision_2: 0.7236 - sensitivity_at_specificity_2: 0.9341 - specificity_at_sensitivity_2: 0.9714 - val_loss: 0.4227 - val_binary_accuracy: 0.8210 - val_auc_2: 0.8689 - val_mcc_metric: 0.6024 - val_precision_2: 0.8217 - val_sensitivity_at_specificity_2: 0.9146 - val_specificity_at_sensitivity_2: 0.9843\n",
      "Epoch 9/60\n",
      "163/164 [============================>.] - ETA: 0s - loss: 0.4254 - binary_accuracy: 0.8248 - auc_2: 0.8814 - mcc_metric: 0.6312 - precision_2: 0.7493 - sensitivity_at_specificity_2: 0.9229 - specificity_at_sensitivity_2: 0.9757WARNING:tensorflow:Can save best model only with val_auc available, skipping.\n",
      "164/164 [==============================] - 14s 83ms/step - loss: 0.4255 - binary_accuracy: 0.8246 - auc_2: 0.8813 - mcc_metric: 0.6303 - precision_2: 0.7484 - sensitivity_at_specificity_2: 0.9232 - specificity_at_sensitivity_2: 0.9756 - val_loss: 0.4588 - val_binary_accuracy: 0.8270 - val_auc_2: 0.8838 - val_mcc_metric: 0.6362 - val_precision_2: 0.7487 - val_sensitivity_at_specificity_2: 0.9229 - val_specificity_at_sensitivity_2: 0.9812\n",
      "Epoch 10/60\n",
      "164/164 [==============================] - ETA: 0s - loss: 0.4066 - binary_accuracy: 0.8263 - auc_2: 0.8942 - mcc_metric: 0.6339 - precision_2: 0.7495 - sensitivity_at_specificity_2: 0.9388 - specificity_at_sensitivity_2: 0.9768WARNING:tensorflow:Can save best model only with val_auc available, skipping.\n",
      "164/164 [==============================] - 13s 81ms/step - loss: 0.4066 - binary_accuracy: 0.8263 - auc_2: 0.8942 - mcc_metric: 0.6339 - precision_2: 0.7495 - sensitivity_at_specificity_2: 0.9388 - specificity_at_sensitivity_2: 0.9768 - val_loss: 0.4014 - val_binary_accuracy: 0.8300 - val_auc_2: 0.8942 - val_mcc_metric: 0.6289 - val_precision_2: 0.7520 - val_sensitivity_at_specificity_2: 0.9504 - val_specificity_at_sensitivity_2: 0.9812\n",
      "Epoch 11/60\n",
      "163/164 [============================>.] - ETA: 0s - loss: 0.3988 - binary_accuracy: 0.8288 - auc_2: 0.8985 - mcc_metric: 0.6403 - precision_2: 0.7510 - sensitivity_at_specificity_2: 0.9488 - specificity_at_sensitivity_2: 0.9770WARNING:tensorflow:Can save best model only with val_auc available, skipping.\n",
      "164/164 [==============================] - 13s 78ms/step - loss: 0.3994 - binary_accuracy: 0.8286 - auc_2: 0.8982 - mcc_metric: 0.6399 - precision_2: 0.7515 - sensitivity_at_specificity_2: 0.9486 - specificity_at_sensitivity_2: 0.9771 - val_loss: 0.3797 - val_binary_accuracy: 0.8440 - val_auc_2: 0.8983 - val_mcc_metric: 0.6498 - val_precision_2: 0.8204 - val_sensitivity_at_specificity_2: 0.9449 - val_specificity_at_sensitivity_2: 0.9843\n",
      "Epoch 12/60\n",
      "164/164 [==============================] - ETA: 0s - loss: 0.3884 - binary_accuracy: 0.8357 - auc_2: 0.9034 - mcc_metric: 0.6525 - precision_2: 0.7556 - sensitivity_at_specificity_2: 0.9465 - specificity_at_sensitivity_2: 0.9849WARNING:tensorflow:Can save best model only with val_auc available, skipping.\n",
      "164/164 [==============================] - 13s 79ms/step - loss: 0.3884 - binary_accuracy: 0.8357 - auc_2: 0.9034 - mcc_metric: 0.6525 - precision_2: 0.7556 - sensitivity_at_specificity_2: 0.9465 - specificity_at_sensitivity_2: 0.9849 - val_loss: 0.3601 - val_binary_accuracy: 0.8400 - val_auc_2: 0.9098 - val_mcc_metric: 0.6354 - val_precision_2: 0.7875 - val_sensitivity_at_specificity_2: 0.9642 - val_specificity_at_sensitivity_2: 0.9859\n",
      "Epoch 13/60\n",
      "164/164 [==============================] - ETA: 0s - loss: 0.3859 - binary_accuracy: 0.8299 - auc_2: 0.9057 - mcc_metric: 0.6484 - precision_2: 0.7428 - sensitivity_at_specificity_2: 0.9497 - specificity_at_sensitivity_2: 0.9822WARNING:tensorflow:Can save best model only with val_auc available, skipping.\n",
      "164/164 [==============================] - 13s 81ms/step - loss: 0.3859 - binary_accuracy: 0.8299 - auc_2: 0.9057 - mcc_metric: 0.6484 - precision_2: 0.7428 - sensitivity_at_specificity_2: 0.9497 - specificity_at_sensitivity_2: 0.9822 - val_loss: 0.3776 - val_binary_accuracy: 0.8470 - val_auc_2: 0.9008 - val_mcc_metric: 0.6607 - val_precision_2: 0.8125 - val_sensitivity_at_specificity_2: 0.9421 - val_specificity_at_sensitivity_2: 0.9827\n",
      "Epoch 14/60\n",
      "164/164 [==============================] - ETA: 0s - loss: 0.3755 - binary_accuracy: 0.8347 - auc_2: 0.9108 - mcc_metric: 0.6539 - precision_2: 0.7517 - sensitivity_at_specificity_2: 0.9538 - specificity_at_sensitivity_2: 0.9804WARNING:tensorflow:Can save best model only with val_auc available, skipping.\n",
      "164/164 [==============================] - 12s 76ms/step - loss: 0.3755 - binary_accuracy: 0.8347 - auc_2: 0.9108 - mcc_metric: 0.6539 - precision_2: 0.7517 - sensitivity_at_specificity_2: 0.9538 - specificity_at_sensitivity_2: 0.9804 - val_loss: 0.4450 - val_binary_accuracy: 0.7790 - val_auc_2: 0.8997 - val_mcc_metric: 0.5666 - val_precision_2: 0.6455 - val_sensitivity_at_specificity_2: 0.9504 - val_specificity_at_sensitivity_2: 0.9843\n",
      "Epoch 15/60\n",
      "163/164 [============================>.] - ETA: 0s - loss: 0.3609 - binary_accuracy: 0.8461 - auc_2: 0.9181 - mcc_metric: 0.6837 - precision_2: 0.7622 - sensitivity_at_specificity_2: 0.9592 - specificity_at_sensitivity_2: 0.9855WARNING:tensorflow:Can save best model only with val_auc available, skipping.\n",
      "164/164 [==============================] - 13s 78ms/step - loss: 0.3611 - binary_accuracy: 0.8459 - auc_2: 0.9180 - mcc_metric: 0.6835 - precision_2: 0.7628 - sensitivity_at_specificity_2: 0.9590 - specificity_at_sensitivity_2: 0.9855 - val_loss: 0.3596 - val_binary_accuracy: 0.8390 - val_auc_2: 0.9097 - val_mcc_metric: 0.6441 - val_precision_2: 0.7936 - val_sensitivity_at_specificity_2: 0.9614 - val_specificity_at_sensitivity_2: 0.9906\n",
      "Epoch 16/60\n",
      "164/164 [==============================] - ETA: 0s - loss: 0.3479 - binary_accuracy: 0.8467 - auc_2: 0.9242 - mcc_metric: 0.6795 - precision_2: 0.7625 - sensitivity_at_specificity_2: 0.9673 - specificity_at_sensitivity_2: 0.9870WARNING:tensorflow:Can save best model only with val_auc available, skipping.\n",
      "164/164 [==============================] - 13s 80ms/step - loss: 0.3479 - binary_accuracy: 0.8467 - auc_2: 0.9242 - mcc_metric: 0.6795 - precision_2: 0.7625 - sensitivity_at_specificity_2: 0.9673 - specificity_at_sensitivity_2: 0.9870 - val_loss: 0.3806 - val_binary_accuracy: 0.8350 - val_auc_2: 0.9300 - val_mcc_metric: 0.6744 - val_precision_2: 0.7210 - val_sensitivity_at_specificity_2: 0.9780 - val_specificity_at_sensitivity_2: 0.9827\n",
      "Epoch 17/60\n",
      "164/164 [==============================] - ETA: 0s - loss: 0.3511 - binary_accuracy: 0.8410 - auc_2: 0.9231 - mcc_metric: 0.6727 - precision_2: 0.7499 - sensitivity_at_specificity_2: 0.9709 - specificity_at_sensitivity_2: 0.9870WARNING:tensorflow:Can save best model only with val_auc available, skipping.\n",
      "164/164 [==============================] - 13s 81ms/step - loss: 0.3511 - binary_accuracy: 0.8410 - auc_2: 0.9231 - mcc_metric: 0.6727 - precision_2: 0.7499 - sensitivity_at_specificity_2: 0.9709 - specificity_at_sensitivity_2: 0.9870 - val_loss: 0.3668 - val_binary_accuracy: 0.8390 - val_auc_2: 0.9248 - val_mcc_metric: 0.6664 - val_precision_2: 0.7327 - val_sensitivity_at_specificity_2: 0.9725 - val_specificity_at_sensitivity_2: 0.9890\n",
      "Epoch 18/60\n",
      "163/164 [============================>.] - ETA: 0s - loss: 0.3440 - binary_accuracy: 0.8453 - auc_2: 0.9255 - mcc_metric: 0.6786 - precision_2: 0.7573 - sensitivity_at_specificity_2: 0.9665 - specificity_at_sensitivity_2: 0.9885WARNING:tensorflow:Can save best model only with val_auc available, skipping.\n",
      "164/164 [==============================] - 13s 80ms/step - loss: 0.3441 - binary_accuracy: 0.8452 - auc_2: 0.9256 - mcc_metric: 0.6784 - precision_2: 0.7580 - sensitivity_at_specificity_2: 0.9668 - specificity_at_sensitivity_2: 0.9885 - val_loss: 0.3604 - val_binary_accuracy: 0.8340 - val_auc_2: 0.9210 - val_mcc_metric: 0.6613 - val_precision_2: 0.7408 - val_sensitivity_at_specificity_2: 0.9669 - val_specificity_at_sensitivity_2: 0.9859\n",
      "Epoch 19/60\n",
      "163/164 [============================>.] - ETA: 0s - loss: 0.3351 - binary_accuracy: 0.8518 - auc_2: 0.9301 - mcc_metric: 0.6929 - precision_2: 0.7683 - sensitivity_at_specificity_2: 0.9739 - specificity_at_sensitivity_2: 0.9894WARNING:tensorflow:Can save best model only with val_auc available, skipping.\n",
      "164/164 [==============================] - 13s 80ms/step - loss: 0.3347 - binary_accuracy: 0.8519 - auc_2: 0.9302 - mcc_metric: 0.6929 - precision_2: 0.7679 - sensitivity_at_specificity_2: 0.9741 - specificity_at_sensitivity_2: 0.9895 - val_loss: 0.3490 - val_binary_accuracy: 0.8430 - val_auc_2: 0.9277 - val_mcc_metric: 0.6758 - val_precision_2: 0.7500 - val_sensitivity_at_specificity_2: 0.9862 - val_specificity_at_sensitivity_2: 0.9859\n",
      "Epoch 20/60\n",
      "164/164 [==============================] - ETA: 0s - loss: 0.3162 - binary_accuracy: 0.8637 - auc_2: 0.9376 - mcc_metric: 0.7144 - precision_2: 0.7845 - sensitivity_at_specificity_2: 0.9720 - specificity_at_sensitivity_2: 0.9922WARNING:tensorflow:Can save best model only with val_auc available, skipping.\n",
      "164/164 [==============================] - 13s 78ms/step - loss: 0.3162 - binary_accuracy: 0.8637 - auc_2: 0.9376 - mcc_metric: 0.7144 - precision_2: 0.7845 - sensitivity_at_specificity_2: 0.9720 - specificity_at_sensitivity_2: 0.9922 - val_loss: 0.3431 - val_binary_accuracy: 0.8430 - val_auc_2: 0.9300 - val_mcc_metric: 0.6696 - val_precision_2: 0.7452 - val_sensitivity_at_specificity_2: 0.9807 - val_specificity_at_sensitivity_2: 0.9953\n",
      "Epoch 21/60\n",
      "164/164 [==============================] - ETA: 0s - loss: 0.3003 - binary_accuracy: 0.8774 - auc_2: 0.9444 - mcc_metric: 0.7445 - precision_2: 0.8066 - sensitivity_at_specificity_2: 0.9834 - specificity_at_sensitivity_2: 0.9898WARNING:tensorflow:Can save best model only with val_auc available, skipping.\n",
      "164/164 [==============================] - 13s 80ms/step - loss: 0.3003 - binary_accuracy: 0.8774 - auc_2: 0.9444 - mcc_metric: 0.7445 - precision_2: 0.8066 - sensitivity_at_specificity_2: 0.9834 - specificity_at_sensitivity_2: 0.9898 - val_loss: 0.3310 - val_binary_accuracy: 0.8570 - val_auc_2: 0.9312 - val_mcc_metric: 0.6884 - val_precision_2: 0.8022 - val_sensitivity_at_specificity_2: 0.9807 - val_specificity_at_sensitivity_2: 0.9890\n",
      "Epoch 22/60\n",
      "164/164 [==============================] - ETA: 0s - loss: 0.2831 - binary_accuracy: 0.8803 - auc_2: 0.9509 - mcc_metric: 0.7458 - precision_2: 0.8176 - sensitivity_at_specificity_2: 0.9860 - specificity_at_sensitivity_2: 0.9943WARNING:tensorflow:Can save best model only with val_auc available, skipping.\n",
      "164/164 [==============================] - 12s 75ms/step - loss: 0.2831 - binary_accuracy: 0.8803 - auc_2: 0.9509 - mcc_metric: 0.7458 - precision_2: 0.8176 - sensitivity_at_specificity_2: 0.9860 - specificity_at_sensitivity_2: 0.9943 - val_loss: 0.3067 - val_binary_accuracy: 0.8670 - val_auc_2: 0.9393 - val_mcc_metric: 0.7049 - val_precision_2: 0.8125 - val_sensitivity_at_specificity_2: 0.9890 - val_specificity_at_sensitivity_2: 0.9937\n",
      "Epoch 23/60\n",
      "164/164 [==============================] - ETA: 0s - loss: 0.2920 - binary_accuracy: 0.8766 - auc_2: 0.9475 - mcc_metric: 0.7419 - precision_2: 0.8086 - sensitivity_at_specificity_2: 0.9839 - specificity_at_sensitivity_2: 0.9910WARNING:tensorflow:Can save best model only with val_auc available, skipping.\n",
      "164/164 [==============================] - 13s 77ms/step - loss: 0.2920 - binary_accuracy: 0.8766 - auc_2: 0.9475 - mcc_metric: 0.7419 - precision_2: 0.8086 - sensitivity_at_specificity_2: 0.9839 - specificity_at_sensitivity_2: 0.9910 - val_loss: 0.3340 - val_binary_accuracy: 0.8520 - val_auc_2: 0.9298 - val_mcc_metric: 0.6820 - val_precision_2: 0.7722 - val_sensitivity_at_specificity_2: 0.9752 - val_specificity_at_sensitivity_2: 0.9890\n",
      "Epoch 24/60\n",
      "163/164 [============================>.] - ETA: 0s - loss: 0.2696 - binary_accuracy: 0.8900 - auc_2: 0.9556 - mcc_metric: 0.7665 - precision_2: 0.8312 - sensitivity_at_specificity_2: 0.9896 - specificity_at_sensitivity_2: 0.9927WARNING:tensorflow:Can save best model only with val_auc available, skipping.\n",
      "164/164 [==============================] - 13s 76ms/step - loss: 0.2696 - binary_accuracy: 0.8902 - auc_2: 0.9556 - mcc_metric: 0.7670 - precision_2: 0.8319 - sensitivity_at_specificity_2: 0.9896 - specificity_at_sensitivity_2: 0.9928 - val_loss: 0.3678 - val_binary_accuracy: 0.8650 - val_auc_2: 0.9205 - val_mcc_metric: 0.6860 - val_precision_2: 0.8333 - val_sensitivity_at_specificity_2: 0.9559 - val_specificity_at_sensitivity_2: 0.9937\n",
      "Epoch 25/60\n",
      "164/164 [==============================] - ETA: 0s - loss: 0.2631 - binary_accuracy: 0.8911 - auc_2: 0.9577 - mcc_metric: 0.7704 - precision_2: 0.8301 - sensitivity_at_specificity_2: 0.9922 - specificity_at_sensitivity_2: 0.9946WARNING:tensorflow:Can save best model only with val_auc available, skipping.\n",
      "164/164 [==============================] - 12s 76ms/step - loss: 0.2631 - binary_accuracy: 0.8911 - auc_2: 0.9577 - mcc_metric: 0.7704 - precision_2: 0.8301 - sensitivity_at_specificity_2: 0.9922 - specificity_at_sensitivity_2: 0.9946 - val_loss: 0.3588 - val_binary_accuracy: 0.8410 - val_auc_2: 0.9338 - val_mcc_metric: 0.6603 - val_precision_2: 0.7394 - val_sensitivity_at_specificity_2: 0.9780 - val_specificity_at_sensitivity_2: 0.9906\n",
      "Epoch 26/60\n",
      "164/164 [==============================] - ETA: 0s - loss: 0.2552 - binary_accuracy: 0.8942 - auc_2: 0.9602 - mcc_metric: 0.7766 - precision_2: 0.8356 - sensitivity_at_specificity_2: 0.9912 - specificity_at_sensitivity_2: 0.9946WARNING:tensorflow:Can save best model only with val_auc available, skipping.\n",
      "164/164 [==============================] - 12s 76ms/step - loss: 0.2552 - binary_accuracy: 0.8942 - auc_2: 0.9602 - mcc_metric: 0.7766 - precision_2: 0.8356 - sensitivity_at_specificity_2: 0.9912 - specificity_at_sensitivity_2: 0.9946 - val_loss: 0.4075 - val_binary_accuracy: 0.8340 - val_auc_2: 0.8956 - val_mcc_metric: 0.6267 - val_precision_2: 0.7940 - val_sensitivity_at_specificity_2: 0.9421 - val_specificity_at_sensitivity_2: 0.9812\n",
      "Epoch 27/60\n",
      "164/164 [==============================] - ETA: 0s - loss: 0.2448 - binary_accuracy: 0.9033 - auc_2: 0.9634 - mcc_metric: 0.7970 - precision_2: 0.8460 - sensitivity_at_specificity_2: 0.9922 - specificity_at_sensitivity_2: 0.9937WARNING:tensorflow:Can save best model only with val_auc available, skipping.\n",
      "164/164 [==============================] - 12s 75ms/step - loss: 0.2448 - binary_accuracy: 0.9033 - auc_2: 0.9634 - mcc_metric: 0.7970 - precision_2: 0.8460 - sensitivity_at_specificity_2: 0.9922 - specificity_at_sensitivity_2: 0.9937 - val_loss: 0.3422 - val_binary_accuracy: 0.8590 - val_auc_2: 0.9243 - val_mcc_metric: 0.6711 - val_precision_2: 0.8066 - val_sensitivity_at_specificity_2: 0.9669 - val_specificity_at_sensitivity_2: 0.9937\n",
      "Epoch 28/60\n",
      "164/164 [==============================] - ETA: 0s - loss: 0.2291 - binary_accuracy: 0.9058 - auc_2: 0.9679 - mcc_metric: 0.8034 - precision_2: 0.8507 - sensitivity_at_specificity_2: 0.9953 - specificity_at_sensitivity_2: 0.9964WARNING:tensorflow:Can save best model only with val_auc available, skipping.\n",
      "164/164 [==============================] - 12s 76ms/step - loss: 0.2291 - binary_accuracy: 0.9058 - auc_2: 0.9679 - mcc_metric: 0.8034 - precision_2: 0.8507 - sensitivity_at_specificity_2: 0.9953 - specificity_at_sensitivity_2: 0.9964 - val_loss: 0.3424 - val_binary_accuracy: 0.8570 - val_auc_2: 0.9327 - val_mcc_metric: 0.6762 - val_precision_2: 0.7806 - val_sensitivity_at_specificity_2: 0.9807 - val_specificity_at_sensitivity_2: 0.9890\n",
      "Epoch 29/60\n",
      "164/164 [==============================] - ETA: 0s - loss: 0.2099 - binary_accuracy: 0.9115 - auc_2: 0.9729 - mcc_metric: 0.8157 - precision_2: 0.8539 - sensitivity_at_specificity_2: 0.9958 - specificity_at_sensitivity_2: 0.9958WARNING:tensorflow:Can save best model only with val_auc available, skipping.\n",
      "164/164 [==============================] - 12s 76ms/step - loss: 0.2099 - binary_accuracy: 0.9115 - auc_2: 0.9729 - mcc_metric: 0.8157 - precision_2: 0.8539 - sensitivity_at_specificity_2: 0.9958 - specificity_at_sensitivity_2: 0.9958 - val_loss: 0.3936 - val_binary_accuracy: 0.8360 - val_auc_2: 0.9284 - val_mcc_metric: 0.6479 - val_precision_2: 0.7398 - val_sensitivity_at_specificity_2: 0.9725 - val_specificity_at_sensitivity_2: 0.9906\n",
      "Epoch 30/60\n",
      "164/164 [==============================] - ETA: 0s - loss: 0.1928 - binary_accuracy: 0.9188 - auc_2: 0.9774 - mcc_metric: 0.8289 - precision_2: 0.8666 - sensitivity_at_specificity_2: 0.9984 - specificity_at_sensitivity_2: 0.9970WARNING:tensorflow:Can save best model only with val_auc available, skipping.\n",
      "164/164 [==============================] - 12s 75ms/step - loss: 0.1928 - binary_accuracy: 0.9188 - auc_2: 0.9774 - mcc_metric: 0.8289 - precision_2: 0.8666 - sensitivity_at_specificity_2: 0.9984 - specificity_at_sensitivity_2: 0.9970 - val_loss: 0.3608 - val_binary_accuracy: 0.8680 - val_auc_2: 0.9281 - val_mcc_metric: 0.6998 - val_precision_2: 0.8147 - val_sensitivity_at_specificity_2: 0.9669 - val_specificity_at_sensitivity_2: 0.9827\n",
      "Epoch 31/60\n",
      "164/164 [==============================] - ETA: 0s - loss: 0.2633 - binary_accuracy: 0.8864 - auc_2: 0.9577 - mcc_metric: 0.7633 - precision_2: 0.8220 - sensitivity_at_specificity_2: 0.9943 - specificity_at_sensitivity_2: 0.9934WARNING:tensorflow:Can save best model only with val_auc available, skipping.\n",
      "164/164 [==============================] - 12s 76ms/step - loss: 0.2633 - binary_accuracy: 0.8864 - auc_2: 0.9577 - mcc_metric: 0.7633 - precision_2: 0.8220 - sensitivity_at_specificity_2: 0.9943 - specificity_at_sensitivity_2: 0.9934 - val_loss: 0.3488 - val_binary_accuracy: 0.8420 - val_auc_2: 0.9235 - val_mcc_metric: 0.6354 - val_precision_2: 0.7793 - val_sensitivity_at_specificity_2: 0.9697 - val_specificity_at_sensitivity_2: 0.9937\n",
      "Epoch 32/60\n",
      "164/164 [==============================] - ETA: 0s - loss: 0.2177 - binary_accuracy: 0.9110 - auc_2: 0.9710 - mcc_metric: 0.8115 - precision_2: 0.8600 - sensitivity_at_specificity_2: 0.9964 - specificity_at_sensitivity_2: 0.9952WARNING:tensorflow:Can save best model only with val_auc available, skipping.\n",
      "164/164 [==============================] - 12s 75ms/step - loss: 0.2177 - binary_accuracy: 0.9110 - auc_2: 0.9710 - mcc_metric: 0.8115 - precision_2: 0.8600 - sensitivity_at_specificity_2: 0.9964 - specificity_at_sensitivity_2: 0.9952 - val_loss: 0.3729 - val_binary_accuracy: 0.8490 - val_auc_2: 0.9287 - val_mcc_metric: 0.6719 - val_precision_2: 0.7677 - val_sensitivity_at_specificity_2: 0.9752 - val_specificity_at_sensitivity_2: 0.9859\n",
      "Epoch 33/60\n",
      "164/164 [==============================] - ETA: 0s - loss: 0.2046 - binary_accuracy: 0.9138 - auc_2: 0.9745 - mcc_metric: 0.8191 - precision_2: 0.8603 - sensitivity_at_specificity_2: 0.9979 - specificity_at_sensitivity_2: 0.9973WARNING:tensorflow:Can save best model only with val_auc available, skipping.\n",
      "164/164 [==============================] - 12s 75ms/step - loss: 0.2046 - binary_accuracy: 0.9138 - auc_2: 0.9745 - mcc_metric: 0.8191 - precision_2: 0.8603 - sensitivity_at_specificity_2: 0.9979 - specificity_at_sensitivity_2: 0.9973 - val_loss: 0.3708 - val_binary_accuracy: 0.8640 - val_auc_2: 0.9228 - val_mcc_metric: 0.6937 - val_precision_2: 0.8197 - val_sensitivity_at_specificity_2: 0.9669 - val_specificity_at_sensitivity_2: 0.9937\n",
      "Epoch 34/60\n",
      "163/164 [============================>.] - ETA: 0s - loss: 0.1748 - binary_accuracy: 0.9266 - auc_2: 0.9813 - mcc_metric: 0.8447 - precision_2: 0.8814 - sensitivity_at_specificity_2: 0.9979 - specificity_at_sensitivity_2: 0.9970WARNING:tensorflow:Can save best model only with val_auc available, skipping.\n",
      "164/164 [==============================] - 13s 77ms/step - loss: 0.1750 - binary_accuracy: 0.9266 - auc_2: 0.9812 - mcc_metric: 0.8448 - precision_2: 0.8821 - sensitivity_at_specificity_2: 0.9979 - specificity_at_sensitivity_2: 0.9970 - val_loss: 0.3781 - val_binary_accuracy: 0.8630 - val_auc_2: 0.9269 - val_mcc_metric: 0.6931 - val_precision_2: 0.8054 - val_sensitivity_at_specificity_2: 0.9614 - val_specificity_at_sensitivity_2: 0.9843\n",
      "Epoch 35/60\n",
      "164/164 [==============================] - ETA: 0s - loss: 0.1521 - binary_accuracy: 0.9398 - auc_2: 0.9857 - mcc_metric: 0.8713 - precision_2: 0.9017 - sensitivity_at_specificity_2: 1.0000 - specificity_at_sensitivity_2: 0.9979WARNING:tensorflow:Can save best model only with val_auc available, skipping.\n",
      "164/164 [==============================] - 12s 75ms/step - loss: 0.1521 - binary_accuracy: 0.9398 - auc_2: 0.9857 - mcc_metric: 0.8713 - precision_2: 0.9017 - sensitivity_at_specificity_2: 1.0000 - specificity_at_sensitivity_2: 0.9979 - val_loss: 0.4148 - val_binary_accuracy: 0.8690 - val_auc_2: 0.9258 - val_mcc_metric: 0.7021 - val_precision_2: 0.8021 - val_sensitivity_at_specificity_2: 0.9697 - val_specificity_at_sensitivity_2: 0.9733\n",
      "Epoch 36/60\n",
      "163/164 [============================>.] - ETA: 0s - loss: 0.1479 - binary_accuracy: 0.9408 - auc_2: 0.9862 - mcc_metric: 0.8740 - precision_2: 0.9025 - sensitivity_at_specificity_2: 0.9995 - specificity_at_sensitivity_2: 0.9973WARNING:tensorflow:Can save best model only with val_auc available, skipping.\n",
      "164/164 [==============================] - 12s 75ms/step - loss: 0.1491 - binary_accuracy: 0.9407 - auc_2: 0.9859 - mcc_metric: 0.8738 - precision_2: 0.9024 - sensitivity_at_specificity_2: 0.9995 - specificity_at_sensitivity_2: 0.9973 - val_loss: 0.4842 - val_binary_accuracy: 0.8610 - val_auc_2: 0.9198 - val_mcc_metric: 0.6988 - val_precision_2: 0.7828 - val_sensitivity_at_specificity_2: 0.9504 - val_specificity_at_sensitivity_2: 0.9780\n",
      "Epoch 37/60\n",
      "163/164 [============================>.] - ETA: 0s - loss: 0.1615 - binary_accuracy: 0.9335 - auc_2: 0.9838 - mcc_metric: 0.8593 - precision_2: 0.8822 - sensitivity_at_specificity_2: 0.9995 - specificity_at_sensitivity_2: 0.9985WARNING:tensorflow:Can save best model only with val_auc available, skipping.\n",
      "164/164 [==============================] - 12s 75ms/step - loss: 0.1608 - binary_accuracy: 0.9338 - auc_2: 0.9840 - mcc_metric: 0.8601 - precision_2: 0.8828 - sensitivity_at_specificity_2: 0.9995 - specificity_at_sensitivity_2: 0.9985 - val_loss: 0.4398 - val_binary_accuracy: 0.8630 - val_auc_2: 0.9233 - val_mcc_metric: 0.6968 - val_precision_2: 0.7897 - val_sensitivity_at_specificity_2: 0.9669 - val_specificity_at_sensitivity_2: 0.9796\n",
      "Epoch 38/60\n",
      "163/164 [============================>.] - ETA: 0s - loss: 0.1259 - binary_accuracy: 0.9467 - auc_2: 0.9900 - mcc_metric: 0.8865 - precision_2: 0.9031 - sensitivity_at_specificity_2: 1.0000 - specificity_at_sensitivity_2: 0.9985WARNING:tensorflow:Can save best model only with val_auc available, skipping.\n",
      "164/164 [==============================] - 13s 78ms/step - loss: 0.1262 - binary_accuracy: 0.9466 - auc_2: 0.9899 - mcc_metric: 0.8862 - precision_2: 0.9031 - sensitivity_at_specificity_2: 1.0000 - specificity_at_sensitivity_2: 0.9985 - val_loss: 0.4822 - val_binary_accuracy: 0.8620 - val_auc_2: 0.9115 - val_mcc_metric: 0.6899 - val_precision_2: 0.8032 - val_sensitivity_at_specificity_2: 0.9366 - val_specificity_at_sensitivity_2: 0.9827\n",
      "Epoch 39/60\n",
      "163/164 [============================>.] - ETA: 0s - loss: 0.1406 - binary_accuracy: 0.9465 - auc_2: 0.9870 - mcc_metric: 0.8866 - precision_2: 0.9092 - sensitivity_at_specificity_2: 0.9979 - specificity_at_sensitivity_2: 0.9979WARNING:tensorflow:Can save best model only with val_auc available, skipping.\n",
      "164/164 [==============================] - 12s 76ms/step - loss: 0.1405 - binary_accuracy: 0.9464 - auc_2: 0.9870 - mcc_metric: 0.8862 - precision_2: 0.9090 - sensitivity_at_specificity_2: 0.9979 - specificity_at_sensitivity_2: 0.9979 - val_loss: 0.4111 - val_binary_accuracy: 0.8710 - val_auc_2: 0.9207 - val_mcc_metric: 0.7086 - val_precision_2: 0.8441 - val_sensitivity_at_specificity_2: 0.9642 - val_specificity_at_sensitivity_2: 0.9827\n",
      "Epoch 40/60\n",
      "164/164 [==============================] - ETA: 0s - loss: 0.1434 - binary_accuracy: 0.9447 - auc_2: 0.9865 - mcc_metric: 0.8830 - precision_2: 0.9026 - sensitivity_at_specificity_2: 0.9990 - specificity_at_sensitivity_2: 0.9973WARNING:tensorflow:Can save best model only with val_auc available, skipping.\n",
      "164/164 [==============================] - 12s 75ms/step - loss: 0.1434 - binary_accuracy: 0.9447 - auc_2: 0.9865 - mcc_metric: 0.8830 - precision_2: 0.9026 - sensitivity_at_specificity_2: 0.9990 - specificity_at_sensitivity_2: 0.9973 - val_loss: 0.4127 - val_binary_accuracy: 0.8450 - val_auc_2: 0.9176 - val_mcc_metric: 0.6701 - val_precision_2: 0.7562 - val_sensitivity_at_specificity_2: 0.9669 - val_specificity_at_sensitivity_2: 0.9670\n",
      "Epoch 41/60\n",
      "164/164 [==============================] - ETA: 0s - loss: 0.1215 - binary_accuracy: 0.9516 - auc_2: 0.9906 - mcc_metric: 0.8968 - precision_2: 0.9139 - sensitivity_at_specificity_2: 1.0000 - specificity_at_sensitivity_2: 0.9985WARNING:tensorflow:Can save best model only with val_auc available, skipping.\n",
      "164/164 [==============================] - 12s 75ms/step - loss: 0.1215 - binary_accuracy: 0.9516 - auc_2: 0.9906 - mcc_metric: 0.8968 - precision_2: 0.9139 - sensitivity_at_specificity_2: 1.0000 - specificity_at_sensitivity_2: 0.9985 - val_loss: 0.4916 - val_binary_accuracy: 0.8630 - val_auc_2: 0.9147 - val_mcc_metric: 0.6871 - val_precision_2: 0.8071 - val_sensitivity_at_specificity_2: 0.9449 - val_specificity_at_sensitivity_2: 0.9780\n",
      "Epoch 42/60\n",
      "164/164 [==============================] - ETA: 0s - loss: 0.1180 - binary_accuracy: 0.9541 - auc_2: 0.9905 - mcc_metric: 0.9029 - precision_2: 0.9153 - sensitivity_at_specificity_2: 0.9990 - specificity_at_sensitivity_2: 0.9988WARNING:tensorflow:Can save best model only with val_auc available, skipping.\n",
      "164/164 [==============================] - 13s 78ms/step - loss: 0.1180 - binary_accuracy: 0.9541 - auc_2: 0.9905 - mcc_metric: 0.9029 - precision_2: 0.9153 - sensitivity_at_specificity_2: 0.9990 - specificity_at_sensitivity_2: 0.9988 - val_loss: 0.4640 - val_binary_accuracy: 0.8630 - val_auc_2: 0.9176 - val_mcc_metric: 0.6990 - val_precision_2: 0.8054 - val_sensitivity_at_specificity_2: 0.9559 - val_specificity_at_sensitivity_2: 0.9843\n",
      "Epoch 43/60\n",
      "163/164 [============================>.] - ETA: 0s - loss: 0.0952 - binary_accuracy: 0.9632 - auc_2: 0.9942 - mcc_metric: 0.9209 - precision_2: 0.9332 - sensitivity_at_specificity_2: 1.0000 - specificity_at_sensitivity_2: 1.0000WARNING:tensorflow:Can save best model only with val_auc available, skipping.\n",
      "164/164 [==============================] - 13s 78ms/step - loss: 0.0951 - binary_accuracy: 0.9632 - auc_2: 0.9942 - mcc_metric: 0.9210 - precision_2: 0.9331 - sensitivity_at_specificity_2: 1.0000 - specificity_at_sensitivity_2: 1.0000 - val_loss: 0.5333 - val_binary_accuracy: 0.8680 - val_auc_2: 0.9157 - val_mcc_metric: 0.7024 - val_precision_2: 0.8097 - val_sensitivity_at_specificity_2: 0.9449 - val_specificity_at_sensitivity_2: 0.9780\n",
      "Epoch 44/60\n",
      "163/164 [============================>.] - ETA: 0s - loss: 0.0889 - binary_accuracy: 0.9655 - auc_2: 0.9944 - mcc_metric: 0.9271 - precision_2: 0.9359 - sensitivity_at_specificity_2: 0.9995 - specificity_at_sensitivity_2: 0.9988WARNING:tensorflow:Can save best model only with val_auc available, skipping.\n",
      "164/164 [==============================] - 13s 78ms/step - loss: 0.0887 - binary_accuracy: 0.9655 - auc_2: 0.9944 - mcc_metric: 0.9270 - precision_2: 0.9356 - sensitivity_at_specificity_2: 0.9995 - specificity_at_sensitivity_2: 0.9988 - val_loss: 0.5145 - val_binary_accuracy: 0.8690 - val_auc_2: 0.9182 - val_mcc_metric: 0.7160 - val_precision_2: 0.7929 - val_sensitivity_at_specificity_2: 0.9504 - val_specificity_at_sensitivity_2: 0.9717\n",
      "Epoch 45/60\n",
      "164/164 [==============================] - ETA: 0s - loss: 0.0955 - binary_accuracy: 0.9636 - auc_2: 0.9936 - mcc_metric: 0.9228 - precision_2: 0.9327 - sensitivity_at_specificity_2: 0.9990 - specificity_at_sensitivity_2: 0.9988WARNING:tensorflow:Can save best model only with val_auc available, skipping.\n",
      "164/164 [==============================] - 11s 64ms/step - loss: 0.0955 - binary_accuracy: 0.9636 - auc_2: 0.9936 - mcc_metric: 0.9228 - precision_2: 0.9327 - sensitivity_at_specificity_2: 0.9990 - specificity_at_sensitivity_2: 0.9988 - val_loss: 0.5378 - val_binary_accuracy: 0.8670 - val_auc_2: 0.9157 - val_mcc_metric: 0.6921 - val_precision_2: 0.8249 - val_sensitivity_at_specificity_2: 0.9284 - val_specificity_at_sensitivity_2: 0.9812\n",
      "Epoch 46/60\n",
      "163/164 [============================>.] - ETA: 0s - loss: 0.0793 - binary_accuracy: 0.9691 - auc_2: 0.9958 - mcc_metric: 0.9336 - precision_2: 0.9439 - sensitivity_at_specificity_2: 1.0000 - specificity_at_sensitivity_2: 0.9994WARNING:tensorflow:Can save best model only with val_auc available, skipping.\n",
      "164/164 [==============================] - 8s 52ms/step - loss: 0.0792 - binary_accuracy: 0.9691 - auc_2: 0.9959 - mcc_metric: 0.9335 - precision_2: 0.9437 - sensitivity_at_specificity_2: 1.0000 - specificity_at_sensitivity_2: 0.9994 - val_loss: 0.5746 - val_binary_accuracy: 0.8690 - val_auc_2: 0.9124 - val_mcc_metric: 0.7119 - val_precision_2: 0.8037 - val_sensitivity_at_specificity_2: 0.9284 - val_specificity_at_sensitivity_2: 0.9780\n",
      "Epoch 47/60\n",
      "164/164 [==============================] - ETA: 0s - loss: 0.0926 - binary_accuracy: 0.9640 - auc_2: 0.9944 - mcc_metric: 0.9240 - precision_2: 0.9341 - sensitivity_at_specificity_2: 0.9995 - specificity_at_sensitivity_2: 0.9997WARNING:tensorflow:Can save best model only with val_auc available, skipping.\n",
      "164/164 [==============================] - 8s 52ms/step - loss: 0.0926 - binary_accuracy: 0.9640 - auc_2: 0.9944 - mcc_metric: 0.9240 - precision_2: 0.9341 - sensitivity_at_specificity_2: 0.9995 - specificity_at_sensitivity_2: 0.9997 - val_loss: 0.5658 - val_binary_accuracy: 0.8620 - val_auc_2: 0.9046 - val_mcc_metric: 0.7017 - val_precision_2: 0.8151 - val_sensitivity_at_specificity_2: 0.9284 - val_specificity_at_sensitivity_2: 0.9733\n",
      "Epoch 48/60\n",
      "163/164 [============================>.] - ETA: 0s - loss: 0.0914 - binary_accuracy: 0.9668 - auc_2: 0.9944 - mcc_metric: 0.9286 - precision_2: 0.9408 - sensitivity_at_specificity_2: 0.9995 - specificity_at_sensitivity_2: 0.9994WARNING:tensorflow:Can save best model only with val_auc available, skipping.\n",
      "164/164 [==============================] - 9s 53ms/step - loss: 0.0913 - binary_accuracy: 0.9666 - auc_2: 0.9944 - mcc_metric: 0.9282 - precision_2: 0.9402 - sensitivity_at_specificity_2: 0.9995 - specificity_at_sensitivity_2: 0.9994 - val_loss: 0.5688 - val_binary_accuracy: 0.8550 - val_auc_2: 0.9166 - val_mcc_metric: 0.6905 - val_precision_2: 0.7698 - val_sensitivity_at_specificity_2: 0.9532 - val_specificity_at_sensitivity_2: 0.9733\n",
      "Epoch 49/60\n",
      "164/164 [==============================] - ETA: 0s - loss: 0.0838 - binary_accuracy: 0.9663 - auc_2: 0.9951 - mcc_metric: 0.9284 - precision_2: 0.9371 - sensitivity_at_specificity_2: 1.0000 - specificity_at_sensitivity_2: 0.9988WARNING:tensorflow:Can save best model only with val_auc available, skipping.\n",
      "164/164 [==============================] - 9s 53ms/step - loss: 0.0838 - binary_accuracy: 0.9663 - auc_2: 0.9951 - mcc_metric: 0.9284 - precision_2: 0.9371 - sensitivity_at_specificity_2: 1.0000 - specificity_at_sensitivity_2: 0.9988 - val_loss: 0.5180 - val_binary_accuracy: 0.8620 - val_auc_2: 0.9104 - val_mcc_metric: 0.6949 - val_precision_2: 0.8187 - val_sensitivity_at_specificity_2: 0.9284 - val_specificity_at_sensitivity_2: 0.9733\n",
      "Epoch 50/60\n",
      "164/164 [==============================] - ETA: 0s - loss: 0.1399 - binary_accuracy: 0.9468 - auc_2: 0.9876 - mcc_metric: 0.8867 - precision_2: 0.9063 - sensitivity_at_specificity_2: 0.9990 - specificity_at_sensitivity_2: 0.9982WARNING:tensorflow:Can save best model only with val_auc available, skipping.\n",
      "164/164 [==============================] - 9s 52ms/step - loss: 0.1399 - binary_accuracy: 0.9468 - auc_2: 0.9876 - mcc_metric: 0.8867 - precision_2: 0.9063 - sensitivity_at_specificity_2: 0.9990 - specificity_at_sensitivity_2: 0.9982 - val_loss: 0.4832 - val_binary_accuracy: 0.8570 - val_auc_2: 0.9228 - val_mcc_metric: 0.6894 - val_precision_2: 0.7865 - val_sensitivity_at_specificity_2: 0.9642 - val_specificity_at_sensitivity_2: 0.9812\n",
      "Epoch 51/60\n",
      "164/164 [==============================] - ETA: 0s - loss: 0.0795 - binary_accuracy: 0.9701 - auc_2: 0.9958 - mcc_metric: 0.9365 - precision_2: 0.9438 - sensitivity_at_specificity_2: 1.0000 - specificity_at_sensitivity_2: 0.9994WARNING:tensorflow:Can save best model only with val_auc available, skipping.\n",
      "164/164 [==============================] - 8s 52ms/step - loss: 0.0795 - binary_accuracy: 0.9701 - auc_2: 0.9958 - mcc_metric: 0.9365 - precision_2: 0.9438 - sensitivity_at_specificity_2: 1.0000 - specificity_at_sensitivity_2: 0.9994 - val_loss: 0.5931 - val_binary_accuracy: 0.8640 - val_auc_2: 0.9147 - val_mcc_metric: 0.6958 - val_precision_2: 0.7948 - val_sensitivity_at_specificity_2: 0.9477 - val_specificity_at_sensitivity_2: 0.9686\n",
      "Epoch 52/60\n",
      "164/164 [==============================] - ETA: 0s - loss: 0.0755 - binary_accuracy: 0.9699 - auc_2: 0.9961 - mcc_metric: 0.9356 - precision_2: 0.9478 - sensitivity_at_specificity_2: 0.9995 - specificity_at_sensitivity_2: 0.9994WARNING:tensorflow:Can save best model only with val_auc available, skipping.\n",
      "164/164 [==============================] - 9s 52ms/step - loss: 0.0755 - binary_accuracy: 0.9699 - auc_2: 0.9961 - mcc_metric: 0.9356 - precision_2: 0.9478 - sensitivity_at_specificity_2: 0.9995 - specificity_at_sensitivity_2: 0.9994 - val_loss: 0.5630 - val_binary_accuracy: 0.8620 - val_auc_2: 0.9112 - val_mcc_metric: 0.6999 - val_precision_2: 0.7922 - val_sensitivity_at_specificity_2: 0.9532 - val_specificity_at_sensitivity_2: 0.9639\n",
      "Epoch 53/60\n",
      "163/164 [============================>.] - ETA: 0s - loss: 0.0701 - binary_accuracy: 0.9737 - auc_2: 0.9964 - mcc_metric: 0.9439 - precision_2: 0.9503 - sensitivity_at_specificity_2: 0.9990 - specificity_at_sensitivity_2: 0.9994WARNING:tensorflow:Can save best model only with val_auc available, skipping.\n",
      "164/164 [==============================] - 9s 53ms/step - loss: 0.0698 - binary_accuracy: 0.9739 - auc_2: 0.9964 - mcc_metric: 0.9442 - precision_2: 0.9507 - sensitivity_at_specificity_2: 0.9990 - specificity_at_sensitivity_2: 0.9994 - val_loss: 0.5856 - val_binary_accuracy: 0.8650 - val_auc_2: 0.9068 - val_mcc_metric: 0.7005 - val_precision_2: 0.8098 - val_sensitivity_at_specificity_2: 0.9284 - val_specificity_at_sensitivity_2: 0.9749\n",
      "Epoch 54/60\n",
      "164/164 [==============================] - ETA: 0s - loss: 0.0721 - binary_accuracy: 0.9737 - auc_2: 0.9961 - mcc_metric: 0.9425 - precision_2: 0.9506 - sensitivity_at_specificity_2: 0.9990 - specificity_at_sensitivity_2: 0.9997WARNING:tensorflow:Can save best model only with val_auc available, skipping.\n",
      "164/164 [==============================] - 9s 52ms/step - loss: 0.0721 - binary_accuracy: 0.9737 - auc_2: 0.9961 - mcc_metric: 0.9425 - precision_2: 0.9506 - sensitivity_at_specificity_2: 0.9990 - specificity_at_sensitivity_2: 0.9997 - val_loss: 0.6367 - val_binary_accuracy: 0.8390 - val_auc_2: 0.9096 - val_mcc_metric: 0.6632 - val_precision_2: 0.7327 - val_sensitivity_at_specificity_2: 0.9587 - val_specificity_at_sensitivity_2: 0.9639\n",
      "Epoch 55/60\n",
      "163/164 [============================>.] - ETA: 0s - loss: 0.1036 - binary_accuracy: 0.9590 - auc_2: 0.9926 - mcc_metric: 0.9106 - precision_2: 0.9230 - sensitivity_at_specificity_2: 1.0000 - specificity_at_sensitivity_2: 0.9979WARNING:tensorflow:Can save best model only with val_auc available, skipping.\n",
      "164/164 [==============================] - 9s 52ms/step - loss: 0.1032 - binary_accuracy: 0.9592 - auc_2: 0.9926 - mcc_metric: 0.9111 - precision_2: 0.9234 - sensitivity_at_specificity_2: 1.0000 - specificity_at_sensitivity_2: 0.9979 - val_loss: 0.5242 - val_binary_accuracy: 0.8630 - val_auc_2: 0.9216 - val_mcc_metric: 0.7045 - val_precision_2: 0.7868 - val_sensitivity_at_specificity_2: 0.9366 - val_specificity_at_sensitivity_2: 0.9780\n",
      "Epoch 56/60\n",
      "163/164 [============================>.] - ETA: 0s - loss: 0.0600 - binary_accuracy: 0.9772 - auc_2: 0.9972 - mcc_metric: 0.9519 - precision_2: 0.9559 - sensitivity_at_specificity_2: 0.9995 - specificity_at_sensitivity_2: 0.9991WARNING:tensorflow:Can save best model only with val_auc available, skipping.\n",
      "164/164 [==============================] - 9s 52ms/step - loss: 0.0600 - binary_accuracy: 0.9769 - auc_2: 0.9972 - mcc_metric: 0.9513 - precision_2: 0.9551 - sensitivity_at_specificity_2: 0.9995 - specificity_at_sensitivity_2: 0.9991 - val_loss: 0.5488 - val_binary_accuracy: 0.8620 - val_auc_2: 0.9104 - val_mcc_metric: 0.7085 - val_precision_2: 0.7848 - val_sensitivity_at_specificity_2: 0.9477 - val_specificity_at_sensitivity_2: 0.9702\n",
      "Epoch 57/60\n",
      "164/164 [==============================] - ETA: 0s - loss: 0.0748 - binary_accuracy: 0.9714 - auc_2: 0.9962 - mcc_metric: 0.9383 - precision_2: 0.9458 - sensitivity_at_specificity_2: 0.9995 - specificity_at_sensitivity_2: 0.9994WARNING:tensorflow:Can save best model only with val_auc available, skipping.\n",
      "164/164 [==============================] - 8s 52ms/step - loss: 0.0748 - binary_accuracy: 0.9714 - auc_2: 0.9962 - mcc_metric: 0.9383 - precision_2: 0.9458 - sensitivity_at_specificity_2: 0.9995 - specificity_at_sensitivity_2: 0.9994 - val_loss: 0.5791 - val_binary_accuracy: 0.8640 - val_auc_2: 0.9053 - val_mcc_metric: 0.6936 - val_precision_2: 0.8197 - val_sensitivity_at_specificity_2: 0.9284 - val_specificity_at_sensitivity_2: 0.9733\n",
      "Epoch 58/60\n",
      "164/164 [==============================] - ETA: 0s - loss: 0.0715 - binary_accuracy: 0.9710 - auc_2: 0.9965 - mcc_metric: 0.9379 - precision_2: 0.9462 - sensitivity_at_specificity_2: 1.0000 - specificity_at_sensitivity_2: 0.9991WARNING:tensorflow:Can save best model only with val_auc available, skipping.\n",
      "164/164 [==============================] - 9s 52ms/step - loss: 0.0715 - binary_accuracy: 0.9710 - auc_2: 0.9965 - mcc_metric: 0.9379 - precision_2: 0.9462 - sensitivity_at_specificity_2: 1.0000 - specificity_at_sensitivity_2: 0.9991 - val_loss: 0.6232 - val_binary_accuracy: 0.8580 - val_auc_2: 0.9096 - val_mcc_metric: 0.6968 - val_precision_2: 0.7870 - val_sensitivity_at_specificity_2: 0.9284 - val_specificity_at_sensitivity_2: 0.9749\n",
      "Epoch 59/60\n",
      "164/164 [==============================] - ETA: 0s - loss: 0.0559 - binary_accuracy: 0.9796 - auc_2: 0.9973 - mcc_metric: 0.9564 - precision_2: 0.9619 - sensitivity_at_specificity_2: 0.9990 - specificity_at_sensitivity_2: 0.9994WARNING:tensorflow:Can save best model only with val_auc available, skipping.\n",
      "164/164 [==============================] - 8s 51ms/step - loss: 0.0559 - binary_accuracy: 0.9796 - auc_2: 0.9973 - mcc_metric: 0.9564 - precision_2: 0.9619 - sensitivity_at_specificity_2: 0.9990 - specificity_at_sensitivity_2: 0.9994 - val_loss: 0.6540 - val_binary_accuracy: 0.8640 - val_auc_2: 0.9005 - val_mcc_metric: 0.6957 - val_precision_2: 0.8179 - val_sensitivity_at_specificity_2: 0.9036 - val_specificity_at_sensitivity_2: 0.9780\n",
      "Epoch 60/60\n",
      "163/164 [============================>.] - ETA: 0s - loss: 0.0425 - binary_accuracy: 0.9837 - auc_2: 0.9985 - mcc_metric: 0.9647 - precision_2: 0.9697 - sensitivity_at_specificity_2: 0.9995 - specificity_at_sensitivity_2: 1.0000WARNING:tensorflow:Can save best model only with val_auc available, skipping.\n",
      "164/164 [==============================] - 9s 53ms/step - loss: 0.0424 - binary_accuracy: 0.9838 - auc_2: 0.9985 - mcc_metric: 0.9649 - precision_2: 0.9699 - sensitivity_at_specificity_2: 0.9995 - specificity_at_sensitivity_2: 1.0000 - val_loss: 0.7994 - val_binary_accuracy: 0.8510 - val_auc_2: 0.8854 - val_mcc_metric: 0.6619 - val_precision_2: 0.7908 - val_sensitivity_at_specificity_2: 0.8815 - val_specificity_at_sensitivity_2: 0.9623\n"
     ]
    },
    {
     "data": {
      "text/plain": [
       "<keras.callbacks.History at 0x2cf4e736040>"
      ]
     },
     "execution_count": 16,
     "metadata": {},
     "output_type": "execute_result"
    }
   ],
   "source": [
    "def save(i):\n",
    "    return 'F:/bbb/model/nlp/model_'+str(i)+'.tf'\n",
    "\n",
    "checkpoint = tf.keras.callbacks.ModelCheckpoint(save(33), \n",
    "                monitor='val_auc', verbose=1, \n",
    "                save_best_only=True, save_weights_only = False, mode='max')\n",
    "callbacks_list = [checkpoint]\n",
    "\n",
    "model.compile(optimizer = tf.keras.optimizers.Adam(learning_rate = 0.001) ,loss = BinaryCrossentropy(), metrics = [binary_accuracy, AUC(), mcc_metric \n",
    "                    ,Precision(),SensitivityAtSpecificity(specificity = 0.5), SpecificityAtSensitivity(sensitivity = 0.5)])\n",
    "model.fit(x = np.array(xtrain), y = np.array(ytrain), validation_data = (np.array(xvalid), np.array(yvalid)), epochs=60, batch_size = 32, \n",
    "              callbacks = callbacks_list, class_weight = class_weights)\n"
   ]
  },
  {
   "cell_type": "code",
   "execution_count": 17,
   "metadata": {},
   "outputs": [
    {
     "name": "stdout",
     "output_type": "stream",
     "text": [
      "49/49 [==============================] - 2s 31ms/step - loss: 0.3572 - binary_accuracy: 0.8534 - auc_2: 0.9195 - mcc_metric: 0.6751 - precision_2: 0.8205 - sensitivity_at_specificity_2: 0.9786 - specificity_at_sensitivity_2: 0.9800\n"
     ]
    },
    {
     "data": {
      "text/plain": [
       "[0.35716164112091064,\n",
       " 0.8533930778503418,\n",
       " 0.9195341467857361,\n",
       " 0.6750562787055969,\n",
       " 0.8204632997512817,\n",
       " 0.9786096215248108,\n",
       " 0.9800199866294861]"
      ]
     },
     "execution_count": 17,
     "metadata": {},
     "output_type": "execute_result"
    }
   ],
   "source": [
    "model.load_weights(save(33))\n",
    "model.evaluate(np.array(xtest), np.array(ytest))"
   ]
  },
  {
   "cell_type": "code",
   "execution_count": null,
   "metadata": {},
   "outputs": [],
   "source": []
  }
 ],
 "metadata": {
  "interpreter": {
   "hash": "579282893146967bc5d17141c601e8a8b8ad4a0a2a5a6fe1c87b1000077400d7"
  },
  "kernelspec": {
   "display_name": "Python 3.8.8 64-bit ('base': conda)",
   "language": "python",
   "name": "python3"
  },
  "language_info": {
   "codemirror_mode": {
    "name": "ipython",
    "version": 3
   },
   "file_extension": ".py",
   "mimetype": "text/x-python",
   "name": "python",
   "nbconvert_exporter": "python",
   "pygments_lexer": "ipython3",
   "version": "3.8.8"
  },
  "orig_nbformat": 4
 },
 "nbformat": 4,
 "nbformat_minor": 2
}
