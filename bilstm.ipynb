{
 "cells": [
  {
   "cell_type": "code",
   "execution_count": 1,
   "metadata": {},
   "outputs": [
    {
     "name": "stdout",
     "output_type": "stream",
     "text": [
      "Tue Feb 15 07:14:19 2022       \n",
      "+-----------------------------------------------------------------------------+\n",
      "| NVIDIA-SMI 462.30       Driver Version: 462.30       CUDA Version: 11.2     |\n",
      "|-------------------------------+----------------------+----------------------+\n",
      "| GPU  Name            TCC/WDDM | Bus-Id        Disp.A | Volatile Uncorr. ECC |\n",
      "| Fan  Temp  Perf  Pwr:Usage/Cap|         Memory-Usage | GPU-Util  Compute M. |\n",
      "|                               |                      |               MIG M. |\n",
      "|===============================+======================+======================|\n",
      "|   0  GeForce GTX 165... WDDM  | 00000000:01:00.0 Off |                  N/A |\n",
      "| N/A   48C    P8     2W /  N/A |    134MiB /  4096MiB |      0%      Default |\n",
      "|                               |                      |                  N/A |\n",
      "+-------------------------------+----------------------+----------------------+\n",
      "                                                                               \n",
      "+-----------------------------------------------------------------------------+\n",
      "| Processes:                                                                  |\n",
      "|  GPU   GI   CI        PID   Type   Process name                  GPU Memory |\n",
      "|        ID   ID                                                   Usage      |\n",
      "|=============================================================================|\n",
      "|  No running processes found                                                 |\n",
      "+-----------------------------------------------------------------------------+\n"
     ]
    }
   ],
   "source": [
    "!nvidia-smi"
   ]
  },
  {
   "cell_type": "code",
   "execution_count": 2,
   "metadata": {},
   "outputs": [],
   "source": [
    "import pandas as pd\n",
    "import numpy as np\n",
    "import tensorflow as tf\n",
    "from tensorflow.keras.layers import  Dense, Bidirectional, LSTM, Dropout,Input, Embedding\n",
    "from tensorflow.keras.losses import BinaryCrossentropy\n",
    "from tensorflow.keras.models import Model \n",
    "from tensorflow.keras.metrics import Precision, AUC, binary_accuracy, TrueNegatives, TruePositives, FalseNegatives, FalsePositives\n",
    "from helper_functions import mcc_metric\n",
    "from sklearn.model_selection import train_test_split\n",
    "from sklearn.preprocessing import LabelEncoder\n",
    "from sklearn.utils import class_weight\n",
    "from transformers import AutoTokenizer"
   ]
  },
  {
   "cell_type": "code",
   "execution_count": 3,
   "metadata": {},
   "outputs": [
    {
     "data": {
      "text/html": [
       "<div>\n",
       "<style scoped>\n",
       "    .dataframe tbody tr th:only-of-type {\n",
       "        vertical-align: middle;\n",
       "    }\n",
       "\n",
       "    .dataframe tbody tr th {\n",
       "        vertical-align: top;\n",
       "    }\n",
       "\n",
       "    .dataframe thead th {\n",
       "        text-align: right;\n",
       "    }\n",
       "</style>\n",
       "<table border=\"1\" class=\"dataframe\">\n",
       "  <thead>\n",
       "    <tr style=\"text-align: right;\">\n",
       "      <th></th>\n",
       "      <th>NO.</th>\n",
       "      <th>compound_name</th>\n",
       "      <th>IUPAC_name</th>\n",
       "      <th>SMILES</th>\n",
       "      <th>CID</th>\n",
       "      <th>logBB</th>\n",
       "      <th>BBB+/BBB-</th>\n",
       "      <th>Inchi</th>\n",
       "      <th>threshold</th>\n",
       "      <th>reference</th>\n",
       "      <th>group</th>\n",
       "      <th>comments</th>\n",
       "    </tr>\n",
       "  </thead>\n",
       "  <tbody>\n",
       "    <tr>\n",
       "      <th>0</th>\n",
       "      <td>1</td>\n",
       "      <td>sulphasalazine</td>\n",
       "      <td>2-hydroxy-5-[[4-(pyridin-2-ylsulfamoyl)phenyl]...</td>\n",
       "      <td>O=C(O)c1cc(N=Nc2ccc(S(=O)(=O)Nc3ccccn3)cc2)ccc1O</td>\n",
       "      <td>5339.0</td>\n",
       "      <td>-2.69</td>\n",
       "      <td>BBB-</td>\n",
       "      <td>InChI=1S/C18H14N4O5S/c23-16-9-6-13(11-15(16)18...</td>\n",
       "      <td>NaN</td>\n",
       "      <td>R2|R2|R25|R46|</td>\n",
       "      <td>A</td>\n",
       "      <td>NaN</td>\n",
       "    </tr>\n",
       "  </tbody>\n",
       "</table>\n",
       "</div>"
      ],
      "text/plain": [
       "   NO.   compound_name                                         IUPAC_name  \\\n",
       "0    1  sulphasalazine  2-hydroxy-5-[[4-(pyridin-2-ylsulfamoyl)phenyl]...   \n",
       "\n",
       "                                             SMILES     CID  logBB BBB+/BBB-  \\\n",
       "0  O=C(O)c1cc(N=Nc2ccc(S(=O)(=O)Nc3ccccn3)cc2)ccc1O  5339.0  -2.69      BBB-   \n",
       "\n",
       "                                               Inchi  threshold  \\\n",
       "0  InChI=1S/C18H14N4O5S/c23-16-9-6-13(11-15(16)18...        NaN   \n",
       "\n",
       "        reference group comments  \n",
       "0  R2|R2|R25|R46|     A      NaN  "
      ]
     },
     "execution_count": 3,
     "metadata": {},
     "output_type": "execute_result"
    }
   ],
   "source": [
    "data = pd.read_table('F:/bbb/data/B3DB/B3DB_classification.tsv')\n",
    "data.head(1)"
   ]
  },
  {
   "cell_type": "code",
   "execution_count": 4,
   "metadata": {},
   "outputs": [],
   "source": [
    "X = data[\"SMILES\"]\n",
    "\n",
    "target=data['BBB+/BBB-'].values.tolist()\n",
    "label_encoder = LabelEncoder()\n",
    "y_classification = label_encoder.fit_transform(target)"
   ]
  },
  {
   "cell_type": "code",
   "execution_count": 5,
   "metadata": {},
   "outputs": [],
   "source": [
    "tokenizer = AutoTokenizer.from_pretrained('DeepChem/ChemBERTa-77M-MLM', from_pt = True)"
   ]
  },
  {
   "cell_type": "code",
   "execution_count": 6,
   "metadata": {},
   "outputs": [],
   "source": [
    "smiles_data = tokenizer(list(X),  truncation=True, padding=True)\n",
    "smiles_data = smiles_data['input_ids']"
   ]
  },
  {
   "cell_type": "code",
   "execution_count": 7,
   "metadata": {},
   "outputs": [],
   "source": [
    "xtrain, xtest, ytrain, ytest = train_test_split(smiles_data, y_classification, test_size=0.2, random_state=42)\n",
    "xtrain, xvalid, ytrain, yvalid  = train_test_split(xtrain, ytrain, test_size= 0.16, random_state=42)"
   ]
  },
  {
   "cell_type": "code",
   "execution_count": 8,
   "metadata": {},
   "outputs": [
    {
     "data": {
      "text/plain": [
       "7807"
      ]
     },
     "execution_count": 8,
     "metadata": {},
     "output_type": "execute_result"
    }
   ],
   "source": [
    "len(y_classification)"
   ]
  },
  {
   "cell_type": "code",
   "execution_count": 9,
   "metadata": {},
   "outputs": [
    {
     "data": {
      "text/plain": [
       "(array([0, 1], dtype=int64), array([4956, 2851], dtype=int64))"
      ]
     },
     "execution_count": 9,
     "metadata": {},
     "output_type": "execute_result"
    }
   ],
   "source": [
    "np.unique(y_classification, return_counts=True)"
   ]
  },
  {
   "cell_type": "code",
   "execution_count": 10,
   "metadata": {},
   "outputs": [
    {
     "name": "stderr",
     "output_type": "stream",
     "text": [
      "F:\\anaconda\\lib\\site-packages\\sklearn\\utils\\validation.py:70: FutureWarning: Pass classes=[0 1], y=[0 1 0 ... 0 1 0] as keyword args. From version 1.0 (renaming of 0.25) passing these as positional arguments will result in an error\n",
      "  warnings.warn(f\"Pass {args_msg} as keyword args. From version \"\n"
     ]
    }
   ],
   "source": [
    "class_weights = class_weight.compute_class_weight(\n",
    "           'balanced',\n",
    "            np.unique(ytrain), \n",
    "            ytrain)"
   ]
  },
  {
   "cell_type": "code",
   "execution_count": 11,
   "metadata": {},
   "outputs": [],
   "source": [
    "class_weights = {0:0.78950695,\n",
    "                1: 1.36353712} "
   ]
  },
  {
   "cell_type": "code",
   "execution_count": 12,
   "metadata": {},
   "outputs": [
    {
     "data": {
      "text/plain": [
       "593"
      ]
     },
     "execution_count": 12,
     "metadata": {},
     "output_type": "execute_result"
    }
   ],
   "source": [
    "word_in_vocab = tokenizer.vocab\n",
    "len(word_in_vocab)"
   ]
  },
  {
   "cell_type": "code",
   "execution_count": 13,
   "metadata": {},
   "outputs": [
    {
     "data": {
      "text/plain": [
       "(244,)"
      ]
     },
     "execution_count": 13,
     "metadata": {},
     "output_type": "execute_result"
    }
   ],
   "source": [
    "np.array(xtrain[0]).shape"
   ]
  },
  {
   "cell_type": "code",
   "execution_count": 14,
   "metadata": {},
   "outputs": [],
   "source": [
    "input = Input(shape = (244,))\n",
    "\n",
    "x = Embedding(input_dim=len(word_in_vocab),\n",
    "                        output_dim=128, \n",
    "                        input_length=None,\n",
    "                        )(input)\n",
    "x = Bidirectional(LSTM(64, return_sequences=True,name = 'lstm1'))(x)\n",
    "x = Bidirectional(LSTM(64, return_sequences=True,name = 'lstm1'))(x)\n",
    "x = Dropout(0.2)(x)\n",
    "x = Bidirectional(LSTM(64, return_sequences=False,name = 'lstm1'))(x)\n",
    "x = Dropout(0.2)(x)\n",
    "\n",
    "x = Dense(256, activation = 'relu')(x)\n",
    "x = Dense(10, activation = 'relu')(x)\n",
    "output = Dense(1, activation = \"sigmoid\")(x)\n",
    "model = Model(inputs = input, outputs = output)\n"
   ]
  },
  {
   "cell_type": "code",
   "execution_count": 15,
   "metadata": {},
   "outputs": [
    {
     "name": "stdout",
     "output_type": "stream",
     "text": [
      "Epoch 1/60\n",
      "164/164 [==============================] - ETA: 0s - loss: 0.5427 - binary_accuracy: 0.7548 - auc: 0.7887 - mcc_metric: nan - precision: 0.6867 - true_negatives: 2780.0000 - true_positives: 1179.0000 - false_negatives: 748.0000 - false_positives: 538.0000\n",
      "Epoch 00001: val_auc improved from -inf to 0.84680, saving model to F:/bbb/model/nlp\\model_33.tf\n"
     ]
    },
    {
     "name": "stderr",
     "output_type": "stream",
     "text": [
      "WARNING:absl:Found untraced functions such as lstm_cell_1_layer_call_fn, lstm_cell_1_layer_call_and_return_conditional_losses, lstm_cell_2_layer_call_fn, lstm_cell_2_layer_call_and_return_conditional_losses, lstm_cell_4_layer_call_fn while saving (showing 5 of 30). These functions will not be directly callable after loading.\n"
     ]
    },
    {
     "name": "stdout",
     "output_type": "stream",
     "text": [
      "INFO:tensorflow:Assets written to: F:/bbb/model/nlp\\model_33.tf\\assets\n"
     ]
    },
    {
     "name": "stderr",
     "output_type": "stream",
     "text": [
      "INFO:tensorflow:Assets written to: F:/bbb/model/nlp\\model_33.tf\\assets\n",
      "WARNING:absl:<keras.layers.recurrent.LSTMCell object at 0x0000015743C3A2B0> has the same name 'LSTMCell' as a built-in Keras object. Consider renaming <class 'keras.layers.recurrent.LSTMCell'> to avoid naming conflicts when loading with `tf.keras.models.load_model`. If renaming is not possible, pass the object in the `custom_objects` parameter of the load function.\n",
      "WARNING:absl:<keras.layers.recurrent.LSTMCell object at 0x0000015743C3AC40> has the same name 'LSTMCell' as a built-in Keras object. Consider renaming <class 'keras.layers.recurrent.LSTMCell'> to avoid naming conflicts when loading with `tf.keras.models.load_model`. If renaming is not possible, pass the object in the `custom_objects` parameter of the load function.\n",
      "WARNING:absl:<keras.layers.recurrent.LSTMCell object at 0x0000015744077220> has the same name 'LSTMCell' as a built-in Keras object. Consider renaming <class 'keras.layers.recurrent.LSTMCell'> to avoid naming conflicts when loading with `tf.keras.models.load_model`. If renaming is not possible, pass the object in the `custom_objects` parameter of the load function.\n",
      "WARNING:absl:<keras.layers.recurrent.LSTMCell object at 0x0000015744096D00> has the same name 'LSTMCell' as a built-in Keras object. Consider renaming <class 'keras.layers.recurrent.LSTMCell'> to avoid naming conflicts when loading with `tf.keras.models.load_model`. If renaming is not possible, pass the object in the `custom_objects` parameter of the load function.\n",
      "WARNING:absl:<keras.layers.recurrent.LSTMCell object at 0x0000015743EF3EE0> has the same name 'LSTMCell' as a built-in Keras object. Consider renaming <class 'keras.layers.recurrent.LSTMCell'> to avoid naming conflicts when loading with `tf.keras.models.load_model`. If renaming is not possible, pass the object in the `custom_objects` parameter of the load function.\n",
      "WARNING:absl:<keras.layers.recurrent.LSTMCell object at 0x0000015743DBC100> has the same name 'LSTMCell' as a built-in Keras object. Consider renaming <class 'keras.layers.recurrent.LSTMCell'> to avoid naming conflicts when loading with `tf.keras.models.load_model`. If renaming is not possible, pass the object in the `custom_objects` parameter of the load function.\n"
     ]
    },
    {
     "name": "stdout",
     "output_type": "stream",
     "text": [
      "164/164 [==============================] - 50s 247ms/step - loss: 0.5427 - binary_accuracy: 0.7548 - auc: 0.7887 - mcc_metric: nan - precision: 0.6867 - true_negatives: 2780.0000 - true_positives: 1179.0000 - false_negatives: 748.0000 - false_positives: 538.0000 - val_loss: 0.5189 - val_binary_accuracy: 0.7850 - val_auc: 0.8468 - val_mcc_metric: 0.5402 - val_precision: 0.6850 - val_true_negatives: 511.0000 - val_true_positives: 274.0000 - val_false_negatives: 89.0000 - val_false_positives: 126.0000\n",
      "Epoch 2/60\n",
      "164/164 [==============================] - ETA: 0s - loss: 0.4985 - binary_accuracy: 0.7935 - auc: 0.8272 - mcc_metric: 0.5576 - precision: 0.7289 - true_negatives: 2818.0000 - true_positives: 1344.0000 - false_negatives: 583.0000 - false_positives: 500.0000\n",
      "Epoch 00002: val_auc improved from 0.84680 to 0.84814, saving model to F:/bbb/model/nlp\\model_33.tf\n"
     ]
    },
    {
     "name": "stderr",
     "output_type": "stream",
     "text": [
      "WARNING:absl:Found untraced functions such as lstm_cell_1_layer_call_fn, lstm_cell_1_layer_call_and_return_conditional_losses, lstm_cell_2_layer_call_fn, lstm_cell_2_layer_call_and_return_conditional_losses, lstm_cell_4_layer_call_fn while saving (showing 5 of 30). These functions will not be directly callable after loading.\n"
     ]
    },
    {
     "name": "stdout",
     "output_type": "stream",
     "text": [
      "INFO:tensorflow:Assets written to: F:/bbb/model/nlp\\model_33.tf\\assets\n"
     ]
    },
    {
     "name": "stderr",
     "output_type": "stream",
     "text": [
      "INFO:tensorflow:Assets written to: F:/bbb/model/nlp\\model_33.tf\\assets\n",
      "WARNING:absl:<keras.layers.recurrent.LSTMCell object at 0x0000015743C3A2B0> has the same name 'LSTMCell' as a built-in Keras object. Consider renaming <class 'keras.layers.recurrent.LSTMCell'> to avoid naming conflicts when loading with `tf.keras.models.load_model`. If renaming is not possible, pass the object in the `custom_objects` parameter of the load function.\n",
      "WARNING:absl:<keras.layers.recurrent.LSTMCell object at 0x0000015743C3AC40> has the same name 'LSTMCell' as a built-in Keras object. Consider renaming <class 'keras.layers.recurrent.LSTMCell'> to avoid naming conflicts when loading with `tf.keras.models.load_model`. If renaming is not possible, pass the object in the `custom_objects` parameter of the load function.\n",
      "WARNING:absl:<keras.layers.recurrent.LSTMCell object at 0x0000015744077220> has the same name 'LSTMCell' as a built-in Keras object. Consider renaming <class 'keras.layers.recurrent.LSTMCell'> to avoid naming conflicts when loading with `tf.keras.models.load_model`. If renaming is not possible, pass the object in the `custom_objects` parameter of the load function.\n",
      "WARNING:absl:<keras.layers.recurrent.LSTMCell object at 0x0000015744096D00> has the same name 'LSTMCell' as a built-in Keras object. Consider renaming <class 'keras.layers.recurrent.LSTMCell'> to avoid naming conflicts when loading with `tf.keras.models.load_model`. If renaming is not possible, pass the object in the `custom_objects` parameter of the load function.\n",
      "WARNING:absl:<keras.layers.recurrent.LSTMCell object at 0x0000015743EF3EE0> has the same name 'LSTMCell' as a built-in Keras object. Consider renaming <class 'keras.layers.recurrent.LSTMCell'> to avoid naming conflicts when loading with `tf.keras.models.load_model`. If renaming is not possible, pass the object in the `custom_objects` parameter of the load function.\n",
      "WARNING:absl:<keras.layers.recurrent.LSTMCell object at 0x0000015743DBC100> has the same name 'LSTMCell' as a built-in Keras object. Consider renaming <class 'keras.layers.recurrent.LSTMCell'> to avoid naming conflicts when loading with `tf.keras.models.load_model`. If renaming is not possible, pass the object in the `custom_objects` parameter of the load function.\n"
     ]
    },
    {
     "name": "stdout",
     "output_type": "stream",
     "text": [
      "164/164 [==============================] - 40s 242ms/step - loss: 0.4985 - binary_accuracy: 0.7935 - auc: 0.8272 - mcc_metric: 0.5576 - precision: 0.7289 - true_negatives: 2818.0000 - true_positives: 1344.0000 - false_negatives: 583.0000 - false_positives: 500.0000 - val_loss: 0.4945 - val_binary_accuracy: 0.8010 - val_auc: 0.8481 - val_mcc_metric: 0.5691 - val_precision: 0.7181 - val_true_negatives: 531.0000 - val_true_positives: 270.0000 - val_false_negatives: 93.0000 - val_false_positives: 106.0000\n",
      "Epoch 3/60\n",
      "164/164 [==============================] - ETA: 0s - loss: 0.4864 - binary_accuracy: 0.7990 - auc: 0.8352 - mcc_metric: 0.5675 - precision: 0.7330 - true_negatives: 2818.0000 - true_positives: 1373.0000 - false_negatives: 554.0000 - false_positives: 500.0000\n",
      "Epoch 00003: val_auc improved from 0.84814 to 0.85681, saving model to F:/bbb/model/nlp\\model_33.tf\n"
     ]
    },
    {
     "name": "stderr",
     "output_type": "stream",
     "text": [
      "WARNING:absl:Found untraced functions such as lstm_cell_1_layer_call_fn, lstm_cell_1_layer_call_and_return_conditional_losses, lstm_cell_2_layer_call_fn, lstm_cell_2_layer_call_and_return_conditional_losses, lstm_cell_4_layer_call_fn while saving (showing 5 of 30). These functions will not be directly callable after loading.\n"
     ]
    },
    {
     "name": "stdout",
     "output_type": "stream",
     "text": [
      "INFO:tensorflow:Assets written to: F:/bbb/model/nlp\\model_33.tf\\assets\n"
     ]
    },
    {
     "name": "stderr",
     "output_type": "stream",
     "text": [
      "INFO:tensorflow:Assets written to: F:/bbb/model/nlp\\model_33.tf\\assets\n",
      "WARNING:absl:<keras.layers.recurrent.LSTMCell object at 0x0000015743C3A2B0> has the same name 'LSTMCell' as a built-in Keras object. Consider renaming <class 'keras.layers.recurrent.LSTMCell'> to avoid naming conflicts when loading with `tf.keras.models.load_model`. If renaming is not possible, pass the object in the `custom_objects` parameter of the load function.\n",
      "WARNING:absl:<keras.layers.recurrent.LSTMCell object at 0x0000015743C3AC40> has the same name 'LSTMCell' as a built-in Keras object. Consider renaming <class 'keras.layers.recurrent.LSTMCell'> to avoid naming conflicts when loading with `tf.keras.models.load_model`. If renaming is not possible, pass the object in the `custom_objects` parameter of the load function.\n",
      "WARNING:absl:<keras.layers.recurrent.LSTMCell object at 0x0000015744077220> has the same name 'LSTMCell' as a built-in Keras object. Consider renaming <class 'keras.layers.recurrent.LSTMCell'> to avoid naming conflicts when loading with `tf.keras.models.load_model`. If renaming is not possible, pass the object in the `custom_objects` parameter of the load function.\n",
      "WARNING:absl:<keras.layers.recurrent.LSTMCell object at 0x0000015744096D00> has the same name 'LSTMCell' as a built-in Keras object. Consider renaming <class 'keras.layers.recurrent.LSTMCell'> to avoid naming conflicts when loading with `tf.keras.models.load_model`. If renaming is not possible, pass the object in the `custom_objects` parameter of the load function.\n",
      "WARNING:absl:<keras.layers.recurrent.LSTMCell object at 0x0000015743EF3EE0> has the same name 'LSTMCell' as a built-in Keras object. Consider renaming <class 'keras.layers.recurrent.LSTMCell'> to avoid naming conflicts when loading with `tf.keras.models.load_model`. If renaming is not possible, pass the object in the `custom_objects` parameter of the load function.\n",
      "WARNING:absl:<keras.layers.recurrent.LSTMCell object at 0x0000015743DBC100> has the same name 'LSTMCell' as a built-in Keras object. Consider renaming <class 'keras.layers.recurrent.LSTMCell'> to avoid naming conflicts when loading with `tf.keras.models.load_model`. If renaming is not possible, pass the object in the `custom_objects` parameter of the load function.\n"
     ]
    },
    {
     "name": "stdout",
     "output_type": "stream",
     "text": [
      "164/164 [==============================] - 38s 233ms/step - loss: 0.4864 - binary_accuracy: 0.7990 - auc: 0.8352 - mcc_metric: 0.5675 - precision: 0.7330 - true_negatives: 2818.0000 - true_positives: 1373.0000 - false_negatives: 554.0000 - false_positives: 500.0000 - val_loss: 0.4904 - val_binary_accuracy: 0.7770 - val_auc: 0.8568 - val_mcc_metric: 0.5443 - val_precision: 0.6606 - val_true_negatives: 489.0000 - val_true_positives: 288.0000 - val_false_negatives: 75.0000 - val_false_positives: 148.0000\n",
      "Epoch 4/60\n",
      "164/164 [==============================] - ETA: 0s - loss: 0.4855 - binary_accuracy: 0.7895 - auc: 0.8408 - mcc_metric: 0.5542 - precision: 0.7094 - true_negatives: 2747.0000 - true_positives: 1394.0000 - false_negatives: 533.0000 - false_positives: 571.0000\n",
      "Epoch 00004: val_auc improved from 0.85681 to 0.85865, saving model to F:/bbb/model/nlp\\model_33.tf\n"
     ]
    },
    {
     "name": "stderr",
     "output_type": "stream",
     "text": [
      "WARNING:absl:Found untraced functions such as lstm_cell_1_layer_call_fn, lstm_cell_1_layer_call_and_return_conditional_losses, lstm_cell_2_layer_call_fn, lstm_cell_2_layer_call_and_return_conditional_losses, lstm_cell_4_layer_call_fn while saving (showing 5 of 30). These functions will not be directly callable after loading.\n"
     ]
    },
    {
     "name": "stdout",
     "output_type": "stream",
     "text": [
      "INFO:tensorflow:Assets written to: F:/bbb/model/nlp\\model_33.tf\\assets\n"
     ]
    },
    {
     "name": "stderr",
     "output_type": "stream",
     "text": [
      "INFO:tensorflow:Assets written to: F:/bbb/model/nlp\\model_33.tf\\assets\n",
      "WARNING:absl:<keras.layers.recurrent.LSTMCell object at 0x0000015743C3A2B0> has the same name 'LSTMCell' as a built-in Keras object. Consider renaming <class 'keras.layers.recurrent.LSTMCell'> to avoid naming conflicts when loading with `tf.keras.models.load_model`. If renaming is not possible, pass the object in the `custom_objects` parameter of the load function.\n",
      "WARNING:absl:<keras.layers.recurrent.LSTMCell object at 0x0000015743C3AC40> has the same name 'LSTMCell' as a built-in Keras object. Consider renaming <class 'keras.layers.recurrent.LSTMCell'> to avoid naming conflicts when loading with `tf.keras.models.load_model`. If renaming is not possible, pass the object in the `custom_objects` parameter of the load function.\n",
      "WARNING:absl:<keras.layers.recurrent.LSTMCell object at 0x0000015744077220> has the same name 'LSTMCell' as a built-in Keras object. Consider renaming <class 'keras.layers.recurrent.LSTMCell'> to avoid naming conflicts when loading with `tf.keras.models.load_model`. If renaming is not possible, pass the object in the `custom_objects` parameter of the load function.\n",
      "WARNING:absl:<keras.layers.recurrent.LSTMCell object at 0x0000015744096D00> has the same name 'LSTMCell' as a built-in Keras object. Consider renaming <class 'keras.layers.recurrent.LSTMCell'> to avoid naming conflicts when loading with `tf.keras.models.load_model`. If renaming is not possible, pass the object in the `custom_objects` parameter of the load function.\n",
      "WARNING:absl:<keras.layers.recurrent.LSTMCell object at 0x0000015743EF3EE0> has the same name 'LSTMCell' as a built-in Keras object. Consider renaming <class 'keras.layers.recurrent.LSTMCell'> to avoid naming conflicts when loading with `tf.keras.models.load_model`. If renaming is not possible, pass the object in the `custom_objects` parameter of the load function.\n",
      "WARNING:absl:<keras.layers.recurrent.LSTMCell object at 0x0000015743DBC100> has the same name 'LSTMCell' as a built-in Keras object. Consider renaming <class 'keras.layers.recurrent.LSTMCell'> to avoid naming conflicts when loading with `tf.keras.models.load_model`. If renaming is not possible, pass the object in the `custom_objects` parameter of the load function.\n"
     ]
    },
    {
     "name": "stdout",
     "output_type": "stream",
     "text": [
      "164/164 [==============================] - 38s 232ms/step - loss: 0.4855 - binary_accuracy: 0.7895 - auc: 0.8408 - mcc_metric: 0.5542 - precision: 0.7094 - true_negatives: 2747.0000 - true_positives: 1394.0000 - false_negatives: 533.0000 - false_positives: 571.0000 - val_loss: 0.4511 - val_binary_accuracy: 0.8000 - val_auc: 0.8586 - val_mcc_metric: 0.5607 - val_precision: 0.7185 - val_true_negatives: 532.0000 - val_true_positives: 268.0000 - val_false_negatives: 95.0000 - val_false_positives: 105.0000\n",
      "Epoch 5/60\n",
      "164/164 [==============================] - ETA: 0s - loss: 0.4732 - binary_accuracy: 0.7853 - auc: 0.8503 - mcc_metric: 0.5500 - precision: 0.6883 - true_negatives: 2655.0000 - true_positives: 1464.0000 - false_negatives: 463.0000 - false_positives: 663.0000\n",
      "Epoch 00005: val_auc improved from 0.85865 to 0.87870, saving model to F:/bbb/model/nlp\\model_33.tf\n"
     ]
    },
    {
     "name": "stderr",
     "output_type": "stream",
     "text": [
      "WARNING:absl:Found untraced functions such as lstm_cell_1_layer_call_fn, lstm_cell_1_layer_call_and_return_conditional_losses, lstm_cell_2_layer_call_fn, lstm_cell_2_layer_call_and_return_conditional_losses, lstm_cell_4_layer_call_fn while saving (showing 5 of 30). These functions will not be directly callable after loading.\n"
     ]
    },
    {
     "name": "stdout",
     "output_type": "stream",
     "text": [
      "INFO:tensorflow:Assets written to: F:/bbb/model/nlp\\model_33.tf\\assets\n"
     ]
    },
    {
     "name": "stderr",
     "output_type": "stream",
     "text": [
      "INFO:tensorflow:Assets written to: F:/bbb/model/nlp\\model_33.tf\\assets\n",
      "WARNING:absl:<keras.layers.recurrent.LSTMCell object at 0x0000015743C3A2B0> has the same name 'LSTMCell' as a built-in Keras object. Consider renaming <class 'keras.layers.recurrent.LSTMCell'> to avoid naming conflicts when loading with `tf.keras.models.load_model`. If renaming is not possible, pass the object in the `custom_objects` parameter of the load function.\n",
      "WARNING:absl:<keras.layers.recurrent.LSTMCell object at 0x0000015743C3AC40> has the same name 'LSTMCell' as a built-in Keras object. Consider renaming <class 'keras.layers.recurrent.LSTMCell'> to avoid naming conflicts when loading with `tf.keras.models.load_model`. If renaming is not possible, pass the object in the `custom_objects` parameter of the load function.\n",
      "WARNING:absl:<keras.layers.recurrent.LSTMCell object at 0x0000015744077220> has the same name 'LSTMCell' as a built-in Keras object. Consider renaming <class 'keras.layers.recurrent.LSTMCell'> to avoid naming conflicts when loading with `tf.keras.models.load_model`. If renaming is not possible, pass the object in the `custom_objects` parameter of the load function.\n",
      "WARNING:absl:<keras.layers.recurrent.LSTMCell object at 0x0000015744096D00> has the same name 'LSTMCell' as a built-in Keras object. Consider renaming <class 'keras.layers.recurrent.LSTMCell'> to avoid naming conflicts when loading with `tf.keras.models.load_model`. If renaming is not possible, pass the object in the `custom_objects` parameter of the load function.\n",
      "WARNING:absl:<keras.layers.recurrent.LSTMCell object at 0x0000015743EF3EE0> has the same name 'LSTMCell' as a built-in Keras object. Consider renaming <class 'keras.layers.recurrent.LSTMCell'> to avoid naming conflicts when loading with `tf.keras.models.load_model`. If renaming is not possible, pass the object in the `custom_objects` parameter of the load function.\n",
      "WARNING:absl:<keras.layers.recurrent.LSTMCell object at 0x0000015743DBC100> has the same name 'LSTMCell' as a built-in Keras object. Consider renaming <class 'keras.layers.recurrent.LSTMCell'> to avoid naming conflicts when loading with `tf.keras.models.load_model`. If renaming is not possible, pass the object in the `custom_objects` parameter of the load function.\n"
     ]
    },
    {
     "name": "stdout",
     "output_type": "stream",
     "text": [
      "164/164 [==============================] - 38s 234ms/step - loss: 0.4732 - binary_accuracy: 0.7853 - auc: 0.8503 - mcc_metric: 0.5500 - precision: 0.6883 - true_negatives: 2655.0000 - true_positives: 1464.0000 - false_negatives: 463.0000 - false_positives: 663.0000 - val_loss: 0.4887 - val_binary_accuracy: 0.7650 - val_auc: 0.8787 - val_mcc_metric: 0.5507 - val_precision: 0.6296 - val_true_negatives: 454.0000 - val_true_positives: 311.0000 - val_false_negatives: 52.0000 - val_false_positives: 183.0000\n",
      "Epoch 6/60\n",
      "164/164 [==============================] - ETA: 0s - loss: 0.4608 - binary_accuracy: 0.7966 - auc: 0.8573 - mcc_metric: 0.5740 - precision: 0.7096 - true_negatives: 2722.0000 - true_positives: 1456.0000 - false_negatives: 471.0000 - false_positives: 596.0000\n",
      "Epoch 00006: val_auc improved from 0.87870 to 0.88336, saving model to F:/bbb/model/nlp\\model_33.tf\n"
     ]
    },
    {
     "name": "stderr",
     "output_type": "stream",
     "text": [
      "WARNING:absl:Found untraced functions such as lstm_cell_1_layer_call_fn, lstm_cell_1_layer_call_and_return_conditional_losses, lstm_cell_2_layer_call_fn, lstm_cell_2_layer_call_and_return_conditional_losses, lstm_cell_4_layer_call_fn while saving (showing 5 of 30). These functions will not be directly callable after loading.\n"
     ]
    },
    {
     "name": "stdout",
     "output_type": "stream",
     "text": [
      "INFO:tensorflow:Assets written to: F:/bbb/model/nlp\\model_33.tf\\assets\n"
     ]
    },
    {
     "name": "stderr",
     "output_type": "stream",
     "text": [
      "INFO:tensorflow:Assets written to: F:/bbb/model/nlp\\model_33.tf\\assets\n",
      "WARNING:absl:<keras.layers.recurrent.LSTMCell object at 0x0000015743C3A2B0> has the same name 'LSTMCell' as a built-in Keras object. Consider renaming <class 'keras.layers.recurrent.LSTMCell'> to avoid naming conflicts when loading with `tf.keras.models.load_model`. If renaming is not possible, pass the object in the `custom_objects` parameter of the load function.\n",
      "WARNING:absl:<keras.layers.recurrent.LSTMCell object at 0x0000015743C3AC40> has the same name 'LSTMCell' as a built-in Keras object. Consider renaming <class 'keras.layers.recurrent.LSTMCell'> to avoid naming conflicts when loading with `tf.keras.models.load_model`. If renaming is not possible, pass the object in the `custom_objects` parameter of the load function.\n",
      "WARNING:absl:<keras.layers.recurrent.LSTMCell object at 0x0000015744077220> has the same name 'LSTMCell' as a built-in Keras object. Consider renaming <class 'keras.layers.recurrent.LSTMCell'> to avoid naming conflicts when loading with `tf.keras.models.load_model`. If renaming is not possible, pass the object in the `custom_objects` parameter of the load function.\n",
      "WARNING:absl:<keras.layers.recurrent.LSTMCell object at 0x0000015744096D00> has the same name 'LSTMCell' as a built-in Keras object. Consider renaming <class 'keras.layers.recurrent.LSTMCell'> to avoid naming conflicts when loading with `tf.keras.models.load_model`. If renaming is not possible, pass the object in the `custom_objects` parameter of the load function.\n",
      "WARNING:absl:<keras.layers.recurrent.LSTMCell object at 0x0000015743EF3EE0> has the same name 'LSTMCell' as a built-in Keras object. Consider renaming <class 'keras.layers.recurrent.LSTMCell'> to avoid naming conflicts when loading with `tf.keras.models.load_model`. If renaming is not possible, pass the object in the `custom_objects` parameter of the load function.\n",
      "WARNING:absl:<keras.layers.recurrent.LSTMCell object at 0x0000015743DBC100> has the same name 'LSTMCell' as a built-in Keras object. Consider renaming <class 'keras.layers.recurrent.LSTMCell'> to avoid naming conflicts when loading with `tf.keras.models.load_model`. If renaming is not possible, pass the object in the `custom_objects` parameter of the load function.\n"
     ]
    },
    {
     "name": "stdout",
     "output_type": "stream",
     "text": [
      "164/164 [==============================] - 38s 233ms/step - loss: 0.4608 - binary_accuracy: 0.7966 - auc: 0.8573 - mcc_metric: 0.5740 - precision: 0.7096 - true_negatives: 2722.0000 - true_positives: 1456.0000 - false_negatives: 471.0000 - false_positives: 596.0000 - val_loss: 0.4804 - val_binary_accuracy: 0.7820 - val_auc: 0.8834 - val_mcc_metric: 0.5625 - val_precision: 0.6615 - val_true_negatives: 485.0000 - val_true_positives: 297.0000 - val_false_negatives: 66.0000 - val_false_positives: 152.0000\n",
      "Epoch 7/60\n",
      "164/164 [==============================] - ETA: 0s - loss: 0.4535 - binary_accuracy: 0.8000 - auc: 0.8635 - mcc_metric: 0.5775 - precision: 0.7193 - true_negatives: 2756.0000 - true_positives: 1440.0000 - false_negatives: 487.0000 - false_positives: 562.0000\n",
      "Epoch 00007: val_auc did not improve from 0.88336\n",
      "164/164 [==============================] - 14s 84ms/step - loss: 0.4535 - binary_accuracy: 0.8000 - auc: 0.8635 - mcc_metric: 0.5775 - precision: 0.7193 - true_negatives: 2756.0000 - true_positives: 1440.0000 - false_negatives: 487.0000 - false_positives: 562.0000 - val_loss: 0.4099 - val_binary_accuracy: 0.8260 - val_auc: 0.8790 - val_mcc_metric: 0.6087 - val_precision: 0.8119 - val_true_negatives: 580.0000 - val_true_positives: 246.0000 - val_false_negatives: 117.0000 - val_false_positives: 57.0000\n",
      "Epoch 8/60\n",
      "164/164 [==============================] - ETA: 0s - loss: 0.4404 - binary_accuracy: 0.8053 - auc: 0.8729 - mcc_metric: 0.5941 - precision: 0.7174 - true_negatives: 2729.0000 - true_positives: 1495.0000 - false_negatives: 432.0000 - false_positives: 589.0000\n",
      "Epoch 00008: val_auc improved from 0.88336 to 0.89205, saving model to F:/bbb/model/nlp\\model_33.tf\n"
     ]
    },
    {
     "name": "stderr",
     "output_type": "stream",
     "text": [
      "WARNING:absl:Found untraced functions such as lstm_cell_1_layer_call_fn, lstm_cell_1_layer_call_and_return_conditional_losses, lstm_cell_2_layer_call_fn, lstm_cell_2_layer_call_and_return_conditional_losses, lstm_cell_4_layer_call_fn while saving (showing 5 of 30). These functions will not be directly callable after loading.\n"
     ]
    },
    {
     "name": "stdout",
     "output_type": "stream",
     "text": [
      "INFO:tensorflow:Assets written to: F:/bbb/model/nlp\\model_33.tf\\assets\n"
     ]
    },
    {
     "name": "stderr",
     "output_type": "stream",
     "text": [
      "INFO:tensorflow:Assets written to: F:/bbb/model/nlp\\model_33.tf\\assets\n",
      "WARNING:absl:<keras.layers.recurrent.LSTMCell object at 0x0000015743C3A2B0> has the same name 'LSTMCell' as a built-in Keras object. Consider renaming <class 'keras.layers.recurrent.LSTMCell'> to avoid naming conflicts when loading with `tf.keras.models.load_model`. If renaming is not possible, pass the object in the `custom_objects` parameter of the load function.\n",
      "WARNING:absl:<keras.layers.recurrent.LSTMCell object at 0x0000015743C3AC40> has the same name 'LSTMCell' as a built-in Keras object. Consider renaming <class 'keras.layers.recurrent.LSTMCell'> to avoid naming conflicts when loading with `tf.keras.models.load_model`. If renaming is not possible, pass the object in the `custom_objects` parameter of the load function.\n",
      "WARNING:absl:<keras.layers.recurrent.LSTMCell object at 0x0000015744077220> has the same name 'LSTMCell' as a built-in Keras object. Consider renaming <class 'keras.layers.recurrent.LSTMCell'> to avoid naming conflicts when loading with `tf.keras.models.load_model`. If renaming is not possible, pass the object in the `custom_objects` parameter of the load function.\n",
      "WARNING:absl:<keras.layers.recurrent.LSTMCell object at 0x0000015744096D00> has the same name 'LSTMCell' as a built-in Keras object. Consider renaming <class 'keras.layers.recurrent.LSTMCell'> to avoid naming conflicts when loading with `tf.keras.models.load_model`. If renaming is not possible, pass the object in the `custom_objects` parameter of the load function.\n",
      "WARNING:absl:<keras.layers.recurrent.LSTMCell object at 0x0000015743EF3EE0> has the same name 'LSTMCell' as a built-in Keras object. Consider renaming <class 'keras.layers.recurrent.LSTMCell'> to avoid naming conflicts when loading with `tf.keras.models.load_model`. If renaming is not possible, pass the object in the `custom_objects` parameter of the load function.\n",
      "WARNING:absl:<keras.layers.recurrent.LSTMCell object at 0x0000015743DBC100> has the same name 'LSTMCell' as a built-in Keras object. Consider renaming <class 'keras.layers.recurrent.LSTMCell'> to avoid naming conflicts when loading with `tf.keras.models.load_model`. If renaming is not possible, pass the object in the `custom_objects` parameter of the load function.\n"
     ]
    },
    {
     "name": "stdout",
     "output_type": "stream",
     "text": [
      "164/164 [==============================] - 38s 232ms/step - loss: 0.4404 - binary_accuracy: 0.8053 - auc: 0.8729 - mcc_metric: 0.5941 - precision: 0.7174 - true_negatives: 2729.0000 - true_positives: 1495.0000 - false_negatives: 432.0000 - false_positives: 589.0000 - val_loss: 0.4107 - val_binary_accuracy: 0.8210 - val_auc: 0.8920 - val_mcc_metric: 0.6052 - val_precision: 0.7570 - val_true_negatives: 550.0000 - val_true_positives: 271.0000 - val_false_negatives: 92.0000 - val_false_positives: 87.0000\n",
      "Epoch 9/60\n",
      "164/164 [==============================] - ETA: 0s - loss: 0.4397 - binary_accuracy: 0.7981 - auc: 0.8748 - mcc_metric: 0.5795 - precision: 0.7059 - true_negatives: 2698.0000 - true_positives: 1488.0000 - false_negatives: 439.0000 - false_positives: 620.0000\n",
      "Epoch 00009: val_auc did not improve from 0.89205\n",
      "164/164 [==============================] - 14s 83ms/step - loss: 0.4397 - binary_accuracy: 0.7981 - auc: 0.8748 - mcc_metric: 0.5795 - precision: 0.7059 - true_negatives: 2698.0000 - true_positives: 1488.0000 - false_negatives: 439.0000 - false_positives: 620.0000 - val_loss: 0.4416 - val_binary_accuracy: 0.7770 - val_auc: 0.8910 - val_mcc_metric: 0.5676 - val_precision: 0.6496 - val_true_negatives: 473.0000 - val_true_positives: 304.0000 - val_false_negatives: 59.0000 - val_false_positives: 164.0000\n",
      "Epoch 10/60\n",
      "164/164 [==============================] - ETA: 0s - loss: 0.4216 - binary_accuracy: 0.8112 - auc: 0.8841 - mcc_metric: 0.5975 - precision: 0.7286 - true_negatives: 2762.0000 - true_positives: 1493.0000 - false_negatives: 434.0000 - false_positives: 556.0000\n",
      "Epoch 00010: val_auc improved from 0.89205 to 0.90013, saving model to F:/bbb/model/nlp\\model_33.tf\n"
     ]
    },
    {
     "name": "stderr",
     "output_type": "stream",
     "text": [
      "WARNING:absl:Found untraced functions such as lstm_cell_1_layer_call_fn, lstm_cell_1_layer_call_and_return_conditional_losses, lstm_cell_2_layer_call_fn, lstm_cell_2_layer_call_and_return_conditional_losses, lstm_cell_4_layer_call_fn while saving (showing 5 of 30). These functions will not be directly callable after loading.\n"
     ]
    },
    {
     "name": "stdout",
     "output_type": "stream",
     "text": [
      "INFO:tensorflow:Assets written to: F:/bbb/model/nlp\\model_33.tf\\assets\n"
     ]
    },
    {
     "name": "stderr",
     "output_type": "stream",
     "text": [
      "INFO:tensorflow:Assets written to: F:/bbb/model/nlp\\model_33.tf\\assets\n",
      "WARNING:absl:<keras.layers.recurrent.LSTMCell object at 0x0000015743C3A2B0> has the same name 'LSTMCell' as a built-in Keras object. Consider renaming <class 'keras.layers.recurrent.LSTMCell'> to avoid naming conflicts when loading with `tf.keras.models.load_model`. If renaming is not possible, pass the object in the `custom_objects` parameter of the load function.\n",
      "WARNING:absl:<keras.layers.recurrent.LSTMCell object at 0x0000015743C3AC40> has the same name 'LSTMCell' as a built-in Keras object. Consider renaming <class 'keras.layers.recurrent.LSTMCell'> to avoid naming conflicts when loading with `tf.keras.models.load_model`. If renaming is not possible, pass the object in the `custom_objects` parameter of the load function.\n",
      "WARNING:absl:<keras.layers.recurrent.LSTMCell object at 0x0000015744077220> has the same name 'LSTMCell' as a built-in Keras object. Consider renaming <class 'keras.layers.recurrent.LSTMCell'> to avoid naming conflicts when loading with `tf.keras.models.load_model`. If renaming is not possible, pass the object in the `custom_objects` parameter of the load function.\n",
      "WARNING:absl:<keras.layers.recurrent.LSTMCell object at 0x0000015744096D00> has the same name 'LSTMCell' as a built-in Keras object. Consider renaming <class 'keras.layers.recurrent.LSTMCell'> to avoid naming conflicts when loading with `tf.keras.models.load_model`. If renaming is not possible, pass the object in the `custom_objects` parameter of the load function.\n",
      "WARNING:absl:<keras.layers.recurrent.LSTMCell object at 0x0000015743EF3EE0> has the same name 'LSTMCell' as a built-in Keras object. Consider renaming <class 'keras.layers.recurrent.LSTMCell'> to avoid naming conflicts when loading with `tf.keras.models.load_model`. If renaming is not possible, pass the object in the `custom_objects` parameter of the load function.\n",
      "WARNING:absl:<keras.layers.recurrent.LSTMCell object at 0x0000015743DBC100> has the same name 'LSTMCell' as a built-in Keras object. Consider renaming <class 'keras.layers.recurrent.LSTMCell'> to avoid naming conflicts when loading with `tf.keras.models.load_model`. If renaming is not possible, pass the object in the `custom_objects` parameter of the load function.\n"
     ]
    },
    {
     "name": "stdout",
     "output_type": "stream",
     "text": [
      "164/164 [==============================] - 38s 232ms/step - loss: 0.4216 - binary_accuracy: 0.8112 - auc: 0.8841 - mcc_metric: 0.5975 - precision: 0.7286 - true_negatives: 2762.0000 - true_positives: 1493.0000 - false_negatives: 434.0000 - false_positives: 556.0000 - val_loss: 0.3792 - val_binary_accuracy: 0.8290 - val_auc: 0.9001 - val_mcc_metric: 0.6307 - val_precision: 0.7553 - val_true_negatives: 545.0000 - val_true_positives: 284.0000 - val_false_negatives: 79.0000 - val_false_positives: 92.0000\n",
      "Epoch 11/60\n",
      "164/164 [==============================] - ETA: 0s - loss: 0.4151 - binary_accuracy: 0.8080 - auc: 0.8881 - mcc_metric: 0.5986 - precision: 0.7218 - true_negatives: 2741.0000 - true_positives: 1497.0000 - false_negatives: 430.0000 - false_positives: 577.0000\n",
      "Epoch 00011: val_auc did not improve from 0.90013\n",
      "164/164 [==============================] - 14s 84ms/step - loss: 0.4151 - binary_accuracy: 0.8080 - auc: 0.8881 - mcc_metric: 0.5986 - precision: 0.7218 - true_negatives: 2741.0000 - true_positives: 1497.0000 - false_negatives: 430.0000 - false_positives: 577.0000 - val_loss: 0.4077 - val_binary_accuracy: 0.8200 - val_auc: 0.8852 - val_mcc_metric: nan - val_precision: 0.7980 - val_true_negatives: 575.0000 - val_true_positives: 245.0000 - val_false_negatives: 118.0000 - val_false_positives: 62.0000\n",
      "Epoch 12/60\n",
      "164/164 [==============================] - ETA: 0s - loss: 0.4090 - binary_accuracy: 0.8173 - auc: 0.8917 - mcc_metric: 0.6069 - precision: 0.7400 - true_negatives: 2793.0000 - true_positives: 1494.0000 - false_negatives: 433.0000 - false_positives: 525.0000\n",
      "Epoch 00012: val_auc improved from 0.90013 to 0.90335, saving model to F:/bbb/model/nlp\\model_33.tf\n"
     ]
    },
    {
     "name": "stderr",
     "output_type": "stream",
     "text": [
      "WARNING:absl:Found untraced functions such as lstm_cell_1_layer_call_fn, lstm_cell_1_layer_call_and_return_conditional_losses, lstm_cell_2_layer_call_fn, lstm_cell_2_layer_call_and_return_conditional_losses, lstm_cell_4_layer_call_fn while saving (showing 5 of 30). These functions will not be directly callable after loading.\n"
     ]
    },
    {
     "name": "stdout",
     "output_type": "stream",
     "text": [
      "INFO:tensorflow:Assets written to: F:/bbb/model/nlp\\model_33.tf\\assets\n"
     ]
    },
    {
     "name": "stderr",
     "output_type": "stream",
     "text": [
      "INFO:tensorflow:Assets written to: F:/bbb/model/nlp\\model_33.tf\\assets\n",
      "WARNING:absl:<keras.layers.recurrent.LSTMCell object at 0x0000015743C3A2B0> has the same name 'LSTMCell' as a built-in Keras object. Consider renaming <class 'keras.layers.recurrent.LSTMCell'> to avoid naming conflicts when loading with `tf.keras.models.load_model`. If renaming is not possible, pass the object in the `custom_objects` parameter of the load function.\n",
      "WARNING:absl:<keras.layers.recurrent.LSTMCell object at 0x0000015743C3AC40> has the same name 'LSTMCell' as a built-in Keras object. Consider renaming <class 'keras.layers.recurrent.LSTMCell'> to avoid naming conflicts when loading with `tf.keras.models.load_model`. If renaming is not possible, pass the object in the `custom_objects` parameter of the load function.\n",
      "WARNING:absl:<keras.layers.recurrent.LSTMCell object at 0x0000015744077220> has the same name 'LSTMCell' as a built-in Keras object. Consider renaming <class 'keras.layers.recurrent.LSTMCell'> to avoid naming conflicts when loading with `tf.keras.models.load_model`. If renaming is not possible, pass the object in the `custom_objects` parameter of the load function.\n",
      "WARNING:absl:<keras.layers.recurrent.LSTMCell object at 0x0000015744096D00> has the same name 'LSTMCell' as a built-in Keras object. Consider renaming <class 'keras.layers.recurrent.LSTMCell'> to avoid naming conflicts when loading with `tf.keras.models.load_model`. If renaming is not possible, pass the object in the `custom_objects` parameter of the load function.\n",
      "WARNING:absl:<keras.layers.recurrent.LSTMCell object at 0x0000015743EF3EE0> has the same name 'LSTMCell' as a built-in Keras object. Consider renaming <class 'keras.layers.recurrent.LSTMCell'> to avoid naming conflicts when loading with `tf.keras.models.load_model`. If renaming is not possible, pass the object in the `custom_objects` parameter of the load function.\n",
      "WARNING:absl:<keras.layers.recurrent.LSTMCell object at 0x0000015743DBC100> has the same name 'LSTMCell' as a built-in Keras object. Consider renaming <class 'keras.layers.recurrent.LSTMCell'> to avoid naming conflicts when loading with `tf.keras.models.load_model`. If renaming is not possible, pass the object in the `custom_objects` parameter of the load function.\n"
     ]
    },
    {
     "name": "stdout",
     "output_type": "stream",
     "text": [
      "164/164 [==============================] - 38s 234ms/step - loss: 0.4090 - binary_accuracy: 0.8173 - auc: 0.8917 - mcc_metric: 0.6069 - precision: 0.7400 - true_negatives: 2793.0000 - true_positives: 1494.0000 - false_negatives: 433.0000 - false_positives: 525.0000 - val_loss: 0.4005 - val_binary_accuracy: 0.8200 - val_auc: 0.9034 - val_mcc_metric: 0.6367 - val_precision: 0.7153 - val_true_negatives: 516.0000 - val_true_positives: 304.0000 - val_false_negatives: 59.0000 - val_false_positives: 121.0000\n",
      "Epoch 13/60\n",
      "164/164 [==============================] - ETA: 0s - loss: 0.3975 - binary_accuracy: 0.8231 - auc: 0.8971 - mcc_metric: 0.6245 - precision: 0.7469 - true_negatives: 2806.0000 - true_positives: 1511.0000 - false_negatives: 416.0000 - false_positives: 512.0000\n",
      "Epoch 00013: val_auc did not improve from 0.90335\n",
      "164/164 [==============================] - 14s 84ms/step - loss: 0.3975 - binary_accuracy: 0.8231 - auc: 0.8971 - mcc_metric: 0.6245 - precision: 0.7469 - true_negatives: 2806.0000 - true_positives: 1511.0000 - false_negatives: 416.0000 - false_positives: 512.0000 - val_loss: 0.4440 - val_binary_accuracy: 0.7770 - val_auc: 0.8979 - val_mcc_metric: 0.5765 - val_precision: 0.6429 - val_true_negatives: 462.0000 - val_true_positives: 315.0000 - val_false_negatives: 48.0000 - val_false_positives: 175.0000\n",
      "Epoch 14/60\n",
      "164/164 [==============================] - ETA: 0s - loss: 0.3855 - binary_accuracy: 0.8212 - auc: 0.9027 - mcc_metric: 0.6277 - precision: 0.7369 - true_negatives: 2769.0000 - true_positives: 1538.0000 - false_negatives: 389.0000 - false_positives: 549.0000\n",
      "Epoch 00014: val_auc improved from 0.90335 to 0.91003, saving model to F:/bbb/model/nlp\\model_33.tf\n"
     ]
    },
    {
     "name": "stderr",
     "output_type": "stream",
     "text": [
      "WARNING:absl:Found untraced functions such as lstm_cell_1_layer_call_fn, lstm_cell_1_layer_call_and_return_conditional_losses, lstm_cell_2_layer_call_fn, lstm_cell_2_layer_call_and_return_conditional_losses, lstm_cell_4_layer_call_fn while saving (showing 5 of 30). These functions will not be directly callable after loading.\n"
     ]
    },
    {
     "name": "stdout",
     "output_type": "stream",
     "text": [
      "INFO:tensorflow:Assets written to: F:/bbb/model/nlp\\model_33.tf\\assets\n"
     ]
    },
    {
     "name": "stderr",
     "output_type": "stream",
     "text": [
      "INFO:tensorflow:Assets written to: F:/bbb/model/nlp\\model_33.tf\\assets\n",
      "WARNING:absl:<keras.layers.recurrent.LSTMCell object at 0x0000015743C3A2B0> has the same name 'LSTMCell' as a built-in Keras object. Consider renaming <class 'keras.layers.recurrent.LSTMCell'> to avoid naming conflicts when loading with `tf.keras.models.load_model`. If renaming is not possible, pass the object in the `custom_objects` parameter of the load function.\n",
      "WARNING:absl:<keras.layers.recurrent.LSTMCell object at 0x0000015743C3AC40> has the same name 'LSTMCell' as a built-in Keras object. Consider renaming <class 'keras.layers.recurrent.LSTMCell'> to avoid naming conflicts when loading with `tf.keras.models.load_model`. If renaming is not possible, pass the object in the `custom_objects` parameter of the load function.\n",
      "WARNING:absl:<keras.layers.recurrent.LSTMCell object at 0x0000015744077220> has the same name 'LSTMCell' as a built-in Keras object. Consider renaming <class 'keras.layers.recurrent.LSTMCell'> to avoid naming conflicts when loading with `tf.keras.models.load_model`. If renaming is not possible, pass the object in the `custom_objects` parameter of the load function.\n",
      "WARNING:absl:<keras.layers.recurrent.LSTMCell object at 0x0000015744096D00> has the same name 'LSTMCell' as a built-in Keras object. Consider renaming <class 'keras.layers.recurrent.LSTMCell'> to avoid naming conflicts when loading with `tf.keras.models.load_model`. If renaming is not possible, pass the object in the `custom_objects` parameter of the load function.\n",
      "WARNING:absl:<keras.layers.recurrent.LSTMCell object at 0x0000015743EF3EE0> has the same name 'LSTMCell' as a built-in Keras object. Consider renaming <class 'keras.layers.recurrent.LSTMCell'> to avoid naming conflicts when loading with `tf.keras.models.load_model`. If renaming is not possible, pass the object in the `custom_objects` parameter of the load function.\n",
      "WARNING:absl:<keras.layers.recurrent.LSTMCell object at 0x0000015743DBC100> has the same name 'LSTMCell' as a built-in Keras object. Consider renaming <class 'keras.layers.recurrent.LSTMCell'> to avoid naming conflicts when loading with `tf.keras.models.load_model`. If renaming is not possible, pass the object in the `custom_objects` parameter of the load function.\n"
     ]
    },
    {
     "name": "stdout",
     "output_type": "stream",
     "text": [
      "164/164 [==============================] - 38s 230ms/step - loss: 0.3855 - binary_accuracy: 0.8212 - auc: 0.9027 - mcc_metric: 0.6277 - precision: 0.7369 - true_negatives: 2769.0000 - true_positives: 1538.0000 - false_negatives: 389.0000 - false_positives: 549.0000 - val_loss: 0.3693 - val_binary_accuracy: 0.8290 - val_auc: 0.9100 - val_mcc_metric: 0.6506 - val_precision: 0.7308 - val_true_negatives: 525.0000 - val_true_positives: 304.0000 - val_false_negatives: 59.0000 - val_false_positives: 112.0000\n",
      "Epoch 15/60\n",
      "164/164 [==============================] - ETA: 0s - loss: 0.3813 - binary_accuracy: 0.8236 - auc: 0.9068 - mcc_metric: 0.6312 - precision: 0.7343 - true_negatives: 2750.0000 - true_positives: 1570.0000 - false_negatives: 357.0000 - false_positives: 568.0000\n",
      "Epoch 00015: val_auc did not improve from 0.91003\n",
      "164/164 [==============================] - 14s 83ms/step - loss: 0.3813 - binary_accuracy: 0.8236 - auc: 0.9068 - mcc_metric: 0.6312 - precision: 0.7343 - true_negatives: 2750.0000 - true_positives: 1570.0000 - false_negatives: 357.0000 - false_positives: 568.0000 - val_loss: 0.3771 - val_binary_accuracy: 0.8160 - val_auc: 0.9087 - val_mcc_metric: 0.6093 - val_precision: 0.7266 - val_true_negatives: 529.0000 - val_true_positives: 287.0000 - val_false_negatives: 76.0000 - val_false_positives: 108.0000\n",
      "Epoch 16/60\n",
      "164/164 [==============================] - ETA: 0s - loss: 0.3785 - binary_accuracy: 0.8242 - auc: 0.9076 - mcc_metric: 0.6313 - precision: 0.7362 - true_negatives: 2757.0000 - true_positives: 1566.0000 - false_negatives: 361.0000 - false_positives: 561.0000\n",
      "Epoch 00016: val_auc did not improve from 0.91003\n",
      "164/164 [==============================] - 14s 84ms/step - loss: 0.3785 - binary_accuracy: 0.8242 - auc: 0.9076 - mcc_metric: 0.6313 - precision: 0.7362 - true_negatives: 2757.0000 - true_positives: 1566.0000 - false_negatives: 361.0000 - false_positives: 561.0000 - val_loss: 0.4064 - val_binary_accuracy: 0.8030 - val_auc: 0.9040 - val_mcc_metric: 0.6127 - val_precision: 0.6878 - val_true_negatives: 499.0000 - val_true_positives: 304.0000 - val_false_negatives: 59.0000 - val_false_positives: 138.0000\n",
      "Epoch 17/60\n",
      "164/164 [==============================] - ETA: 0s - loss: 0.3594 - binary_accuracy: 0.8305 - auc: 0.9173 - mcc_metric: 0.6476 - precision: 0.7418 - true_negatives: 2764.0000 - true_positives: 1592.0000 - false_negatives: 335.0000 - false_positives: 554.0000\n",
      "Epoch 00017: val_auc improved from 0.91003 to 0.91690, saving model to F:/bbb/model/nlp\\model_33.tf\n"
     ]
    },
    {
     "name": "stderr",
     "output_type": "stream",
     "text": [
      "WARNING:absl:Found untraced functions such as lstm_cell_1_layer_call_fn, lstm_cell_1_layer_call_and_return_conditional_losses, lstm_cell_2_layer_call_fn, lstm_cell_2_layer_call_and_return_conditional_losses, lstm_cell_4_layer_call_fn while saving (showing 5 of 30). These functions will not be directly callable after loading.\n"
     ]
    },
    {
     "name": "stdout",
     "output_type": "stream",
     "text": [
      "INFO:tensorflow:Assets written to: F:/bbb/model/nlp\\model_33.tf\\assets\n"
     ]
    },
    {
     "name": "stderr",
     "output_type": "stream",
     "text": [
      "INFO:tensorflow:Assets written to: F:/bbb/model/nlp\\model_33.tf\\assets\n",
      "WARNING:absl:<keras.layers.recurrent.LSTMCell object at 0x0000015743C3A2B0> has the same name 'LSTMCell' as a built-in Keras object. Consider renaming <class 'keras.layers.recurrent.LSTMCell'> to avoid naming conflicts when loading with `tf.keras.models.load_model`. If renaming is not possible, pass the object in the `custom_objects` parameter of the load function.\n",
      "WARNING:absl:<keras.layers.recurrent.LSTMCell object at 0x0000015743C3AC40> has the same name 'LSTMCell' as a built-in Keras object. Consider renaming <class 'keras.layers.recurrent.LSTMCell'> to avoid naming conflicts when loading with `tf.keras.models.load_model`. If renaming is not possible, pass the object in the `custom_objects` parameter of the load function.\n",
      "WARNING:absl:<keras.layers.recurrent.LSTMCell object at 0x0000015744077220> has the same name 'LSTMCell' as a built-in Keras object. Consider renaming <class 'keras.layers.recurrent.LSTMCell'> to avoid naming conflicts when loading with `tf.keras.models.load_model`. If renaming is not possible, pass the object in the `custom_objects` parameter of the load function.\n",
      "WARNING:absl:<keras.layers.recurrent.LSTMCell object at 0x0000015744096D00> has the same name 'LSTMCell' as a built-in Keras object. Consider renaming <class 'keras.layers.recurrent.LSTMCell'> to avoid naming conflicts when loading with `tf.keras.models.load_model`. If renaming is not possible, pass the object in the `custom_objects` parameter of the load function.\n",
      "WARNING:absl:<keras.layers.recurrent.LSTMCell object at 0x0000015743EF3EE0> has the same name 'LSTMCell' as a built-in Keras object. Consider renaming <class 'keras.layers.recurrent.LSTMCell'> to avoid naming conflicts when loading with `tf.keras.models.load_model`. If renaming is not possible, pass the object in the `custom_objects` parameter of the load function.\n",
      "WARNING:absl:<keras.layers.recurrent.LSTMCell object at 0x0000015743DBC100> has the same name 'LSTMCell' as a built-in Keras object. Consider renaming <class 'keras.layers.recurrent.LSTMCell'> to avoid naming conflicts when loading with `tf.keras.models.load_model`. If renaming is not possible, pass the object in the `custom_objects` parameter of the load function.\n"
     ]
    },
    {
     "name": "stdout",
     "output_type": "stream",
     "text": [
      "164/164 [==============================] - 38s 233ms/step - loss: 0.3594 - binary_accuracy: 0.8305 - auc: 0.9173 - mcc_metric: 0.6476 - precision: 0.7418 - true_negatives: 2764.0000 - true_positives: 1592.0000 - false_negatives: 335.0000 - false_positives: 554.0000 - val_loss: 0.3590 - val_binary_accuracy: 0.8320 - val_auc: 0.9169 - val_mcc_metric: 0.6537 - val_precision: 0.7444 - val_true_negatives: 535.0000 - val_true_positives: 297.0000 - val_false_negatives: 66.0000 - val_false_positives: 102.0000\n",
      "Epoch 18/60\n",
      "164/164 [==============================] - ETA: 0s - loss: 0.3636 - binary_accuracy: 0.8357 - auc: 0.9157 - mcc_metric: 0.6578 - precision: 0.7523 - true_negatives: 2795.0000 - true_positives: 1588.0000 - false_negatives: 339.0000 - false_positives: 523.0000\n",
      "Epoch 00018: val_auc did not improve from 0.91690\n",
      "164/164 [==============================] - 14s 84ms/step - loss: 0.3636 - binary_accuracy: 0.8357 - auc: 0.9157 - mcc_metric: 0.6578 - precision: 0.7523 - true_negatives: 2795.0000 - true_positives: 1588.0000 - false_negatives: 339.0000 - false_positives: 523.0000 - val_loss: 0.3599 - val_binary_accuracy: 0.8220 - val_auc: 0.9093 - val_mcc_metric: 0.6112 - val_precision: 0.7454 - val_true_negatives: 541.0000 - val_true_positives: 281.0000 - val_false_negatives: 82.0000 - val_false_positives: 96.0000\n",
      "Epoch 19/60\n",
      "164/164 [==============================] - ETA: 0s - loss: 0.3520 - binary_accuracy: 0.8309 - auc: 0.9210 - mcc_metric: 0.6531 - precision: 0.7349 - true_negatives: 2731.0000 - true_positives: 1627.0000 - false_negatives: 300.0000 - false_positives: 587.0000\n",
      "Epoch 00019: val_auc improved from 0.91690 to 0.92026, saving model to F:/bbb/model/nlp\\model_33.tf\n"
     ]
    },
    {
     "name": "stderr",
     "output_type": "stream",
     "text": [
      "WARNING:absl:Found untraced functions such as lstm_cell_1_layer_call_fn, lstm_cell_1_layer_call_and_return_conditional_losses, lstm_cell_2_layer_call_fn, lstm_cell_2_layer_call_and_return_conditional_losses, lstm_cell_4_layer_call_fn while saving (showing 5 of 30). These functions will not be directly callable after loading.\n"
     ]
    },
    {
     "name": "stdout",
     "output_type": "stream",
     "text": [
      "INFO:tensorflow:Assets written to: F:/bbb/model/nlp\\model_33.tf\\assets\n"
     ]
    },
    {
     "name": "stderr",
     "output_type": "stream",
     "text": [
      "INFO:tensorflow:Assets written to: F:/bbb/model/nlp\\model_33.tf\\assets\n",
      "WARNING:absl:<keras.layers.recurrent.LSTMCell object at 0x0000015743C3A2B0> has the same name 'LSTMCell' as a built-in Keras object. Consider renaming <class 'keras.layers.recurrent.LSTMCell'> to avoid naming conflicts when loading with `tf.keras.models.load_model`. If renaming is not possible, pass the object in the `custom_objects` parameter of the load function.\n",
      "WARNING:absl:<keras.layers.recurrent.LSTMCell object at 0x0000015743C3AC40> has the same name 'LSTMCell' as a built-in Keras object. Consider renaming <class 'keras.layers.recurrent.LSTMCell'> to avoid naming conflicts when loading with `tf.keras.models.load_model`. If renaming is not possible, pass the object in the `custom_objects` parameter of the load function.\n",
      "WARNING:absl:<keras.layers.recurrent.LSTMCell object at 0x0000015744077220> has the same name 'LSTMCell' as a built-in Keras object. Consider renaming <class 'keras.layers.recurrent.LSTMCell'> to avoid naming conflicts when loading with `tf.keras.models.load_model`. If renaming is not possible, pass the object in the `custom_objects` parameter of the load function.\n",
      "WARNING:absl:<keras.layers.recurrent.LSTMCell object at 0x0000015744096D00> has the same name 'LSTMCell' as a built-in Keras object. Consider renaming <class 'keras.layers.recurrent.LSTMCell'> to avoid naming conflicts when loading with `tf.keras.models.load_model`. If renaming is not possible, pass the object in the `custom_objects` parameter of the load function.\n",
      "WARNING:absl:<keras.layers.recurrent.LSTMCell object at 0x0000015743EF3EE0> has the same name 'LSTMCell' as a built-in Keras object. Consider renaming <class 'keras.layers.recurrent.LSTMCell'> to avoid naming conflicts when loading with `tf.keras.models.load_model`. If renaming is not possible, pass the object in the `custom_objects` parameter of the load function.\n",
      "WARNING:absl:<keras.layers.recurrent.LSTMCell object at 0x0000015743DBC100> has the same name 'LSTMCell' as a built-in Keras object. Consider renaming <class 'keras.layers.recurrent.LSTMCell'> to avoid naming conflicts when loading with `tf.keras.models.load_model`. If renaming is not possible, pass the object in the `custom_objects` parameter of the load function.\n"
     ]
    },
    {
     "name": "stdout",
     "output_type": "stream",
     "text": [
      "164/164 [==============================] - 38s 234ms/step - loss: 0.3520 - binary_accuracy: 0.8309 - auc: 0.9210 - mcc_metric: 0.6531 - precision: 0.7349 - true_negatives: 2731.0000 - true_positives: 1627.0000 - false_negatives: 300.0000 - false_positives: 587.0000 - val_loss: 0.3502 - val_binary_accuracy: 0.8320 - val_auc: 0.9203 - val_mcc_metric: 0.6443 - val_precision: 0.7506 - val_true_negatives: 540.0000 - val_true_positives: 292.0000 - val_false_negatives: 71.0000 - val_false_positives: 97.0000\n",
      "Epoch 20/60\n",
      "164/164 [==============================] - ETA: 0s - loss: 0.3200 - binary_accuracy: 0.8538 - auc: 0.9357 - mcc_metric: 0.6920 - precision: 0.7728 - true_negatives: 2835.0000 - true_positives: 1643.0000 - false_negatives: 284.0000 - false_positives: 483.0000\n",
      "Epoch 00020: val_auc did not improve from 0.92026\n",
      "164/164 [==============================] - 14s 84ms/step - loss: 0.3200 - binary_accuracy: 0.8538 - auc: 0.9357 - mcc_metric: 0.6920 - precision: 0.7728 - true_negatives: 2835.0000 - true_positives: 1643.0000 - false_negatives: 284.0000 - false_positives: 483.0000 - val_loss: 0.3600 - val_binary_accuracy: 0.8370 - val_auc: 0.9192 - val_mcc_metric: 0.6620 - val_precision: 0.7451 - val_true_negatives: 533.0000 - val_true_positives: 304.0000 - val_false_negatives: 59.0000 - val_false_positives: 104.0000\n",
      "Epoch 21/60\n",
      "164/164 [==============================] - ETA: 0s - loss: 0.3199 - binary_accuracy: 0.8557 - auc: 0.9363 - mcc_metric: 0.6976 - precision: 0.7788 - true_negatives: 2854.0000 - true_positives: 1634.0000 - false_negatives: 293.0000 - false_positives: 464.0000\n",
      "Epoch 00021: val_auc improved from 0.92026 to 0.92511, saving model to F:/bbb/model/nlp\\model_33.tf\n"
     ]
    },
    {
     "name": "stderr",
     "output_type": "stream",
     "text": [
      "WARNING:absl:Found untraced functions such as lstm_cell_1_layer_call_fn, lstm_cell_1_layer_call_and_return_conditional_losses, lstm_cell_2_layer_call_fn, lstm_cell_2_layer_call_and_return_conditional_losses, lstm_cell_4_layer_call_fn while saving (showing 5 of 30). These functions will not be directly callable after loading.\n"
     ]
    },
    {
     "name": "stdout",
     "output_type": "stream",
     "text": [
      "INFO:tensorflow:Assets written to: F:/bbb/model/nlp\\model_33.tf\\assets\n"
     ]
    },
    {
     "name": "stderr",
     "output_type": "stream",
     "text": [
      "INFO:tensorflow:Assets written to: F:/bbb/model/nlp\\model_33.tf\\assets\n",
      "WARNING:absl:<keras.layers.recurrent.LSTMCell object at 0x0000015743C3A2B0> has the same name 'LSTMCell' as a built-in Keras object. Consider renaming <class 'keras.layers.recurrent.LSTMCell'> to avoid naming conflicts when loading with `tf.keras.models.load_model`. If renaming is not possible, pass the object in the `custom_objects` parameter of the load function.\n",
      "WARNING:absl:<keras.layers.recurrent.LSTMCell object at 0x0000015743C3AC40> has the same name 'LSTMCell' as a built-in Keras object. Consider renaming <class 'keras.layers.recurrent.LSTMCell'> to avoid naming conflicts when loading with `tf.keras.models.load_model`. If renaming is not possible, pass the object in the `custom_objects` parameter of the load function.\n",
      "WARNING:absl:<keras.layers.recurrent.LSTMCell object at 0x0000015744077220> has the same name 'LSTMCell' as a built-in Keras object. Consider renaming <class 'keras.layers.recurrent.LSTMCell'> to avoid naming conflicts when loading with `tf.keras.models.load_model`. If renaming is not possible, pass the object in the `custom_objects` parameter of the load function.\n",
      "WARNING:absl:<keras.layers.recurrent.LSTMCell object at 0x0000015744096D00> has the same name 'LSTMCell' as a built-in Keras object. Consider renaming <class 'keras.layers.recurrent.LSTMCell'> to avoid naming conflicts when loading with `tf.keras.models.load_model`. If renaming is not possible, pass the object in the `custom_objects` parameter of the load function.\n",
      "WARNING:absl:<keras.layers.recurrent.LSTMCell object at 0x0000015743EF3EE0> has the same name 'LSTMCell' as a built-in Keras object. Consider renaming <class 'keras.layers.recurrent.LSTMCell'> to avoid naming conflicts when loading with `tf.keras.models.load_model`. If renaming is not possible, pass the object in the `custom_objects` parameter of the load function.\n",
      "WARNING:absl:<keras.layers.recurrent.LSTMCell object at 0x0000015743DBC100> has the same name 'LSTMCell' as a built-in Keras object. Consider renaming <class 'keras.layers.recurrent.LSTMCell'> to avoid naming conflicts when loading with `tf.keras.models.load_model`. If renaming is not possible, pass the object in the `custom_objects` parameter of the load function.\n"
     ]
    },
    {
     "name": "stdout",
     "output_type": "stream",
     "text": [
      "164/164 [==============================] - 38s 231ms/step - loss: 0.3199 - binary_accuracy: 0.8557 - auc: 0.9363 - mcc_metric: 0.6976 - precision: 0.7788 - true_negatives: 2854.0000 - true_positives: 1634.0000 - false_negatives: 293.0000 - false_positives: 464.0000 - val_loss: 0.3434 - val_binary_accuracy: 0.8510 - val_auc: 0.9251 - val_mcc_metric: 0.6805 - val_precision: 0.7801 - val_true_negatives: 553.0000 - val_true_positives: 298.0000 - val_false_negatives: 65.0000 - val_false_positives: 84.0000\n",
      "Epoch 22/60\n",
      "164/164 [==============================] - ETA: 0s - loss: 0.3056 - binary_accuracy: 0.8660 - auc: 0.9421 - mcc_metric: 0.7174 - precision: 0.7914 - true_negatives: 2880.0000 - true_positives: 1662.0000 - false_negatives: 265.0000 - false_positives: 438.0000\n",
      "Epoch 00022: val_auc improved from 0.92511 to 0.92783, saving model to F:/bbb/model/nlp\\model_33.tf\n"
     ]
    },
    {
     "name": "stderr",
     "output_type": "stream",
     "text": [
      "WARNING:absl:Found untraced functions such as lstm_cell_1_layer_call_fn, lstm_cell_1_layer_call_and_return_conditional_losses, lstm_cell_2_layer_call_fn, lstm_cell_2_layer_call_and_return_conditional_losses, lstm_cell_4_layer_call_fn while saving (showing 5 of 30). These functions will not be directly callable after loading.\n"
     ]
    },
    {
     "name": "stdout",
     "output_type": "stream",
     "text": [
      "INFO:tensorflow:Assets written to: F:/bbb/model/nlp\\model_33.tf\\assets\n"
     ]
    },
    {
     "name": "stderr",
     "output_type": "stream",
     "text": [
      "INFO:tensorflow:Assets written to: F:/bbb/model/nlp\\model_33.tf\\assets\n",
      "WARNING:absl:<keras.layers.recurrent.LSTMCell object at 0x0000015743C3A2B0> has the same name 'LSTMCell' as a built-in Keras object. Consider renaming <class 'keras.layers.recurrent.LSTMCell'> to avoid naming conflicts when loading with `tf.keras.models.load_model`. If renaming is not possible, pass the object in the `custom_objects` parameter of the load function.\n",
      "WARNING:absl:<keras.layers.recurrent.LSTMCell object at 0x0000015743C3AC40> has the same name 'LSTMCell' as a built-in Keras object. Consider renaming <class 'keras.layers.recurrent.LSTMCell'> to avoid naming conflicts when loading with `tf.keras.models.load_model`. If renaming is not possible, pass the object in the `custom_objects` parameter of the load function.\n",
      "WARNING:absl:<keras.layers.recurrent.LSTMCell object at 0x0000015744077220> has the same name 'LSTMCell' as a built-in Keras object. Consider renaming <class 'keras.layers.recurrent.LSTMCell'> to avoid naming conflicts when loading with `tf.keras.models.load_model`. If renaming is not possible, pass the object in the `custom_objects` parameter of the load function.\n",
      "WARNING:absl:<keras.layers.recurrent.LSTMCell object at 0x0000015744096D00> has the same name 'LSTMCell' as a built-in Keras object. Consider renaming <class 'keras.layers.recurrent.LSTMCell'> to avoid naming conflicts when loading with `tf.keras.models.load_model`. If renaming is not possible, pass the object in the `custom_objects` parameter of the load function.\n",
      "WARNING:absl:<keras.layers.recurrent.LSTMCell object at 0x0000015743EF3EE0> has the same name 'LSTMCell' as a built-in Keras object. Consider renaming <class 'keras.layers.recurrent.LSTMCell'> to avoid naming conflicts when loading with `tf.keras.models.load_model`. If renaming is not possible, pass the object in the `custom_objects` parameter of the load function.\n",
      "WARNING:absl:<keras.layers.recurrent.LSTMCell object at 0x0000015743DBC100> has the same name 'LSTMCell' as a built-in Keras object. Consider renaming <class 'keras.layers.recurrent.LSTMCell'> to avoid naming conflicts when loading with `tf.keras.models.load_model`. If renaming is not possible, pass the object in the `custom_objects` parameter of the load function.\n"
     ]
    },
    {
     "name": "stdout",
     "output_type": "stream",
     "text": [
      "164/164 [==============================] - 37s 227ms/step - loss: 0.3056 - binary_accuracy: 0.8660 - auc: 0.9421 - mcc_metric: 0.7174 - precision: 0.7914 - true_negatives: 2880.0000 - true_positives: 1662.0000 - false_negatives: 265.0000 - false_positives: 438.0000 - val_loss: 0.3308 - val_binary_accuracy: 0.8480 - val_auc: 0.9278 - val_mcc_metric: 0.6823 - val_precision: 0.7740 - val_true_negatives: 550.0000 - val_true_positives: 298.0000 - val_false_negatives: 65.0000 - val_false_positives: 87.0000\n",
      "Epoch 23/60\n",
      "164/164 [==============================] - ETA: 0s - loss: 0.2966 - binary_accuracy: 0.8633 - auc: 0.9451 - mcc_metric: 0.7159 - precision: 0.7843 - true_negatives: 2859.0000 - true_positives: 1669.0000 - false_negatives: 258.0000 - false_positives: 459.0000\n",
      "Epoch 00023: val_auc did not improve from 0.92783\n",
      "164/164 [==============================] - 14s 84ms/step - loss: 0.2966 - binary_accuracy: 0.8633 - auc: 0.9451 - mcc_metric: 0.7159 - precision: 0.7843 - true_negatives: 2859.0000 - true_positives: 1669.0000 - false_negatives: 258.0000 - false_positives: 459.0000 - val_loss: 0.4117 - val_binary_accuracy: 0.8370 - val_auc: 0.9194 - val_mcc_metric: 0.6649 - val_precision: 0.7439 - val_true_negatives: 532.0000 - val_true_positives: 305.0000 - val_false_negatives: 58.0000 - val_false_positives: 105.0000\n",
      "Epoch 24/60\n",
      "164/164 [==============================] - ETA: 0s - loss: 0.2748 - binary_accuracy: 0.8721 - auc: 0.9530 - mcc_metric: 0.7329 - precision: 0.7932 - true_negatives: 2875.0000 - true_positives: 1699.0000 - false_negatives: 228.0000 - false_positives: 443.0000\n",
      "Epoch 00024: val_auc did not improve from 0.92783\n",
      "164/164 [==============================] - 14s 85ms/step - loss: 0.2748 - binary_accuracy: 0.8721 - auc: 0.9530 - mcc_metric: 0.7329 - precision: 0.7932 - true_negatives: 2875.0000 - true_positives: 1699.0000 - false_negatives: 228.0000 - false_positives: 443.0000 - val_loss: 0.3496 - val_binary_accuracy: 0.8490 - val_auc: 0.9191 - val_mcc_metric: 0.6687 - val_precision: 0.7912 - val_true_negatives: 561.0000 - val_true_positives: 288.0000 - val_false_negatives: 75.0000 - val_false_positives: 76.0000\n",
      "Epoch 25/60\n",
      "164/164 [==============================] - ETA: 0s - loss: 0.3204 - binary_accuracy: 0.8568 - auc: 0.9360 - mcc_metric: 0.7008 - precision: 0.7795 - true_negatives: 2854.0000 - true_positives: 1640.0000 - false_negatives: 287.0000 - false_positives: 464.0000\n",
      "Epoch 00025: val_auc did not improve from 0.92783\n",
      "164/164 [==============================] - 14s 85ms/step - loss: 0.3204 - binary_accuracy: 0.8568 - auc: 0.9360 - mcc_metric: 0.7008 - precision: 0.7795 - true_negatives: 2854.0000 - true_positives: 1640.0000 - false_negatives: 287.0000 - false_positives: 464.0000 - val_loss: 0.3401 - val_binary_accuracy: 0.8520 - val_auc: 0.9220 - val_mcc_metric: 0.6816 - val_precision: 0.8152 - val_true_negatives: 574.0000 - val_true_positives: 278.0000 - val_false_negatives: 85.0000 - val_false_positives: 63.0000\n",
      "Epoch 26/60\n",
      "164/164 [==============================] - ETA: 0s - loss: 0.2735 - binary_accuracy: 0.8814 - auc: 0.9535 - mcc_metric: 0.7530 - precision: 0.8129 - true_negatives: 2928.0000 - true_positives: 1695.0000 - false_negatives: 232.0000 - false_positives: 390.0000\n",
      "Epoch 00026: val_auc did not improve from 0.92783\n",
      "164/164 [==============================] - 14s 85ms/step - loss: 0.2735 - binary_accuracy: 0.8814 - auc: 0.9535 - mcc_metric: 0.7530 - precision: 0.8129 - true_negatives: 2928.0000 - true_positives: 1695.0000 - false_negatives: 232.0000 - false_positives: 390.0000 - val_loss: 0.3440 - val_binary_accuracy: 0.8430 - val_auc: 0.9261 - val_mcc_metric: 0.6706 - val_precision: 0.7614 - val_true_negatives: 543.0000 - val_true_positives: 300.0000 - val_false_negatives: 63.0000 - val_false_positives: 94.0000\n",
      "Epoch 27/60\n",
      "164/164 [==============================] - ETA: 0s - loss: 0.2543 - binary_accuracy: 0.8864 - auc: 0.9600 - mcc_metric: 0.7628 - precision: 0.8204 - true_negatives: 2945.0000 - true_positives: 1704.0000 - false_negatives: 223.0000 - false_positives: 373.0000\n",
      "Epoch 00027: val_auc improved from 0.92783 to 0.93589, saving model to F:/bbb/model/nlp\\model_33.tf\n"
     ]
    },
    {
     "name": "stderr",
     "output_type": "stream",
     "text": [
      "WARNING:absl:Found untraced functions such as lstm_cell_1_layer_call_fn, lstm_cell_1_layer_call_and_return_conditional_losses, lstm_cell_2_layer_call_fn, lstm_cell_2_layer_call_and_return_conditional_losses, lstm_cell_4_layer_call_fn while saving (showing 5 of 30). These functions will not be directly callable after loading.\n"
     ]
    },
    {
     "name": "stdout",
     "output_type": "stream",
     "text": [
      "INFO:tensorflow:Assets written to: F:/bbb/model/nlp\\model_33.tf\\assets\n"
     ]
    },
    {
     "name": "stderr",
     "output_type": "stream",
     "text": [
      "INFO:tensorflow:Assets written to: F:/bbb/model/nlp\\model_33.tf\\assets\n",
      "WARNING:absl:<keras.layers.recurrent.LSTMCell object at 0x0000015743C3A2B0> has the same name 'LSTMCell' as a built-in Keras object. Consider renaming <class 'keras.layers.recurrent.LSTMCell'> to avoid naming conflicts when loading with `tf.keras.models.load_model`. If renaming is not possible, pass the object in the `custom_objects` parameter of the load function.\n",
      "WARNING:absl:<keras.layers.recurrent.LSTMCell object at 0x0000015743C3AC40> has the same name 'LSTMCell' as a built-in Keras object. Consider renaming <class 'keras.layers.recurrent.LSTMCell'> to avoid naming conflicts when loading with `tf.keras.models.load_model`. If renaming is not possible, pass the object in the `custom_objects` parameter of the load function.\n",
      "WARNING:absl:<keras.layers.recurrent.LSTMCell object at 0x0000015744077220> has the same name 'LSTMCell' as a built-in Keras object. Consider renaming <class 'keras.layers.recurrent.LSTMCell'> to avoid naming conflicts when loading with `tf.keras.models.load_model`. If renaming is not possible, pass the object in the `custom_objects` parameter of the load function.\n",
      "WARNING:absl:<keras.layers.recurrent.LSTMCell object at 0x0000015744096D00> has the same name 'LSTMCell' as a built-in Keras object. Consider renaming <class 'keras.layers.recurrent.LSTMCell'> to avoid naming conflicts when loading with `tf.keras.models.load_model`. If renaming is not possible, pass the object in the `custom_objects` parameter of the load function.\n",
      "WARNING:absl:<keras.layers.recurrent.LSTMCell object at 0x0000015743EF3EE0> has the same name 'LSTMCell' as a built-in Keras object. Consider renaming <class 'keras.layers.recurrent.LSTMCell'> to avoid naming conflicts when loading with `tf.keras.models.load_model`. If renaming is not possible, pass the object in the `custom_objects` parameter of the load function.\n",
      "WARNING:absl:<keras.layers.recurrent.LSTMCell object at 0x0000015743DBC100> has the same name 'LSTMCell' as a built-in Keras object. Consider renaming <class 'keras.layers.recurrent.LSTMCell'> to avoid naming conflicts when loading with `tf.keras.models.load_model`. If renaming is not possible, pass the object in the `custom_objects` parameter of the load function.\n"
     ]
    },
    {
     "name": "stdout",
     "output_type": "stream",
     "text": [
      "164/164 [==============================] - 38s 235ms/step - loss: 0.2543 - binary_accuracy: 0.8864 - auc: 0.9600 - mcc_metric: 0.7628 - precision: 0.8204 - true_negatives: 2945.0000 - true_positives: 1704.0000 - false_negatives: 223.0000 - false_positives: 373.0000 - val_loss: 0.3581 - val_binary_accuracy: 0.8430 - val_auc: 0.9359 - val_mcc_metric: 0.6884 - val_precision: 0.7309 - val_true_negatives: 517.0000 - val_true_positives: 326.0000 - val_false_negatives: 37.0000 - val_false_positives: 120.0000\n",
      "Epoch 28/60\n",
      "164/164 [==============================] - ETA: 0s - loss: 0.2616 - binary_accuracy: 0.8803 - auc: 0.9578 - mcc_metric: 0.7516 - precision: 0.8051 - true_negatives: 2903.0000 - true_positives: 1714.0000 - false_negatives: 213.0000 - false_positives: 415.0000\n",
      "Epoch 00028: val_auc did not improve from 0.93589\n",
      "164/164 [==============================] - 14s 85ms/step - loss: 0.2616 - binary_accuracy: 0.8803 - auc: 0.9578 - mcc_metric: 0.7516 - precision: 0.8051 - true_negatives: 2903.0000 - true_positives: 1714.0000 - false_negatives: 213.0000 - false_positives: 415.0000 - val_loss: 0.3290 - val_binary_accuracy: 0.8500 - val_auc: 0.9324 - val_mcc_metric: 0.6823 - val_precision: 0.7696 - val_true_negatives: 546.0000 - val_true_positives: 304.0000 - val_false_negatives: 59.0000 - val_false_positives: 91.0000\n",
      "Epoch 29/60\n",
      "164/164 [==============================] - ETA: 0s - loss: 0.2474 - binary_accuracy: 0.8850 - auc: 0.9621 - mcc_metric: 0.7616 - precision: 0.8111 - true_negatives: 2916.0000 - true_positives: 1726.0000 - false_negatives: 201.0000 - false_positives: 402.0000\n",
      "Epoch 00029: val_auc did not improve from 0.93589\n",
      "164/164 [==============================] - 14s 86ms/step - loss: 0.2474 - binary_accuracy: 0.8850 - auc: 0.9621 - mcc_metric: 0.7616 - precision: 0.8111 - true_negatives: 2916.0000 - true_positives: 1726.0000 - false_negatives: 201.0000 - false_positives: 402.0000 - val_loss: 0.3370 - val_binary_accuracy: 0.8470 - val_auc: 0.9270 - val_mcc_metric: 0.6787 - val_precision: 0.7665 - val_true_negatives: 545.0000 - val_true_positives: 302.0000 - val_false_negatives: 61.0000 - val_false_positives: 92.0000\n",
      "Epoch 30/60\n",
      "164/164 [==============================] - ETA: 0s - loss: 0.2216 - binary_accuracy: 0.8999 - auc: 0.9697 - mcc_metric: 0.7924 - precision: 0.8222 - true_negatives: 2931.0000 - true_positives: 1789.0000 - false_negatives: 138.0000 - false_positives: 387.0000\n",
      "Epoch 00030: val_auc did not improve from 0.93589\n",
      "164/164 [==============================] - 14s 87ms/step - loss: 0.2216 - binary_accuracy: 0.8999 - auc: 0.9697 - mcc_metric: 0.7924 - precision: 0.8222 - true_negatives: 2931.0000 - true_positives: 1789.0000 - false_negatives: 138.0000 - false_positives: 387.0000 - val_loss: 0.3631 - val_binary_accuracy: 0.8520 - val_auc: 0.9303 - val_mcc_metric: 0.7013 - val_precision: 0.7590 - val_true_negatives: 537.0000 - val_true_positives: 315.0000 - val_false_negatives: 48.0000 - val_false_positives: 100.0000\n",
      "Epoch 31/60\n",
      "164/164 [==============================] - ETA: 0s - loss: 0.2143 - binary_accuracy: 0.8984 - auc: 0.9716 - mcc_metric: 0.7879 - precision: 0.8269 - true_negatives: 2949.0000 - true_positives: 1763.0000 - false_negatives: 164.0000 - false_positives: 369.0000\n",
      "Epoch 00031: val_auc did not improve from 0.93589\n",
      "164/164 [==============================] - 14s 87ms/step - loss: 0.2143 - binary_accuracy: 0.8984 - auc: 0.9716 - mcc_metric: 0.7879 - precision: 0.8269 - true_negatives: 2949.0000 - true_positives: 1763.0000 - false_negatives: 164.0000 - false_positives: 369.0000 - val_loss: 0.3737 - val_binary_accuracy: 0.8420 - val_auc: 0.9309 - val_mcc_metric: 0.6919 - val_precision: 0.7389 - val_true_negatives: 525.0000 - val_true_positives: 317.0000 - val_false_negatives: 46.0000 - val_false_positives: 112.0000\n",
      "Epoch 32/60\n",
      "164/164 [==============================] - ETA: 0s - loss: 0.2036 - binary_accuracy: 0.9037 - auc: 0.9738 - mcc_metric: 0.8041 - precision: 0.8229 - true_negatives: 2928.0000 - true_positives: 1812.0000 - false_negatives: 115.0000 - false_positives: 390.0000\n",
      "Epoch 00032: val_auc did not improve from 0.93589\n",
      "164/164 [==============================] - 14s 87ms/step - loss: 0.2036 - binary_accuracy: 0.9037 - auc: 0.9738 - mcc_metric: 0.8041 - precision: 0.8229 - true_negatives: 2928.0000 - true_positives: 1812.0000 - false_negatives: 115.0000 - false_positives: 390.0000 - val_loss: 0.3901 - val_binary_accuracy: 0.8520 - val_auc: 0.9245 - val_mcc_metric: 0.6978 - val_precision: 0.7681 - val_true_negatives: 544.0000 - val_true_positives: 308.0000 - val_false_negatives: 55.0000 - val_false_positives: 93.0000\n",
      "Epoch 33/60\n",
      "164/164 [==============================] - ETA: 0s - loss: 0.1961 - binary_accuracy: 0.9085 - auc: 0.9761 - mcc_metric: 0.8116 - precision: 0.8336 - true_negatives: 2957.0000 - true_positives: 1808.0000 - false_negatives: 119.0000 - false_positives: 361.0000\n",
      "Epoch 00033: val_auc did not improve from 0.93589\n",
      "164/164 [==============================] - 14s 87ms/step - loss: 0.1961 - binary_accuracy: 0.9085 - auc: 0.9761 - mcc_metric: 0.8116 - precision: 0.8336 - true_negatives: 2957.0000 - true_positives: 1808.0000 - false_negatives: 119.0000 - false_positives: 361.0000 - val_loss: 0.3807 - val_binary_accuracy: 0.8470 - val_auc: 0.9259 - val_mcc_metric: 0.6827 - val_precision: 0.7574 - val_true_negatives: 538.0000 - val_true_positives: 309.0000 - val_false_negatives: 54.0000 - val_false_positives: 99.0000\n",
      "Epoch 34/60\n",
      "164/164 [==============================] - ETA: 0s - loss: 0.1874 - binary_accuracy: 0.9142 - auc: 0.9778 - mcc_metric: 0.8226 - precision: 0.8485 - true_negatives: 2997.0000 - true_positives: 1798.0000 - false_negatives: 129.0000 - false_positives: 321.0000\n",
      "Epoch 00034: val_auc did not improve from 0.93589\n",
      "164/164 [==============================] - 14s 87ms/step - loss: 0.1874 - binary_accuracy: 0.9142 - auc: 0.9778 - mcc_metric: 0.8226 - precision: 0.8485 - true_negatives: 2997.0000 - true_positives: 1798.0000 - false_negatives: 129.0000 - false_positives: 321.0000 - val_loss: 0.3891 - val_binary_accuracy: 0.8530 - val_auc: 0.9347 - val_mcc_metric: 0.7036 - val_precision: 0.7584 - val_true_negatives: 536.0000 - val_true_positives: 317.0000 - val_false_negatives: 46.0000 - val_false_positives: 101.0000\n",
      "Epoch 35/60\n",
      "164/164 [==============================] - ETA: 0s - loss: 0.1751 - binary_accuracy: 0.9195 - auc: 0.9805 - mcc_metric: 0.8350 - precision: 0.8495 - true_negatives: 2994.0000 - true_positives: 1829.0000 - false_negatives: 98.0000 - false_positives: 324.0000\n",
      "Epoch 00035: val_auc did not improve from 0.93589\n",
      "164/164 [==============================] - 14s 87ms/step - loss: 0.1751 - binary_accuracy: 0.9195 - auc: 0.9805 - mcc_metric: 0.8350 - precision: 0.8495 - true_negatives: 2994.0000 - true_positives: 1829.0000 - false_negatives: 98.0000 - false_positives: 324.0000 - val_loss: 0.3902 - val_binary_accuracy: 0.8540 - val_auc: 0.9269 - val_mcc_metric: 0.6970 - val_precision: 0.7706 - val_true_negatives: 545.0000 - val_true_positives: 309.0000 - val_false_negatives: 54.0000 - val_false_positives: 92.0000\n",
      "Epoch 36/60\n",
      "164/164 [==============================] - ETA: 0s - loss: 0.1789 - binary_accuracy: 0.9176 - auc: 0.9797 - mcc_metric: 0.8324 - precision: 0.8405 - true_negatives: 2968.0000 - true_positives: 1845.0000 - false_negatives: 82.0000 - false_positives: 350.0000\n",
      "Epoch 00036: val_auc did not improve from 0.93589\n",
      "164/164 [==============================] - 14s 87ms/step - loss: 0.1789 - binary_accuracy: 0.9176 - auc: 0.9797 - mcc_metric: 0.8324 - precision: 0.8405 - true_negatives: 2968.0000 - true_positives: 1845.0000 - false_negatives: 82.0000 - false_positives: 350.0000 - val_loss: 0.4079 - val_binary_accuracy: 0.8580 - val_auc: 0.9193 - val_mcc_metric: 0.6817 - val_precision: 0.8184 - val_true_negatives: 574.0000 - val_true_positives: 284.0000 - val_false_negatives: 79.0000 - val_false_positives: 63.0000\n",
      "Epoch 37/60\n",
      "164/164 [==============================] - ETA: 0s - loss: 0.1672 - binary_accuracy: 0.9220 - auc: 0.9821 - mcc_metric: 0.8394 - precision: 0.8577 - true_negatives: 3016.0000 - true_positives: 1820.0000 - false_negatives: 107.0000 - false_positives: 302.0000\n",
      "Epoch 00037: val_auc did not improve from 0.93589\n",
      "164/164 [==============================] - 14s 88ms/step - loss: 0.1672 - binary_accuracy: 0.9220 - auc: 0.9821 - mcc_metric: 0.8394 - precision: 0.8577 - true_negatives: 3016.0000 - true_positives: 1820.0000 - false_negatives: 107.0000 - false_positives: 302.0000 - val_loss: 0.4047 - val_binary_accuracy: 0.8340 - val_auc: 0.9313 - val_mcc_metric: 0.6762 - val_precision: 0.7165 - val_true_negatives: 508.0000 - val_true_positives: 326.0000 - val_false_negatives: 37.0000 - val_false_positives: 129.0000\n",
      "Epoch 38/60\n",
      "164/164 [==============================] - ETA: 0s - loss: 0.2038 - binary_accuracy: 0.9068 - auc: 0.9744 - mcc_metric: 0.8073 - precision: 0.8363 - true_negatives: 2968.0000 - true_positives: 1788.0000 - false_negatives: 139.0000 - false_positives: 350.0000\n",
      "Epoch 00038: val_auc did not improve from 0.93589\n",
      "164/164 [==============================] - 14s 88ms/step - loss: 0.2038 - binary_accuracy: 0.9068 - auc: 0.9744 - mcc_metric: 0.8073 - precision: 0.8363 - true_negatives: 2968.0000 - true_positives: 1788.0000 - false_negatives: 139.0000 - false_positives: 350.0000 - val_loss: 0.3718 - val_binary_accuracy: 0.8590 - val_auc: 0.9318 - val_mcc_metric: 0.7168 - val_precision: 0.7681 - val_true_negatives: 541.0000 - val_true_positives: 318.0000 - val_false_negatives: 45.0000 - val_false_positives: 96.0000\n",
      "Epoch 39/60\n",
      "164/164 [==============================] - ETA: 0s - loss: 0.1879 - binary_accuracy: 0.9167 - auc: 0.9780 - mcc_metric: 0.8283 - precision: 0.8494 - true_negatives: 2997.0000 - true_positives: 1811.0000 - false_negatives: 116.0000 - false_positives: 321.0000\n",
      "Epoch 00039: val_auc did not improve from 0.93589\n",
      "164/164 [==============================] - 14s 87ms/step - loss: 0.1879 - binary_accuracy: 0.9167 - auc: 0.9780 - mcc_metric: 0.8283 - precision: 0.8494 - true_negatives: 2997.0000 - true_positives: 1811.0000 - false_negatives: 116.0000 - false_positives: 321.0000 - val_loss: 0.3812 - val_binary_accuracy: 0.8630 - val_auc: 0.9267 - val_mcc_metric: 0.7078 - val_precision: 0.7854 - val_true_negatives: 552.0000 - val_true_positives: 311.0000 - val_false_negatives: 52.0000 - val_false_positives: 85.0000\n",
      "Epoch 40/60\n",
      "164/164 [==============================] - ETA: 0s - loss: 0.1646 - binary_accuracy: 0.9314 - auc: 0.9829 - mcc_metric: 0.8569 - precision: 0.8729 - true_negatives: 3051.0000 - true_positives: 1834.0000 - false_negatives: 93.0000 - false_positives: 267.0000\n",
      "Epoch 00040: val_auc did not improve from 0.93589\n",
      "164/164 [==============================] - 14s 87ms/step - loss: 0.1646 - binary_accuracy: 0.9314 - auc: 0.9829 - mcc_metric: 0.8569 - precision: 0.8729 - true_negatives: 3051.0000 - true_positives: 1834.0000 - false_negatives: 93.0000 - false_positives: 267.0000 - val_loss: 0.3889 - val_binary_accuracy: 0.8550 - val_auc: 0.9255 - val_mcc_metric: 0.7022 - val_precision: 0.7672 - val_true_negatives: 542.0000 - val_true_positives: 313.0000 - val_false_negatives: 50.0000 - val_false_positives: 95.0000\n",
      "Epoch 41/60\n",
      "164/164 [==============================] - ETA: 0s - loss: 0.1359 - binary_accuracy: 0.9342 - auc: 0.9880 - mcc_metric: 0.8646 - precision: 0.8714 - true_negatives: 3044.0000 - true_positives: 1856.0000 - false_negatives: 71.0000 - false_positives: 274.0000\n",
      "Epoch 00041: val_auc did not improve from 0.93589\n",
      "164/164 [==============================] - 14s 88ms/step - loss: 0.1359 - binary_accuracy: 0.9342 - auc: 0.9880 - mcc_metric: 0.8646 - precision: 0.8714 - true_negatives: 3044.0000 - true_positives: 1856.0000 - false_negatives: 71.0000 - false_positives: 274.0000 - val_loss: 0.4221 - val_binary_accuracy: 0.8630 - val_auc: 0.9259 - val_mcc_metric: 0.7156 - val_precision: 0.7912 - val_true_negatives: 556.0000 - val_true_positives: 307.0000 - val_false_negatives: 56.0000 - val_false_positives: 81.0000\n",
      "Epoch 42/60\n",
      "164/164 [==============================] - ETA: 0s - loss: 0.1524 - binary_accuracy: 0.9325 - auc: 0.9851 - mcc_metric: 0.8605 - precision: 0.8694 - true_negatives: 3040.0000 - true_positives: 1851.0000 - false_negatives: 76.0000 - false_positives: 278.0000\n",
      "Epoch 00042: val_auc did not improve from 0.93589\n",
      "164/164 [==============================] - 14s 87ms/step - loss: 0.1524 - binary_accuracy: 0.9325 - auc: 0.9851 - mcc_metric: 0.8605 - precision: 0.8694 - true_negatives: 3040.0000 - true_positives: 1851.0000 - false_negatives: 76.0000 - false_positives: 278.0000 - val_loss: 0.4354 - val_binary_accuracy: 0.8540 - val_auc: 0.9217 - val_mcc_metric: 0.6928 - val_precision: 0.7833 - val_true_negatives: 554.0000 - val_true_positives: 300.0000 - val_false_negatives: 63.0000 - val_false_positives: 83.0000\n",
      "Epoch 43/60\n",
      "164/164 [==============================] - ETA: 0s - loss: 0.1480 - binary_accuracy: 0.9359 - auc: 0.9859 - mcc_metric: 0.8669 - precision: 0.8819 - true_negatives: 3072.0000 - true_positives: 1837.0000 - false_negatives: 90.0000 - false_positives: 246.0000\n",
      "Epoch 00043: val_auc did not improve from 0.93589\n",
      "164/164 [==============================] - 14s 87ms/step - loss: 0.1480 - binary_accuracy: 0.9359 - auc: 0.9859 - mcc_metric: 0.8669 - precision: 0.8819 - true_negatives: 3072.0000 - true_positives: 1837.0000 - false_negatives: 90.0000 - false_positives: 246.0000 - val_loss: 0.4220 - val_binary_accuracy: 0.8670 - val_auc: 0.9267 - val_mcc_metric: 0.7269 - val_precision: 0.7805 - val_true_negatives: 547.0000 - val_true_positives: 320.0000 - val_false_negatives: 43.0000 - val_false_positives: 90.0000\n",
      "Epoch 44/60\n",
      "164/164 [==============================] - ETA: 0s - loss: 0.1442 - binary_accuracy: 0.9386 - auc: 0.9864 - mcc_metric: 0.8701 - precision: 0.8871 - true_negatives: 3084.0000 - true_positives: 1839.0000 - false_negatives: 88.0000 - false_positives: 234.0000\n",
      "Epoch 00044: val_auc did not improve from 0.93589\n",
      "164/164 [==============================] - 14s 87ms/step - loss: 0.1442 - binary_accuracy: 0.9386 - auc: 0.9864 - mcc_metric: 0.8701 - precision: 0.8871 - true_negatives: 3084.0000 - true_positives: 1839.0000 - false_negatives: 88.0000 - false_positives: 234.0000 - val_loss: 0.3974 - val_binary_accuracy: 0.8700 - val_auc: 0.9326 - val_mcc_metric: 0.7316 - val_precision: 0.7964 - val_true_negatives: 557.0000 - val_true_positives: 313.0000 - val_false_negatives: 50.0000 - val_false_positives: 80.0000\n",
      "Epoch 45/60\n",
      "164/164 [==============================] - ETA: 0s - loss: 0.1153 - binary_accuracy: 0.9487 - auc: 0.9912 - mcc_metric: 0.8928 - precision: 0.8993 - true_negatives: 3109.0000 - true_positives: 1867.0000 - false_negatives: 60.0000 - false_positives: 209.0000\n",
      "Epoch 00045: val_auc did not improve from 0.93589\n",
      "164/164 [==============================] - 14s 85ms/step - loss: 0.1153 - binary_accuracy: 0.9487 - auc: 0.9912 - mcc_metric: 0.8928 - precision: 0.8993 - true_negatives: 3109.0000 - true_positives: 1867.0000 - false_negatives: 60.0000 - false_positives: 209.0000 - val_loss: 0.4488 - val_binary_accuracy: 0.8490 - val_auc: 0.9263 - val_mcc_metric: 0.6899 - val_precision: 0.7573 - val_true_negatives: 537.0000 - val_true_positives: 312.0000 - val_false_negatives: 51.0000 - val_false_positives: 100.0000\n",
      "Epoch 46/60\n",
      "164/164 [==============================] - ETA: 0s - loss: 0.1494 - binary_accuracy: 0.9361 - auc: 0.9855 - mcc_metric: 0.8684 - precision: 0.8783 - true_negatives: 3062.0000 - true_positives: 1848.0000 - false_negatives: 79.0000 - false_positives: 256.0000\n",
      "Epoch 00046: val_auc did not improve from 0.93589\n",
      "164/164 [==============================] - 14s 85ms/step - loss: 0.1494 - binary_accuracy: 0.9361 - auc: 0.9855 - mcc_metric: 0.8684 - precision: 0.8783 - true_negatives: 3062.0000 - true_positives: 1848.0000 - false_negatives: 79.0000 - false_positives: 256.0000 - val_loss: 0.4361 - val_binary_accuracy: 0.8700 - val_auc: 0.9234 - val_mcc_metric: 0.7334 - val_precision: 0.7935 - val_true_negatives: 555.0000 - val_true_positives: 315.0000 - val_false_negatives: 48.0000 - val_false_positives: 82.0000\n",
      "Epoch 47/60\n",
      "164/164 [==============================] - ETA: 0s - loss: 0.1190 - binary_accuracy: 0.9510 - auc: 0.9905 - mcc_metric: 0.8983 - precision: 0.9061 - true_negatives: 3125.0000 - true_positives: 1863.0000 - false_negatives: 64.0000 - false_positives: 193.0000\n",
      "Epoch 00047: val_auc did not improve from 0.93589\n",
      "164/164 [==============================] - 14s 86ms/step - loss: 0.1190 - binary_accuracy: 0.9510 - auc: 0.9905 - mcc_metric: 0.8983 - precision: 0.9061 - true_negatives: 3125.0000 - true_positives: 1863.0000 - false_negatives: 64.0000 - false_positives: 193.0000 - val_loss: 0.4451 - val_binary_accuracy: 0.8670 - val_auc: 0.9212 - val_mcc_metric: 0.7298 - val_precision: 0.7979 - val_true_negatives: 559.0000 - val_true_positives: 308.0000 - val_false_negatives: 55.0000 - val_false_positives: 78.0000\n",
      "Epoch 48/60\n",
      "164/164 [==============================] - ETA: 0s - loss: 0.1122 - binary_accuracy: 0.9533 - auc: 0.9916 - mcc_metric: 0.8999 - precision: 0.9127 - true_negatives: 3140.0000 - true_positives: 1860.0000 - false_negatives: 67.0000 - false_positives: 178.0000\n",
      "Epoch 00048: val_auc did not improve from 0.93589\n",
      "164/164 [==============================] - 14s 86ms/step - loss: 0.1122 - binary_accuracy: 0.9533 - auc: 0.9916 - mcc_metric: 0.8999 - precision: 0.9127 - true_negatives: 3140.0000 - true_positives: 1860.0000 - false_negatives: 67.0000 - false_positives: 178.0000 - val_loss: 0.4697 - val_binary_accuracy: 0.8630 - val_auc: 0.9212 - val_mcc_metric: 0.7124 - val_precision: 0.8021 - val_true_negatives: 563.0000 - val_true_positives: 300.0000 - val_false_negatives: 63.0000 - val_false_positives: 74.0000\n",
      "Epoch 49/60\n",
      "164/164 [==============================] - ETA: 0s - loss: 0.1157 - binary_accuracy: 0.9508 - auc: 0.9911 - mcc_metric: 0.8964 - precision: 0.9077 - true_negatives: 3129.0000 - true_positives: 1858.0000 - false_negatives: 69.0000 - false_positives: 189.0000\n",
      "Epoch 00049: val_auc did not improve from 0.93589\n",
      "164/164 [==============================] - 14s 86ms/step - loss: 0.1157 - binary_accuracy: 0.9508 - auc: 0.9911 - mcc_metric: 0.8964 - precision: 0.9077 - true_negatives: 3129.0000 - true_positives: 1858.0000 - false_negatives: 69.0000 - false_positives: 189.0000 - val_loss: 0.4815 - val_binary_accuracy: 0.8760 - val_auc: 0.9191 - val_mcc_metric: 0.7373 - val_precision: 0.8170 - val_true_negatives: 568.0000 - val_true_positives: 308.0000 - val_false_negatives: 55.0000 - val_false_positives: 69.0000\n",
      "Epoch 50/60\n",
      "164/164 [==============================] - ETA: 0s - loss: 0.0980 - binary_accuracy: 0.9567 - auc: 0.9938 - mcc_metric: 0.9112 - precision: 0.9122 - true_negatives: 3137.0000 - true_positives: 1881.0000 - false_negatives: 46.0000 - false_positives: 181.0000\n",
      "Epoch 00050: val_auc did not improve from 0.93589\n",
      "164/164 [==============================] - 14s 86ms/step - loss: 0.0980 - binary_accuracy: 0.9567 - auc: 0.9938 - mcc_metric: 0.9112 - precision: 0.9122 - true_negatives: 3137.0000 - true_positives: 1881.0000 - false_negatives: 46.0000 - false_positives: 181.0000 - val_loss: 0.4884 - val_binary_accuracy: 0.8750 - val_auc: 0.9166 - val_mcc_metric: 0.7355 - val_precision: 0.8132 - val_true_negatives: 566.0000 - val_true_positives: 309.0000 - val_false_negatives: 54.0000 - val_false_positives: 71.0000\n",
      "Epoch 51/60\n",
      "164/164 [==============================] - ETA: 0s - loss: 0.1112 - binary_accuracy: 0.9525 - auc: 0.9916 - mcc_metric: 0.8988 - precision: 0.9101 - true_negatives: 3134.0000 - true_positives: 1862.0000 - false_negatives: 65.0000 - false_positives: 184.0000\n",
      "Epoch 00051: val_auc did not improve from 0.93589\n",
      "164/164 [==============================] - 14s 86ms/step - loss: 0.1112 - binary_accuracy: 0.9525 - auc: 0.9916 - mcc_metric: 0.8988 - precision: 0.9101 - true_negatives: 3134.0000 - true_positives: 1862.0000 - false_negatives: 65.0000 - false_positives: 184.0000 - val_loss: 0.4877 - val_binary_accuracy: 0.8870 - val_auc: 0.9224 - val_mcc_metric: 0.7684 - val_precision: 0.8342 - val_true_negatives: 575.0000 - val_true_positives: 312.0000 - val_false_negatives: 51.0000 - val_false_positives: 62.0000\n",
      "Epoch 52/60\n",
      "164/164 [==============================] - ETA: 0s - loss: 0.0970 - binary_accuracy: 0.9596 - auc: 0.9933 - mcc_metric: 0.9144 - precision: 0.9210 - true_negatives: 3157.0000 - true_positives: 1876.0000 - false_negatives: 51.0000 - false_positives: 161.0000\n",
      "Epoch 00052: val_auc did not improve from 0.93589\n",
      "164/164 [==============================] - 14s 86ms/step - loss: 0.0970 - binary_accuracy: 0.9596 - auc: 0.9933 - mcc_metric: 0.9144 - precision: 0.9210 - true_negatives: 3157.0000 - true_positives: 1876.0000 - false_negatives: 51.0000 - false_positives: 161.0000 - val_loss: 0.4984 - val_binary_accuracy: 0.8770 - val_auc: 0.9249 - val_mcc_metric: 0.7431 - val_precision: 0.8061 - val_true_negatives: 561.0000 - val_true_positives: 316.0000 - val_false_negatives: 47.0000 - val_false_positives: 76.0000\n",
      "Epoch 53/60\n",
      "164/164 [==============================] - ETA: 0s - loss: 0.1022 - binary_accuracy: 0.9556 - auc: 0.9927 - mcc_metric: 0.9072 - precision: 0.9116 - true_negatives: 3136.0000 - true_positives: 1876.0000 - false_negatives: 51.0000 - false_positives: 182.0000\n",
      "Epoch 00053: val_auc did not improve from 0.93589\n",
      "164/164 [==============================] - 14s 86ms/step - loss: 0.1022 - binary_accuracy: 0.9556 - auc: 0.9927 - mcc_metric: 0.9072 - precision: 0.9116 - true_negatives: 3136.0000 - true_positives: 1876.0000 - false_negatives: 51.0000 - false_positives: 182.0000 - val_loss: 0.4808 - val_binary_accuracy: 0.8760 - val_auc: 0.9210 - val_mcc_metric: 0.7377 - val_precision: 0.8204 - val_true_negatives: 570.0000 - val_true_positives: 306.0000 - val_false_negatives: 57.0000 - val_false_positives: 67.0000\n",
      "Epoch 54/60\n",
      "164/164 [==============================] - ETA: 0s - loss: 0.1013 - binary_accuracy: 0.9577 - auc: 0.9929 - mcc_metric: 0.9117 - precision: 0.9152 - true_negatives: 3144.0000 - true_positives: 1879.0000 - false_negatives: 48.0000 - false_positives: 174.0000\n",
      "Epoch 00054: val_auc did not improve from 0.93589\n",
      "164/164 [==============================] - 14s 86ms/step - loss: 0.1013 - binary_accuracy: 0.9577 - auc: 0.9929 - mcc_metric: 0.9117 - precision: 0.9152 - true_negatives: 3144.0000 - true_positives: 1879.0000 - false_negatives: 48.0000 - false_positives: 174.0000 - val_loss: 0.4933 - val_binary_accuracy: 0.8820 - val_auc: 0.9219 - val_mcc_metric: 0.7536 - val_precision: 0.8338 - val_true_negatives: 576.0000 - val_true_positives: 306.0000 - val_false_negatives: 57.0000 - val_false_positives: 61.0000\n",
      "Epoch 55/60\n",
      "164/164 [==============================] - ETA: 0s - loss: 0.1133 - binary_accuracy: 0.9527 - auc: 0.9914 - mcc_metric: 0.9001 - precision: 0.9146 - true_negatives: 3145.0000 - true_positives: 1852.0000 - false_negatives: 75.0000 - false_positives: 173.0000\n",
      "Epoch 00055: val_auc did not improve from 0.93589\n",
      "164/164 [==============================] - 14s 86ms/step - loss: 0.1133 - binary_accuracy: 0.9527 - auc: 0.9914 - mcc_metric: 0.9001 - precision: 0.9146 - true_negatives: 3145.0000 - true_positives: 1852.0000 - false_negatives: 75.0000 - false_positives: 173.0000 - val_loss: 0.3991 - val_binary_accuracy: 0.8720 - val_auc: 0.9237 - val_mcc_metric: 0.7319 - val_precision: 0.8052 - val_true_negatives: 562.0000 - val_true_positives: 310.0000 - val_false_negatives: 53.0000 - val_false_positives: 75.0000\n",
      "Epoch 56/60\n",
      "164/164 [==============================] - ETA: 0s - loss: 0.0975 - binary_accuracy: 0.9602 - auc: 0.9936 - mcc_metric: 0.9154 - precision: 0.9219 - true_negatives: 3159.0000 - true_positives: 1877.0000 - false_negatives: 50.0000 - false_positives: 159.0000\n",
      "Epoch 00056: val_auc did not improve from 0.93589\n",
      "164/164 [==============================] - 14s 85ms/step - loss: 0.0975 - binary_accuracy: 0.9602 - auc: 0.9936 - mcc_metric: 0.9154 - precision: 0.9219 - true_negatives: 3159.0000 - true_positives: 1877.0000 - false_negatives: 50.0000 - false_positives: 159.0000 - val_loss: 0.5323 - val_binary_accuracy: 0.8790 - val_auc: 0.9144 - val_mcc_metric: 0.7506 - val_precision: 0.8235 - val_true_negatives: 571.0000 - val_true_positives: 308.0000 - val_false_negatives: 55.0000 - val_false_positives: 66.0000\n",
      "Epoch 57/60\n",
      "164/164 [==============================] - ETA: 0s - loss: 0.0799 - binary_accuracy: 0.9651 - auc: 0.9955 - mcc_metric: 0.9265 - precision: 0.9296 - true_negatives: 3175.0000 - true_positives: 1887.0000 - false_negatives: 40.0000 - false_positives: 143.0000\n",
      "Epoch 00057: val_auc did not improve from 0.93589\n",
      "164/164 [==============================] - 14s 86ms/step - loss: 0.0799 - binary_accuracy: 0.9651 - auc: 0.9955 - mcc_metric: 0.9265 - precision: 0.9296 - true_negatives: 3175.0000 - true_positives: 1887.0000 - false_negatives: 40.0000 - false_positives: 143.0000 - val_loss: 0.5406 - val_binary_accuracy: 0.8780 - val_auc: 0.9160 - val_mcc_metric: 0.7423 - val_precision: 0.8248 - val_true_negatives: 572.0000 - val_true_positives: 306.0000 - val_false_negatives: 57.0000 - val_false_positives: 65.0000\n",
      "Epoch 58/60\n",
      "164/164 [==============================] - ETA: 0s - loss: 0.0822 - binary_accuracy: 0.9634 - auc: 0.9952 - mcc_metric: 0.9236 - precision: 0.9284 - true_negatives: 3173.0000 - true_positives: 1880.0000 - false_negatives: 47.0000 - false_positives: 145.0000\n",
      "Epoch 00058: val_auc did not improve from 0.93589\n",
      "164/164 [==============================] - 14s 86ms/step - loss: 0.0822 - binary_accuracy: 0.9634 - auc: 0.9952 - mcc_metric: 0.9236 - precision: 0.9284 - true_negatives: 3173.0000 - true_positives: 1880.0000 - false_negatives: 47.0000 - false_positives: 145.0000 - val_loss: 0.5260 - val_binary_accuracy: 0.8820 - val_auc: 0.9152 - val_mcc_metric: 0.7594 - val_precision: 0.8149 - val_true_negatives: 565.0000 - val_true_positives: 317.0000 - val_false_negatives: 46.0000 - val_false_positives: 72.0000\n",
      "Epoch 59/60\n",
      "164/164 [==============================] - ETA: 0s - loss: 0.0776 - binary_accuracy: 0.9640 - auc: 0.9955 - mcc_metric: 0.9238 - precision: 0.9268 - true_negatives: 3169.0000 - true_positives: 1887.0000 - false_negatives: 40.0000 - false_positives: 149.0000\n",
      "Epoch 00059: val_auc did not improve from 0.93589\n",
      "164/164 [==============================] - 14s 86ms/step - loss: 0.0776 - binary_accuracy: 0.9640 - auc: 0.9955 - mcc_metric: 0.9238 - precision: 0.9268 - true_negatives: 3169.0000 - true_positives: 1887.0000 - false_negatives: 40.0000 - false_positives: 149.0000 - val_loss: 0.5548 - val_binary_accuracy: 0.8730 - val_auc: 0.9161 - val_mcc_metric: 0.7416 - val_precision: 0.8010 - val_true_negatives: 559.0000 - val_true_positives: 314.0000 - val_false_negatives: 49.0000 - val_false_positives: 78.0000\n",
      "Epoch 60/60\n",
      "164/164 [==============================] - ETA: 0s - loss: 0.0968 - binary_accuracy: 0.9598 - auc: 0.9933 - mcc_metric: 0.9165 - precision: 0.9149 - true_negatives: 3142.0000 - true_positives: 1892.0000 - false_negatives: 35.0000 - false_positives: 176.0000\n",
      "Epoch 00060: val_auc did not improve from 0.93589\n",
      "164/164 [==============================] - 14s 86ms/step - loss: 0.0968 - binary_accuracy: 0.9598 - auc: 0.9933 - mcc_metric: 0.9165 - precision: 0.9149 - true_negatives: 3142.0000 - true_positives: 1892.0000 - false_negatives: 35.0000 - false_positives: 176.0000 - val_loss: 0.5027 - val_binary_accuracy: 0.8650 - val_auc: 0.9111 - val_mcc_metric: 0.7130 - val_precision: 0.7879 - val_true_negatives: 553.0000 - val_true_positives: 312.0000 - val_false_negatives: 51.0000 - val_false_positives: 84.0000\n"
     ]
    },
    {
     "data": {
      "text/plain": [
       "<keras.callbacks.History at 0x1575ed294c0>"
      ]
     },
     "execution_count": 15,
     "metadata": {},
     "output_type": "execute_result"
    }
   ],
   "source": [
    "def save(i):\n",
    "    return 'F:/bbb/model/nlp/model_'+str(i)+'.tf'\n",
    "\n",
    "checkpoint = tf.keras.callbacks.ModelCheckpoint(save(33), \n",
    "                monitor='val_auc', verbose=1, \n",
    "                save_best_only=True, save_weights_only = False, mode='max')\n",
    "callbacks_list = [checkpoint]\n",
    "\n",
    "model.compile(optimizer = tf.keras.optimizers.Adam(learning_rate = 0.001) ,loss = BinaryCrossentropy(), metrics = [binary_accuracy, AUC(), mcc_metric \n",
    "                    ,Precision(),TrueNegatives(), TruePositives(), FalseNegatives(), FalsePositives()])\n",
    "model.fit(x = np.array(xtrain), y = np.array(ytrain), validation_data = (np.array(xvalid), np.array(yvalid)), epochs=60, batch_size = 32, \n",
    "              callbacks = callbacks_list, class_weight = class_weights)\n"
   ]
  },
  {
   "cell_type": "code",
   "execution_count": 16,
   "metadata": {},
   "outputs": [
    {
     "name": "stdout",
     "output_type": "stream",
     "text": [
      "49/49 [==============================] - 2s 39ms/step - loss: 0.4269 - binary_accuracy: 0.8201 - auc: 0.9147 - mcc_metric: 0.6361 - precision: 0.7035 - true_negatives: 797.0000 - true_positives: 484.0000 - false_negatives: 77.0000 - false_positives: 204.0000\n"
     ]
    },
    {
     "data": {
      "text/plain": [
       "[0.4268687963485718,\n",
       " 0.8201024532318115,\n",
       " 0.9147198796272278,\n",
       " 0.6360712051391602,\n",
       " 0.7034883499145508,\n",
       " 797.0,\n",
       " 484.0,\n",
       " 77.0,\n",
       " 204.0]"
      ]
     },
     "execution_count": 16,
     "metadata": {},
     "output_type": "execute_result"
    }
   ],
   "source": [
    "model.load_weights(save(33))\n",
    "model.evaluate(np.array(xtest), np.array(ytest))"
   ]
  },
  {
   "cell_type": "code",
   "execution_count": 17,
   "metadata": {},
   "outputs": [
    {
     "name": "stdout",
     "output_type": "stream",
     "text": [
      "32/32 [==============================] - 1s 39ms/step - loss: 0.3581 - binary_accuracy: 0.8430 - auc: 0.9359 - mcc_metric: 0.6884 - precision: 0.7309 - true_negatives: 517.0000 - true_positives: 326.0000 - false_negatives: 37.0000 - false_positives: 120.0000\n"
     ]
    },
    {
     "data": {
      "text/plain": [
       "[0.35811635851860046,\n",
       " 0.8429999947547913,\n",
       " 0.9358888268470764,\n",
       " 0.6884199976921082,\n",
       " 0.7309417128562927,\n",
       " 517.0,\n",
       " 326.0,\n",
       " 37.0,\n",
       " 120.0]"
      ]
     },
     "execution_count": 17,
     "metadata": {},
     "output_type": "execute_result"
    }
   ],
   "source": [
    "model.evaluate(np.array(xvalid), np.array(yvalid))"
   ]
  },
  {
   "cell_type": "code",
   "execution_count": 18,
   "metadata": {},
   "outputs": [
    {
     "data": {
      "text/plain": [
       "'2.7.0'"
      ]
     },
     "execution_count": 18,
     "metadata": {},
     "output_type": "execute_result"
    }
   ],
   "source": [
    "tf.__version__"
   ]
  }
 ],
 "metadata": {
  "interpreter": {
   "hash": "579282893146967bc5d17141c601e8a8b8ad4a0a2a5a6fe1c87b1000077400d7"
  },
  "kernelspec": {
   "display_name": "Python 3.8.8 64-bit ('base': conda)",
   "language": "python",
   "name": "python3"
  },
  "language_info": {
   "codemirror_mode": {
    "name": "ipython",
    "version": 3
   },
   "file_extension": ".py",
   "mimetype": "text/x-python",
   "name": "python",
   "nbconvert_exporter": "python",
   "pygments_lexer": "ipython3",
   "version": "3.8.8"
  },
  "orig_nbformat": 4
 },
 "nbformat": 4,
 "nbformat_minor": 2
}
