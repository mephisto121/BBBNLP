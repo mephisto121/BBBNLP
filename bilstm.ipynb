{
 "cells": [
  {
   "cell_type": "code",
   "execution_count": 1,
   "metadata": {},
   "outputs": [],
   "source": [
    "import pandas as pd\n",
    "import numpy as np\n",
    "import tensorflow as tf\n",
    "from tensorflow.keras.layers import  Dense, Bidirectional, LSTM, Dropout,Input, Embedding,GRU\n",
    "from tensorflow.keras.layers.experimental.preprocessing import TextVectorization\n",
    "from tensorflow.keras.losses import BinaryCrossentropy\n",
    "from tensorflow.keras.models import Model ,Sequential\n",
    "from tensorflow.keras.utils import to_categorical\n",
    "from tensorflow.keras.metrics import Precision, AUC, binary_accuracy, TrueNegatives, TruePositives, FalseNegatives, FalsePositives\n",
    "from helper_functions import smi_tokenizer, mcc_metric\n",
    "from rdkit import Chem\n",
    "from rdkit.Chem import PandasTools\n",
    "from tensorflow.keras.wrappers.scikit_learn import KerasClassifier\n",
    "from sklearn.model_selection import train_test_split\n",
    "from sklearn.preprocessing import LabelEncoder\n",
    "from sklearn.utils import class_weight"
   ]
  },
  {
   "cell_type": "code",
   "execution_count": 2,
   "metadata": {},
   "outputs": [
    {
     "data": {
      "text/html": [
       "<div>\n",
       "<style scoped>\n",
       "    .dataframe tbody tr th:only-of-type {\n",
       "        vertical-align: middle;\n",
       "    }\n",
       "\n",
       "    .dataframe tbody tr th {\n",
       "        vertical-align: top;\n",
       "    }\n",
       "\n",
       "    .dataframe thead th {\n",
       "        text-align: right;\n",
       "    }\n",
       "</style>\n",
       "<table border=\"1\" class=\"dataframe\">\n",
       "  <thead>\n",
       "    <tr style=\"text-align: right;\">\n",
       "      <th></th>\n",
       "      <th>NO.</th>\n",
       "      <th>compound_name</th>\n",
       "      <th>IUPAC_name</th>\n",
       "      <th>SMILES</th>\n",
       "      <th>CID</th>\n",
       "      <th>logBB</th>\n",
       "      <th>BBB+/BBB-</th>\n",
       "      <th>Inchi</th>\n",
       "      <th>threshold</th>\n",
       "      <th>reference</th>\n",
       "      <th>group</th>\n",
       "      <th>comments</th>\n",
       "    </tr>\n",
       "  </thead>\n",
       "  <tbody>\n",
       "    <tr>\n",
       "      <th>0</th>\n",
       "      <td>1</td>\n",
       "      <td>sulphasalazine</td>\n",
       "      <td>2-hydroxy-5-[[4-(pyridin-2-ylsulfamoyl)phenyl]...</td>\n",
       "      <td>O=C(O)c1cc(N=Nc2ccc(S(=O)(=O)Nc3ccccn3)cc2)ccc1O</td>\n",
       "      <td>5339.0</td>\n",
       "      <td>-2.69</td>\n",
       "      <td>BBB-</td>\n",
       "      <td>InChI=1S/C18H14N4O5S/c23-16-9-6-13(11-15(16)18...</td>\n",
       "      <td>NaN</td>\n",
       "      <td>R2|R2|R25|R46|</td>\n",
       "      <td>A</td>\n",
       "      <td>NaN</td>\n",
       "    </tr>\n",
       "  </tbody>\n",
       "</table>\n",
       "</div>"
      ],
      "text/plain": [
       "   NO.   compound_name                                         IUPAC_name  \\\n",
       "0    1  sulphasalazine  2-hydroxy-5-[[4-(pyridin-2-ylsulfamoyl)phenyl]...   \n",
       "\n",
       "                                             SMILES     CID  logBB BBB+/BBB-  \\\n",
       "0  O=C(O)c1cc(N=Nc2ccc(S(=O)(=O)Nc3ccccn3)cc2)ccc1O  5339.0  -2.69      BBB-   \n",
       "\n",
       "                                               Inchi  threshold  \\\n",
       "0  InChI=1S/C18H14N4O5S/c23-16-9-6-13(11-15(16)18...        NaN   \n",
       "\n",
       "        reference group comments  \n",
       "0  R2|R2|R25|R46|     A      NaN  "
      ]
     },
     "execution_count": 2,
     "metadata": {},
     "output_type": "execute_result"
    }
   ],
   "source": [
    "data = pd.read_table('F:/bbb/data/B3DB/B3DB_classification.tsv')\n",
    "data.head(1)"
   ]
  },
  {
   "cell_type": "code",
   "execution_count": 3,
   "metadata": {},
   "outputs": [],
   "source": [
    "X = data[\"SMILES\"]\n",
    "\n",
    "target=data['BBB+/BBB-'].values.tolist()\n",
    "label_encoder = LabelEncoder()\n",
    "y_classification = label_encoder.fit_transform(target)"
   ]
  },
  {
   "cell_type": "code",
   "execution_count": 4,
   "metadata": {},
   "outputs": [],
   "source": [
    "smile_data = [smi_tokenizer(smile) for smile in X]"
   ]
  },
  {
   "cell_type": "code",
   "execution_count": 5,
   "metadata": {},
   "outputs": [],
   "source": [
    "xtrain, xtest, ytrain, ytest = train_test_split(smile_data, y_classification, test_size=0.2, random_state=42)\n",
    "xtrain, xvalid, ytrain, yvalid  = train_test_split(xtrain, ytrain, test_size= 0.16, random_state=42)"
   ]
  },
  {
   "cell_type": "code",
   "execution_count": 6,
   "metadata": {},
   "outputs": [
    {
     "data": {
      "text/plain": [
       "7807"
      ]
     },
     "execution_count": 6,
     "metadata": {},
     "output_type": "execute_result"
    }
   ],
   "source": [
    "len(y_classification)"
   ]
  },
  {
   "cell_type": "code",
   "execution_count": 7,
   "metadata": {},
   "outputs": [
    {
     "data": {
      "text/plain": [
       "(array([0, 1], dtype=int64), array([4956, 2851], dtype=int64))"
      ]
     },
     "execution_count": 7,
     "metadata": {},
     "output_type": "execute_result"
    }
   ],
   "source": [
    "np.unique(y_classification, return_counts=True)"
   ]
  },
  {
   "cell_type": "code",
   "execution_count": 8,
   "metadata": {},
   "outputs": [
    {
     "name": "stderr",
     "output_type": "stream",
     "text": [
      "F:\\anaconda\\lib\\site-packages\\sklearn\\utils\\validation.py:70: FutureWarning: Pass classes=[0 1], y=[0 1 0 ... 0 1 0] as keyword args. From version 1.0 (renaming of 0.25) passing these as positional arguments will result in an error\n",
      "  warnings.warn(f\"Pass {args_msg} as keyword args. From version \"\n"
     ]
    }
   ],
   "source": [
    "class_weights = class_weight.compute_class_weight(\n",
    "           'balanced',\n",
    "            np.unique(ytrain), \n",
    "            ytrain)"
   ]
  },
  {
   "cell_type": "code",
   "execution_count": 9,
   "metadata": {},
   "outputs": [
    {
     "data": {
      "text/plain": [
       "array([0.79038577, 1.36092372])"
      ]
     },
     "execution_count": 9,
     "metadata": {},
     "output_type": "execute_result"
    }
   ],
   "source": [
    "class_weights"
   ]
  },
  {
   "cell_type": "code",
   "execution_count": 10,
   "metadata": {},
   "outputs": [],
   "source": [
    "class_weights = {0:0.78950695,\n",
    "                1: 1.36353712} "
   ]
  },
  {
   "cell_type": "code",
   "execution_count": 11,
   "metadata": {},
   "outputs": [],
   "source": [
    "text_vectorizer = TextVectorization(max_tokens=None, standardize=None, output_sequence_length=None,)"
   ]
  },
  {
   "cell_type": "code",
   "execution_count": 12,
   "metadata": {},
   "outputs": [
    {
     "data": {
      "text/plain": [
       "67"
      ]
     },
     "execution_count": 12,
     "metadata": {},
     "output_type": "execute_result"
    }
   ],
   "source": [
    "text_vectorizer.adapt(smile_data)\n",
    "word_in_vocab = text_vectorizer.get_vocabulary()\n",
    "len(word_in_vocab)"
   ]
  },
  {
   "cell_type": "code",
   "execution_count": 13,
   "metadata": {},
   "outputs": [],
   "source": [
    "input = Input(shape = (1,), dtype = 'string')\n",
    "x = text_vectorizer(input)\n",
    "x = Embedding(input_dim=len(word_in_vocab),\n",
    "                        output_dim=128, \n",
    "                        input_length=None,\n",
    "                        )(x)\n",
    "x = Bidirectional(LSTM(64, return_sequences=True,name = 'lstm1'))(x)\n",
    "x = Bidirectional(LSTM(64, return_sequences=True,name = 'lstm1'))(x)\n",
    "x = Dropout(0.2)(x)\n",
    "x = Bidirectional(LSTM(64, return_sequences=False,name = 'lstm1'))(x)\n",
    "x = Dropout(0.2)(x)\n",
    "\n",
    "x = Dense(256, activation = 'relu')(x)\n",
    "x = Dense(10, activation = 'relu')(x)\n",
    "output = Dense(1, activation = \"sigmoid\")(x)\n",
    "model = Model(inputs = input, outputs = output)\n"
   ]
  },
  {
   "cell_type": "code",
   "execution_count": 14,
   "metadata": {},
   "outputs": [
    {
     "name": "stdout",
     "output_type": "stream",
     "text": [
      "Epoch 1/60\n",
      "164/164 [==============================] - ETA: 0s - loss: 0.5587 - binary_accuracy: 0.6976 - auc: 0.7753 - mcc_metric: nan - precision: 0.5721 - true_negatives: 2306.0000 - true_positives: 1353.0000 - false_negatives: 574.0000 - false_positives: 1012.0000\n",
      "Epoch 00001: val_auc improved from -inf to 0.84196, saving model to F:/bbb/model/nlp\\model_33.tf\n"
     ]
    },
    {
     "name": "stderr",
     "output_type": "stream",
     "text": [
      "WARNING:absl:Found untraced functions such as lstm_cell_1_layer_call_fn, lstm_cell_1_layer_call_and_return_conditional_losses, lstm_cell_2_layer_call_fn, lstm_cell_2_layer_call_and_return_conditional_losses, lstm_cell_4_layer_call_fn while saving (showing 5 of 30). These functions will not be directly callable after loading.\n"
     ]
    },
    {
     "name": "stdout",
     "output_type": "stream",
     "text": [
      "INFO:tensorflow:Assets written to: F:/bbb/model/nlp\\model_33.tf\\assets\n"
     ]
    },
    {
     "name": "stderr",
     "output_type": "stream",
     "text": [
      "INFO:tensorflow:Assets written to: F:/bbb/model/nlp\\model_33.tf\\assets\n",
      "WARNING:absl:<keras.layers.recurrent.LSTMCell object at 0x000001F22930BEB0> has the same name 'LSTMCell' as a built-in Keras object. Consider renaming <class 'keras.layers.recurrent.LSTMCell'> to avoid naming conflicts when loading with `tf.keras.models.load_model`. If renaming is not possible, pass the object in the `custom_objects` parameter of the load function.\n",
      "WARNING:absl:<keras.layers.recurrent.LSTMCell object at 0x000001F229586070> has the same name 'LSTMCell' as a built-in Keras object. Consider renaming <class 'keras.layers.recurrent.LSTMCell'> to avoid naming conflicts when loading with `tf.keras.models.load_model`. If renaming is not possible, pass the object in the `custom_objects` parameter of the load function.\n",
      "WARNING:absl:<keras.layers.recurrent.LSTMCell object at 0x000001F23A9B7C70> has the same name 'LSTMCell' as a built-in Keras object. Consider renaming <class 'keras.layers.recurrent.LSTMCell'> to avoid naming conflicts when loading with `tf.keras.models.load_model`. If renaming is not possible, pass the object in the `custom_objects` parameter of the load function.\n",
      "WARNING:absl:<keras.layers.recurrent.LSTMCell object at 0x000001F23AA4C7C0> has the same name 'LSTMCell' as a built-in Keras object. Consider renaming <class 'keras.layers.recurrent.LSTMCell'> to avoid naming conflicts when loading with `tf.keras.models.load_model`. If renaming is not possible, pass the object in the `custom_objects` parameter of the load function.\n",
      "WARNING:absl:<keras.layers.recurrent.LSTMCell object at 0x000001F243A276A0> has the same name 'LSTMCell' as a built-in Keras object. Consider renaming <class 'keras.layers.recurrent.LSTMCell'> to avoid naming conflicts when loading with `tf.keras.models.load_model`. If renaming is not possible, pass the object in the `custom_objects` parameter of the load function.\n",
      "WARNING:absl:<keras.layers.recurrent.LSTMCell object at 0x000001F243A2D070> has the same name 'LSTMCell' as a built-in Keras object. Consider renaming <class 'keras.layers.recurrent.LSTMCell'> to avoid naming conflicts when loading with `tf.keras.models.load_model`. If renaming is not possible, pass the object in the `custom_objects` parameter of the load function.\n"
     ]
    },
    {
     "name": "stdout",
     "output_type": "stream",
     "text": [
      "164/164 [==============================] - 74s 323ms/step - loss: 0.5587 - binary_accuracy: 0.6976 - auc: 0.7753 - mcc_metric: nan - precision: 0.5721 - true_negatives: 2306.0000 - true_positives: 1353.0000 - false_negatives: 574.0000 - false_positives: 1012.0000 - val_loss: 0.6264 - val_binary_accuracy: 0.7460 - val_auc: 0.8420 - val_mcc_metric: 0.4876 - val_precision: 0.6172 - val_true_negatives: 459.0000 - val_true_positives: 287.0000 - val_false_negatives: 76.0000 - val_false_positives: 178.0000\n",
      "Epoch 2/60\n",
      "164/164 [==============================] - ETA: 0s - loss: 0.5065 - binary_accuracy: 0.7847 - auc: 0.8184 - mcc_metric: 0.5457 - precision: 0.7127 - true_negatives: 2779.0000 - true_positives: 1337.0000 - false_negatives: 590.0000 - false_positives: 539.0000\n",
      "Epoch 00002: val_auc improved from 0.84196 to 0.84921, saving model to F:/bbb/model/nlp\\model_33.tf\n"
     ]
    },
    {
     "name": "stderr",
     "output_type": "stream",
     "text": [
      "WARNING:absl:Found untraced functions such as lstm_cell_1_layer_call_fn, lstm_cell_1_layer_call_and_return_conditional_losses, lstm_cell_2_layer_call_fn, lstm_cell_2_layer_call_and_return_conditional_losses, lstm_cell_4_layer_call_fn while saving (showing 5 of 30). These functions will not be directly callable after loading.\n"
     ]
    },
    {
     "name": "stdout",
     "output_type": "stream",
     "text": [
      "INFO:tensorflow:Assets written to: F:/bbb/model/nlp\\model_33.tf\\assets\n"
     ]
    },
    {
     "name": "stderr",
     "output_type": "stream",
     "text": [
      "INFO:tensorflow:Assets written to: F:/bbb/model/nlp\\model_33.tf\\assets\n",
      "WARNING:absl:<keras.layers.recurrent.LSTMCell object at 0x000001F22930BEB0> has the same name 'LSTMCell' as a built-in Keras object. Consider renaming <class 'keras.layers.recurrent.LSTMCell'> to avoid naming conflicts when loading with `tf.keras.models.load_model`. If renaming is not possible, pass the object in the `custom_objects` parameter of the load function.\n",
      "WARNING:absl:<keras.layers.recurrent.LSTMCell object at 0x000001F229586070> has the same name 'LSTMCell' as a built-in Keras object. Consider renaming <class 'keras.layers.recurrent.LSTMCell'> to avoid naming conflicts when loading with `tf.keras.models.load_model`. If renaming is not possible, pass the object in the `custom_objects` parameter of the load function.\n",
      "WARNING:absl:<keras.layers.recurrent.LSTMCell object at 0x000001F23A9B7C70> has the same name 'LSTMCell' as a built-in Keras object. Consider renaming <class 'keras.layers.recurrent.LSTMCell'> to avoid naming conflicts when loading with `tf.keras.models.load_model`. If renaming is not possible, pass the object in the `custom_objects` parameter of the load function.\n",
      "WARNING:absl:<keras.layers.recurrent.LSTMCell object at 0x000001F23AA4C7C0> has the same name 'LSTMCell' as a built-in Keras object. Consider renaming <class 'keras.layers.recurrent.LSTMCell'> to avoid naming conflicts when loading with `tf.keras.models.load_model`. If renaming is not possible, pass the object in the `custom_objects` parameter of the load function.\n",
      "WARNING:absl:<keras.layers.recurrent.LSTMCell object at 0x000001F243A276A0> has the same name 'LSTMCell' as a built-in Keras object. Consider renaming <class 'keras.layers.recurrent.LSTMCell'> to avoid naming conflicts when loading with `tf.keras.models.load_model`. If renaming is not possible, pass the object in the `custom_objects` parameter of the load function.\n",
      "WARNING:absl:<keras.layers.recurrent.LSTMCell object at 0x000001F243A2D070> has the same name 'LSTMCell' as a built-in Keras object. Consider renaming <class 'keras.layers.recurrent.LSTMCell'> to avoid naming conflicts when loading with `tf.keras.models.load_model`. If renaming is not possible, pass the object in the `custom_objects` parameter of the load function.\n"
     ]
    },
    {
     "name": "stdout",
     "output_type": "stream",
     "text": [
      "164/164 [==============================] - 48s 292ms/step - loss: 0.5065 - binary_accuracy: 0.7847 - auc: 0.8184 - mcc_metric: 0.5457 - precision: 0.7127 - true_negatives: 2779.0000 - true_positives: 1337.0000 - false_negatives: 590.0000 - false_positives: 539.0000 - val_loss: 0.4639 - val_binary_accuracy: 0.8020 - val_auc: 0.8492 - val_mcc_metric: 0.5584 - val_precision: 0.7603 - val_true_negatives: 561.0000 - val_true_positives: 241.0000 - val_false_negatives: 122.0000 - val_false_positives: 76.0000\n",
      "Epoch 3/60\n",
      "164/164 [==============================] - ETA: 0s - loss: 0.4790 - binary_accuracy: 0.8015 - auc: 0.8427 - mcc_metric: 0.5766 - precision: 0.7307 - true_negatives: 2801.0000 - true_positives: 1403.0000 - false_negatives: 524.0000 - false_positives: 517.0000\n",
      "Epoch 00003: val_auc improved from 0.84921 to 0.87295, saving model to F:/bbb/model/nlp\\model_33.tf\n"
     ]
    },
    {
     "name": "stderr",
     "output_type": "stream",
     "text": [
      "WARNING:absl:Found untraced functions such as lstm_cell_1_layer_call_fn, lstm_cell_1_layer_call_and_return_conditional_losses, lstm_cell_2_layer_call_fn, lstm_cell_2_layer_call_and_return_conditional_losses, lstm_cell_4_layer_call_fn while saving (showing 5 of 30). These functions will not be directly callable after loading.\n"
     ]
    },
    {
     "name": "stdout",
     "output_type": "stream",
     "text": [
      "INFO:tensorflow:Assets written to: F:/bbb/model/nlp\\model_33.tf\\assets\n"
     ]
    },
    {
     "name": "stderr",
     "output_type": "stream",
     "text": [
      "INFO:tensorflow:Assets written to: F:/bbb/model/nlp\\model_33.tf\\assets\n",
      "WARNING:absl:<keras.layers.recurrent.LSTMCell object at 0x000001F22930BEB0> has the same name 'LSTMCell' as a built-in Keras object. Consider renaming <class 'keras.layers.recurrent.LSTMCell'> to avoid naming conflicts when loading with `tf.keras.models.load_model`. If renaming is not possible, pass the object in the `custom_objects` parameter of the load function.\n",
      "WARNING:absl:<keras.layers.recurrent.LSTMCell object at 0x000001F229586070> has the same name 'LSTMCell' as a built-in Keras object. Consider renaming <class 'keras.layers.recurrent.LSTMCell'> to avoid naming conflicts when loading with `tf.keras.models.load_model`. If renaming is not possible, pass the object in the `custom_objects` parameter of the load function.\n",
      "WARNING:absl:<keras.layers.recurrent.LSTMCell object at 0x000001F23A9B7C70> has the same name 'LSTMCell' as a built-in Keras object. Consider renaming <class 'keras.layers.recurrent.LSTMCell'> to avoid naming conflicts when loading with `tf.keras.models.load_model`. If renaming is not possible, pass the object in the `custom_objects` parameter of the load function.\n",
      "WARNING:absl:<keras.layers.recurrent.LSTMCell object at 0x000001F23AA4C7C0> has the same name 'LSTMCell' as a built-in Keras object. Consider renaming <class 'keras.layers.recurrent.LSTMCell'> to avoid naming conflicts when loading with `tf.keras.models.load_model`. If renaming is not possible, pass the object in the `custom_objects` parameter of the load function.\n",
      "WARNING:absl:<keras.layers.recurrent.LSTMCell object at 0x000001F243A276A0> has the same name 'LSTMCell' as a built-in Keras object. Consider renaming <class 'keras.layers.recurrent.LSTMCell'> to avoid naming conflicts when loading with `tf.keras.models.load_model`. If renaming is not possible, pass the object in the `custom_objects` parameter of the load function.\n",
      "WARNING:absl:<keras.layers.recurrent.LSTMCell object at 0x000001F243A2D070> has the same name 'LSTMCell' as a built-in Keras object. Consider renaming <class 'keras.layers.recurrent.LSTMCell'> to avoid naming conflicts when loading with `tf.keras.models.load_model`. If renaming is not possible, pass the object in the `custom_objects` parameter of the load function.\n"
     ]
    },
    {
     "name": "stdout",
     "output_type": "stream",
     "text": [
      "164/164 [==============================] - 47s 285ms/step - loss: 0.4790 - binary_accuracy: 0.8015 - auc: 0.8427 - mcc_metric: 0.5766 - precision: 0.7307 - true_negatives: 2801.0000 - true_positives: 1403.0000 - false_negatives: 524.0000 - false_positives: 517.0000 - val_loss: 0.4488 - val_binary_accuracy: 0.8090 - val_auc: 0.8729 - val_mcc_metric: 0.5884 - val_precision: 0.7350 - val_true_negatives: 540.0000 - val_true_positives: 269.0000 - val_false_negatives: 94.0000 - val_false_positives: 97.0000\n",
      "Epoch 4/60\n",
      "164/164 [==============================] - ETA: 0s - loss: 0.4624 - binary_accuracy: 0.8084 - auc: 0.8564 - mcc_metric: 0.5888 - precision: 0.7352 - true_negatives: 2799.0000 - true_positives: 1441.0000 - false_negatives: 486.0000 - false_positives: 519.0000\n",
      "Epoch 00004: val_auc improved from 0.87295 to 0.87616, saving model to F:/bbb/model/nlp\\model_33.tf\n"
     ]
    },
    {
     "name": "stderr",
     "output_type": "stream",
     "text": [
      "WARNING:absl:Found untraced functions such as lstm_cell_1_layer_call_fn, lstm_cell_1_layer_call_and_return_conditional_losses, lstm_cell_2_layer_call_fn, lstm_cell_2_layer_call_and_return_conditional_losses, lstm_cell_4_layer_call_fn while saving (showing 5 of 30). These functions will not be directly callable after loading.\n"
     ]
    },
    {
     "name": "stdout",
     "output_type": "stream",
     "text": [
      "INFO:tensorflow:Assets written to: F:/bbb/model/nlp\\model_33.tf\\assets\n"
     ]
    },
    {
     "name": "stderr",
     "output_type": "stream",
     "text": [
      "INFO:tensorflow:Assets written to: F:/bbb/model/nlp\\model_33.tf\\assets\n",
      "WARNING:absl:<keras.layers.recurrent.LSTMCell object at 0x000001F22930BEB0> has the same name 'LSTMCell' as a built-in Keras object. Consider renaming <class 'keras.layers.recurrent.LSTMCell'> to avoid naming conflicts when loading with `tf.keras.models.load_model`. If renaming is not possible, pass the object in the `custom_objects` parameter of the load function.\n",
      "WARNING:absl:<keras.layers.recurrent.LSTMCell object at 0x000001F229586070> has the same name 'LSTMCell' as a built-in Keras object. Consider renaming <class 'keras.layers.recurrent.LSTMCell'> to avoid naming conflicts when loading with `tf.keras.models.load_model`. If renaming is not possible, pass the object in the `custom_objects` parameter of the load function.\n",
      "WARNING:absl:<keras.layers.recurrent.LSTMCell object at 0x000001F23A9B7C70> has the same name 'LSTMCell' as a built-in Keras object. Consider renaming <class 'keras.layers.recurrent.LSTMCell'> to avoid naming conflicts when loading with `tf.keras.models.load_model`. If renaming is not possible, pass the object in the `custom_objects` parameter of the load function.\n",
      "WARNING:absl:<keras.layers.recurrent.LSTMCell object at 0x000001F23AA4C7C0> has the same name 'LSTMCell' as a built-in Keras object. Consider renaming <class 'keras.layers.recurrent.LSTMCell'> to avoid naming conflicts when loading with `tf.keras.models.load_model`. If renaming is not possible, pass the object in the `custom_objects` parameter of the load function.\n",
      "WARNING:absl:<keras.layers.recurrent.LSTMCell object at 0x000001F243A276A0> has the same name 'LSTMCell' as a built-in Keras object. Consider renaming <class 'keras.layers.recurrent.LSTMCell'> to avoid naming conflicts when loading with `tf.keras.models.load_model`. If renaming is not possible, pass the object in the `custom_objects` parameter of the load function.\n",
      "WARNING:absl:<keras.layers.recurrent.LSTMCell object at 0x000001F243A2D070> has the same name 'LSTMCell' as a built-in Keras object. Consider renaming <class 'keras.layers.recurrent.LSTMCell'> to avoid naming conflicts when loading with `tf.keras.models.load_model`. If renaming is not possible, pass the object in the `custom_objects` parameter of the load function.\n"
     ]
    },
    {
     "name": "stdout",
     "output_type": "stream",
     "text": [
      "164/164 [==============================] - 57s 350ms/step - loss: 0.4624 - binary_accuracy: 0.8084 - auc: 0.8564 - mcc_metric: 0.5888 - precision: 0.7352 - true_negatives: 2799.0000 - true_positives: 1441.0000 - false_negatives: 486.0000 - false_positives: 519.0000 - val_loss: 0.4331 - val_binary_accuracy: 0.8030 - val_auc: 0.8762 - val_mcc_metric: 0.5877 - val_precision: 0.7015 - val_true_negatives: 514.0000 - val_true_positives: 289.0000 - val_false_negatives: 74.0000 - val_false_positives: 123.0000\n",
      "Epoch 5/60\n",
      "164/164 [==============================] - ETA: 0s - loss: 0.4510 - binary_accuracy: 0.8120 - auc: 0.8640 - mcc_metric: 0.6055 - precision: 0.7380 - true_negatives: 2800.0000 - true_positives: 1459.0000 - false_negatives: 468.0000 - false_positives: 518.0000\n",
      "Epoch 00005: val_auc improved from 0.87616 to 0.87979, saving model to F:/bbb/model/nlp\\model_33.tf\n"
     ]
    },
    {
     "name": "stderr",
     "output_type": "stream",
     "text": [
      "WARNING:absl:Found untraced functions such as lstm_cell_1_layer_call_fn, lstm_cell_1_layer_call_and_return_conditional_losses, lstm_cell_2_layer_call_fn, lstm_cell_2_layer_call_and_return_conditional_losses, lstm_cell_4_layer_call_fn while saving (showing 5 of 30). These functions will not be directly callable after loading.\n"
     ]
    },
    {
     "name": "stdout",
     "output_type": "stream",
     "text": [
      "INFO:tensorflow:Assets written to: F:/bbb/model/nlp\\model_33.tf\\assets\n"
     ]
    },
    {
     "name": "stderr",
     "output_type": "stream",
     "text": [
      "INFO:tensorflow:Assets written to: F:/bbb/model/nlp\\model_33.tf\\assets\n",
      "WARNING:absl:<keras.layers.recurrent.LSTMCell object at 0x000001F22930BEB0> has the same name 'LSTMCell' as a built-in Keras object. Consider renaming <class 'keras.layers.recurrent.LSTMCell'> to avoid naming conflicts when loading with `tf.keras.models.load_model`. If renaming is not possible, pass the object in the `custom_objects` parameter of the load function.\n",
      "WARNING:absl:<keras.layers.recurrent.LSTMCell object at 0x000001F229586070> has the same name 'LSTMCell' as a built-in Keras object. Consider renaming <class 'keras.layers.recurrent.LSTMCell'> to avoid naming conflicts when loading with `tf.keras.models.load_model`. If renaming is not possible, pass the object in the `custom_objects` parameter of the load function.\n",
      "WARNING:absl:<keras.layers.recurrent.LSTMCell object at 0x000001F23A9B7C70> has the same name 'LSTMCell' as a built-in Keras object. Consider renaming <class 'keras.layers.recurrent.LSTMCell'> to avoid naming conflicts when loading with `tf.keras.models.load_model`. If renaming is not possible, pass the object in the `custom_objects` parameter of the load function.\n",
      "WARNING:absl:<keras.layers.recurrent.LSTMCell object at 0x000001F23AA4C7C0> has the same name 'LSTMCell' as a built-in Keras object. Consider renaming <class 'keras.layers.recurrent.LSTMCell'> to avoid naming conflicts when loading with `tf.keras.models.load_model`. If renaming is not possible, pass the object in the `custom_objects` parameter of the load function.\n",
      "WARNING:absl:<keras.layers.recurrent.LSTMCell object at 0x000001F243A276A0> has the same name 'LSTMCell' as a built-in Keras object. Consider renaming <class 'keras.layers.recurrent.LSTMCell'> to avoid naming conflicts when loading with `tf.keras.models.load_model`. If renaming is not possible, pass the object in the `custom_objects` parameter of the load function.\n",
      "WARNING:absl:<keras.layers.recurrent.LSTMCell object at 0x000001F243A2D070> has the same name 'LSTMCell' as a built-in Keras object. Consider renaming <class 'keras.layers.recurrent.LSTMCell'> to avoid naming conflicts when loading with `tf.keras.models.load_model`. If renaming is not possible, pass the object in the `custom_objects` parameter of the load function.\n"
     ]
    },
    {
     "name": "stdout",
     "output_type": "stream",
     "text": [
      "164/164 [==============================] - 54s 328ms/step - loss: 0.4510 - binary_accuracy: 0.8120 - auc: 0.8640 - mcc_metric: 0.6055 - precision: 0.7380 - true_negatives: 2800.0000 - true_positives: 1459.0000 - false_negatives: 468.0000 - false_positives: 518.0000 - val_loss: 0.4195 - val_binary_accuracy: 0.8220 - val_auc: 0.8798 - val_mcc_metric: 0.6172 - val_precision: 0.7591 - val_true_negatives: 551.0000 - val_true_positives: 271.0000 - val_false_negatives: 92.0000 - val_false_positives: 86.0000\n",
      "Epoch 6/60\n",
      "164/164 [==============================] - ETA: 0s - loss: 0.4419 - binary_accuracy: 0.8080 - auc: 0.8719 - mcc_metric: 0.5936 - precision: 0.7201 - true_negatives: 2733.0000 - true_positives: 1505.0000 - false_negatives: 422.0000 - false_positives: 585.0000\n",
      "Epoch 00006: val_auc did not improve from 0.87979\n",
      "164/164 [==============================] - 14s 87ms/step - loss: 0.4419 - binary_accuracy: 0.8080 - auc: 0.8719 - mcc_metric: 0.5936 - precision: 0.7201 - true_negatives: 2733.0000 - true_positives: 1505.0000 - false_negatives: 422.0000 - false_positives: 585.0000 - val_loss: 0.4857 - val_binary_accuracy: 0.7340 - val_auc: 0.8786 - val_mcc_metric: 0.5086 - val_precision: 0.5907 - val_true_negatives: 418.0000 - val_true_positives: 316.0000 - val_false_negatives: 47.0000 - val_false_positives: 219.0000\n",
      "Epoch 7/60\n",
      "164/164 [==============================] - ETA: 0s - loss: 0.4325 - binary_accuracy: 0.8229 - auc: 0.8763 - mcc_metric: 0.6296 - precision: 0.7461 - true_negatives: 2803.0000 - true_positives: 1513.0000 - false_negatives: 414.0000 - false_positives: 515.0000\n",
      "Epoch 00007: val_auc did not improve from 0.87979\n",
      "164/164 [==============================] - 13s 82ms/step - loss: 0.4325 - binary_accuracy: 0.8229 - auc: 0.8763 - mcc_metric: 0.6296 - precision: 0.7461 - true_negatives: 2803.0000 - true_positives: 1513.0000 - false_negatives: 414.0000 - false_positives: 515.0000 - val_loss: 0.5671 - val_binary_accuracy: 0.6520 - val_auc: 0.8681 - val_mcc_metric: 0.4266 - val_precision: 0.5114 - val_true_negatives: 315.0000 - val_true_positives: 337.0000 - val_false_negatives: 26.0000 - val_false_positives: 322.0000\n",
      "Epoch 8/60\n",
      "164/164 [==============================] - ETA: 0s - loss: 0.4312 - binary_accuracy: 0.8048 - auc: 0.8794 - mcc_metric: 0.6018 - precision: 0.7111 - true_negatives: 2700.0000 - true_positives: 1521.0000 - false_negatives: 406.0000 - false_positives: 618.0000\n",
      "Epoch 00008: val_auc improved from 0.87979 to 0.88954, saving model to F:/bbb/model/nlp\\model_33.tf\n"
     ]
    },
    {
     "name": "stderr",
     "output_type": "stream",
     "text": [
      "WARNING:absl:Found untraced functions such as lstm_cell_1_layer_call_fn, lstm_cell_1_layer_call_and_return_conditional_losses, lstm_cell_2_layer_call_fn, lstm_cell_2_layer_call_and_return_conditional_losses, lstm_cell_4_layer_call_fn while saving (showing 5 of 30). These functions will not be directly callable after loading.\n"
     ]
    },
    {
     "name": "stdout",
     "output_type": "stream",
     "text": [
      "INFO:tensorflow:Assets written to: F:/bbb/model/nlp\\model_33.tf\\assets\n"
     ]
    },
    {
     "name": "stderr",
     "output_type": "stream",
     "text": [
      "INFO:tensorflow:Assets written to: F:/bbb/model/nlp\\model_33.tf\\assets\n",
      "WARNING:absl:<keras.layers.recurrent.LSTMCell object at 0x000001F22930BEB0> has the same name 'LSTMCell' as a built-in Keras object. Consider renaming <class 'keras.layers.recurrent.LSTMCell'> to avoid naming conflicts when loading with `tf.keras.models.load_model`. If renaming is not possible, pass the object in the `custom_objects` parameter of the load function.\n",
      "WARNING:absl:<keras.layers.recurrent.LSTMCell object at 0x000001F229586070> has the same name 'LSTMCell' as a built-in Keras object. Consider renaming <class 'keras.layers.recurrent.LSTMCell'> to avoid naming conflicts when loading with `tf.keras.models.load_model`. If renaming is not possible, pass the object in the `custom_objects` parameter of the load function.\n",
      "WARNING:absl:<keras.layers.recurrent.LSTMCell object at 0x000001F23A9B7C70> has the same name 'LSTMCell' as a built-in Keras object. Consider renaming <class 'keras.layers.recurrent.LSTMCell'> to avoid naming conflicts when loading with `tf.keras.models.load_model`. If renaming is not possible, pass the object in the `custom_objects` parameter of the load function.\n",
      "WARNING:absl:<keras.layers.recurrent.LSTMCell object at 0x000001F23AA4C7C0> has the same name 'LSTMCell' as a built-in Keras object. Consider renaming <class 'keras.layers.recurrent.LSTMCell'> to avoid naming conflicts when loading with `tf.keras.models.load_model`. If renaming is not possible, pass the object in the `custom_objects` parameter of the load function.\n",
      "WARNING:absl:<keras.layers.recurrent.LSTMCell object at 0x000001F243A276A0> has the same name 'LSTMCell' as a built-in Keras object. Consider renaming <class 'keras.layers.recurrent.LSTMCell'> to avoid naming conflicts when loading with `tf.keras.models.load_model`. If renaming is not possible, pass the object in the `custom_objects` parameter of the load function.\n",
      "WARNING:absl:<keras.layers.recurrent.LSTMCell object at 0x000001F243A2D070> has the same name 'LSTMCell' as a built-in Keras object. Consider renaming <class 'keras.layers.recurrent.LSTMCell'> to avoid naming conflicts when loading with `tf.keras.models.load_model`. If renaming is not possible, pass the object in the `custom_objects` parameter of the load function.\n"
     ]
    },
    {
     "name": "stdout",
     "output_type": "stream",
     "text": [
      "164/164 [==============================] - 50s 309ms/step - loss: 0.4312 - binary_accuracy: 0.8048 - auc: 0.8794 - mcc_metric: 0.6018 - precision: 0.7111 - true_negatives: 2700.0000 - true_positives: 1521.0000 - false_negatives: 406.0000 - false_positives: 618.0000 - val_loss: 0.4600 - val_binary_accuracy: 0.7770 - val_auc: 0.8895 - val_mcc_metric: 0.5692 - val_precision: 0.6417 - val_true_negatives: 460.0000 - val_true_positives: 317.0000 - val_false_negatives: 46.0000 - val_false_positives: 177.0000\n",
      "Epoch 9/60\n",
      "164/164 [==============================] - ETA: 0s - loss: 0.4199 - binary_accuracy: 0.8118 - auc: 0.8858 - mcc_metric: 0.6145 - precision: 0.7188 - true_negatives: 2714.0000 - true_positives: 1544.0000 - false_negatives: 383.0000 - false_positives: 604.0000\n",
      "Epoch 00009: val_auc did not improve from 0.88954\n",
      "164/164 [==============================] - 13s 81ms/step - loss: 0.4199 - binary_accuracy: 0.8118 - auc: 0.8858 - mcc_metric: 0.6145 - precision: 0.7188 - true_negatives: 2714.0000 - true_positives: 1544.0000 - false_negatives: 383.0000 - false_positives: 604.0000 - val_loss: 0.4334 - val_binary_accuracy: 0.8120 - val_auc: 0.8767 - val_mcc_metric: 0.6052 - val_precision: 0.7371 - val_true_negatives: 540.0000 - val_true_positives: 272.0000 - val_false_negatives: 91.0000 - val_false_positives: 97.0000\n",
      "Epoch 10/60\n",
      "163/164 [============================>.] - ETA: 0s - loss: 0.4043 - binary_accuracy: 0.8317 - auc: 0.8956 - mcc_metric: 0.6458 - precision: 0.7535 - true_negatives: 2791.0000 - true_positives: 1547.0000 - false_negatives: 372.0000 - false_positives: 506.0000\n",
      "Epoch 00010: val_auc improved from 0.88954 to 0.89941, saving model to F:/bbb/model/nlp\\model_33.tf\n"
     ]
    },
    {
     "name": "stderr",
     "output_type": "stream",
     "text": [
      "WARNING:absl:Found untraced functions such as lstm_cell_1_layer_call_fn, lstm_cell_1_layer_call_and_return_conditional_losses, lstm_cell_2_layer_call_fn, lstm_cell_2_layer_call_and_return_conditional_losses, lstm_cell_4_layer_call_fn while saving (showing 5 of 30). These functions will not be directly callable after loading.\n"
     ]
    },
    {
     "name": "stdout",
     "output_type": "stream",
     "text": [
      "INFO:tensorflow:Assets written to: F:/bbb/model/nlp\\model_33.tf\\assets\n"
     ]
    },
    {
     "name": "stderr",
     "output_type": "stream",
     "text": [
      "INFO:tensorflow:Assets written to: F:/bbb/model/nlp\\model_33.tf\\assets\n",
      "WARNING:absl:<keras.layers.recurrent.LSTMCell object at 0x000001F22930BEB0> has the same name 'LSTMCell' as a built-in Keras object. Consider renaming <class 'keras.layers.recurrent.LSTMCell'> to avoid naming conflicts when loading with `tf.keras.models.load_model`. If renaming is not possible, pass the object in the `custom_objects` parameter of the load function.\n",
      "WARNING:absl:<keras.layers.recurrent.LSTMCell object at 0x000001F229586070> has the same name 'LSTMCell' as a built-in Keras object. Consider renaming <class 'keras.layers.recurrent.LSTMCell'> to avoid naming conflicts when loading with `tf.keras.models.load_model`. If renaming is not possible, pass the object in the `custom_objects` parameter of the load function.\n",
      "WARNING:absl:<keras.layers.recurrent.LSTMCell object at 0x000001F23A9B7C70> has the same name 'LSTMCell' as a built-in Keras object. Consider renaming <class 'keras.layers.recurrent.LSTMCell'> to avoid naming conflicts when loading with `tf.keras.models.load_model`. If renaming is not possible, pass the object in the `custom_objects` parameter of the load function.\n",
      "WARNING:absl:<keras.layers.recurrent.LSTMCell object at 0x000001F23AA4C7C0> has the same name 'LSTMCell' as a built-in Keras object. Consider renaming <class 'keras.layers.recurrent.LSTMCell'> to avoid naming conflicts when loading with `tf.keras.models.load_model`. If renaming is not possible, pass the object in the `custom_objects` parameter of the load function.\n",
      "WARNING:absl:<keras.layers.recurrent.LSTMCell object at 0x000001F243A276A0> has the same name 'LSTMCell' as a built-in Keras object. Consider renaming <class 'keras.layers.recurrent.LSTMCell'> to avoid naming conflicts when loading with `tf.keras.models.load_model`. If renaming is not possible, pass the object in the `custom_objects` parameter of the load function.\n",
      "WARNING:absl:<keras.layers.recurrent.LSTMCell object at 0x000001F243A2D070> has the same name 'LSTMCell' as a built-in Keras object. Consider renaming <class 'keras.layers.recurrent.LSTMCell'> to avoid naming conflicts when loading with `tf.keras.models.load_model`. If renaming is not possible, pass the object in the `custom_objects` parameter of the load function.\n"
     ]
    },
    {
     "name": "stdout",
     "output_type": "stream",
     "text": [
      "164/164 [==============================] - 46s 282ms/step - loss: 0.4040 - binary_accuracy: 0.8318 - auc: 0.8956 - mcc_metric: 0.6461 - precision: 0.7533 - true_negatives: 2809.0000 - true_positives: 1554.0000 - false_negatives: 373.0000 - false_positives: 509.0000 - val_loss: 0.4191 - val_binary_accuracy: 0.8120 - val_auc: 0.8994 - val_mcc_metric: 0.6139 - val_precision: 0.7108 - val_true_negatives: 517.0000 - val_true_positives: 295.0000 - val_false_negatives: 68.0000 - val_false_positives: 120.0000\n",
      "Epoch 11/60\n",
      "164/164 [==============================] - ETA: 0s - loss: 0.4021 - binary_accuracy: 0.8259 - auc: 0.8963 - mcc_metric: 0.6404 - precision: 0.7459 - true_negatives: 2794.0000 - true_positives: 1538.0000 - false_negatives: 389.0000 - false_positives: 524.0000\n",
      "Epoch 00011: val_auc improved from 0.89941 to 0.90780, saving model to F:/bbb/model/nlp\\model_33.tf\n"
     ]
    },
    {
     "name": "stderr",
     "output_type": "stream",
     "text": [
      "WARNING:absl:Found untraced functions such as lstm_cell_1_layer_call_fn, lstm_cell_1_layer_call_and_return_conditional_losses, lstm_cell_2_layer_call_fn, lstm_cell_2_layer_call_and_return_conditional_losses, lstm_cell_4_layer_call_fn while saving (showing 5 of 30). These functions will not be directly callable after loading.\n"
     ]
    },
    {
     "name": "stdout",
     "output_type": "stream",
     "text": [
      "INFO:tensorflow:Assets written to: F:/bbb/model/nlp\\model_33.tf\\assets\n"
     ]
    },
    {
     "name": "stderr",
     "output_type": "stream",
     "text": [
      "INFO:tensorflow:Assets written to: F:/bbb/model/nlp\\model_33.tf\\assets\n",
      "WARNING:absl:<keras.layers.recurrent.LSTMCell object at 0x000001F22930BEB0> has the same name 'LSTMCell' as a built-in Keras object. Consider renaming <class 'keras.layers.recurrent.LSTMCell'> to avoid naming conflicts when loading with `tf.keras.models.load_model`. If renaming is not possible, pass the object in the `custom_objects` parameter of the load function.\n",
      "WARNING:absl:<keras.layers.recurrent.LSTMCell object at 0x000001F229586070> has the same name 'LSTMCell' as a built-in Keras object. Consider renaming <class 'keras.layers.recurrent.LSTMCell'> to avoid naming conflicts when loading with `tf.keras.models.load_model`. If renaming is not possible, pass the object in the `custom_objects` parameter of the load function.\n",
      "WARNING:absl:<keras.layers.recurrent.LSTMCell object at 0x000001F23A9B7C70> has the same name 'LSTMCell' as a built-in Keras object. Consider renaming <class 'keras.layers.recurrent.LSTMCell'> to avoid naming conflicts when loading with `tf.keras.models.load_model`. If renaming is not possible, pass the object in the `custom_objects` parameter of the load function.\n",
      "WARNING:absl:<keras.layers.recurrent.LSTMCell object at 0x000001F23AA4C7C0> has the same name 'LSTMCell' as a built-in Keras object. Consider renaming <class 'keras.layers.recurrent.LSTMCell'> to avoid naming conflicts when loading with `tf.keras.models.load_model`. If renaming is not possible, pass the object in the `custom_objects` parameter of the load function.\n",
      "WARNING:absl:<keras.layers.recurrent.LSTMCell object at 0x000001F243A276A0> has the same name 'LSTMCell' as a built-in Keras object. Consider renaming <class 'keras.layers.recurrent.LSTMCell'> to avoid naming conflicts when loading with `tf.keras.models.load_model`. If renaming is not possible, pass the object in the `custom_objects` parameter of the load function.\n",
      "WARNING:absl:<keras.layers.recurrent.LSTMCell object at 0x000001F243A2D070> has the same name 'LSTMCell' as a built-in Keras object. Consider renaming <class 'keras.layers.recurrent.LSTMCell'> to avoid naming conflicts when loading with `tf.keras.models.load_model`. If renaming is not possible, pass the object in the `custom_objects` parameter of the load function.\n"
     ]
    },
    {
     "name": "stdout",
     "output_type": "stream",
     "text": [
      "164/164 [==============================] - 52s 318ms/step - loss: 0.4021 - binary_accuracy: 0.8259 - auc: 0.8963 - mcc_metric: 0.6404 - precision: 0.7459 - true_negatives: 2794.0000 - true_positives: 1538.0000 - false_negatives: 389.0000 - false_positives: 524.0000 - val_loss: 0.3667 - val_binary_accuracy: 0.8350 - val_auc: 0.9078 - val_mcc_metric: 0.6446 - val_precision: 0.7705 - val_true_negatives: 553.0000 - val_true_positives: 282.0000 - val_false_negatives: 81.0000 - val_false_positives: 84.0000\n",
      "Epoch 12/60\n",
      "164/164 [==============================] - ETA: 0s - loss: 0.3874 - binary_accuracy: 0.8357 - auc: 0.9048 - mcc_metric: 0.6560 - precision: 0.7539 - true_negatives: 2802.0000 - true_positives: 1581.0000 - false_negatives: 346.0000 - false_positives: 516.0000\n",
      "Epoch 00012: val_auc did not improve from 0.90780\n",
      "164/164 [==============================] - 15s 93ms/step - loss: 0.3874 - binary_accuracy: 0.8357 - auc: 0.9048 - mcc_metric: 0.6560 - precision: 0.7539 - true_negatives: 2802.0000 - true_positives: 1581.0000 - false_negatives: 346.0000 - false_positives: 516.0000 - val_loss: 0.3760 - val_binary_accuracy: 0.8370 - val_auc: 0.8997 - val_mcc_metric: 0.6338 - val_precision: 0.8378 - val_true_negatives: 589.0000 - val_true_positives: 248.0000 - val_false_negatives: 115.0000 - val_false_positives: 48.0000\n",
      "Epoch 13/60\n",
      "163/164 [============================>.] - ETA: 0s - loss: 0.3708 - binary_accuracy: 0.8380 - auc: 0.9140 - mcc_metric: 0.6620 - precision: 0.7513 - true_negatives: 2770.0000 - true_positives: 1601.0000 - false_negatives: 315.0000 - false_positives: 530.0000\n",
      "Epoch 00013: val_auc did not improve from 0.90780\n",
      "164/164 [==============================] - 13s 80ms/step - loss: 0.3727 - binary_accuracy: 0.8374 - auc: 0.9130 - mcc_metric: 0.6603 - precision: 0.7512 - true_negatives: 2786.0000 - true_positives: 1606.0000 - false_negatives: 321.0000 - false_positives: 532.0000 - val_loss: 0.3698 - val_binary_accuracy: 0.8410 - val_auc: 0.9036 - val_mcc_metric: 0.6514 - val_precision: 0.8228 - val_true_negatives: 581.0000 - val_true_positives: 260.0000 - val_false_negatives: 103.0000 - val_false_positives: 56.0000\n",
      "Epoch 14/60\n",
      "164/164 [==============================] - ETA: 0s - loss: 0.3628 - binary_accuracy: 0.8439 - auc: 0.9174 - mcc_metric: 0.6762 - precision: 0.7653 - true_negatives: 2828.0000 - true_positives: 1598.0000 - false_negatives: 329.0000 - false_positives: 490.0000TA: 11s - loss: 0.3731 - bi\n",
      "Epoch 00014: val_auc did not improve from 0.90780\n",
      "164/164 [==============================] - 14s 87ms/step - loss: 0.3628 - binary_accuracy: 0.8439 - auc: 0.9174 - mcc_metric: 0.6762 - precision: 0.7653 - true_negatives: 2828.0000 - true_positives: 1598.0000 - false_negatives: 329.0000 - false_positives: 490.0000 - val_loss: 0.3794 - val_binary_accuracy: 0.8270 - val_auc: 0.9065 - val_mcc_metric: 0.6411 - val_precision: 0.7340 - val_true_negatives: 529.0000 - val_true_positives: 298.0000 - val_false_negatives: 65.0000 - val_false_positives: 108.0000\n",
      "Epoch 15/60\n",
      "164/164 [==============================] - ETA: 0s - loss: 0.3418 - binary_accuracy: 0.8555 - auc: 0.9273 - mcc_metric: 0.6970 - precision: 0.7751 - true_negatives: 2840.0000 - true_positives: 1647.0000 - false_negatives: 280.0000 - false_positives: 478.0000\n",
      "Epoch 00015: val_auc improved from 0.90780 to 0.92005, saving model to F:/bbb/model/nlp\\model_33.tf\n"
     ]
    },
    {
     "name": "stderr",
     "output_type": "stream",
     "text": [
      "WARNING:absl:Found untraced functions such as lstm_cell_1_layer_call_fn, lstm_cell_1_layer_call_and_return_conditional_losses, lstm_cell_2_layer_call_fn, lstm_cell_2_layer_call_and_return_conditional_losses, lstm_cell_4_layer_call_fn while saving (showing 5 of 30). These functions will not be directly callable after loading.\n"
     ]
    },
    {
     "name": "stdout",
     "output_type": "stream",
     "text": [
      "INFO:tensorflow:Assets written to: F:/bbb/model/nlp\\model_33.tf\\assets\n"
     ]
    },
    {
     "name": "stderr",
     "output_type": "stream",
     "text": [
      "INFO:tensorflow:Assets written to: F:/bbb/model/nlp\\model_33.tf\\assets\n",
      "WARNING:absl:<keras.layers.recurrent.LSTMCell object at 0x000001F22930BEB0> has the same name 'LSTMCell' as a built-in Keras object. Consider renaming <class 'keras.layers.recurrent.LSTMCell'> to avoid naming conflicts when loading with `tf.keras.models.load_model`. If renaming is not possible, pass the object in the `custom_objects` parameter of the load function.\n",
      "WARNING:absl:<keras.layers.recurrent.LSTMCell object at 0x000001F229586070> has the same name 'LSTMCell' as a built-in Keras object. Consider renaming <class 'keras.layers.recurrent.LSTMCell'> to avoid naming conflicts when loading with `tf.keras.models.load_model`. If renaming is not possible, pass the object in the `custom_objects` parameter of the load function.\n",
      "WARNING:absl:<keras.layers.recurrent.LSTMCell object at 0x000001F23A9B7C70> has the same name 'LSTMCell' as a built-in Keras object. Consider renaming <class 'keras.layers.recurrent.LSTMCell'> to avoid naming conflicts when loading with `tf.keras.models.load_model`. If renaming is not possible, pass the object in the `custom_objects` parameter of the load function.\n",
      "WARNING:absl:<keras.layers.recurrent.LSTMCell object at 0x000001F23AA4C7C0> has the same name 'LSTMCell' as a built-in Keras object. Consider renaming <class 'keras.layers.recurrent.LSTMCell'> to avoid naming conflicts when loading with `tf.keras.models.load_model`. If renaming is not possible, pass the object in the `custom_objects` parameter of the load function.\n",
      "WARNING:absl:<keras.layers.recurrent.LSTMCell object at 0x000001F243A276A0> has the same name 'LSTMCell' as a built-in Keras object. Consider renaming <class 'keras.layers.recurrent.LSTMCell'> to avoid naming conflicts when loading with `tf.keras.models.load_model`. If renaming is not possible, pass the object in the `custom_objects` parameter of the load function.\n",
      "WARNING:absl:<keras.layers.recurrent.LSTMCell object at 0x000001F243A2D070> has the same name 'LSTMCell' as a built-in Keras object. Consider renaming <class 'keras.layers.recurrent.LSTMCell'> to avoid naming conflicts when loading with `tf.keras.models.load_model`. If renaming is not possible, pass the object in the `custom_objects` parameter of the load function.\n"
     ]
    },
    {
     "name": "stdout",
     "output_type": "stream",
     "text": [
      "164/164 [==============================] - 51s 315ms/step - loss: 0.3418 - binary_accuracy: 0.8555 - auc: 0.9273 - mcc_metric: 0.6970 - precision: 0.7751 - true_negatives: 2840.0000 - true_positives: 1647.0000 - false_negatives: 280.0000 - false_positives: 478.0000 - val_loss: 0.3504 - val_binary_accuracy: 0.8420 - val_auc: 0.9201 - val_mcc_metric: 0.6692 - val_precision: 0.7531 - val_true_negatives: 537.0000 - val_true_positives: 305.0000 - val_false_negatives: 58.0000 - val_false_positives: 100.0000\n",
      "Epoch 16/60\n",
      "164/164 [==============================] - ETA: 0s - loss: 0.3397 - binary_accuracy: 0.8513 - auc: 0.9282 - mcc_metric: 0.6896 - precision: 0.7651 - true_negatives: 2810.0000 - true_positives: 1655.0000 - false_negatives: 272.0000 - false_positives: 508.0000\n",
      "Epoch 00016: val_auc improved from 0.92005 to 0.92132, saving model to F:/bbb/model/nlp\\model_33.tf\n"
     ]
    },
    {
     "name": "stderr",
     "output_type": "stream",
     "text": [
      "WARNING:absl:Found untraced functions such as lstm_cell_1_layer_call_fn, lstm_cell_1_layer_call_and_return_conditional_losses, lstm_cell_2_layer_call_fn, lstm_cell_2_layer_call_and_return_conditional_losses, lstm_cell_4_layer_call_fn while saving (showing 5 of 30). These functions will not be directly callable after loading.\n"
     ]
    },
    {
     "name": "stdout",
     "output_type": "stream",
     "text": [
      "INFO:tensorflow:Assets written to: F:/bbb/model/nlp\\model_33.tf\\assets\n"
     ]
    },
    {
     "name": "stderr",
     "output_type": "stream",
     "text": [
      "INFO:tensorflow:Assets written to: F:/bbb/model/nlp\\model_33.tf\\assets\n",
      "WARNING:absl:<keras.layers.recurrent.LSTMCell object at 0x000001F22930BEB0> has the same name 'LSTMCell' as a built-in Keras object. Consider renaming <class 'keras.layers.recurrent.LSTMCell'> to avoid naming conflicts when loading with `tf.keras.models.load_model`. If renaming is not possible, pass the object in the `custom_objects` parameter of the load function.\n",
      "WARNING:absl:<keras.layers.recurrent.LSTMCell object at 0x000001F229586070> has the same name 'LSTMCell' as a built-in Keras object. Consider renaming <class 'keras.layers.recurrent.LSTMCell'> to avoid naming conflicts when loading with `tf.keras.models.load_model`. If renaming is not possible, pass the object in the `custom_objects` parameter of the load function.\n",
      "WARNING:absl:<keras.layers.recurrent.LSTMCell object at 0x000001F23A9B7C70> has the same name 'LSTMCell' as a built-in Keras object. Consider renaming <class 'keras.layers.recurrent.LSTMCell'> to avoid naming conflicts when loading with `tf.keras.models.load_model`. If renaming is not possible, pass the object in the `custom_objects` parameter of the load function.\n",
      "WARNING:absl:<keras.layers.recurrent.LSTMCell object at 0x000001F23AA4C7C0> has the same name 'LSTMCell' as a built-in Keras object. Consider renaming <class 'keras.layers.recurrent.LSTMCell'> to avoid naming conflicts when loading with `tf.keras.models.load_model`. If renaming is not possible, pass the object in the `custom_objects` parameter of the load function.\n",
      "WARNING:absl:<keras.layers.recurrent.LSTMCell object at 0x000001F243A276A0> has the same name 'LSTMCell' as a built-in Keras object. Consider renaming <class 'keras.layers.recurrent.LSTMCell'> to avoid naming conflicts when loading with `tf.keras.models.load_model`. If renaming is not possible, pass the object in the `custom_objects` parameter of the load function.\n",
      "WARNING:absl:<keras.layers.recurrent.LSTMCell object at 0x000001F243A2D070> has the same name 'LSTMCell' as a built-in Keras object. Consider renaming <class 'keras.layers.recurrent.LSTMCell'> to avoid naming conflicts when loading with `tf.keras.models.load_model`. If renaming is not possible, pass the object in the `custom_objects` parameter of the load function.\n"
     ]
    },
    {
     "name": "stdout",
     "output_type": "stream",
     "text": [
      "164/164 [==============================] - 50s 305ms/step - loss: 0.3397 - binary_accuracy: 0.8513 - auc: 0.9282 - mcc_metric: 0.6896 - precision: 0.7651 - true_negatives: 2810.0000 - true_positives: 1655.0000 - false_negatives: 272.0000 - false_positives: 508.0000 - val_loss: 0.3690 - val_binary_accuracy: 0.8370 - val_auc: 0.9213 - val_mcc_metric: 0.6724 - val_precision: 0.7315 - val_true_negatives: 521.0000 - val_true_positives: 316.0000 - val_false_negatives: 47.0000 - val_false_positives: 116.0000\n",
      "Epoch 17/60\n",
      "163/164 [============================>.] - ETA: 0s - loss: 0.3314 - binary_accuracy: 0.8533 - auc: 0.9323 - mcc_metric: 0.6999 - precision: 0.7654 - true_negatives: 2794.0000 - true_positives: 1657.0000 - false_negatives: 257.0000 - false_positives: 508.0000\n",
      "Epoch 00017: val_auc did not improve from 0.92132\n",
      "164/164 [==============================] - 11s 68ms/step - loss: 0.3315 - binary_accuracy: 0.8534 - auc: 0.9322 - mcc_metric: 0.7000 - precision: 0.7661 - true_negatives: 2809.0000 - true_positives: 1667.0000 - false_negatives: 260.0000 - false_positives: 509.0000 - val_loss: 0.3661 - val_binary_accuracy: 0.8410 - val_auc: 0.9105 - val_mcc_metric: 0.6643 - val_precision: 0.7684 - val_true_negatives: 549.0000 - val_true_positives: 292.0000 - val_false_negatives: 71.0000 - val_false_positives: 88.0000\n",
      "Epoch 18/60\n",
      "164/164 [==============================] - ETA: 0s - loss: 0.3083 - binary_accuracy: 0.8656 - auc: 0.9414 - mcc_metric: 0.7192 - precision: 0.7898 - true_negatives: 2875.0000 - true_positives: 1665.0000 - false_negatives: 262.0000 - false_positives: 443.0000\n",
      "Epoch 00018: val_auc did not improve from 0.92132\n",
      "164/164 [==============================] - 9s 55ms/step - loss: 0.3083 - binary_accuracy: 0.8656 - auc: 0.9414 - mcc_metric: 0.7192 - precision: 0.7898 - true_negatives: 2875.0000 - true_positives: 1665.0000 - false_negatives: 262.0000 - false_positives: 443.0000 - val_loss: 0.3949 - val_binary_accuracy: 0.8320 - val_auc: 0.9138 - val_mcc_metric: 0.6586 - val_precision: 0.7294 - val_true_negatives: 522.0000 - val_true_positives: 310.0000 - val_false_negatives: 53.0000 - val_false_positives: 115.0000\n",
      "Epoch 19/60\n",
      "163/164 [============================>.] - ETA: 0s - loss: 0.3120 - binary_accuracy: 0.8635 - auc: 0.9402 - mcc_metric: 0.7119 - precision: 0.7780 - true_negatives: 2822.0000 - true_positives: 1682.0000 - false_negatives: 232.0000 - false_positives: 480.0000\n",
      "Epoch 00019: val_auc did not improve from 0.92132\n",
      "164/164 [==============================] - 9s 54ms/step - loss: 0.3118 - binary_accuracy: 0.8637 - auc: 0.9403 - mcc_metric: 0.7124 - precision: 0.7785 - true_negatives: 2836.0000 - true_positives: 1694.0000 - false_negatives: 233.0000 - false_positives: 482.0000 - val_loss: 0.3571 - val_binary_accuracy: 0.8400 - val_auc: 0.9198 - val_mcc_metric: 0.6641 - val_precision: 0.7422 - val_true_negatives: 529.0000 - val_true_positives: 311.0000 - val_false_negatives: 52.0000 - val_false_positives: 108.0000\n",
      "Epoch 20/60\n",
      "164/164 [==============================] - ETA: 0s - loss: 0.2881 - binary_accuracy: 0.8745 - auc: 0.9493 - mcc_metric: 0.7374 - precision: 0.7972 - true_negatives: 2885.0000 - true_positives: 1702.0000 - false_negatives: 225.0000 - false_positives: 433.0000\n",
      "Epoch 00020: val_auc improved from 0.92132 to 0.93329, saving model to F:/bbb/model/nlp\\model_33.tf\n"
     ]
    },
    {
     "name": "stderr",
     "output_type": "stream",
     "text": [
      "WARNING:absl:Found untraced functions such as lstm_cell_1_layer_call_fn, lstm_cell_1_layer_call_and_return_conditional_losses, lstm_cell_2_layer_call_fn, lstm_cell_2_layer_call_and_return_conditional_losses, lstm_cell_4_layer_call_fn while saving (showing 5 of 30). These functions will not be directly callable after loading.\n"
     ]
    },
    {
     "name": "stdout",
     "output_type": "stream",
     "text": [
      "INFO:tensorflow:Assets written to: F:/bbb/model/nlp\\model_33.tf\\assets\n"
     ]
    },
    {
     "name": "stderr",
     "output_type": "stream",
     "text": [
      "INFO:tensorflow:Assets written to: F:/bbb/model/nlp\\model_33.tf\\assets\n",
      "WARNING:absl:<keras.layers.recurrent.LSTMCell object at 0x000001F22930BEB0> has the same name 'LSTMCell' as a built-in Keras object. Consider renaming <class 'keras.layers.recurrent.LSTMCell'> to avoid naming conflicts when loading with `tf.keras.models.load_model`. If renaming is not possible, pass the object in the `custom_objects` parameter of the load function.\n",
      "WARNING:absl:<keras.layers.recurrent.LSTMCell object at 0x000001F229586070> has the same name 'LSTMCell' as a built-in Keras object. Consider renaming <class 'keras.layers.recurrent.LSTMCell'> to avoid naming conflicts when loading with `tf.keras.models.load_model`. If renaming is not possible, pass the object in the `custom_objects` parameter of the load function.\n",
      "WARNING:absl:<keras.layers.recurrent.LSTMCell object at 0x000001F23A9B7C70> has the same name 'LSTMCell' as a built-in Keras object. Consider renaming <class 'keras.layers.recurrent.LSTMCell'> to avoid naming conflicts when loading with `tf.keras.models.load_model`. If renaming is not possible, pass the object in the `custom_objects` parameter of the load function.\n",
      "WARNING:absl:<keras.layers.recurrent.LSTMCell object at 0x000001F23AA4C7C0> has the same name 'LSTMCell' as a built-in Keras object. Consider renaming <class 'keras.layers.recurrent.LSTMCell'> to avoid naming conflicts when loading with `tf.keras.models.load_model`. If renaming is not possible, pass the object in the `custom_objects` parameter of the load function.\n",
      "WARNING:absl:<keras.layers.recurrent.LSTMCell object at 0x000001F243A276A0> has the same name 'LSTMCell' as a built-in Keras object. Consider renaming <class 'keras.layers.recurrent.LSTMCell'> to avoid naming conflicts when loading with `tf.keras.models.load_model`. If renaming is not possible, pass the object in the `custom_objects` parameter of the load function.\n",
      "WARNING:absl:<keras.layers.recurrent.LSTMCell object at 0x000001F243A2D070> has the same name 'LSTMCell' as a built-in Keras object. Consider renaming <class 'keras.layers.recurrent.LSTMCell'> to avoid naming conflicts when loading with `tf.keras.models.load_model`. If renaming is not possible, pass the object in the `custom_objects` parameter of the load function.\n"
     ]
    },
    {
     "name": "stdout",
     "output_type": "stream",
     "text": [
      "164/164 [==============================] - 38s 233ms/step - loss: 0.2881 - binary_accuracy: 0.8745 - auc: 0.9493 - mcc_metric: 0.7374 - precision: 0.7972 - true_negatives: 2885.0000 - true_positives: 1702.0000 - false_negatives: 225.0000 - false_positives: 433.0000 - val_loss: 0.3192 - val_binary_accuracy: 0.8630 - val_auc: 0.9333 - val_mcc_metric: 0.7049 - val_precision: 0.8021 - val_true_negatives: 563.0000 - val_true_positives: 300.0000 - val_false_negatives: 63.0000 - val_false_positives: 74.0000\n",
      "Epoch 21/60\n",
      "164/164 [==============================] - ETA: 0s - loss: 0.2809 - binary_accuracy: 0.8810 - auc: 0.9517 - mcc_metric: 0.7513 - precision: 0.8077 - true_negatives: 2911.0000 - true_positives: 1710.0000 - false_negatives: 217.0000 - false_positives: 407.0000\n",
      "Epoch 00021: val_auc did not improve from 0.93329\n",
      "164/164 [==============================] - 10s 63ms/step - loss: 0.2809 - binary_accuracy: 0.8810 - auc: 0.9517 - mcc_metric: 0.7513 - precision: 0.8077 - true_negatives: 2911.0000 - true_positives: 1710.0000 - false_negatives: 217.0000 - false_positives: 407.0000 - val_loss: 0.3344 - val_binary_accuracy: 0.8510 - val_auc: 0.9305 - val_mcc_metric: 0.6903 - val_precision: 0.7597 - val_true_negatives: 538.0000 - val_true_positives: 313.0000 - val_false_negatives: 50.0000 - val_false_positives: 99.0000\n",
      "Epoch 22/60\n",
      "164/164 [==============================] - ETA: 0s - loss: 0.2603 - binary_accuracy: 0.8826 - auc: 0.9583 - mcc_metric: 0.7583 - precision: 0.8022 - true_negatives: 2889.0000 - true_positives: 1740.0000 - false_negatives: 187.0000 - false_positives: 429.0000\n",
      "Epoch 00022: val_auc did not improve from 0.93329\n",
      "164/164 [==============================] - 9s 55ms/step - loss: 0.2603 - binary_accuracy: 0.8826 - auc: 0.9583 - mcc_metric: 0.7583 - precision: 0.8022 - true_negatives: 2889.0000 - true_positives: 1740.0000 - false_negatives: 187.0000 - false_positives: 429.0000 - val_loss: 0.3618 - val_binary_accuracy: 0.8340 - val_auc: 0.9242 - val_mcc_metric: 0.6674 - val_precision: 0.7254 - val_true_negatives: 517.0000 - val_true_positives: 317.0000 - val_false_negatives: 46.0000 - val_false_positives: 120.0000\n",
      "Epoch 23/60\n",
      "163/164 [============================>.] - ETA: 0s - loss: 0.2741 - binary_accuracy: 0.8796 - auc: 0.9539 - mcc_metric: 0.7524 - precision: 0.7973 - true_negatives: 2861.0000 - true_positives: 1727.0000 - false_negatives: 189.0000 - false_positives: 439.0000\n",
      "Epoch 00023: val_auc did not improve from 0.93329\n",
      "164/164 [==============================] - 9s 53ms/step - loss: 0.2736 - binary_accuracy: 0.8799 - auc: 0.9540 - mcc_metric: 0.7531 - precision: 0.7982 - true_negatives: 2879.0000 - true_positives: 1736.0000 - false_negatives: 191.0000 - false_positives: 439.0000 - val_loss: 0.3296 - val_binary_accuracy: 0.8640 - val_auc: 0.9244 - val_mcc_metric: 0.7034 - val_precision: 0.8234 - val_true_negatives: 575.0000 - val_true_positives: 289.0000 - val_false_negatives: 74.0000 - val_false_positives: 62.0000\n",
      "Epoch 24/60\n",
      "163/164 [============================>.] - ETA: 0s - loss: 0.2615 - binary_accuracy: 0.8798 - auc: 0.9580 - mcc_metric: 0.7545 - precision: 0.7942 - true_negatives: 2849.0000 - true_positives: 1740.0000 - false_negatives: 176.0000 - false_positives: 451.0000\n",
      "Epoch 00024: val_auc did not improve from 0.93329\n",
      "164/164 [==============================] - 9s 52ms/step - loss: 0.2629 - binary_accuracy: 0.8791 - auc: 0.9576 - mcc_metric: 0.7529 - precision: 0.7935 - true_negatives: 2863.0000 - true_positives: 1748.0000 - false_negatives: 179.0000 - false_positives: 455.0000 - val_loss: 0.3471 - val_binary_accuracy: 0.8510 - val_auc: 0.9290 - val_mcc_metric: 0.6901 - val_precision: 0.7560 - val_true_negatives: 535.0000 - val_true_positives: 316.0000 - val_false_negatives: 47.0000 - val_false_positives: 102.0000\n",
      "Epoch 25/60\n",
      "164/164 [==============================] - ETA: 0s - loss: 0.2427 - binary_accuracy: 0.8946 - auc: 0.9636 - mcc_metric: 0.7838 - precision: 0.8228 - true_negatives: 2941.0000 - true_positives: 1751.0000 - false_negatives: 176.0000 - false_positives: 377.0000\n",
      "Epoch 00025: val_auc did not improve from 0.93329\n",
      "164/164 [==============================] - 9s 55ms/step - loss: 0.2427 - binary_accuracy: 0.8946 - auc: 0.9636 - mcc_metric: 0.7838 - precision: 0.8228 - true_negatives: 2941.0000 - true_positives: 1751.0000 - false_negatives: 176.0000 - false_positives: 377.0000 - val_loss: 0.3851 - val_binary_accuracy: 0.8500 - val_auc: 0.9242 - val_mcc_metric: 0.6856 - val_precision: 0.7710 - val_true_negatives: 547.0000 - val_true_positives: 303.0000 - val_false_negatives: 60.0000 - val_false_positives: 90.0000\n",
      "Epoch 26/60\n",
      "163/164 [============================>.] - ETA: 0s - loss: 0.2221 - binary_accuracy: 0.9016 - auc: 0.9693 - mcc_metric: 0.7945 - precision: 0.8314 - true_negatives: 2942.0000 - true_positives: 1761.0000 - false_negatives: 156.0000 - false_positives: 357.0000\n",
      "Epoch 00026: val_auc did not improve from 0.93329\n",
      "164/164 [==============================] - 9s 54ms/step - loss: 0.2220 - binary_accuracy: 0.9016 - auc: 0.9693 - mcc_metric: 0.7946 - precision: 0.8311 - true_negatives: 2958.0000 - true_positives: 1771.0000 - false_negatives: 156.0000 - false_positives: 360.0000 - val_loss: 0.4027 - val_binary_accuracy: 0.8270 - val_auc: 0.9278 - val_mcc_metric: 0.6559 - val_precision: 0.7102 - val_true_negatives: 506.0000 - val_true_positives: 321.0000 - val_false_negatives: 42.0000 - val_false_positives: 131.0000\n",
      "Epoch 27/60\n",
      "163/164 [============================>.] - ETA: 0s - loss: 0.2091 - binary_accuracy: 0.9112 - auc: 0.9728 - mcc_metric: 0.8171 - precision: 0.8447 - true_negatives: 2975.0000 - true_positives: 1778.0000 - false_negatives: 136.0000 - false_positives: 327.0000\n",
      "Epoch 00027: val_auc did not improve from 0.93329\n",
      "164/164 [==============================] - 9s 53ms/step - loss: 0.2098 - binary_accuracy: 0.9110 - auc: 0.9727 - mcc_metric: 0.8166 - precision: 0.8450 - true_negatives: 2990.0000 - true_positives: 1788.0000 - false_negatives: 139.0000 - false_positives: 328.0000 - val_loss: 0.3633 - val_binary_accuracy: 0.8550 - val_auc: 0.9282 - val_mcc_metric: 0.6975 - val_precision: 0.7698 - val_true_negatives: 544.0000 - val_true_positives: 311.0000 - val_false_negatives: 52.0000 - val_false_positives: 93.0000\n",
      "Epoch 28/60\n",
      "164/164 [==============================] - ETA: 0s - loss: 0.2112 - binary_accuracy: 0.9110 - auc: 0.9724 - mcc_metric: 0.8161 - precision: 0.8473 - true_negatives: 2997.0000 - true_positives: 1781.0000 - false_negatives: 146.0000 - false_positives: 321.0000\n",
      "Epoch 00028: val_auc did not improve from 0.93329\n",
      "164/164 [==============================] - 9s 54ms/step - loss: 0.2112 - binary_accuracy: 0.9110 - auc: 0.9724 - mcc_metric: 0.8161 - precision: 0.8473 - true_negatives: 2997.0000 - true_positives: 1781.0000 - false_negatives: 146.0000 - false_positives: 321.0000 - val_loss: 0.3786 - val_binary_accuracy: 0.8500 - val_auc: 0.9170 - val_mcc_metric: 0.6730 - val_precision: 0.7871 - val_true_negatives: 558.0000 - val_true_positives: 292.0000 - val_false_negatives: 71.0000 - val_false_positives: 79.0000\n",
      "Epoch 29/60\n",
      "164/164 [==============================] - ETA: 0s - loss: 0.2022 - binary_accuracy: 0.9133 - auc: 0.9744 - mcc_metric: 0.8188 - precision: 0.8485 - true_negatives: 2998.0000 - true_positives: 1792.0000 - false_negatives: 135.0000 - false_positives: 320.0000\n",
      "Epoch 00029: val_auc improved from 0.93329 to 0.93457, saving model to F:/bbb/model/nlp\\model_33.tf\n"
     ]
    },
    {
     "name": "stderr",
     "output_type": "stream",
     "text": [
      "WARNING:absl:Found untraced functions such as lstm_cell_1_layer_call_fn, lstm_cell_1_layer_call_and_return_conditional_losses, lstm_cell_2_layer_call_fn, lstm_cell_2_layer_call_and_return_conditional_losses, lstm_cell_4_layer_call_fn while saving (showing 5 of 30). These functions will not be directly callable after loading.\n"
     ]
    },
    {
     "name": "stdout",
     "output_type": "stream",
     "text": [
      "INFO:tensorflow:Assets written to: F:/bbb/model/nlp\\model_33.tf\\assets\n"
     ]
    },
    {
     "name": "stderr",
     "output_type": "stream",
     "text": [
      "INFO:tensorflow:Assets written to: F:/bbb/model/nlp\\model_33.tf\\assets\n",
      "WARNING:absl:<keras.layers.recurrent.LSTMCell object at 0x000001F22930BEB0> has the same name 'LSTMCell' as a built-in Keras object. Consider renaming <class 'keras.layers.recurrent.LSTMCell'> to avoid naming conflicts when loading with `tf.keras.models.load_model`. If renaming is not possible, pass the object in the `custom_objects` parameter of the load function.\n",
      "WARNING:absl:<keras.layers.recurrent.LSTMCell object at 0x000001F229586070> has the same name 'LSTMCell' as a built-in Keras object. Consider renaming <class 'keras.layers.recurrent.LSTMCell'> to avoid naming conflicts when loading with `tf.keras.models.load_model`. If renaming is not possible, pass the object in the `custom_objects` parameter of the load function.\n",
      "WARNING:absl:<keras.layers.recurrent.LSTMCell object at 0x000001F23A9B7C70> has the same name 'LSTMCell' as a built-in Keras object. Consider renaming <class 'keras.layers.recurrent.LSTMCell'> to avoid naming conflicts when loading with `tf.keras.models.load_model`. If renaming is not possible, pass the object in the `custom_objects` parameter of the load function.\n",
      "WARNING:absl:<keras.layers.recurrent.LSTMCell object at 0x000001F23AA4C7C0> has the same name 'LSTMCell' as a built-in Keras object. Consider renaming <class 'keras.layers.recurrent.LSTMCell'> to avoid naming conflicts when loading with `tf.keras.models.load_model`. If renaming is not possible, pass the object in the `custom_objects` parameter of the load function.\n",
      "WARNING:absl:<keras.layers.recurrent.LSTMCell object at 0x000001F243A276A0> has the same name 'LSTMCell' as a built-in Keras object. Consider renaming <class 'keras.layers.recurrent.LSTMCell'> to avoid naming conflicts when loading with `tf.keras.models.load_model`. If renaming is not possible, pass the object in the `custom_objects` parameter of the load function.\n",
      "WARNING:absl:<keras.layers.recurrent.LSTMCell object at 0x000001F243A2D070> has the same name 'LSTMCell' as a built-in Keras object. Consider renaming <class 'keras.layers.recurrent.LSTMCell'> to avoid naming conflicts when loading with `tf.keras.models.load_model`. If renaming is not possible, pass the object in the `custom_objects` parameter of the load function.\n"
     ]
    },
    {
     "name": "stdout",
     "output_type": "stream",
     "text": [
      "164/164 [==============================] - 53s 327ms/step - loss: 0.2022 - binary_accuracy: 0.9133 - auc: 0.9744 - mcc_metric: 0.8188 - precision: 0.8485 - true_negatives: 2998.0000 - true_positives: 1792.0000 - false_negatives: 135.0000 - false_positives: 320.0000 - val_loss: 0.3459 - val_binary_accuracy: 0.8650 - val_auc: 0.9346 - val_mcc_metric: 0.7101 - val_precision: 0.7893 - val_true_negatives: 554.0000 - val_true_positives: 311.0000 - val_false_negatives: 52.0000 - val_false_positives: 83.0000\n",
      "Epoch 30/60\n",
      "164/164 [==============================] - ETA: 0s - loss: 0.1908 - binary_accuracy: 0.9163 - auc: 0.9772 - mcc_metric: 0.8242 - precision: 0.8546 - true_negatives: 3013.0000 - true_positives: 1793.0000 - false_negatives: 134.0000 - false_positives: 305.0000\n",
      "Epoch 00030: val_auc did not improve from 0.93457\n",
      "164/164 [==============================] - 10s 61ms/step - loss: 0.1908 - binary_accuracy: 0.9163 - auc: 0.9772 - mcc_metric: 0.8242 - precision: 0.8546 - true_negatives: 3013.0000 - true_positives: 1793.0000 - false_negatives: 134.0000 - false_positives: 305.0000 - val_loss: 0.3635 - val_binary_accuracy: 0.8650 - val_auc: 0.9330 - val_mcc_metric: 0.7145 - val_precision: 0.7953 - val_true_negatives: 558.0000 - val_true_positives: 307.0000 - val_false_negatives: 56.0000 - val_false_positives: 79.0000\n",
      "Epoch 31/60\n",
      "164/164 [==============================] - ETA: 0s - loss: 0.1799 - binary_accuracy: 0.9241 - auc: 0.9797 - mcc_metric: 0.8418 - precision: 0.8649 - true_negatives: 3035.0000 - true_positives: 1812.0000 - false_negatives: 115.0000 - false_positives: 283.0000\n",
      "Epoch 00031: val_auc did not improve from 0.93457\n",
      "164/164 [==============================] - 9s 56ms/step - loss: 0.1799 - binary_accuracy: 0.9241 - auc: 0.9797 - mcc_metric: 0.8418 - precision: 0.8649 - true_negatives: 3035.0000 - true_positives: 1812.0000 - false_negatives: 115.0000 - false_positives: 283.0000 - val_loss: 0.4015 - val_binary_accuracy: 0.8620 - val_auc: 0.9279 - val_mcc_metric: 0.7123 - val_precision: 0.7937 - val_true_negatives: 558.0000 - val_true_positives: 304.0000 - val_false_negatives: 59.0000 - val_false_positives: 79.0000\n",
      "Epoch 32/60\n",
      "163/164 [============================>.] - ETA: 0s - loss: 0.1653 - binary_accuracy: 0.9277 - auc: 0.9823 - mcc_metric: 0.8490 - precision: 0.8705 - true_negatives: 3030.0000 - true_positives: 1809.0000 - false_negatives: 108.0000 - false_positives: 269.0000\n",
      "Epoch 00032: val_auc did not improve from 0.93457\n",
      "164/164 [==============================] - 9s 56ms/step - loss: 0.1648 - binary_accuracy: 0.9281 - auc: 0.9824 - mcc_metric: 0.8499 - precision: 0.8712 - true_negatives: 3049.0000 - true_positives: 1819.0000 - false_negatives: 108.0000 - false_positives: 269.0000 - val_loss: 0.3750 - val_binary_accuracy: 0.8590 - val_auc: 0.9316 - val_mcc_metric: 0.6978 - val_precision: 0.7721 - val_true_negatives: 544.0000 - val_true_positives: 315.0000 - val_false_negatives: 48.0000 - val_false_positives: 93.0000\n",
      "Epoch 33/60\n",
      "163/164 [============================>.] - ETA: 0s - loss: 0.1867 - binary_accuracy: 0.9176 - auc: 0.9776 - mcc_metric: 0.8300 - precision: 0.8530 - true_negatives: 2993.0000 - true_positives: 1793.0000 - false_negatives: 121.0000 - false_positives: 309.0000\n",
      "Epoch 00033: val_auc did not improve from 0.93457\n",
      "164/164 [==============================] - 9s 54ms/step - loss: 0.1862 - binary_accuracy: 0.9178 - auc: 0.9777 - mcc_metric: 0.8307 - precision: 0.8535 - true_negatives: 3008.0000 - true_positives: 1806.0000 - false_negatives: 121.0000 - false_positives: 310.0000 - val_loss: 0.4047 - val_binary_accuracy: 0.8510 - val_auc: 0.9251 - val_mcc_metric: 0.6891 - val_precision: 0.7688 - val_true_negatives: 545.0000 - val_true_positives: 306.0000 - val_false_negatives: 57.0000 - val_false_positives: 92.0000\n",
      "Epoch 34/60\n",
      "164/164 [==============================] - ETA: 0s - loss: 0.1609 - binary_accuracy: 0.9325 - auc: 0.9833 - mcc_metric: 0.8599 - precision: 0.8758 - true_negatives: 3058.0000 - true_positives: 1833.0000 - false_negatives: 94.0000 - false_positives: 260.0000\n",
      "Epoch 00034: val_auc improved from 0.93457 to 0.93590, saving model to F:/bbb/model/nlp\\model_33.tf\n"
     ]
    },
    {
     "name": "stderr",
     "output_type": "stream",
     "text": [
      "WARNING:absl:Found untraced functions such as lstm_cell_1_layer_call_fn, lstm_cell_1_layer_call_and_return_conditional_losses, lstm_cell_2_layer_call_fn, lstm_cell_2_layer_call_and_return_conditional_losses, lstm_cell_4_layer_call_fn while saving (showing 5 of 30). These functions will not be directly callable after loading.\n"
     ]
    },
    {
     "name": "stdout",
     "output_type": "stream",
     "text": [
      "INFO:tensorflow:Assets written to: F:/bbb/model/nlp\\model_33.tf\\assets\n"
     ]
    },
    {
     "name": "stderr",
     "output_type": "stream",
     "text": [
      "INFO:tensorflow:Assets written to: F:/bbb/model/nlp\\model_33.tf\\assets\n",
      "WARNING:absl:<keras.layers.recurrent.LSTMCell object at 0x000001F22930BEB0> has the same name 'LSTMCell' as a built-in Keras object. Consider renaming <class 'keras.layers.recurrent.LSTMCell'> to avoid naming conflicts when loading with `tf.keras.models.load_model`. If renaming is not possible, pass the object in the `custom_objects` parameter of the load function.\n",
      "WARNING:absl:<keras.layers.recurrent.LSTMCell object at 0x000001F229586070> has the same name 'LSTMCell' as a built-in Keras object. Consider renaming <class 'keras.layers.recurrent.LSTMCell'> to avoid naming conflicts when loading with `tf.keras.models.load_model`. If renaming is not possible, pass the object in the `custom_objects` parameter of the load function.\n",
      "WARNING:absl:<keras.layers.recurrent.LSTMCell object at 0x000001F23A9B7C70> has the same name 'LSTMCell' as a built-in Keras object. Consider renaming <class 'keras.layers.recurrent.LSTMCell'> to avoid naming conflicts when loading with `tf.keras.models.load_model`. If renaming is not possible, pass the object in the `custom_objects` parameter of the load function.\n",
      "WARNING:absl:<keras.layers.recurrent.LSTMCell object at 0x000001F23AA4C7C0> has the same name 'LSTMCell' as a built-in Keras object. Consider renaming <class 'keras.layers.recurrent.LSTMCell'> to avoid naming conflicts when loading with `tf.keras.models.load_model`. If renaming is not possible, pass the object in the `custom_objects` parameter of the load function.\n",
      "WARNING:absl:<keras.layers.recurrent.LSTMCell object at 0x000001F243A276A0> has the same name 'LSTMCell' as a built-in Keras object. Consider renaming <class 'keras.layers.recurrent.LSTMCell'> to avoid naming conflicts when loading with `tf.keras.models.load_model`. If renaming is not possible, pass the object in the `custom_objects` parameter of the load function.\n",
      "WARNING:absl:<keras.layers.recurrent.LSTMCell object at 0x000001F243A2D070> has the same name 'LSTMCell' as a built-in Keras object. Consider renaming <class 'keras.layers.recurrent.LSTMCell'> to avoid naming conflicts when loading with `tf.keras.models.load_model`. If renaming is not possible, pass the object in the `custom_objects` parameter of the load function.\n"
     ]
    },
    {
     "name": "stdout",
     "output_type": "stream",
     "text": [
      "164/164 [==============================] - 44s 268ms/step - loss: 0.1609 - binary_accuracy: 0.9325 - auc: 0.9833 - mcc_metric: 0.8599 - precision: 0.8758 - true_negatives: 3058.0000 - true_positives: 1833.0000 - false_negatives: 94.0000 - false_positives: 260.0000 - val_loss: 0.3720 - val_binary_accuracy: 0.8800 - val_auc: 0.9359 - val_mcc_metric: 0.7471 - val_precision: 0.8275 - val_true_negatives: 573.0000 - val_true_positives: 307.0000 - val_false_negatives: 56.0000 - val_false_positives: 64.0000\n",
      "Epoch 35/60\n",
      "164/164 [==============================] - ETA: 0s - loss: 0.1462 - binary_accuracy: 0.9386 - auc: 0.9865 - mcc_metric: 0.8698 - precision: 0.8898 - true_negatives: 3091.0000 - true_positives: 1832.0000 - false_negatives: 95.0000 - false_positives: 227.0000\n",
      "Epoch 00035: val_auc improved from 0.93590 to 0.93916, saving model to F:/bbb/model/nlp\\model_33.tf\n"
     ]
    },
    {
     "name": "stderr",
     "output_type": "stream",
     "text": [
      "WARNING:absl:Found untraced functions such as lstm_cell_1_layer_call_fn, lstm_cell_1_layer_call_and_return_conditional_losses, lstm_cell_2_layer_call_fn, lstm_cell_2_layer_call_and_return_conditional_losses, lstm_cell_4_layer_call_fn while saving (showing 5 of 30). These functions will not be directly callable after loading.\n"
     ]
    },
    {
     "name": "stdout",
     "output_type": "stream",
     "text": [
      "INFO:tensorflow:Assets written to: F:/bbb/model/nlp\\model_33.tf\\assets\n"
     ]
    },
    {
     "name": "stderr",
     "output_type": "stream",
     "text": [
      "INFO:tensorflow:Assets written to: F:/bbb/model/nlp\\model_33.tf\\assets\n",
      "WARNING:absl:<keras.layers.recurrent.LSTMCell object at 0x000001F22930BEB0> has the same name 'LSTMCell' as a built-in Keras object. Consider renaming <class 'keras.layers.recurrent.LSTMCell'> to avoid naming conflicts when loading with `tf.keras.models.load_model`. If renaming is not possible, pass the object in the `custom_objects` parameter of the load function.\n",
      "WARNING:absl:<keras.layers.recurrent.LSTMCell object at 0x000001F229586070> has the same name 'LSTMCell' as a built-in Keras object. Consider renaming <class 'keras.layers.recurrent.LSTMCell'> to avoid naming conflicts when loading with `tf.keras.models.load_model`. If renaming is not possible, pass the object in the `custom_objects` parameter of the load function.\n",
      "WARNING:absl:<keras.layers.recurrent.LSTMCell object at 0x000001F23A9B7C70> has the same name 'LSTMCell' as a built-in Keras object. Consider renaming <class 'keras.layers.recurrent.LSTMCell'> to avoid naming conflicts when loading with `tf.keras.models.load_model`. If renaming is not possible, pass the object in the `custom_objects` parameter of the load function.\n",
      "WARNING:absl:<keras.layers.recurrent.LSTMCell object at 0x000001F23AA4C7C0> has the same name 'LSTMCell' as a built-in Keras object. Consider renaming <class 'keras.layers.recurrent.LSTMCell'> to avoid naming conflicts when loading with `tf.keras.models.load_model`. If renaming is not possible, pass the object in the `custom_objects` parameter of the load function.\n",
      "WARNING:absl:<keras.layers.recurrent.LSTMCell object at 0x000001F243A276A0> has the same name 'LSTMCell' as a built-in Keras object. Consider renaming <class 'keras.layers.recurrent.LSTMCell'> to avoid naming conflicts when loading with `tf.keras.models.load_model`. If renaming is not possible, pass the object in the `custom_objects` parameter of the load function.\n",
      "WARNING:absl:<keras.layers.recurrent.LSTMCell object at 0x000001F243A2D070> has the same name 'LSTMCell' as a built-in Keras object. Consider renaming <class 'keras.layers.recurrent.LSTMCell'> to avoid naming conflicts when loading with `tf.keras.models.load_model`. If renaming is not possible, pass the object in the `custom_objects` parameter of the load function.\n"
     ]
    },
    {
     "name": "stdout",
     "output_type": "stream",
     "text": [
      "164/164 [==============================] - 49s 300ms/step - loss: 0.1462 - binary_accuracy: 0.9386 - auc: 0.9865 - mcc_metric: 0.8698 - precision: 0.8898 - true_negatives: 3091.0000 - true_positives: 1832.0000 - false_negatives: 95.0000 - false_positives: 227.0000 - val_loss: 0.3782 - val_binary_accuracy: 0.8700 - val_auc: 0.9392 - val_mcc_metric: 0.7308 - val_precision: 0.7935 - val_true_negatives: 555.0000 - val_true_positives: 315.0000 - val_false_negatives: 48.0000 - val_false_positives: 82.0000\n",
      "Epoch 36/60\n",
      "164/164 [==============================] - ETA: 0s - loss: 0.1369 - binary_accuracy: 0.9417 - auc: 0.9874 - mcc_metric: 0.8789 - precision: 0.8876 - true_negatives: 3083.0000 - true_positives: 1856.0000 - false_negatives: 71.0000 - false_positives: 235.0000\n",
      "Epoch 00036: val_auc did not improve from 0.93916\n",
      "164/164 [==============================] - 11s 70ms/step - loss: 0.1369 - binary_accuracy: 0.9417 - auc: 0.9874 - mcc_metric: 0.8789 - precision: 0.8876 - true_negatives: 3083.0000 - true_positives: 1856.0000 - false_negatives: 71.0000 - false_positives: 235.0000 - val_loss: 0.4368 - val_binary_accuracy: 0.8650 - val_auc: 0.9267 - val_mcc_metric: 0.7215 - val_precision: 0.7767 - val_true_negatives: 545.0000 - val_true_positives: 320.0000 - val_false_negatives: 43.0000 - val_false_positives: 92.0000\n",
      "Epoch 37/60\n",
      "163/164 [============================>.] - ETA: 0s - loss: 0.1515 - binary_accuracy: 0.9314 - auc: 0.9850 - mcc_metric: 0.8578 - precision: 0.8701 - true_negatives: 3023.0000 - true_positives: 1835.0000 - false_negatives: 84.0000 - false_positives: 274.0000\n",
      "Epoch 00037: val_auc did not improve from 0.93916\n",
      "164/164 [==============================] - 9s 56ms/step - loss: 0.1508 - binary_accuracy: 0.9317 - auc: 0.9852 - mcc_metric: 0.8587 - precision: 0.8706 - true_negatives: 3044.0000 - true_positives: 1843.0000 - false_negatives: 84.0000 - false_positives: 274.0000 - val_loss: 0.3854 - val_binary_accuracy: 0.8630 - val_auc: 0.9317 - val_mcc_metric: 0.7070 - val_precision: 0.7854 - val_true_negatives: 552.0000 - val_true_positives: 311.0000 - val_false_negatives: 52.0000 - val_false_positives: 85.0000\n",
      "Epoch 38/60\n",
      "164/164 [==============================] - ETA: 0s - loss: 0.1285 - binary_accuracy: 0.9480 - auc: 0.9890 - mcc_metric: 0.8910 - precision: 0.9003 - true_negatives: 3112.0000 - true_positives: 1860.0000 - false_negatives: 67.0000 - false_positives: 206.0000\n",
      "Epoch 00038: val_auc did not improve from 0.93916\n",
      "164/164 [==============================] - 9s 56ms/step - loss: 0.1285 - binary_accuracy: 0.9480 - auc: 0.9890 - mcc_metric: 0.8910 - precision: 0.9003 - true_negatives: 3112.0000 - true_positives: 1860.0000 - false_negatives: 67.0000 - false_positives: 206.0000 - val_loss: 0.4213 - val_binary_accuracy: 0.8650 - val_auc: 0.9253 - val_mcc_metric: 0.7066 - val_precision: 0.7984 - val_true_negatives: 560.0000 - val_true_positives: 305.0000 - val_false_negatives: 58.0000 - val_false_positives: 77.0000\n",
      "Epoch 39/60\n",
      "164/164 [==============================] - ETA: 0s - loss: 0.1328 - binary_accuracy: 0.9449 - auc: 0.9881 - mcc_metric: 0.8845 - precision: 0.8968 - true_negatives: 3105.0000 - true_positives: 1851.0000 - false_negatives: 76.0000 - false_positives: 213.0000\n",
      "Epoch 00039: val_auc did not improve from 0.93916\n",
      "164/164 [==============================] - 9s 55ms/step - loss: 0.1328 - binary_accuracy: 0.9449 - auc: 0.9881 - mcc_metric: 0.8845 - precision: 0.8968 - true_negatives: 3105.0000 - true_positives: 1851.0000 - false_negatives: 76.0000 - false_positives: 213.0000 - val_loss: 0.4377 - val_binary_accuracy: 0.8570 - val_auc: 0.9209 - val_mcc_metric: 0.6983 - val_precision: 0.7750 - val_true_negatives: 547.0000 - val_true_positives: 310.0000 - val_false_negatives: 53.0000 - val_false_positives: 90.0000\n",
      "Epoch 40/60\n",
      "163/164 [============================>.] - ETA: 0s - loss: 0.1256 - binary_accuracy: 0.9473 - auc: 0.9893 - mcc_metric: 0.8896 - precision: 0.8980 - true_negatives: 3093.0000 - true_positives: 1848.0000 - false_negatives: 65.0000 - false_positives: 210.0000\n",
      "Epoch 00040: val_auc did not improve from 0.93916\n",
      "164/164 [==============================] - 9s 55ms/step - loss: 0.1251 - binary_accuracy: 0.9476 - auc: 0.9894 - mcc_metric: 0.8903 - precision: 0.8986 - true_negatives: 3108.0000 - true_positives: 1862.0000 - false_negatives: 65.0000 - false_positives: 210.0000 - val_loss: 0.4792 - val_binary_accuracy: 0.8610 - val_auc: 0.9182 - val_mcc_metric: 0.7042 - val_precision: 0.7872 - val_true_negatives: 554.0000 - val_true_positives: 307.0000 - val_false_negatives: 56.0000 - val_false_positives: 83.0000\n",
      "Epoch 41/60\n",
      "164/164 [==============================] - ETA: 0s - loss: 0.1111 - binary_accuracy: 0.9544 - auc: 0.9913 - mcc_metric: 0.9042 - precision: 0.9125 - true_negatives: 3139.0000 - true_positives: 1867.0000 - false_negatives: 60.0000 - false_positives: 179.0000\n",
      "Epoch 00041: val_auc did not improve from 0.93916\n",
      "164/164 [==============================] - 9s 55ms/step - loss: 0.1111 - binary_accuracy: 0.9544 - auc: 0.9913 - mcc_metric: 0.9042 - precision: 0.9125 - true_negatives: 3139.0000 - true_positives: 1867.0000 - false_negatives: 60.0000 - false_positives: 179.0000 - val_loss: 0.4665 - val_binary_accuracy: 0.8550 - val_auc: 0.9233 - val_mcc_metric: 0.6867 - val_precision: 0.7884 - val_true_negatives: 557.0000 - val_true_positives: 298.0000 - val_false_negatives: 65.0000 - val_false_positives: 80.0000\n",
      "Epoch 42/60\n",
      "164/164 [==============================] - ETA: 0s - loss: 0.1114 - binary_accuracy: 0.9581 - auc: 0.9909 - mcc_metric: 0.9121 - precision: 0.9178 - true_negatives: 3150.0000 - true_positives: 1875.0000 - false_negatives: 52.0000 - false_positives: 168.0000\n",
      "Epoch 00042: val_auc did not improve from 0.93916\n",
      "164/164 [==============================] - 9s 54ms/step - loss: 0.1114 - binary_accuracy: 0.9581 - auc: 0.9909 - mcc_metric: 0.9121 - precision: 0.9178 - true_negatives: 3150.0000 - true_positives: 1875.0000 - false_negatives: 52.0000 - false_positives: 168.0000 - val_loss: 0.4836 - val_binary_accuracy: 0.8560 - val_auc: 0.9196 - val_mcc_metric: 0.6983 - val_precision: 0.7731 - val_true_negatives: 546.0000 - val_true_positives: 310.0000 - val_false_negatives: 53.0000 - val_false_positives: 91.0000\n",
      "Epoch 43/60\n",
      "164/164 [==============================] - ETA: 0s - loss: 0.1061 - binary_accuracy: 0.9558 - auc: 0.9926 - mcc_metric: 0.9061 - precision: 0.9148 - true_negatives: 3144.0000 - true_positives: 1869.0000 - false_negatives: 58.0000 - false_positives: 174.0000\n",
      "Epoch 00043: val_auc did not improve from 0.93916\n",
      "164/164 [==============================] - 9s 53ms/step - loss: 0.1061 - binary_accuracy: 0.9558 - auc: 0.9926 - mcc_metric: 0.9061 - precision: 0.9148 - true_negatives: 3144.0000 - true_positives: 1869.0000 - false_negatives: 58.0000 - false_positives: 174.0000 - val_loss: 0.5062 - val_binary_accuracy: 0.8610 - val_auc: 0.9193 - val_mcc_metric: 0.7021 - val_precision: 0.7995 - val_true_negatives: 562.0000 - val_true_positives: 299.0000 - val_false_negatives: 64.0000 - val_false_positives: 75.0000\n",
      "Epoch 44/60\n",
      "163/164 [============================>.] - ETA: 0s - loss: 0.1121 - binary_accuracy: 0.9553 - auc: 0.9911 - mcc_metric: 0.9052 - precision: 0.9143 - true_negatives: 3127.0000 - true_positives: 1856.0000 - false_negatives: 59.0000 - false_positives: 174.0000\n",
      "Epoch 00044: val_auc did not improve from 0.93916\n",
      "164/164 [==============================] - 9s 53ms/step - loss: 0.1117 - binary_accuracy: 0.9556 - auc: 0.9911 - mcc_metric: 0.9058 - precision: 0.9148 - true_negatives: 3144.0000 - true_positives: 1868.0000 - false_negatives: 59.0000 - false_positives: 174.0000 - val_loss: 0.4478 - val_binary_accuracy: 0.8640 - val_auc: 0.9231 - val_mcc_metric: 0.7070 - val_precision: 0.7903 - val_true_negatives: 555.0000 - val_true_positives: 309.0000 - val_false_negatives: 54.0000 - val_false_positives: 82.0000\n",
      "Epoch 45/60\n",
      "164/164 [==============================] - ETA: 0s - loss: 0.1117 - binary_accuracy: 0.9539 - auc: 0.9917 - mcc_metric: 0.9026 - precision: 0.9124 - true_negatives: 3139.0000 - true_positives: 1864.0000 - false_negatives: 63.0000 - false_positives: 179.0000\n",
      "Epoch 00045: val_auc did not improve from 0.93916\n",
      "164/164 [==============================] - 9s 53ms/step - loss: 0.1117 - binary_accuracy: 0.9539 - auc: 0.9917 - mcc_metric: 0.9026 - precision: 0.9124 - true_negatives: 3139.0000 - true_positives: 1864.0000 - false_negatives: 63.0000 - false_positives: 179.0000 - val_loss: 0.4644 - val_binary_accuracy: 0.8800 - val_auc: 0.9238 - val_mcc_metric: 0.7424 - val_precision: 0.8311 - val_true_negatives: 575.0000 - val_true_positives: 305.0000 - val_false_negatives: 58.0000 - val_false_positives: 62.0000\n",
      "Epoch 46/60\n",
      "164/164 [==============================] - ETA: 0s - loss: 0.0966 - binary_accuracy: 0.9607 - auc: 0.9933 - mcc_metric: 0.9182 - precision: 0.9212 - true_negatives: 3157.0000 - true_positives: 1882.0000 - false_negatives: 45.0000 - false_positives: 161.0000\n",
      "Epoch 00046: val_auc did not improve from 0.93916\n",
      "164/164 [==============================] - 9s 52ms/step - loss: 0.0966 - binary_accuracy: 0.9607 - auc: 0.9933 - mcc_metric: 0.9182 - precision: 0.9212 - true_negatives: 3157.0000 - true_positives: 1882.0000 - false_negatives: 45.0000 - false_positives: 161.0000 - val_loss: 0.5308 - val_binary_accuracy: 0.8640 - val_auc: 0.9183 - val_mcc_metric: 0.7135 - val_precision: 0.7979 - val_true_negatives: 560.0000 - val_true_positives: 304.0000 - val_false_negatives: 59.0000 - val_false_positives: 77.0000\n",
      "Epoch 47/60\n",
      "164/164 [==============================] - ETA: 0s - loss: 0.0931 - binary_accuracy: 0.9640 - auc: 0.9941 - mcc_metric: 0.9242 - precision: 0.9298 - true_negatives: 3176.0000 - true_positives: 1880.0000 - false_negatives: 47.0000 - false_positives: 142.0000\n",
      "Epoch 00047: val_auc did not improve from 0.93916\n",
      "164/164 [==============================] - 9s 53ms/step - loss: 0.0931 - binary_accuracy: 0.9640 - auc: 0.9941 - mcc_metric: 0.9242 - precision: 0.9298 - true_negatives: 3176.0000 - true_positives: 1880.0000 - false_negatives: 47.0000 - false_positives: 142.0000 - val_loss: 0.4475 - val_binary_accuracy: 0.8730 - val_auc: 0.9260 - val_mcc_metric: 0.7288 - val_precision: 0.8207 - val_true_negatives: 571.0000 - val_true_positives: 302.0000 - val_false_negatives: 61.0000 - val_false_positives: 66.0000\n",
      "Epoch 48/60\n",
      "163/164 [============================>.] - ETA: 0s - loss: 0.1267 - binary_accuracy: 0.9526 - auc: 0.9888 - mcc_metric: 0.9014 - precision: 0.9066 - true_negatives: 3106.0000 - true_positives: 1863.0000 - false_negatives: 55.0000 - false_positives: 192.0000\n",
      "Epoch 00048: val_auc did not improve from 0.93916\n",
      "164/164 [==============================] - 9s 53ms/step - loss: 0.1262 - binary_accuracy: 0.9527 - auc: 0.9888 - mcc_metric: 0.9015 - precision: 0.9065 - true_negatives: 3125.0000 - true_positives: 1872.0000 - false_negatives: 55.0000 - false_positives: 193.0000 - val_loss: 0.4486 - val_binary_accuracy: 0.8580 - val_auc: 0.9242 - val_mcc_metric: 0.6975 - val_precision: 0.7931 - val_true_negatives: 559.0000 - val_true_positives: 299.0000 - val_false_negatives: 64.0000 - val_false_positives: 78.0000\n",
      "Epoch 49/60\n",
      "163/164 [============================>.] - ETA: 0s - loss: 0.0967 - binary_accuracy: 0.9624 - auc: 0.9930 - mcc_metric: 0.9211 - precision: 0.9267 - true_negatives: 3150.0000 - true_positives: 1870.0000 - false_negatives: 48.0000 - false_positives: 148.0000\n",
      "Epoch 00049: val_auc did not improve from 0.93916\n",
      "164/164 [==============================] - 9s 53ms/step - loss: 0.0973 - binary_accuracy: 0.9621 - auc: 0.9930 - mcc_metric: 0.9200 - precision: 0.9265 - true_negatives: 3169.0000 - true_positives: 1877.0000 - false_negatives: 50.0000 - false_positives: 149.0000 - val_loss: 0.5362 - val_binary_accuracy: 0.8710 - val_auc: 0.9183 - val_mcc_metric: 0.6975 - val_precision: 0.8268 - val_true_negatives: 575.0000 - val_true_positives: 296.0000 - val_false_negatives: 67.0000 - val_false_positives: 62.0000\n",
      "Epoch 50/60\n",
      "163/164 [============================>.] - ETA: 0s - loss: 0.0839 - binary_accuracy: 0.9659 - auc: 0.9949 - mcc_metric: 0.9272 - precision: 0.9356 - true_negatives: 3177.0000 - true_positives: 1861.0000 - false_negatives: 50.0000 - false_positives: 128.0000\n",
      "Epoch 00050: val_auc did not improve from 0.93916\n",
      "164/164 [==============================] - 9s 54ms/step - loss: 0.0835 - binary_accuracy: 0.9661 - auc: 0.9950 - mcc_metric: 0.9276 - precision: 0.9362 - true_negatives: 3190.0000 - true_positives: 1877.0000 - false_negatives: 50.0000 - false_positives: 128.0000 - val_loss: 0.5077 - val_binary_accuracy: 0.8620 - val_auc: 0.9242 - val_mcc_metric: 0.7192 - val_precision: 0.7685 - val_true_negatives: 540.0000 - val_true_positives: 322.0000 - val_false_negatives: 41.0000 - val_false_positives: 97.0000\n",
      "Epoch 51/60\n",
      "163/164 [============================>.] - ETA: 0s - loss: 0.0672 - binary_accuracy: 0.9720 - auc: 0.9967 - mcc_metric: 0.9396 - precision: 0.9437 - true_negatives: 3192.0000 - true_positives: 1878.0000 - false_negatives: 34.0000 - false_positives: 112.0000\n",
      "Epoch 00051: val_auc did not improve from 0.93916\n",
      "164/164 [==============================] - 9s 55ms/step - loss: 0.0669 - binary_accuracy: 0.9722 - auc: 0.9967 - mcc_metric: 0.9400 - precision: 0.9441 - true_negatives: 3206.0000 - true_positives: 1893.0000 - false_negatives: 34.0000 - false_positives: 112.0000 - val_loss: 0.5729 - val_binary_accuracy: 0.8670 - val_auc: 0.9130 - val_mcc_metric: 0.7100 - val_precision: 0.8042 - val_true_negatives: 563.0000 - val_true_positives: 304.0000 - val_false_negatives: 59.0000 - val_false_positives: 74.0000\n",
      "Epoch 52/60\n",
      "163/164 [============================>.] - ETA: 0s - loss: 0.0663 - binary_accuracy: 0.9732 - auc: 0.9965 - mcc_metric: 0.9423 - precision: 0.9477 - true_negatives: 3193.0000 - true_positives: 1883.0000 - false_negatives: 36.0000 - false_positives: 104.0000A: 7s - loss: 0.0520 - binary_accuracy: 0.9759 - auc: 0.9981 - mcc_metric:\n",
      "Epoch 00052: val_auc did not improve from 0.93916\n",
      "164/164 [==============================] - 9s 54ms/step - loss: 0.0664 - binary_accuracy: 0.9731 - auc: 0.9965 - mcc_metric: 0.9422 - precision: 0.9474 - true_negatives: 3213.0000 - true_positives: 1891.0000 - false_negatives: 36.0000 - false_positives: 105.0000 - val_loss: 0.5442 - val_binary_accuracy: 0.8720 - val_auc: 0.9177 - val_mcc_metric: 0.7286 - val_precision: 0.8117 - val_true_negatives: 566.0000 - val_true_positives: 306.0000 - val_false_negatives: 57.0000 - val_false_positives: 71.0000\n",
      "Epoch 53/60\n",
      "164/164 [==============================] - ETA: 0s - loss: 0.0623 - binary_accuracy: 0.9743 - auc: 0.9966 - mcc_metric: 0.9454 - precision: 0.9449 - true_negatives: 3207.0000 - true_positives: 1903.0000 - false_negatives: 24.0000 - false_positives: 111.0000\n",
      "Epoch 00053: val_auc did not improve from 0.93916\n",
      "164/164 [==============================] - 9s 53ms/step - loss: 0.0623 - binary_accuracy: 0.9743 - auc: 0.9966 - mcc_metric: 0.9454 - precision: 0.9449 - true_negatives: 3207.0000 - true_positives: 1903.0000 - false_negatives: 24.0000 - false_positives: 111.0000 - val_loss: 0.6055 - val_binary_accuracy: 0.8820 - val_auc: 0.9111 - val_mcc_metric: 0.7374 - val_precision: 0.8320 - val_true_negatives: 575.0000 - val_true_positives: 307.0000 - val_false_negatives: 56.0000 - val_false_positives: 62.0000\n",
      "Epoch 54/60\n",
      "164/164 [==============================] - ETA: 0s - loss: 0.0790 - binary_accuracy: 0.9722 - auc: 0.9952 - mcc_metric: 0.9413 - precision: 0.9468 - true_negatives: 3212.0000 - true_positives: 1887.0000 - false_negatives: 40.0000 - false_positives: 106.0000\n",
      "Epoch 00054: val_auc did not improve from 0.93916\n",
      "164/164 [==============================] - 9s 52ms/step - loss: 0.0790 - binary_accuracy: 0.9722 - auc: 0.9952 - mcc_metric: 0.9413 - precision: 0.9468 - true_negatives: 3212.0000 - true_positives: 1887.0000 - false_negatives: 40.0000 - false_positives: 106.0000 - val_loss: 0.5041 - val_binary_accuracy: 0.8780 - val_auc: 0.9255 - val_mcc_metric: 0.7425 - val_precision: 0.8266 - val_true_negatives: 573.0000 - val_true_positives: 305.0000 - val_false_negatives: 58.0000 - val_false_positives: 64.0000\n",
      "Epoch 55/60\n",
      "164/164 [==============================] - ETA: 0s - loss: 0.0548 - binary_accuracy: 0.9796 - auc: 0.9973 - mcc_metric: 0.9569 - precision: 0.9596 - true_negatives: 3238.0000 - true_positives: 1900.0000 - false_negatives: 27.0000 - false_positives: 80.0000\n",
      "Epoch 00055: val_auc did not improve from 0.93916\n",
      "164/164 [==============================] - 9s 56ms/step - loss: 0.0548 - binary_accuracy: 0.9796 - auc: 0.9973 - mcc_metric: 0.9569 - precision: 0.9596 - true_negatives: 3238.0000 - true_positives: 1900.0000 - false_negatives: 27.0000 - false_positives: 80.0000 - val_loss: 0.5280 - val_binary_accuracy: 0.8780 - val_auc: 0.9239 - val_mcc_metric: 0.7362 - val_precision: 0.8375 - val_true_negatives: 579.0000 - val_true_positives: 299.0000 - val_false_negatives: 64.0000 - val_false_positives: 58.0000\n",
      "Epoch 56/60\n",
      "163/164 [============================>.] - ETA: 0s - loss: 0.0557 - binary_accuracy: 0.9787 - auc: 0.9977 - mcc_metric: 0.9549 - precision: 0.9561 - true_negatives: 3211.0000 - true_positives: 1894.0000 - false_negatives: 24.0000 - false_positives: 87.0000\n",
      "Epoch 00056: val_auc did not improve from 0.93916\n",
      "164/164 [==============================] - 9s 54ms/step - loss: 0.0556 - binary_accuracy: 0.9786 - auc: 0.9977 - mcc_metric: 0.9547 - precision: 0.9558 - true_negatives: 3230.0000 - true_positives: 1903.0000 - false_negatives: 24.0000 - false_positives: 88.0000 - val_loss: 0.6033 - val_binary_accuracy: 0.8730 - val_auc: 0.9167 - val_mcc_metric: 0.7328 - val_precision: 0.8138 - val_true_negatives: 567.0000 - val_true_positives: 306.0000 - val_false_negatives: 57.0000 - val_false_positives: 70.0000\n",
      "Epoch 57/60\n",
      "163/164 [============================>.] - ETA: 0s - loss: 0.0515 - binary_accuracy: 0.9772 - auc: 0.9981 - mcc_metric: 0.9522 - precision: 0.9536 - true_negatives: 3207.0000 - true_positives: 1890.0000 - false_negatives: 27.0000 - false_positives: 92.0000\n",
      "Epoch 00057: val_auc did not improve from 0.93916\n",
      "164/164 [==============================] - 9s 53ms/step - loss: 0.0513 - binary_accuracy: 0.9773 - auc: 0.9981 - mcc_metric: 0.9525 - precision: 0.9538 - true_negatives: 3226.0000 - true_positives: 1900.0000 - false_negatives: 27.0000 - false_positives: 92.0000 - val_loss: 0.5608 - val_binary_accuracy: 0.8780 - val_auc: 0.9153 - val_mcc_metric: 0.7431 - val_precision: 0.8179 - val_true_negatives: 568.0000 - val_true_positives: 310.0000 - val_false_negatives: 53.0000 - val_false_positives: 69.0000\n",
      "Epoch 58/60\n",
      "163/164 [============================>.] - ETA: 0s - loss: 0.0412 - binary_accuracy: 0.9827 - auc: 0.9985 - mcc_metric: 0.9636 - precision: 0.9648 - true_negatives: 3232.0000 - true_positives: 1894.0000 - false_negatives: 21.0000 - false_positives: 69.0000\n",
      "Epoch 00058: val_auc did not improve from 0.93916\n",
      "164/164 [==============================] - 9s 53ms/step - loss: 0.0414 - binary_accuracy: 0.9827 - auc: 0.9985 - mcc_metric: 0.9634 - precision: 0.9646 - true_negatives: 3248.0000 - true_positives: 1906.0000 - false_negatives: 21.0000 - false_positives: 70.0000 - val_loss: 0.6657 - val_binary_accuracy: 0.8800 - val_auc: 0.9077 - val_mcc_metric: 0.7381 - val_precision: 0.8329 - val_true_negatives: 576.0000 - val_true_positives: 304.0000 - val_false_negatives: 59.0000 - val_false_positives: 61.0000\n",
      "Epoch 59/60\n",
      "164/164 [==============================] - ETA: 0s - loss: 0.0884 - binary_accuracy: 0.9676 - auc: 0.9941 - mcc_metric: 0.9308 - precision: 0.9439 - true_negatives: 3207.0000 - true_positives: 1868.0000 - false_negatives: 59.0000 - false_positives: 111.0000\n",
      "Epoch 00059: val_auc did not improve from 0.93916\n",
      "164/164 [==============================] - 9s 55ms/step - loss: 0.0884 - binary_accuracy: 0.9676 - auc: 0.9941 - mcc_metric: 0.9308 - precision: 0.9439 - true_negatives: 3207.0000 - true_positives: 1868.0000 - false_negatives: 59.0000 - false_positives: 111.0000 - val_loss: 0.5022 - val_binary_accuracy: 0.8690 - val_auc: 0.9209 - val_mcc_metric: 0.7155 - val_precision: 0.8187 - val_true_negatives: 571.0000 - val_true_positives: 298.0000 - val_false_negatives: 65.0000 - val_false_positives: 66.0000\n",
      "Epoch 60/60\n",
      "163/164 [============================>.] - ETA: 0s - loss: 0.0661 - binary_accuracy: 0.9739 - auc: 0.9969 - mcc_metric: 0.9453 - precision: 0.9505 - true_negatives: 3198.0000 - true_positives: 1882.0000 - false_negatives: 38.0000 - false_positives: 98.0000\n",
      "Epoch 00060: val_auc did not improve from 0.93916\n",
      "164/164 [==============================] - 9s 55ms/step - loss: 0.0660 - binary_accuracy: 0.9739 - auc: 0.9969 - mcc_metric: 0.9451 - precision: 0.9502 - true_negatives: 3219.0000 - true_positives: 1889.0000 - false_negatives: 38.0000 - false_positives: 99.0000 - val_loss: 0.5801 - val_binary_accuracy: 0.8750 - val_auc: 0.9198 - val_mcc_metric: 0.7260 - val_precision: 0.8269 - val_true_negatives: 574.0000 - val_true_positives: 301.0000 - val_false_negatives: 62.0000 - val_false_positives: 63.0000\n"
     ]
    },
    {
     "data": {
      "text/plain": [
       "<keras.callbacks.History at 0x1f250fd8670>"
      ]
     },
     "execution_count": 14,
     "metadata": {},
     "output_type": "execute_result"
    }
   ],
   "source": [
    "def save(i):\n",
    "    return 'F:/bbb/model/nlp/model_'+str(i)+'.tf'\n",
    "\n",
    "checkpoint = tf.keras.callbacks.ModelCheckpoint(save(33), \n",
    "                monitor='val_auc', verbose=1, \n",
    "                save_best_only=True, save_weights_only = False, mode='max')\n",
    "callbacks_list = [checkpoint]\n",
    "\n",
    "model.compile(optimizer = tf.keras.optimizers.Adam(learning_rate = 0.001) ,loss = BinaryCrossentropy(), metrics = [binary_accuracy, AUC(), mcc_metric \n",
    "                    ,Precision(),TrueNegatives(), TruePositives(), FalseNegatives(), FalsePositives()])\n",
    "model.fit(x = np.array(xtrain), y = np.array(ytrain), validation_data = (np.array(xvalid), np.array(yvalid)), epochs=60, batch_size = 32, \n",
    "              callbacks = callbacks_list, class_weight = class_weights)\n"
   ]
  },
  {
   "cell_type": "code",
   "execution_count": 15,
   "metadata": {},
   "outputs": [
    {
     "name": "stdout",
     "output_type": "stream",
     "text": [
      "49/49 [==============================] - 1s 27ms/step - loss: 0.4953 - binary_accuracy: 0.8406 - auc: 0.9156 - mcc_metric: 0.6660 - precision: 0.7393 - true_negatives: 831.0000 - true_positives: 482.0000 - false_negatives: 79.0000 - false_positives: 170.0000\n"
     ]
    },
    {
     "data": {
      "text/plain": [
       "[0.4952695071697235,\n",
       " 0.8405889868736267,\n",
       " 0.9156013131141663,\n",
       " 0.6659770011901855,\n",
       " 0.7392638325691223,\n",
       " 831.0,\n",
       " 482.0,\n",
       " 79.0,\n",
       " 170.0]"
      ]
     },
     "execution_count": 15,
     "metadata": {},
     "output_type": "execute_result"
    }
   ],
   "source": [
    "model.load_weights(save(33))\n",
    "model.evaluate(np.array(xtest), np.array(ytest))"
   ]
  },
  {
   "cell_type": "code",
   "execution_count": 16,
   "metadata": {},
   "outputs": [
    {
     "name": "stdout",
     "output_type": "stream",
     "text": [
      "32/32 [==============================] - 1s 32ms/step - loss: 0.3782 - binary_accuracy: 0.8700 - auc: 0.9392 - mcc_metric: 0.7308 - precision: 0.7935 - true_negatives: 555.0000 - true_positives: 315.0000 - false_negatives: 48.0000 - false_positives: 82.0000\n"
     ]
    },
    {
     "data": {
      "text/plain": [
       "[0.3782069683074951,\n",
       " 0.8700000047683716,\n",
       " 0.9391647577285767,\n",
       " 0.7307599186897278,\n",
       " 0.7934508919715881,\n",
       " 555.0,\n",
       " 315.0,\n",
       " 48.0,\n",
       " 82.0]"
      ]
     },
     "execution_count": 16,
     "metadata": {},
     "output_type": "execute_result"
    }
   ],
   "source": [
    "model.evaluate(np.array(xvalid), np.array(yvalid))"
   ]
  },
  {
   "cell_type": "code",
   "execution_count": 17,
   "metadata": {},
   "outputs": [
    {
     "data": {
      "text/plain": [
       "'2.7.0'"
      ]
     },
     "execution_count": 17,
     "metadata": {},
     "output_type": "execute_result"
    }
   ],
   "source": [
    "tf.__version__"
   ]
  }
 ],
 "metadata": {
  "interpreter": {
   "hash": "579282893146967bc5d17141c601e8a8b8ad4a0a2a5a6fe1c87b1000077400d7"
  },
  "kernelspec": {
   "display_name": "Python 3.8.8 64-bit ('base': conda)",
   "language": "python",
   "name": "python3"
  },
  "language_info": {
   "codemirror_mode": {
    "name": "ipython",
    "version": 3
   },
   "file_extension": ".py",
   "mimetype": "text/x-python",
   "name": "python",
   "nbconvert_exporter": "python",
   "pygments_lexer": "ipython3",
   "version": "3.8.8"
  },
  "orig_nbformat": 4
 },
 "nbformat": 4,
 "nbformat_minor": 2
}
