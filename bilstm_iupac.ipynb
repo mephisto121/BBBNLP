{
 "cells": [
  {
   "cell_type": "code",
   "execution_count": 1,
   "metadata": {},
   "outputs": [
    {
     "name": "stdout",
     "output_type": "stream",
     "text": [
      "Tue Feb 15 09:56:47 2022       \n",
      "+-----------------------------------------------------------------------------+\n",
      "| NVIDIA-SMI 462.30       Driver Version: 462.30       CUDA Version: 11.2     |\n",
      "|-------------------------------+----------------------+----------------------+\n",
      "| GPU  Name            TCC/WDDM | Bus-Id        Disp.A | Volatile Uncorr. ECC |\n",
      "| Fan  Temp  Perf  Pwr:Usage/Cap|         Memory-Usage | GPU-Util  Compute M. |\n",
      "|                               |                      |               MIG M. |\n",
      "|===============================+======================+======================|\n",
      "|   0  GeForce GTX 165... WDDM  | 00000000:01:00.0 Off |                  N/A |\n",
      "| N/A   51C    P8     3W /  N/A |    134MiB /  4096MiB |      0%      Default |\n",
      "|                               |                      |                  N/A |\n",
      "+-------------------------------+----------------------+----------------------+\n",
      "                                                                               \n",
      "+-----------------------------------------------------------------------------+\n",
      "| Processes:                                                                  |\n",
      "|  GPU   GI   CI        PID   Type   Process name                  GPU Memory |\n",
      "|        ID   ID                                                   Usage      |\n",
      "|=============================================================================|\n",
      "|  No running processes found                                                 |\n",
      "+-----------------------------------------------------------------------------+\n"
     ]
    }
   ],
   "source": [
    "!nvidia-smi"
   ]
  },
  {
   "cell_type": "code",
   "execution_count": 2,
   "metadata": {},
   "outputs": [],
   "source": [
    "import pandas as pd\n",
    "import numpy as np\n",
    "import tensorflow as tf\n",
    "from tensorflow.keras.layers import  Dense, Bidirectional, LSTM, Dropout,Input, Embedding\n",
    "from tensorflow.keras.losses import BinaryCrossentropy\n",
    "from tensorflow.keras.models import Model \n",
    "from tensorflow.keras.metrics import Precision, AUC, binary_accuracy, TrueNegatives, TruePositives, FalseNegatives, FalsePositives\n",
    "from helper_functions import mcc_metric\n",
    "from sklearn.model_selection import train_test_split\n",
    "from sklearn.preprocessing import LabelEncoder\n",
    "from sklearn.utils import class_weight\n",
    "from transformers import AutoTokenizer"
   ]
  },
  {
   "cell_type": "code",
   "execution_count": 3,
   "metadata": {},
   "outputs": [
    {
     "data": {
      "text/html": [
       "<div>\n",
       "<style scoped>\n",
       "    .dataframe tbody tr th:only-of-type {\n",
       "        vertical-align: middle;\n",
       "    }\n",
       "\n",
       "    .dataframe tbody tr th {\n",
       "        vertical-align: top;\n",
       "    }\n",
       "\n",
       "    .dataframe thead th {\n",
       "        text-align: right;\n",
       "    }\n",
       "</style>\n",
       "<table border=\"1\" class=\"dataframe\">\n",
       "  <thead>\n",
       "    <tr style=\"text-align: right;\">\n",
       "      <th></th>\n",
       "      <th>NO.</th>\n",
       "      <th>compound_name</th>\n",
       "      <th>IUPAC_name</th>\n",
       "      <th>SMILES</th>\n",
       "      <th>CID</th>\n",
       "      <th>logBB</th>\n",
       "      <th>BBB+/BBB-</th>\n",
       "      <th>Inchi</th>\n",
       "      <th>threshold</th>\n",
       "      <th>reference</th>\n",
       "      <th>group</th>\n",
       "      <th>comments</th>\n",
       "    </tr>\n",
       "  </thead>\n",
       "  <tbody>\n",
       "    <tr>\n",
       "      <th>0</th>\n",
       "      <td>1</td>\n",
       "      <td>sulphasalazine</td>\n",
       "      <td>2-hydroxy-5-[[4-(pyridin-2-ylsulfamoyl)phenyl]...</td>\n",
       "      <td>O=C(O)c1cc(N=Nc2ccc(S(=O)(=O)Nc3ccccn3)cc2)ccc1O</td>\n",
       "      <td>5339.0</td>\n",
       "      <td>-2.69</td>\n",
       "      <td>BBB-</td>\n",
       "      <td>InChI=1S/C18H14N4O5S/c23-16-9-6-13(11-15(16)18...</td>\n",
       "      <td>NaN</td>\n",
       "      <td>R2|R2|R25|R46|</td>\n",
       "      <td>A</td>\n",
       "      <td>NaN</td>\n",
       "    </tr>\n",
       "  </tbody>\n",
       "</table>\n",
       "</div>"
      ],
      "text/plain": [
       "   NO.   compound_name                                         IUPAC_name  \\\n",
       "0    1  sulphasalazine  2-hydroxy-5-[[4-(pyridin-2-ylsulfamoyl)phenyl]...   \n",
       "\n",
       "                                             SMILES     CID  logBB BBB+/BBB-  \\\n",
       "0  O=C(O)c1cc(N=Nc2ccc(S(=O)(=O)Nc3ccccn3)cc2)ccc1O  5339.0  -2.69      BBB-   \n",
       "\n",
       "                                               Inchi  threshold  \\\n",
       "0  InChI=1S/C18H14N4O5S/c23-16-9-6-13(11-15(16)18...        NaN   \n",
       "\n",
       "        reference group comments  \n",
       "0  R2|R2|R25|R46|     A      NaN  "
      ]
     },
     "execution_count": 3,
     "metadata": {},
     "output_type": "execute_result"
    }
   ],
   "source": [
    "data = pd.read_table('F:/bbb/data/B3DB/B3DB_classification.tsv')\n",
    "data.head(1)"
   ]
  },
  {
   "cell_type": "code",
   "execution_count": 4,
   "metadata": {},
   "outputs": [],
   "source": [
    "data_new = data.dropna(subset=['IUPAC_name'])\n",
    "X = data_new['IUPAC_name']\n",
    "target=data_new['BBB+/BBB-'].values.tolist()\n",
    "label_encoder = LabelEncoder()\n",
    "y_classification = label_encoder.fit_transform(target)"
   ]
  },
  {
   "cell_type": "code",
   "execution_count": 5,
   "metadata": {},
   "outputs": [],
   "source": [
    "tokenizer = AutoTokenizer.from_pretrained('gumgo91/IUPAC_BERT', from_pt = True)"
   ]
  },
  {
   "cell_type": "code",
   "execution_count": 6,
   "metadata": {},
   "outputs": [],
   "source": [
    "iupac_data = tokenizer(list(X),  truncation=True, padding=True, max_length=256)\n",
    "iupac_data = iupac_data['input_ids']"
   ]
  },
  {
   "cell_type": "code",
   "execution_count": 7,
   "metadata": {},
   "outputs": [],
   "source": [
    "from sklearn.model_selection import train_test_split\n",
    "xtrain, xtest, ytrain, ytest = train_test_split(iupac_data, y_classification, test_size = 0.2, random_state = 42)\n",
    "xtrain, xvalid, ytrain, yvalid = train_test_split(xtrain, ytrain, test_size = 0.16, random_state = 42)"
   ]
  },
  {
   "cell_type": "code",
   "execution_count": 8,
   "metadata": {},
   "outputs": [
    {
     "data": {
      "text/plain": [
       "6170"
      ]
     },
     "execution_count": 8,
     "metadata": {},
     "output_type": "execute_result"
    }
   ],
   "source": [
    "len(y_classification)"
   ]
  },
  {
   "cell_type": "code",
   "execution_count": 9,
   "metadata": {},
   "outputs": [
    {
     "data": {
      "text/plain": [
       "(array([0, 1], dtype=int64), array([3992, 2178], dtype=int64))"
      ]
     },
     "execution_count": 9,
     "metadata": {},
     "output_type": "execute_result"
    }
   ],
   "source": [
    "np.unique(y_classification, return_counts=True)"
   ]
  },
  {
   "cell_type": "code",
   "execution_count": 10,
   "metadata": {},
   "outputs": [
    {
     "name": "stderr",
     "output_type": "stream",
     "text": [
      "F:\\anaconda\\lib\\site-packages\\sklearn\\utils\\validation.py:70: FutureWarning: Pass classes=[0 1], y=[0 0 0 ... 1 1 0] as keyword args. From version 1.0 (renaming of 0.25) passing these as positional arguments will result in an error\n",
      "  warnings.warn(f\"Pass {args_msg} as keyword args. From version \"\n"
     ]
    }
   ],
   "source": [
    "class_weights = class_weight.compute_class_weight(\n",
    "           'balanced',\n",
    "            np.unique(ytrain), \n",
    "            ytrain)"
   ]
  },
  {
   "cell_type": "code",
   "execution_count": 11,
   "metadata": {},
   "outputs": [
    {
     "data": {
      "text/plain": [
       "1500"
      ]
     },
     "execution_count": 11,
     "metadata": {},
     "output_type": "execute_result"
    }
   ],
   "source": [
    "word_in_vocab = tokenizer.vocab\n",
    "len(word_in_vocab)"
   ]
  },
  {
   "cell_type": "code",
   "execution_count": 12,
   "metadata": {},
   "outputs": [
    {
     "data": {
      "text/plain": [
       "(256,)"
      ]
     },
     "execution_count": 12,
     "metadata": {},
     "output_type": "execute_result"
    }
   ],
   "source": [
    "np.array(xtrain[0]).shape"
   ]
  },
  {
   "cell_type": "code",
   "execution_count": 13,
   "metadata": {},
   "outputs": [],
   "source": [
    "input = Input(shape = (256,))\n",
    "\n",
    "x = Embedding(input_dim=len(word_in_vocab),\n",
    "                        output_dim=256, \n",
    "                        input_length=None,\n",
    "                        )(input)\n",
    "x = Bidirectional(LSTM(64, return_sequences=True,name = 'lstm1'))(x)\n",
    "x = Bidirectional(LSTM(64, return_sequences=True,name = 'lstm1'))(x)\n",
    "x = Dropout(0.2)(x)\n",
    "x = Bidirectional(LSTM(64, return_sequences=False,name = 'lstm1'))(x)\n",
    "x = Dropout(0.2)(x)\n",
    "\n",
    "x = Dense(256, activation = 'relu')(x)\n",
    "x = Dense(10, activation = 'relu')(x)\n",
    "output = Dense(1, activation = \"sigmoid\")(x)\n",
    "model = Model(inputs = input, outputs = output)\n"
   ]
  },
  {
   "cell_type": "code",
   "execution_count": 14,
   "metadata": {},
   "outputs": [
    {
     "data": {
      "text/plain": [
       "array([0.77582335, 1.4063772 ])"
      ]
     },
     "execution_count": 14,
     "metadata": {},
     "output_type": "execute_result"
    }
   ],
   "source": [
    "class_weights"
   ]
  },
  {
   "cell_type": "code",
   "execution_count": 15,
   "metadata": {},
   "outputs": [
    {
     "name": "stdout",
     "output_type": "stream",
     "text": [
      "Epoch 1/60\n",
      "130/130 [==============================] - ETA: 0s - loss: 0.5571 - binary_accuracy: 0.7559 - auc: 0.7900 - mcc_metric: nan - precision: 0.6709 - true_negatives: 2227.0000 - true_positives: 907.0000 - false_negatives: 567.0000 - false_positives: 445.0000\n",
      "Epoch 00001: val_auc improved from -inf to 0.86767, saving model to F:/bbb/model/nlp\\model_33iupac.tf\n"
     ]
    },
    {
     "name": "stderr",
     "output_type": "stream",
     "text": [
      "WARNING:absl:Found untraced functions such as lstm_cell_1_layer_call_fn, lstm_cell_1_layer_call_and_return_conditional_losses, lstm_cell_2_layer_call_fn, lstm_cell_2_layer_call_and_return_conditional_losses, lstm_cell_4_layer_call_fn while saving (showing 5 of 30). These functions will not be directly callable after loading.\n"
     ]
    },
    {
     "name": "stdout",
     "output_type": "stream",
     "text": [
      "INFO:tensorflow:Assets written to: F:/bbb/model/nlp\\model_33iupac.tf\\assets\n"
     ]
    },
    {
     "name": "stderr",
     "output_type": "stream",
     "text": [
      "INFO:tensorflow:Assets written to: F:/bbb/model/nlp\\model_33iupac.tf\\assets\n",
      "WARNING:absl:<keras.layers.recurrent.LSTMCell object at 0x000001D0DA55B1F0> has the same name 'LSTMCell' as a built-in Keras object. Consider renaming <class 'keras.layers.recurrent.LSTMCell'> to avoid naming conflicts when loading with `tf.keras.models.load_model`. If renaming is not possible, pass the object in the `custom_objects` parameter of the load function.\n",
      "WARNING:absl:<keras.layers.recurrent.LSTMCell object at 0x000001D0DA9188E0> has the same name 'LSTMCell' as a built-in Keras object. Consider renaming <class 'keras.layers.recurrent.LSTMCell'> to avoid naming conflicts when loading with `tf.keras.models.load_model`. If renaming is not possible, pass the object in the `custom_objects` parameter of the load function.\n",
      "WARNING:absl:<keras.layers.recurrent.LSTMCell object at 0x000001D084F7C670> has the same name 'LSTMCell' as a built-in Keras object. Consider renaming <class 'keras.layers.recurrent.LSTMCell'> to avoid naming conflicts when loading with `tf.keras.models.load_model`. If renaming is not possible, pass the object in the `custom_objects` parameter of the load function.\n",
      "WARNING:absl:<keras.layers.recurrent.LSTMCell object at 0x000001D084FC19A0> has the same name 'LSTMCell' as a built-in Keras object. Consider renaming <class 'keras.layers.recurrent.LSTMCell'> to avoid naming conflicts when loading with `tf.keras.models.load_model`. If renaming is not possible, pass the object in the `custom_objects` parameter of the load function.\n",
      "WARNING:absl:<keras.layers.recurrent.LSTMCell object at 0x000001D085010B80> has the same name 'LSTMCell' as a built-in Keras object. Consider renaming <class 'keras.layers.recurrent.LSTMCell'> to avoid naming conflicts when loading with `tf.keras.models.load_model`. If renaming is not possible, pass the object in the `custom_objects` parameter of the load function.\n",
      "WARNING:absl:<keras.layers.recurrent.LSTMCell object at 0x000001D085056D60> has the same name 'LSTMCell' as a built-in Keras object. Consider renaming <class 'keras.layers.recurrent.LSTMCell'> to avoid naming conflicts when loading with `tf.keras.models.load_model`. If renaming is not possible, pass the object in the `custom_objects` parameter of the load function.\n"
     ]
    },
    {
     "name": "stdout",
     "output_type": "stream",
     "text": [
      "130/130 [==============================] - 57s 366ms/step - loss: 0.5571 - binary_accuracy: 0.7559 - auc: 0.7900 - mcc_metric: nan - precision: 0.6709 - true_negatives: 2227.0000 - true_positives: 907.0000 - false_negatives: 567.0000 - false_positives: 445.0000 - val_loss: 0.4891 - val_binary_accuracy: 0.7658 - val_auc: 0.8677 - val_mcc_metric: 0.5292 - val_precision: 0.6196 - val_true_negatives: 390.0000 - val_true_positives: 215.0000 - val_false_negatives: 53.0000 - val_false_positives: 132.0000\n",
      "Epoch 2/60\n",
      "130/130 [==============================] - ETA: 0s - loss: 0.4133 - binary_accuracy: 0.8222 - auc: 0.8921 - mcc_metric: 0.6319 - precision: 0.7211 - true_negatives: 2207.0000 - true_positives: 1202.0000 - false_negatives: 272.0000 - false_positives: 465.0000\n",
      "Epoch 00002: val_auc improved from 0.86767 to 0.89508, saving model to F:/bbb/model/nlp\\model_33iupac.tf\n"
     ]
    },
    {
     "name": "stderr",
     "output_type": "stream",
     "text": [
      "WARNING:absl:Found untraced functions such as lstm_cell_1_layer_call_fn, lstm_cell_1_layer_call_and_return_conditional_losses, lstm_cell_2_layer_call_fn, lstm_cell_2_layer_call_and_return_conditional_losses, lstm_cell_4_layer_call_fn while saving (showing 5 of 30). These functions will not be directly callable after loading.\n"
     ]
    },
    {
     "name": "stdout",
     "output_type": "stream",
     "text": [
      "INFO:tensorflow:Assets written to: F:/bbb/model/nlp\\model_33iupac.tf\\assets\n"
     ]
    },
    {
     "name": "stderr",
     "output_type": "stream",
     "text": [
      "INFO:tensorflow:Assets written to: F:/bbb/model/nlp\\model_33iupac.tf\\assets\n",
      "WARNING:absl:<keras.layers.recurrent.LSTMCell object at 0x000001D0DA55B1F0> has the same name 'LSTMCell' as a built-in Keras object. Consider renaming <class 'keras.layers.recurrent.LSTMCell'> to avoid naming conflicts when loading with `tf.keras.models.load_model`. If renaming is not possible, pass the object in the `custom_objects` parameter of the load function.\n",
      "WARNING:absl:<keras.layers.recurrent.LSTMCell object at 0x000001D0DA9188E0> has the same name 'LSTMCell' as a built-in Keras object. Consider renaming <class 'keras.layers.recurrent.LSTMCell'> to avoid naming conflicts when loading with `tf.keras.models.load_model`. If renaming is not possible, pass the object in the `custom_objects` parameter of the load function.\n",
      "WARNING:absl:<keras.layers.recurrent.LSTMCell object at 0x000001D084F7C670> has the same name 'LSTMCell' as a built-in Keras object. Consider renaming <class 'keras.layers.recurrent.LSTMCell'> to avoid naming conflicts when loading with `tf.keras.models.load_model`. If renaming is not possible, pass the object in the `custom_objects` parameter of the load function.\n",
      "WARNING:absl:<keras.layers.recurrent.LSTMCell object at 0x000001D084FC19A0> has the same name 'LSTMCell' as a built-in Keras object. Consider renaming <class 'keras.layers.recurrent.LSTMCell'> to avoid naming conflicts when loading with `tf.keras.models.load_model`. If renaming is not possible, pass the object in the `custom_objects` parameter of the load function.\n",
      "WARNING:absl:<keras.layers.recurrent.LSTMCell object at 0x000001D085010B80> has the same name 'LSTMCell' as a built-in Keras object. Consider renaming <class 'keras.layers.recurrent.LSTMCell'> to avoid naming conflicts when loading with `tf.keras.models.load_model`. If renaming is not possible, pass the object in the `custom_objects` parameter of the load function.\n",
      "WARNING:absl:<keras.layers.recurrent.LSTMCell object at 0x000001D085056D60> has the same name 'LSTMCell' as a built-in Keras object. Consider renaming <class 'keras.layers.recurrent.LSTMCell'> to avoid naming conflicts when loading with `tf.keras.models.load_model`. If renaming is not possible, pass the object in the `custom_objects` parameter of the load function.\n"
     ]
    },
    {
     "name": "stdout",
     "output_type": "stream",
     "text": [
      "130/130 [==============================] - 45s 350ms/step - loss: 0.4133 - binary_accuracy: 0.8222 - auc: 0.8921 - mcc_metric: 0.6319 - precision: 0.7211 - true_negatives: 2207.0000 - true_positives: 1202.0000 - false_negatives: 272.0000 - false_positives: 465.0000 - val_loss: 0.3844 - val_binary_accuracy: 0.8190 - val_auc: 0.8951 - val_mcc_metric: 0.6087 - val_precision: 0.7193 - val_true_negatives: 442.0000 - val_true_positives: 205.0000 - val_false_negatives: 63.0000 - val_false_positives: 80.0000\n",
      "Epoch 3/60\n",
      "130/130 [==============================] - ETA: 0s - loss: 0.3462 - binary_accuracy: 0.8420 - auc: 0.9254 - mcc_metric: 0.6772 - precision: 0.7304 - true_negatives: 2193.0000 - true_positives: 1298.0000 - false_negatives: 176.0000 - false_positives: 479.0000\n",
      "Epoch 00003: val_auc improved from 0.89508 to 0.89968, saving model to F:/bbb/model/nlp\\model_33iupac.tf\n"
     ]
    },
    {
     "name": "stderr",
     "output_type": "stream",
     "text": [
      "WARNING:absl:Found untraced functions such as lstm_cell_1_layer_call_fn, lstm_cell_1_layer_call_and_return_conditional_losses, lstm_cell_2_layer_call_fn, lstm_cell_2_layer_call_and_return_conditional_losses, lstm_cell_4_layer_call_fn while saving (showing 5 of 30). These functions will not be directly callable after loading.\n"
     ]
    },
    {
     "name": "stdout",
     "output_type": "stream",
     "text": [
      "INFO:tensorflow:Assets written to: F:/bbb/model/nlp\\model_33iupac.tf\\assets\n"
     ]
    },
    {
     "name": "stderr",
     "output_type": "stream",
     "text": [
      "INFO:tensorflow:Assets written to: F:/bbb/model/nlp\\model_33iupac.tf\\assets\n",
      "WARNING:absl:<keras.layers.recurrent.LSTMCell object at 0x000001D0DA55B1F0> has the same name 'LSTMCell' as a built-in Keras object. Consider renaming <class 'keras.layers.recurrent.LSTMCell'> to avoid naming conflicts when loading with `tf.keras.models.load_model`. If renaming is not possible, pass the object in the `custom_objects` parameter of the load function.\n",
      "WARNING:absl:<keras.layers.recurrent.LSTMCell object at 0x000001D0DA9188E0> has the same name 'LSTMCell' as a built-in Keras object. Consider renaming <class 'keras.layers.recurrent.LSTMCell'> to avoid naming conflicts when loading with `tf.keras.models.load_model`. If renaming is not possible, pass the object in the `custom_objects` parameter of the load function.\n",
      "WARNING:absl:<keras.layers.recurrent.LSTMCell object at 0x000001D084F7C670> has the same name 'LSTMCell' as a built-in Keras object. Consider renaming <class 'keras.layers.recurrent.LSTMCell'> to avoid naming conflicts when loading with `tf.keras.models.load_model`. If renaming is not possible, pass the object in the `custom_objects` parameter of the load function.\n",
      "WARNING:absl:<keras.layers.recurrent.LSTMCell object at 0x000001D084FC19A0> has the same name 'LSTMCell' as a built-in Keras object. Consider renaming <class 'keras.layers.recurrent.LSTMCell'> to avoid naming conflicts when loading with `tf.keras.models.load_model`. If renaming is not possible, pass the object in the `custom_objects` parameter of the load function.\n",
      "WARNING:absl:<keras.layers.recurrent.LSTMCell object at 0x000001D085010B80> has the same name 'LSTMCell' as a built-in Keras object. Consider renaming <class 'keras.layers.recurrent.LSTMCell'> to avoid naming conflicts when loading with `tf.keras.models.load_model`. If renaming is not possible, pass the object in the `custom_objects` parameter of the load function.\n",
      "WARNING:absl:<keras.layers.recurrent.LSTMCell object at 0x000001D085056D60> has the same name 'LSTMCell' as a built-in Keras object. Consider renaming <class 'keras.layers.recurrent.LSTMCell'> to avoid naming conflicts when loading with `tf.keras.models.load_model`. If renaming is not possible, pass the object in the `custom_objects` parameter of the load function.\n"
     ]
    },
    {
     "name": "stdout",
     "output_type": "stream",
     "text": [
      "130/130 [==============================] - 51s 392ms/step - loss: 0.3462 - binary_accuracy: 0.8420 - auc: 0.9254 - mcc_metric: 0.6772 - precision: 0.7304 - true_negatives: 2193.0000 - true_positives: 1298.0000 - false_negatives: 176.0000 - false_positives: 479.0000 - val_loss: 0.3851 - val_binary_accuracy: 0.8114 - val_auc: 0.8997 - val_mcc_metric: 0.6002 - val_precision: 0.6901 - val_true_negatives: 425.0000 - val_true_positives: 216.0000 - val_false_negatives: 52.0000 - val_false_positives: 97.0000\n",
      "Epoch 4/60\n",
      "130/130 [==============================] - ETA: 0s - loss: 0.3074 - binary_accuracy: 0.8755 - auc: 0.9407 - mcc_metric: 0.7457 - precision: 0.7821 - true_negatives: 2302.0000 - true_positives: 1328.0000 - false_negatives: 146.0000 - false_positives: 370.0000\n",
      "Epoch 00004: val_auc did not improve from 0.89968\n",
      "130/130 [==============================] - 19s 145ms/step - loss: 0.3074 - binary_accuracy: 0.8755 - auc: 0.9407 - mcc_metric: 0.7457 - precision: 0.7821 - true_negatives: 2302.0000 - true_positives: 1328.0000 - false_negatives: 146.0000 - false_positives: 370.0000 - val_loss: 0.4859 - val_binary_accuracy: 0.8000 - val_auc: 0.8951 - val_mcc_metric: 0.5996 - val_precision: 0.6562 - val_true_negatives: 401.0000 - val_true_positives: 231.0000 - val_false_negatives: 37.0000 - val_false_positives: 121.0000\n",
      "Epoch 5/60\n",
      "130/130 [==============================] - ETA: 0s - loss: 0.2952 - binary_accuracy: 0.8698 - auc: 0.9448 - mcc_metric: 0.7396 - precision: 0.7656 - true_negatives: 2260.0000 - true_positives: 1346.0000 - false_negatives: 128.0000 - false_positives: 412.0000\n",
      "Epoch 00005: val_auc did not improve from 0.89968\n",
      "130/130 [==============================] - 19s 144ms/step - loss: 0.2952 - binary_accuracy: 0.8698 - auc: 0.9448 - mcc_metric: 0.7396 - precision: 0.7656 - true_negatives: 2260.0000 - true_positives: 1346.0000 - false_negatives: 128.0000 - false_positives: 412.0000 - val_loss: 0.4599 - val_binary_accuracy: 0.7759 - val_auc: 0.8944 - val_mcc_metric: 0.5656 - val_precision: 0.6207 - val_true_negatives: 379.0000 - val_true_positives: 234.0000 - val_false_negatives: 34.0000 - val_false_positives: 143.0000\n",
      "Epoch 6/60\n",
      "130/130 [==============================] - ETA: 0s - loss: 0.2603 - binary_accuracy: 0.8883 - auc: 0.9558 - mcc_metric: 0.7747 - precision: 0.7914 - true_negatives: 2310.0000 - true_positives: 1373.0000 - false_negatives: 101.0000 - false_positives: 362.0000\n",
      "Epoch 00006: val_auc did not improve from 0.89968\n",
      "130/130 [==============================] - 19s 144ms/step - loss: 0.2603 - binary_accuracy: 0.8883 - auc: 0.9558 - mcc_metric: 0.7747 - precision: 0.7914 - true_negatives: 2310.0000 - true_positives: 1373.0000 - false_negatives: 101.0000 - false_positives: 362.0000 - val_loss: 0.4576 - val_binary_accuracy: 0.7646 - val_auc: 0.8896 - val_mcc_metric: 0.5553 - val_precision: 0.6041 - val_true_negatives: 366.0000 - val_true_positives: 238.0000 - val_false_negatives: 30.0000 - val_false_positives: 156.0000\n",
      "Epoch 7/60\n",
      "130/130 [==============================] - ETA: 0s - loss: 0.2441 - binary_accuracy: 0.8912 - auc: 0.9612 - mcc_metric: 0.7767 - precision: 0.7952 - true_negatives: 2317.0000 - true_positives: 1378.0000 - false_negatives: 96.0000 - false_positives: 355.0000\n",
      "Epoch 00007: val_auc did not improve from 0.89968\n",
      "130/130 [==============================] - 18s 142ms/step - loss: 0.2441 - binary_accuracy: 0.8912 - auc: 0.9612 - mcc_metric: 0.7767 - precision: 0.7952 - true_negatives: 2317.0000 - true_positives: 1378.0000 - false_negatives: 96.0000 - false_positives: 355.0000 - val_loss: 0.4236 - val_binary_accuracy: 0.8127 - val_auc: 0.8935 - val_mcc_metric: 0.6113 - val_precision: 0.6887 - val_true_negatives: 423.0000 - val_true_positives: 219.0000 - val_false_negatives: 49.0000 - val_false_positives: 99.0000\n",
      "Epoch 8/60\n",
      "130/130 [==============================] - ETA: 0s - loss: 0.2337 - binary_accuracy: 0.9014 - auc: 0.9654 - mcc_metric: 0.7984 - precision: 0.8127 - true_negatives: 2353.0000 - true_positives: 1384.0000 - false_negatives: 90.0000 - false_positives: 319.0000\n",
      "Epoch 00008: val_auc did not improve from 0.89968\n",
      "130/130 [==============================] - 17s 130ms/step - loss: 0.2337 - binary_accuracy: 0.9014 - auc: 0.9654 - mcc_metric: 0.7984 - precision: 0.8127 - true_negatives: 2353.0000 - true_positives: 1384.0000 - false_negatives: 90.0000 - false_positives: 319.0000 - val_loss: 0.4136 - val_binary_accuracy: 0.8342 - val_auc: 0.8913 - val_mcc_metric: 0.6342 - val_precision: 0.7491 - val_true_negatives: 453.0000 - val_true_positives: 206.0000 - val_false_negatives: 62.0000 - val_false_positives: 69.0000\n",
      "Epoch 9/60\n",
      "130/130 [==============================] - ETA: 0s - loss: 0.2074 - binary_accuracy: 0.9134 - auc: 0.9709 - mcc_metric: 0.8235 - precision: 0.8309 - true_negatives: 2387.0000 - true_positives: 1400.0000 - false_negatives: 74.0000 - false_positives: 285.0000\n",
      "Epoch 00009: val_auc did not improve from 0.89968\n",
      "130/130 [==============================] - 18s 137ms/step - loss: 0.2074 - binary_accuracy: 0.9134 - auc: 0.9709 - mcc_metric: 0.8235 - precision: 0.8309 - true_negatives: 2387.0000 - true_positives: 1400.0000 - false_negatives: 74.0000 - false_positives: 285.0000 - val_loss: 0.4596 - val_binary_accuracy: 0.8076 - val_auc: 0.8915 - val_mcc_metric: 0.6085 - val_precision: 0.6706 - val_true_negatives: 410.0000 - val_true_positives: 228.0000 - val_false_negatives: 40.0000 - val_false_positives: 112.0000\n",
      "Epoch 10/60\n",
      "130/130 [==============================] - ETA: 0s - loss: 0.1870 - binary_accuracy: 0.9257 - auc: 0.9758 - mcc_metric: 0.8472 - precision: 0.8504 - true_negatives: 2423.0000 - true_positives: 1415.0000 - false_negatives: 59.0000 - false_positives: 249.0000\n",
      "Epoch 00010: val_auc did not improve from 0.89968\n",
      "130/130 [==============================] - 17s 133ms/step - loss: 0.1870 - binary_accuracy: 0.9257 - auc: 0.9758 - mcc_metric: 0.8472 - precision: 0.8504 - true_negatives: 2423.0000 - true_positives: 1415.0000 - false_negatives: 59.0000 - false_positives: 249.0000 - val_loss: 0.4937 - val_binary_accuracy: 0.8241 - val_auc: 0.8869 - val_mcc_metric: 0.6237 - val_precision: 0.7172 - val_true_negatives: 438.0000 - val_true_positives: 213.0000 - val_false_negatives: 55.0000 - val_false_positives: 84.0000\n",
      "Epoch 11/60\n",
      "130/130 [==============================] - ETA: 0s - loss: 0.1718 - binary_accuracy: 0.9313 - auc: 0.9796 - mcc_metric: 0.8583 - precision: 0.8605 - true_negatives: 2442.0000 - true_positives: 1419.0000 - false_negatives: 55.0000 - false_positives: 230.0000\n",
      "Epoch 00011: val_auc did not improve from 0.89968\n",
      "130/130 [==============================] - 19s 148ms/step - loss: 0.1718 - binary_accuracy: 0.9313 - auc: 0.9796 - mcc_metric: 0.8583 - precision: 0.8605 - true_negatives: 2442.0000 - true_positives: 1419.0000 - false_negatives: 55.0000 - false_positives: 230.0000 - val_loss: 0.5251 - val_binary_accuracy: 0.8190 - val_auc: 0.8805 - val_mcc_metric: 0.6098 - val_precision: 0.7148 - val_true_negatives: 439.0000 - val_true_positives: 208.0000 - val_false_negatives: 60.0000 - val_false_positives: 83.0000\n",
      "Epoch 12/60\n",
      "130/130 [==============================] - ETA: 0s - loss: 0.1618 - binary_accuracy: 0.9351 - auc: 0.9812 - mcc_metric: 0.8635 - precision: 0.8685 - true_negatives: 2457.0000 - true_positives: 1420.0000 - false_negatives: 54.0000 - false_positives: 215.0000\n",
      "Epoch 00012: val_auc did not improve from 0.89968\n",
      "130/130 [==============================] - 17s 134ms/step - loss: 0.1618 - binary_accuracy: 0.9351 - auc: 0.9812 - mcc_metric: 0.8635 - precision: 0.8685 - true_negatives: 2457.0000 - true_positives: 1420.0000 - false_negatives: 54.0000 - false_positives: 215.0000 - val_loss: 0.5789 - val_binary_accuracy: 0.8025 - val_auc: 0.8828 - val_mcc_metric: 0.6048 - val_precision: 0.6600 - val_true_negatives: 403.0000 - val_true_positives: 231.0000 - val_false_negatives: 37.0000 - val_false_positives: 119.0000\n",
      "Epoch 13/60\n",
      "130/130 [==============================] - ETA: 0s - loss: 0.1652 - binary_accuracy: 0.9293 - auc: 0.9804 - mcc_metric: 0.8556 - precision: 0.8513 - true_negatives: 2422.0000 - true_positives: 1431.0000 - false_negatives: 43.0000 - false_positives: 250.0000\n",
      "Epoch 00013: val_auc did not improve from 0.89968\n",
      "130/130 [==============================] - 19s 145ms/step - loss: 0.1652 - binary_accuracy: 0.9293 - auc: 0.9804 - mcc_metric: 0.8556 - precision: 0.8513 - true_negatives: 2422.0000 - true_positives: 1431.0000 - false_negatives: 43.0000 - false_positives: 250.0000 - val_loss: 0.5372 - val_binary_accuracy: 0.8177 - val_auc: 0.8699 - val_mcc_metric: 0.6005 - val_precision: 0.7199 - val_true_negatives: 443.0000 - val_true_positives: 203.0000 - val_false_negatives: 65.0000 - val_false_positives: 79.0000\n",
      "Epoch 14/60\n",
      "130/130 [==============================] - ETA: 0s - loss: 0.1502 - binary_accuracy: 0.9356 - auc: 0.9846 - mcc_metric: 0.8679 - precision: 0.8660 - true_negatives: 2451.0000 - true_positives: 1428.0000 - false_negatives: 46.0000 - false_positives: 221.0000\n",
      "Epoch 00014: val_auc did not improve from 0.89968\n",
      "130/130 [==============================] - 19s 147ms/step - loss: 0.1502 - binary_accuracy: 0.9356 - auc: 0.9846 - mcc_metric: 0.8679 - precision: 0.8660 - true_negatives: 2451.0000 - true_positives: 1428.0000 - false_negatives: 46.0000 - false_positives: 221.0000 - val_loss: 0.5372 - val_binary_accuracy: 0.8127 - val_auc: 0.8707 - val_mcc_metric: 0.6037 - val_precision: 0.6987 - val_true_negatives: 431.0000 - val_true_positives: 211.0000 - val_false_negatives: 57.0000 - val_false_positives: 91.0000\n",
      "Epoch 15/60\n",
      "130/130 [==============================] - ETA: 0s - loss: 0.1699 - binary_accuracy: 0.9337 - auc: 0.9794 - mcc_metric: 0.8661 - precision: 0.8631 - true_negatives: 2446.0000 - true_positives: 1425.0000 - false_negatives: 49.0000 - false_positives: 226.0000\n",
      "Epoch 00015: val_auc did not improve from 0.89968\n",
      "130/130 [==============================] - 18s 139ms/step - loss: 0.1699 - binary_accuracy: 0.9337 - auc: 0.9794 - mcc_metric: 0.8661 - precision: 0.8631 - true_negatives: 2446.0000 - true_positives: 1425.0000 - false_negatives: 49.0000 - false_positives: 226.0000 - val_loss: 0.5619 - val_binary_accuracy: 0.8316 - val_auc: 0.8768 - val_mcc_metric: 0.6326 - val_precision: 0.7402 - val_true_negatives: 449.0000 - val_true_positives: 208.0000 - val_false_negatives: 60.0000 - val_false_positives: 73.0000\n",
      "Epoch 16/60\n",
      "130/130 [==============================] - ETA: 0s - loss: 0.1482 - binary_accuracy: 0.9375 - auc: 0.9841 - mcc_metric: 0.8717 - precision: 0.8698 - true_negatives: 2458.0000 - true_positives: 1429.0000 - false_negatives: 45.0000 - false_positives: 214.0000\n",
      "Epoch 00016: val_auc did not improve from 0.89968\n",
      "130/130 [==============================] - 19s 145ms/step - loss: 0.1482 - binary_accuracy: 0.9375 - auc: 0.9841 - mcc_metric: 0.8717 - precision: 0.8698 - true_negatives: 2458.0000 - true_positives: 1429.0000 - false_negatives: 45.0000 - false_positives: 214.0000 - val_loss: 0.5717 - val_binary_accuracy: 0.8316 - val_auc: 0.8841 - val_mcc_metric: 0.6347 - val_precision: 0.7304 - val_true_negatives: 443.0000 - val_true_positives: 214.0000 - val_false_negatives: 54.0000 - val_false_positives: 79.0000\n",
      "Epoch 17/60\n",
      "130/130 [==============================] - ETA: 0s - loss: 0.1351 - binary_accuracy: 0.9433 - auc: 0.9866 - mcc_metric: 0.8833 - precision: 0.8812 - true_negatives: 2479.0000 - true_positives: 1432.0000 - false_negatives: 42.0000 - false_positives: 193.0000\n",
      "Epoch 00017: val_auc did not improve from 0.89968\n",
      "130/130 [==============================] - 12s 95ms/step - loss: 0.1351 - binary_accuracy: 0.9433 - auc: 0.9866 - mcc_metric: 0.8833 - precision: 0.8812 - true_negatives: 2479.0000 - true_positives: 1432.0000 - false_negatives: 42.0000 - false_positives: 193.0000 - val_loss: 0.6057 - val_binary_accuracy: 0.8266 - val_auc: 0.8759 - val_mcc_metric: 0.6254 - val_precision: 0.7314 - val_true_negatives: 446.0000 - val_true_positives: 207.0000 - val_false_negatives: 61.0000 - val_false_positives: 76.0000\n",
      "Epoch 18/60\n",
      "130/130 [==============================] - ETA: 0s - loss: 0.1170 - binary_accuracy: 0.9513 - auc: 0.9901 - mcc_metric: 0.8980 - precision: 0.8970 - true_negatives: 2507.0000 - true_positives: 1437.0000 - false_negatives: 37.0000 - false_positives: 165.0000\n",
      "Epoch 00018: val_auc did not improve from 0.89968\n",
      "130/130 [==============================] - 11s 88ms/step - loss: 0.1170 - binary_accuracy: 0.9513 - auc: 0.9901 - mcc_metric: 0.8980 - precision: 0.8970 - true_negatives: 2507.0000 - true_positives: 1437.0000 - false_negatives: 37.0000 - false_positives: 165.0000 - val_loss: 0.7041 - val_binary_accuracy: 0.8241 - val_auc: 0.8751 - val_mcc_metric: 0.6261 - val_precision: 0.7157 - val_true_negatives: 437.0000 - val_true_positives: 214.0000 - val_false_negatives: 54.0000 - val_false_positives: 85.0000\n",
      "Epoch 19/60\n",
      "130/130 [==============================] - ETA: 0s - loss: 0.1195 - binary_accuracy: 0.9474 - auc: 0.9891 - mcc_metric: 0.8900 - precision: 0.8901 - true_negatives: 2495.0000 - true_positives: 1433.0000 - false_negatives: 41.0000 - false_positives: 177.0000\n",
      "Epoch 00019: val_auc did not improve from 0.89968\n",
      "130/130 [==============================] - 12s 89ms/step - loss: 0.1195 - binary_accuracy: 0.9474 - auc: 0.9891 - mcc_metric: 0.8900 - precision: 0.8901 - true_negatives: 2495.0000 - true_positives: 1433.0000 - false_negatives: 41.0000 - false_positives: 177.0000 - val_loss: 0.8401 - val_binary_accuracy: 0.8228 - val_auc: 0.8638 - val_mcc_metric: 0.6202 - val_precision: 0.7207 - val_true_negatives: 441.0000 - val_true_positives: 209.0000 - val_false_negatives: 59.0000 - val_false_positives: 81.0000\n",
      "Epoch 20/60\n",
      "130/130 [==============================] - ETA: 0s - loss: 0.1127 - binary_accuracy: 0.9501 - auc: 0.9904 - mcc_metric: 0.8965 - precision: 0.8923 - true_negatives: 2498.0000 - true_positives: 1441.0000 - false_negatives: 33.0000 - false_positives: 174.0000\n",
      "Epoch 00020: val_auc did not improve from 0.89968\n",
      "130/130 [==============================] - 12s 90ms/step - loss: 0.1127 - binary_accuracy: 0.9501 - auc: 0.9904 - mcc_metric: 0.8965 - precision: 0.8923 - true_negatives: 2498.0000 - true_positives: 1441.0000 - false_negatives: 33.0000 - false_positives: 174.0000 - val_loss: 0.5972 - val_binary_accuracy: 0.8177 - val_auc: 0.8705 - val_mcc_metric: 0.6054 - val_precision: 0.7246 - val_true_negatives: 446.0000 - val_true_positives: 200.0000 - val_false_negatives: 68.0000 - val_false_positives: 76.0000\n",
      "Epoch 21/60\n",
      "130/130 [==============================] - ETA: 0s - loss: 0.1116 - binary_accuracy: 0.9571 - auc: 0.9905 - mcc_metric: 0.9085 - precision: 0.9122 - true_negatives: 2534.0000 - true_positives: 1434.0000 - false_negatives: 40.0000 - false_positives: 138.0000\n",
      "Epoch 00021: val_auc did not improve from 0.89968\n",
      "130/130 [==============================] - 12s 89ms/step - loss: 0.1116 - binary_accuracy: 0.9571 - auc: 0.9905 - mcc_metric: 0.9085 - precision: 0.9122 - true_negatives: 2534.0000 - true_positives: 1434.0000 - false_negatives: 40.0000 - false_positives: 138.0000 - val_loss: 0.7058 - val_binary_accuracy: 0.8228 - val_auc: 0.8736 - val_mcc_metric: 0.6199 - val_precision: 0.7133 - val_true_negatives: 436.0000 - val_true_positives: 214.0000 - val_false_negatives: 54.0000 - val_false_positives: 86.0000\n",
      "Epoch 22/60\n",
      "130/130 [==============================] - ETA: 0s - loss: 0.1038 - binary_accuracy: 0.9583 - auc: 0.9910 - mcc_metric: 0.9125 - precision: 0.9109 - true_negatives: 2531.0000 - true_positives: 1442.0000 - false_negatives: 32.0000 - false_positives: 141.0000\n",
      "Epoch 00022: val_auc did not improve from 0.89968\n",
      "130/130 [==============================] - 12s 89ms/step - loss: 0.1038 - binary_accuracy: 0.9583 - auc: 0.9910 - mcc_metric: 0.9125 - precision: 0.9109 - true_negatives: 2531.0000 - true_positives: 1442.0000 - false_negatives: 32.0000 - false_positives: 141.0000 - val_loss: 0.7181 - val_binary_accuracy: 0.8241 - val_auc: 0.8705 - val_mcc_metric: 0.6394 - val_precision: 0.6972 - val_true_negatives: 423.0000 - val_true_positives: 228.0000 - val_false_negatives: 40.0000 - val_false_positives: 99.0000\n",
      "Epoch 23/60\n",
      "130/130 [==============================] - ETA: 0s - loss: 0.0965 - binary_accuracy: 0.9621 - auc: 0.9927 - mcc_metric: 0.9201 - precision: 0.9170 - true_negatives: 2541.0000 - true_positives: 1448.0000 - false_negatives: 26.0000 - false_positives: 131.0000\n",
      "Epoch 00023: val_auc did not improve from 0.89968\n",
      "130/130 [==============================] - 12s 90ms/step - loss: 0.0965 - binary_accuracy: 0.9621 - auc: 0.9927 - mcc_metric: 0.9201 - precision: 0.9170 - true_negatives: 2541.0000 - true_positives: 1448.0000 - false_negatives: 26.0000 - false_positives: 131.0000 - val_loss: 0.6615 - val_binary_accuracy: 0.8278 - val_auc: 0.8643 - val_mcc_metric: 0.6205 - val_precision: 0.7519 - val_true_negatives: 457.0000 - val_true_positives: 197.0000 - val_false_negatives: 71.0000 - val_false_positives: 65.0000\n",
      "Epoch 24/60\n",
      "130/130 [==============================] - ETA: 0s - loss: 0.0980 - binary_accuracy: 0.9604 - auc: 0.9929 - mcc_metric: 0.9172 - precision: 0.9183 - true_negatives: 2544.0000 - true_positives: 1438.0000 - false_negatives: 36.0000 - false_positives: 128.0000\n",
      "Epoch 00024: val_auc did not improve from 0.89968\n",
      "130/130 [==============================] - 12s 89ms/step - loss: 0.0980 - binary_accuracy: 0.9604 - auc: 0.9929 - mcc_metric: 0.9172 - precision: 0.9183 - true_negatives: 2544.0000 - true_positives: 1438.0000 - false_negatives: 36.0000 - false_positives: 128.0000 - val_loss: 0.8051 - val_binary_accuracy: 0.8127 - val_auc: 0.8408 - val_mcc_metric: 0.5732 - val_precision: 0.7703 - val_true_negatives: 471.0000 - val_true_positives: 171.0000 - val_false_negatives: 97.0000 - val_false_positives: 51.0000\n",
      "Epoch 25/60\n",
      "130/130 [==============================] - ETA: 0s - loss: 0.0996 - binary_accuracy: 0.9578 - auc: 0.9926 - mcc_metric: 0.9119 - precision: 0.9134 - true_negatives: 2536.0000 - true_positives: 1435.0000 - false_negatives: 39.0000 - false_positives: 136.0000\n",
      "Epoch 00025: val_auc did not improve from 0.89968\n",
      "130/130 [==============================] - 12s 90ms/step - loss: 0.0996 - binary_accuracy: 0.9578 - auc: 0.9926 - mcc_metric: 0.9119 - precision: 0.9134 - true_negatives: 2536.0000 - true_positives: 1435.0000 - false_negatives: 39.0000 - false_positives: 136.0000 - val_loss: 0.7941 - val_binary_accuracy: 0.8190 - val_auc: 0.8556 - val_mcc_metric: 0.6053 - val_precision: 0.7256 - val_true_negatives: 446.0000 - val_true_positives: 201.0000 - val_false_negatives: 67.0000 - val_false_positives: 76.0000\n",
      "Epoch 26/60\n",
      "130/130 [==============================] - ETA: 0s - loss: 0.0842 - binary_accuracy: 0.9638 - auc: 0.9948 - mcc_metric: 0.9221 - precision: 0.9238 - true_negatives: 2553.0000 - true_positives: 1443.0000 - false_negatives: 31.0000 - false_positives: 119.0000\n",
      "Epoch 00026: val_auc did not improve from 0.89968\n",
      "130/130 [==============================] - 12s 90ms/step - loss: 0.0842 - binary_accuracy: 0.9638 - auc: 0.9948 - mcc_metric: 0.9221 - precision: 0.9238 - true_negatives: 2553.0000 - true_positives: 1443.0000 - false_negatives: 31.0000 - false_positives: 119.0000 - val_loss: 0.9418 - val_binary_accuracy: 0.8329 - val_auc: 0.8558 - val_mcc_metric: 0.6366 - val_precision: 0.7576 - val_true_negatives: 458.0000 - val_true_positives: 200.0000 - val_false_negatives: 68.0000 - val_false_positives: 64.0000\n",
      "Epoch 27/60\n",
      "130/130 [==============================] - ETA: 0s - loss: 0.0706 - binary_accuracy: 0.9682 - auc: 0.9959 - mcc_metric: 0.9315 - precision: 0.9312 - true_negatives: 2565.0000 - true_positives: 1449.0000 - false_negatives: 25.0000 - false_positives: 107.0000\n",
      "Epoch 00027: val_auc did not improve from 0.89968\n",
      "130/130 [==============================] - 12s 90ms/step - loss: 0.0706 - binary_accuracy: 0.9682 - auc: 0.9959 - mcc_metric: 0.9315 - precision: 0.9312 - true_negatives: 2565.0000 - true_positives: 1449.0000 - false_negatives: 25.0000 - false_positives: 107.0000 - val_loss: 0.9567 - val_binary_accuracy: 0.8405 - val_auc: 0.8619 - val_mcc_metric: 0.6525 - val_precision: 0.7669 - val_true_negatives: 460.0000 - val_true_positives: 204.0000 - val_false_negatives: 64.0000 - val_false_positives: 62.0000\n",
      "Epoch 28/60\n",
      "130/130 [==============================] - ETA: 0s - loss: 0.0811 - binary_accuracy: 0.9701 - auc: 0.9948 - mcc_metric: 0.9374 - precision: 0.9349 - true_negatives: 2571.0000 - true_positives: 1451.0000 - false_negatives: 23.0000 - false_positives: 101.0000\n",
      "Epoch 00028: val_auc did not improve from 0.89968\n",
      "130/130 [==============================] - 12s 90ms/step - loss: 0.0811 - binary_accuracy: 0.9701 - auc: 0.9948 - mcc_metric: 0.9374 - precision: 0.9349 - true_negatives: 2571.0000 - true_positives: 1451.0000 - false_negatives: 23.0000 - false_positives: 101.0000 - val_loss: 0.6580 - val_binary_accuracy: 0.8304 - val_auc: 0.8738 - val_mcc_metric: 0.6392 - val_precision: 0.7248 - val_true_negatives: 440.0000 - val_true_positives: 216.0000 - val_false_negatives: 52.0000 - val_false_positives: 82.0000\n",
      "Epoch 29/60\n",
      "130/130 [==============================] - ETA: 0s - loss: 0.0844 - binary_accuracy: 0.9655 - auc: 0.9945 - mcc_metric: 0.9261 - precision: 0.9242 - true_negatives: 2553.0000 - true_positives: 1450.0000 - false_negatives: 24.0000 - false_positives: 119.0000\n",
      "Epoch 00029: val_auc did not improve from 0.89968\n",
      "130/130 [==============================] - 12s 90ms/step - loss: 0.0844 - binary_accuracy: 0.9655 - auc: 0.9945 - mcc_metric: 0.9261 - precision: 0.9242 - true_negatives: 2553.0000 - true_positives: 1450.0000 - false_negatives: 24.0000 - false_positives: 119.0000 - val_loss: 0.7412 - val_binary_accuracy: 0.8354 - val_auc: 0.8657 - val_mcc_metric: 0.6522 - val_precision: 0.7331 - val_true_negatives: 443.0000 - val_true_positives: 217.0000 - val_false_negatives: 51.0000 - val_false_positives: 79.0000\n",
      "Epoch 30/60\n",
      "130/130 [==============================] - ETA: 0s - loss: 0.0762 - binary_accuracy: 0.9691 - auc: 0.9951 - mcc_metric: 0.9338 - precision: 0.9348 - true_negatives: 2571.0000 - true_positives: 1447.0000 - false_negatives: 27.0000 - false_positives: 101.0000\n",
      "Epoch 00030: val_auc did not improve from 0.89968\n",
      "130/130 [==============================] - 12s 90ms/step - loss: 0.0762 - binary_accuracy: 0.9691 - auc: 0.9951 - mcc_metric: 0.9338 - precision: 0.9348 - true_negatives: 2571.0000 - true_positives: 1447.0000 - false_negatives: 27.0000 - false_positives: 101.0000 - val_loss: 0.8535 - val_binary_accuracy: 0.8405 - val_auc: 0.8639 - val_mcc_metric: 0.6552 - val_precision: 0.7554 - val_true_negatives: 454.0000 - val_true_positives: 210.0000 - val_false_negatives: 58.0000 - val_false_positives: 68.0000\n",
      "Epoch 31/60\n",
      "130/130 [==============================] - ETA: 0s - loss: 0.0753 - binary_accuracy: 0.9672 - auc: 0.9953 - mcc_metric: 0.9300 - precision: 0.9283 - true_negatives: 2560.0000 - true_positives: 1450.0000 - false_negatives: 24.0000 - false_positives: 112.0000\n",
      "Epoch 00031: val_auc did not improve from 0.89968\n",
      "130/130 [==============================] - 12s 90ms/step - loss: 0.0753 - binary_accuracy: 0.9672 - auc: 0.9953 - mcc_metric: 0.9300 - precision: 0.9283 - true_negatives: 2560.0000 - true_positives: 1450.0000 - false_negatives: 24.0000 - false_positives: 112.0000 - val_loss: 0.7522 - val_binary_accuracy: 0.8405 - val_auc: 0.8654 - val_mcc_metric: 0.6470 - val_precision: 0.7610 - val_true_negatives: 457.0000 - val_true_positives: 207.0000 - val_false_negatives: 61.0000 - val_false_positives: 65.0000\n",
      "Epoch 32/60\n",
      "130/130 [==============================] - ETA: 0s - loss: 0.0747 - binary_accuracy: 0.9696 - auc: 0.9952 - mcc_metric: 0.9336 - precision: 0.9343 - true_negatives: 2570.0000 - true_positives: 1450.0000 - false_negatives: 24.0000 - false_positives: 102.0000\n",
      "Epoch 00032: val_auc did not improve from 0.89968\n",
      "130/130 [==============================] - 12s 91ms/step - loss: 0.0747 - binary_accuracy: 0.9696 - auc: 0.9952 - mcc_metric: 0.9336 - precision: 0.9343 - true_negatives: 2570.0000 - true_positives: 1450.0000 - false_negatives: 24.0000 - false_positives: 102.0000 - val_loss: 0.7676 - val_binary_accuracy: 0.8367 - val_auc: 0.8703 - val_mcc_metric: 0.6442 - val_precision: 0.7565 - val_true_negatives: 456.0000 - val_true_positives: 205.0000 - val_false_negatives: 63.0000 - val_false_positives: 66.0000\n",
      "Epoch 33/60\n",
      "130/130 [==============================] - ETA: 0s - loss: 0.0493 - binary_accuracy: 0.9788 - auc: 0.9977 - mcc_metric: 0.9530 - precision: 0.9535 - true_negatives: 2601.0000 - true_positives: 1457.0000 - false_negatives: 17.0000 - false_positives: 71.0000\n",
      "Epoch 00033: val_auc did not improve from 0.89968\n",
      "130/130 [==============================] - 12s 90ms/step - loss: 0.0493 - binary_accuracy: 0.9788 - auc: 0.9977 - mcc_metric: 0.9530 - precision: 0.9535 - true_negatives: 2601.0000 - true_positives: 1457.0000 - false_negatives: 17.0000 - false_positives: 71.0000 - val_loss: 0.8717 - val_binary_accuracy: 0.8380 - val_auc: 0.8665 - val_mcc_metric: 0.6541 - val_precision: 0.7397 - val_true_negatives: 446.0000 - val_true_positives: 216.0000 - val_false_negatives: 52.0000 - val_false_positives: 76.0000\n",
      "Epoch 34/60\n",
      "130/130 [==============================] - ETA: 0s - loss: 0.0599 - binary_accuracy: 0.9764 - auc: 0.9972 - mcc_metric: 0.9500 - precision: 0.9485 - true_negatives: 2593.0000 - true_positives: 1455.0000 - false_negatives: 19.0000 - false_positives: 79.0000\n",
      "Epoch 00034: val_auc did not improve from 0.89968\n",
      "130/130 [==============================] - 12s 91ms/step - loss: 0.0599 - binary_accuracy: 0.9764 - auc: 0.9972 - mcc_metric: 0.9500 - precision: 0.9485 - true_negatives: 2593.0000 - true_positives: 1455.0000 - false_negatives: 19.0000 - false_positives: 79.0000 - val_loss: 0.7769 - val_binary_accuracy: 0.8354 - val_auc: 0.8662 - val_mcc_metric: 0.6448 - val_precision: 0.7464 - val_true_negatives: 451.0000 - val_true_positives: 209.0000 - val_false_negatives: 59.0000 - val_false_positives: 71.0000\n",
      "Epoch 35/60\n",
      "130/130 [==============================] - ETA: 0s - loss: 0.0643 - binary_accuracy: 0.9749 - auc: 0.9963 - mcc_metric: 0.9461 - precision: 0.9471 - true_negatives: 2591.0000 - true_positives: 1451.0000 - false_negatives: 23.0000 - false_positives: 81.0000\n",
      "Epoch 00035: val_auc did not improve from 0.89968\n",
      "130/130 [==============================] - 12s 90ms/step - loss: 0.0643 - binary_accuracy: 0.9749 - auc: 0.9963 - mcc_metric: 0.9461 - precision: 0.9471 - true_negatives: 2591.0000 - true_positives: 1451.0000 - false_negatives: 23.0000 - false_positives: 81.0000 - val_loss: 0.8445 - val_binary_accuracy: 0.8329 - val_auc: 0.8649 - val_mcc_metric: 0.6262 - val_precision: 0.7519 - val_true_negatives: 455.0000 - val_true_positives: 203.0000 - val_false_negatives: 65.0000 - val_false_positives: 67.0000\n",
      "Epoch 36/60\n",
      "130/130 [==============================] - ETA: 0s - loss: 0.0507 - binary_accuracy: 0.9788 - auc: 0.9976 - mcc_metric: 0.9542 - precision: 0.9541 - true_negatives: 2602.0000 - true_positives: 1456.0000 - false_negatives: 18.0000 - false_positives: 70.0000\n",
      "Epoch 00036: val_auc did not improve from 0.89968\n",
      "130/130 [==============================] - 12s 90ms/step - loss: 0.0507 - binary_accuracy: 0.9788 - auc: 0.9976 - mcc_metric: 0.9542 - precision: 0.9541 - true_negatives: 2602.0000 - true_positives: 1456.0000 - false_negatives: 18.0000 - false_positives: 70.0000 - val_loss: 0.8490 - val_binary_accuracy: 0.8316 - val_auc: 0.8570 - val_mcc_metric: 0.6305 - val_precision: 0.7567 - val_true_negatives: 458.0000 - val_true_positives: 199.0000 - val_false_negatives: 69.0000 - val_false_positives: 64.0000\n",
      "Epoch 37/60\n",
      "130/130 [==============================] - ETA: 0s - loss: 0.0591 - binary_accuracy: 0.9764 - auc: 0.9973 - mcc_metric: 0.9497 - precision: 0.9509 - true_negatives: 2597.0000 - true_positives: 1451.0000 - false_negatives: 23.0000 - false_positives: 75.0000\n",
      "Epoch 00037: val_auc did not improve from 0.89968\n",
      "130/130 [==============================] - 12s 90ms/step - loss: 0.0591 - binary_accuracy: 0.9764 - auc: 0.9973 - mcc_metric: 0.9497 - precision: 0.9509 - true_negatives: 2597.0000 - true_positives: 1451.0000 - false_negatives: 23.0000 - false_positives: 75.0000 - val_loss: 0.7272 - val_binary_accuracy: 0.7975 - val_auc: 0.8530 - val_mcc_metric: 0.5829 - val_precision: 0.6617 - val_true_negatives: 409.0000 - val_true_positives: 221.0000 - val_false_negatives: 47.0000 - val_false_positives: 113.0000\n",
      "Epoch 38/60\n",
      "130/130 [==============================] - ETA: 0s - loss: 0.0533 - binary_accuracy: 0.9785 - auc: 0.9974 - mcc_metric: 0.9550 - precision: 0.9535 - true_negatives: 2601.0000 - true_positives: 1456.0000 - false_negatives: 18.0000 - false_positives: 71.0000\n",
      "Epoch 00038: val_auc did not improve from 0.89968\n",
      "130/130 [==============================] - 12s 91ms/step - loss: 0.0533 - binary_accuracy: 0.9785 - auc: 0.9974 - mcc_metric: 0.9550 - precision: 0.9535 - true_negatives: 2601.0000 - true_positives: 1456.0000 - false_negatives: 18.0000 - false_positives: 71.0000 - val_loss: 0.8821 - val_binary_accuracy: 0.8380 - val_auc: 0.8593 - val_mcc_metric: 0.6421 - val_precision: 0.7632 - val_true_negatives: 459.0000 - val_true_positives: 203.0000 - val_false_negatives: 65.0000 - val_false_positives: 63.0000\n",
      "Epoch 39/60\n",
      "130/130 [==============================] - ETA: 0s - loss: 0.0635 - binary_accuracy: 0.9788 - auc: 0.9960 - mcc_metric: 0.9555 - precision: 0.9547 - true_negatives: 2603.0000 - true_positives: 1455.0000 - false_negatives: 19.0000 - false_positives: 69.0000\n",
      "Epoch 00039: val_auc did not improve from 0.89968\n",
      "130/130 [==============================] - 12s 91ms/step - loss: 0.0635 - binary_accuracy: 0.9788 - auc: 0.9960 - mcc_metric: 0.9555 - precision: 0.9547 - true_negatives: 2603.0000 - true_positives: 1455.0000 - false_negatives: 19.0000 - false_positives: 69.0000 - val_loss: 0.8790 - val_binary_accuracy: 0.8316 - val_auc: 0.8588 - val_mcc_metric: 0.6207 - val_precision: 0.7711 - val_true_negatives: 465.0000 - val_true_positives: 192.0000 - val_false_negatives: 76.0000 - val_false_positives: 57.0000\n",
      "Epoch 40/60\n",
      "130/130 [==============================] - ETA: 0s - loss: 0.0511 - binary_accuracy: 0.9795 - auc: 0.9980 - mcc_metric: 0.9572 - precision: 0.9554 - true_negatives: 2604.0000 - true_positives: 1457.0000 - false_negatives: 17.0000 - false_positives: 68.0000\n",
      "Epoch 00040: val_auc did not improve from 0.89968\n",
      "130/130 [==============================] - 12s 91ms/step - loss: 0.0511 - binary_accuracy: 0.9795 - auc: 0.9980 - mcc_metric: 0.9572 - precision: 0.9554 - true_negatives: 2604.0000 - true_positives: 1457.0000 - false_negatives: 17.0000 - false_positives: 68.0000 - val_loss: 0.8320 - val_binary_accuracy: 0.8291 - val_auc: 0.8564 - val_mcc_metric: 0.6288 - val_precision: 0.7401 - val_true_negatives: 450.0000 - val_true_positives: 205.0000 - val_false_negatives: 63.0000 - val_false_positives: 72.0000\n",
      "Epoch 41/60\n",
      "130/130 [==============================] - ETA: 0s - loss: 0.0497 - binary_accuracy: 0.9802 - auc: 0.9975 - mcc_metric: 0.9561 - precision: 0.9567 - true_negatives: 2606.0000 - true_positives: 1458.0000 - false_negatives: 16.0000 - false_positives: 66.0000\n",
      "Epoch 00041: val_auc did not improve from 0.89968\n",
      "130/130 [==============================] - 12s 91ms/step - loss: 0.0497 - binary_accuracy: 0.9802 - auc: 0.9975 - mcc_metric: 0.9561 - precision: 0.9567 - true_negatives: 2606.0000 - true_positives: 1458.0000 - false_negatives: 16.0000 - false_positives: 66.0000 - val_loss: 0.7940 - val_binary_accuracy: 0.8253 - val_auc: 0.8629 - val_mcc_metric: 0.6193 - val_precision: 0.7372 - val_true_negatives: 450.0000 - val_true_positives: 202.0000 - val_false_negatives: 66.0000 - val_false_positives: 72.0000\n",
      "Epoch 42/60\n",
      "130/130 [==============================] - ETA: 0s - loss: 0.0422 - binary_accuracy: 0.9824 - auc: 0.9985 - mcc_metric: 0.9623 - precision: 0.9599 - true_negatives: 2611.0000 - true_positives: 1462.0000 - false_negatives: 12.0000 - false_positives: 61.0000\n",
      "Epoch 00042: val_auc did not improve from 0.89968\n",
      "130/130 [==============================] - 12s 89ms/step - loss: 0.0422 - binary_accuracy: 0.9824 - auc: 0.9985 - mcc_metric: 0.9623 - precision: 0.9599 - true_negatives: 2611.0000 - true_positives: 1462.0000 - false_negatives: 12.0000 - false_positives: 61.0000 - val_loss: 0.9118 - val_binary_accuracy: 0.8253 - val_auc: 0.8669 - val_mcc_metric: 0.6152 - val_precision: 0.7338 - val_true_negatives: 448.0000 - val_true_positives: 204.0000 - val_false_negatives: 64.0000 - val_false_positives: 74.0000\n",
      "Epoch 43/60\n",
      "130/130 [==============================] - ETA: 0s - loss: 0.0337 - binary_accuracy: 0.9870 - auc: 0.9986 - mcc_metric: 0.9719 - precision: 0.9708 - true_negatives: 2628.0000 - true_positives: 1464.0000 - false_negatives: 10.0000 - false_positives: 44.0000\n",
      "Epoch 00043: val_auc did not improve from 0.89968\n",
      "130/130 [==============================] - 12s 90ms/step - loss: 0.0337 - binary_accuracy: 0.9870 - auc: 0.9986 - mcc_metric: 0.9719 - precision: 0.9708 - true_negatives: 2628.0000 - true_positives: 1464.0000 - false_negatives: 10.0000 - false_positives: 44.0000 - val_loss: 1.0812 - val_binary_accuracy: 0.8241 - val_auc: 0.8535 - val_mcc_metric: 0.6190 - val_precision: 0.7247 - val_true_negatives: 443.0000 - val_true_positives: 208.0000 - val_false_negatives: 60.0000 - val_false_positives: 79.0000\n",
      "Epoch 44/60\n",
      "130/130 [==============================] - ETA: 0s - loss: 0.0342 - binary_accuracy: 0.9850 - auc: 0.9989 - mcc_metric: 0.9669 - precision: 0.9675 - true_negatives: 2623.0000 - true_positives: 1461.0000 - false_negatives: 13.0000 - false_positives: 49.0000\n",
      "Epoch 00044: val_auc did not improve from 0.89968\n",
      "130/130 [==============================] - 12s 90ms/step - loss: 0.0342 - binary_accuracy: 0.9850 - auc: 0.9989 - mcc_metric: 0.9669 - precision: 0.9675 - true_negatives: 2623.0000 - true_positives: 1461.0000 - false_negatives: 13.0000 - false_positives: 49.0000 - val_loss: 0.9291 - val_binary_accuracy: 0.8304 - val_auc: 0.8633 - val_mcc_metric: 0.6285 - val_precision: 0.7445 - val_true_negatives: 452.0000 - val_true_positives: 204.0000 - val_false_negatives: 64.0000 - val_false_positives: 70.0000\n",
      "Epoch 45/60\n",
      "130/130 [==============================] - ETA: 0s - loss: 0.0259 - binary_accuracy: 0.9884 - auc: 0.9992 - mcc_metric: 0.9746 - precision: 0.9716 - true_negatives: 2629.0000 - true_positives: 1469.0000 - false_negatives: 5.0000 - false_positives: 43.0000\n",
      "Epoch 00045: val_auc did not improve from 0.89968\n",
      "130/130 [==============================] - 12s 89ms/step - loss: 0.0259 - binary_accuracy: 0.9884 - auc: 0.9992 - mcc_metric: 0.9746 - precision: 0.9716 - true_negatives: 2629.0000 - true_positives: 1469.0000 - false_negatives: 5.0000 - false_positives: 43.0000 - val_loss: 1.0440 - val_binary_accuracy: 0.8329 - val_auc: 0.8558 - val_mcc_metric: 0.6321 - val_precision: 0.7519 - val_true_negatives: 455.0000 - val_true_positives: 203.0000 - val_false_negatives: 65.0000 - val_false_positives: 67.0000\n",
      "Epoch 46/60\n",
      "130/130 [==============================] - ETA: 0s - loss: 0.0448 - binary_accuracy: 0.9836 - auc: 0.9977 - mcc_metric: 0.9653 - precision: 0.9674 - true_negatives: 2623.0000 - true_positives: 1455.0000 - false_negatives: 19.0000 - false_positives: 49.0000\n",
      "Epoch 00046: val_auc did not improve from 0.89968\n",
      "130/130 [==============================] - 12s 90ms/step - loss: 0.0448 - binary_accuracy: 0.9836 - auc: 0.9977 - mcc_metric: 0.9653 - precision: 0.9674 - true_negatives: 2623.0000 - true_positives: 1455.0000 - false_negatives: 19.0000 - false_positives: 49.0000 - val_loss: 0.6760 - val_binary_accuracy: 0.8278 - val_auc: 0.8634 - val_mcc_metric: 0.6211 - val_precision: 0.7463 - val_true_negatives: 454.0000 - val_true_positives: 200.0000 - val_false_negatives: 68.0000 - val_false_positives: 68.0000\n",
      "Epoch 47/60\n",
      "130/130 [==============================] - ETA: 0s - loss: 0.0517 - binary_accuracy: 0.9805 - auc: 0.9977 - mcc_metric: 0.9584 - precision: 0.9597 - true_negatives: 2611.0000 - true_positives: 1454.0000 - false_negatives: 20.0000 - false_positives: 61.0000\n",
      "Epoch 00047: val_auc did not improve from 0.89968\n",
      "130/130 [==============================] - 12s 90ms/step - loss: 0.0517 - binary_accuracy: 0.9805 - auc: 0.9977 - mcc_metric: 0.9584 - precision: 0.9597 - true_negatives: 2611.0000 - true_positives: 1454.0000 - false_negatives: 20.0000 - false_positives: 61.0000 - val_loss: 0.7300 - val_binary_accuracy: 0.8316 - val_auc: 0.8724 - val_mcc_metric: 0.6355 - val_precision: 0.7437 - val_true_negatives: 451.0000 - val_true_positives: 206.0000 - val_false_negatives: 62.0000 - val_false_positives: 71.0000\n",
      "Epoch 48/60\n",
      "130/130 [==============================] - ETA: 0s - loss: 0.0423 - binary_accuracy: 0.9836 - auc: 0.9980 - mcc_metric: 0.9645 - precision: 0.9668 - true_negatives: 2622.0000 - true_positives: 1456.0000 - false_negatives: 18.0000 - false_positives: 50.0000\n",
      "Epoch 00048: val_auc did not improve from 0.89968\n",
      "130/130 [==============================] - 12s 91ms/step - loss: 0.0423 - binary_accuracy: 0.9836 - auc: 0.9980 - mcc_metric: 0.9645 - precision: 0.9668 - true_negatives: 2622.0000 - true_positives: 1456.0000 - false_negatives: 18.0000 - false_positives: 50.0000 - val_loss: 0.7058 - val_binary_accuracy: 0.8241 - val_auc: 0.8721 - val_mcc_metric: 0.6259 - val_precision: 0.7157 - val_true_negatives: 437.0000 - val_true_positives: 214.0000 - val_false_negatives: 54.0000 - val_false_positives: 85.0000\n",
      "Epoch 49/60\n",
      "130/130 [==============================] - ETA: 0s - loss: 0.0416 - binary_accuracy: 0.9831 - auc: 0.9985 - mcc_metric: 0.9639 - precision: 0.9625 - true_negatives: 2615.0000 - true_positives: 1461.0000 - false_negatives: 13.0000 - false_positives: 57.0000\n",
      "Epoch 00049: val_auc did not improve from 0.89968\n",
      "130/130 [==============================] - 12s 92ms/step - loss: 0.0416 - binary_accuracy: 0.9831 - auc: 0.9985 - mcc_metric: 0.9639 - precision: 0.9625 - true_negatives: 2615.0000 - true_positives: 1461.0000 - false_negatives: 13.0000 - false_positives: 57.0000 - val_loss: 0.9254 - val_binary_accuracy: 0.8253 - val_auc: 0.8602 - val_mcc_metric: 0.6247 - val_precision: 0.7273 - val_true_negatives: 444.0000 - val_true_positives: 208.0000 - val_false_negatives: 60.0000 - val_false_positives: 78.0000\n",
      "Epoch 50/60\n",
      "130/130 [==============================] - ETA: 0s - loss: 0.0284 - binary_accuracy: 0.9872 - auc: 0.9991 - mcc_metric: 0.9716 - precision: 0.9740 - true_negatives: 2633.0000 - true_positives: 1460.0000 - false_negatives: 14.0000 - false_positives: 39.0000\n",
      "Epoch 00050: val_auc did not improve from 0.89968\n",
      "130/130 [==============================] - 12s 92ms/step - loss: 0.0284 - binary_accuracy: 0.9872 - auc: 0.9991 - mcc_metric: 0.9716 - precision: 0.9740 - true_negatives: 2633.0000 - true_positives: 1460.0000 - false_negatives: 14.0000 - false_positives: 39.0000 - val_loss: 1.0704 - val_binary_accuracy: 0.8241 - val_auc: 0.8581 - val_mcc_metric: 0.6197 - val_precision: 0.7247 - val_true_negatives: 443.0000 - val_true_positives: 208.0000 - val_false_negatives: 60.0000 - val_false_positives: 79.0000\n",
      "Epoch 51/60\n",
      "130/130 [==============================] - ETA: 0s - loss: 0.0330 - binary_accuracy: 0.9836 - auc: 0.9990 - mcc_metric: 0.9645 - precision: 0.9631 - true_negatives: 2616.0000 - true_positives: 1462.0000 - false_negatives: 12.0000 - false_positives: 56.0000\n",
      "Epoch 00051: val_auc did not improve from 0.89968\n",
      "130/130 [==============================] - 12s 93ms/step - loss: 0.0330 - binary_accuracy: 0.9836 - auc: 0.9990 - mcc_metric: 0.9645 - precision: 0.9631 - true_negatives: 2616.0000 - true_positives: 1462.0000 - false_negatives: 12.0000 - false_positives: 56.0000 - val_loss: 1.0261 - val_binary_accuracy: 0.8165 - val_auc: 0.8466 - val_mcc_metric: 0.6014 - val_precision: 0.7204 - val_true_negatives: 444.0000 - val_true_positives: 201.0000 - val_false_negatives: 67.0000 - val_false_positives: 78.0000\n",
      "Epoch 52/60\n",
      "130/130 [==============================] - ETA: 0s - loss: 0.0339 - binary_accuracy: 0.9853 - auc: 0.9989 - mcc_metric: 0.9690 - precision: 0.9651 - true_negatives: 2619.0000 - true_positives: 1466.0000 - false_negatives: 8.0000 - false_positives: 53.0000\n",
      "Epoch 00052: val_auc did not improve from 0.89968\n",
      "130/130 [==============================] - 12s 93ms/step - loss: 0.0339 - binary_accuracy: 0.9853 - auc: 0.9989 - mcc_metric: 0.9690 - precision: 0.9651 - true_negatives: 2619.0000 - true_positives: 1466.0000 - false_negatives: 8.0000 - false_positives: 53.0000 - val_loss: 1.0328 - val_binary_accuracy: 0.8253 - val_auc: 0.8535 - val_mcc_metric: 0.6281 - val_precision: 0.7289 - val_true_negatives: 445.0000 - val_true_positives: 207.0000 - val_false_negatives: 61.0000 - val_false_positives: 77.0000\n",
      "Epoch 53/60\n",
      "130/130 [==============================] - ETA: 0s - loss: 0.0245 - binary_accuracy: 0.9908 - auc: 0.9995 - mcc_metric: 0.9805 - precision: 0.9799 - true_negatives: 2642.0000 - true_positives: 1466.0000 - false_negatives: 8.0000 - false_positives: 30.0000\n",
      "Epoch 00053: val_auc did not improve from 0.89968\n",
      "130/130 [==============================] - 12s 91ms/step - loss: 0.0245 - binary_accuracy: 0.9908 - auc: 0.9995 - mcc_metric: 0.9805 - precision: 0.9799 - true_negatives: 2642.0000 - true_positives: 1466.0000 - false_negatives: 8.0000 - false_positives: 30.0000 - val_loss: 1.1248 - val_binary_accuracy: 0.8316 - val_auc: 0.8459 - val_mcc_metric: 0.6328 - val_precision: 0.7528 - val_true_negatives: 456.0000 - val_true_positives: 201.0000 - val_false_negatives: 67.0000 - val_false_positives: 66.0000\n",
      "Epoch 54/60\n",
      "130/130 [==============================] - ETA: 0s - loss: 0.0161 - binary_accuracy: 0.9932 - auc: 0.9998 - mcc_metric: 0.9847 - precision: 0.9859 - true_negatives: 2651.0000 - true_positives: 1467.0000 - false_negatives: 7.0000 - false_positives: 21.0000\n",
      "Epoch 00054: val_auc did not improve from 0.89968\n",
      "130/130 [==============================] - 12s 91ms/step - loss: 0.0161 - binary_accuracy: 0.9932 - auc: 0.9998 - mcc_metric: 0.9847 - precision: 0.9859 - true_negatives: 2651.0000 - true_positives: 1467.0000 - false_negatives: 7.0000 - false_positives: 21.0000 - val_loss: 1.2639 - val_binary_accuracy: 0.8316 - val_auc: 0.8459 - val_mcc_metric: 0.6292 - val_precision: 0.7606 - val_true_negatives: 460.0000 - val_true_positives: 197.0000 - val_false_negatives: 71.0000 - val_false_positives: 62.0000\n",
      "Epoch 55/60\n",
      "130/130 [==============================] - ETA: 0s - loss: 0.0172 - binary_accuracy: 0.9913 - auc: 0.9998 - mcc_metric: 0.9816 - precision: 0.9826 - true_negatives: 2646.0000 - true_positives: 1464.0000 - false_negatives: 10.0000 - false_positives: 26.0000\n",
      "Epoch 00055: val_auc did not improve from 0.89968\n",
      "130/130 [==============================] - 12s 90ms/step - loss: 0.0172 - binary_accuracy: 0.9913 - auc: 0.9998 - mcc_metric: 0.9816 - precision: 0.9826 - true_negatives: 2646.0000 - true_positives: 1464.0000 - false_negatives: 10.0000 - false_positives: 26.0000 - val_loss: 1.2879 - val_binary_accuracy: 0.8304 - val_auc: 0.8480 - val_mcc_metric: 0.6298 - val_precision: 0.7500 - val_true_negatives: 455.0000 - val_true_positives: 201.0000 - val_false_negatives: 67.0000 - val_false_positives: 67.0000\n",
      "Epoch 56/60\n",
      "130/130 [==============================] - ETA: 0s - loss: 0.0128 - binary_accuracy: 0.9942 - auc: 0.9999 - mcc_metric: 0.9872 - precision: 0.9872 - true_negatives: 2653.0000 - true_positives: 1469.0000 - false_negatives: 5.0000 - false_positives: 19.0000\n",
      "Epoch 00056: val_auc did not improve from 0.89968\n",
      "130/130 [==============================] - 12s 91ms/step - loss: 0.0128 - binary_accuracy: 0.9942 - auc: 0.9999 - mcc_metric: 0.9872 - precision: 0.9872 - true_negatives: 2653.0000 - true_positives: 1469.0000 - false_negatives: 5.0000 - false_positives: 19.0000 - val_loss: 1.6516 - val_binary_accuracy: 0.8304 - val_auc: 0.8351 - val_mcc_metric: 0.6288 - val_precision: 0.7538 - val_true_negatives: 457.0000 - val_true_positives: 199.0000 - val_false_negatives: 69.0000 - val_false_positives: 65.0000\n",
      "Epoch 57/60\n",
      "130/130 [==============================] - ETA: 0s - loss: 0.0143 - binary_accuracy: 0.9932 - auc: 0.9999 - mcc_metric: 0.9856 - precision: 0.9859 - true_negatives: 2651.0000 - true_positives: 1467.0000 - false_negatives: 7.0000 - false_positives: 21.0000\n",
      "Epoch 00057: val_auc did not improve from 0.89968\n",
      "130/130 [==============================] - 12s 91ms/step - loss: 0.0143 - binary_accuracy: 0.9932 - auc: 0.9999 - mcc_metric: 0.9856 - precision: 0.9859 - true_negatives: 2651.0000 - true_positives: 1467.0000 - false_negatives: 7.0000 - false_positives: 21.0000 - val_loss: 1.6165 - val_binary_accuracy: 0.8266 - val_auc: 0.8203 - val_mcc_metric: 0.6189 - val_precision: 0.7510 - val_true_negatives: 457.0000 - val_true_positives: 196.0000 - val_false_negatives: 72.0000 - val_false_positives: 65.0000\n",
      "Epoch 58/60\n",
      "130/130 [==============================] - ETA: 0s - loss: 0.0340 - binary_accuracy: 0.9894 - auc: 0.9988 - mcc_metric: 0.9769 - precision: 0.9825 - true_negatives: 2646.0000 - true_positives: 1456.0000 - false_negatives: 18.0000 - false_positives: 26.0000\n",
      "Epoch 00058: val_auc did not improve from 0.89968\n",
      "130/130 [==============================] - 12s 91ms/step - loss: 0.0340 - binary_accuracy: 0.9894 - auc: 0.9988 - mcc_metric: 0.9769 - precision: 0.9825 - true_negatives: 2646.0000 - true_positives: 1456.0000 - false_negatives: 18.0000 - false_positives: 26.0000 - val_loss: 0.9721 - val_binary_accuracy: 0.8215 - val_auc: 0.8483 - val_mcc_metric: 0.6000 - val_precision: 0.7592 - val_true_negatives: 463.0000 - val_true_positives: 186.0000 - val_false_negatives: 82.0000 - val_false_positives: 59.0000\n",
      "Epoch 59/60\n",
      "130/130 [==============================] - ETA: 0s - loss: 0.0577 - binary_accuracy: 0.9834 - auc: 0.9963 - mcc_metric: 0.9643 - precision: 0.9699 - true_negatives: 2627.0000 - true_positives: 1450.0000 - false_negatives: 24.0000 - false_positives: 45.0000\n",
      "Epoch 00059: val_auc did not improve from 0.89968\n",
      "130/130 [==============================] - 12s 91ms/step - loss: 0.0577 - binary_accuracy: 0.9834 - auc: 0.9963 - mcc_metric: 0.9643 - precision: 0.9699 - true_negatives: 2627.0000 - true_positives: 1450.0000 - false_negatives: 24.0000 - false_positives: 45.0000 - val_loss: 1.0136 - val_binary_accuracy: 0.8405 - val_auc: 0.8481 - val_mcc_metric: 0.6501 - val_precision: 0.7630 - val_true_negatives: 458.0000 - val_true_positives: 206.0000 - val_false_negatives: 62.0000 - val_false_positives: 64.0000\n",
      "Epoch 60/60\n",
      "130/130 [==============================] - ETA: 0s - loss: 0.0480 - binary_accuracy: 0.9817 - auc: 0.9973 - mcc_metric: 0.9609 - precision: 0.9575 - true_negatives: 2607.0000 - true_positives: 1463.0000 - false_negatives: 11.0000 - false_positives: 65.0000\n",
      "Epoch 00060: val_auc did not improve from 0.89968\n",
      "130/130 [==============================] - 12s 91ms/step - loss: 0.0480 - binary_accuracy: 0.9817 - auc: 0.9973 - mcc_metric: 0.9609 - precision: 0.9575 - true_negatives: 2607.0000 - true_positives: 1463.0000 - false_negatives: 11.0000 - false_positives: 65.0000 - val_loss: 0.8553 - val_binary_accuracy: 0.8304 - val_auc: 0.8597 - val_mcc_metric: 0.6284 - val_precision: 0.7410 - val_true_negatives: 450.0000 - val_true_positives: 206.0000 - val_false_negatives: 62.0000 - val_false_positives: 72.0000\n"
     ]
    },
    {
     "data": {
      "text/plain": [
       "<keras.callbacks.History at 0x1d0bff294c0>"
      ]
     },
     "execution_count": 15,
     "metadata": {},
     "output_type": "execute_result"
    }
   ],
   "source": [
    "class_weights = {0: 0.77582335,\n",
    "                1: 1.4063772}\n",
    "def save(i):\n",
    "    return 'F:/bbb/model/nlp/model_'+str(i)+'iupac'+'.tf'\n",
    "\n",
    "checkpoint = tf.keras.callbacks.ModelCheckpoint(save(33), \n",
    "                monitor='val_auc', verbose=1, \n",
    "                save_best_only=True, save_weights_only = False, mode='max')\n",
    "callbacks_list = [checkpoint]\n",
    "\n",
    "model.compile(optimizer = tf.keras.optimizers.Adam(learning_rate = 0.001) ,loss = BinaryCrossentropy(), metrics = [binary_accuracy, AUC(), mcc_metric \n",
    "                    ,Precision(),TrueNegatives(), TruePositives(), FalseNegatives(), FalsePositives()])\n",
    "model.fit(x = np.array(xtrain), y = np.array(ytrain), validation_data = (np.array(xvalid), np.array(yvalid)), epochs=60, batch_size = 32, \n",
    "              callbacks = callbacks_list, class_weight = class_weights)"
   ]
  },
  {
   "cell_type": "code",
   "execution_count": 16,
   "metadata": {},
   "outputs": [
    {
     "name": "stdout",
     "output_type": "stream",
     "text": [
      "39/39 [==============================] - 2s 42ms/step - loss: 0.3869 - binary_accuracy: 0.8120 - auc: 0.9019 - mcc_metric: 0.6097 - precision: 0.7000 - true_negatives: 645.0000 - true_positives: 357.0000 - false_negatives: 79.0000 - false_positives: 153.0000\n"
     ]
    },
    {
     "data": {
      "text/plain": [
       "[0.38693147897720337,\n",
       " 0.8119935393333435,\n",
       " 0.9018661379814148,\n",
       " 0.6096577048301697,\n",
       " 0.699999988079071,\n",
       " 645.0,\n",
       " 357.0,\n",
       " 79.0,\n",
       " 153.0]"
      ]
     },
     "execution_count": 16,
     "metadata": {},
     "output_type": "execute_result"
    }
   ],
   "source": [
    "model.load_weights(save(33))\n",
    "model.evaluate(np.array(xtest), np.array(ytest))"
   ]
  },
  {
   "cell_type": "code",
   "execution_count": 17,
   "metadata": {},
   "outputs": [
    {
     "name": "stdout",
     "output_type": "stream",
     "text": [
      "25/25 [==============================] - 1s 43ms/step - loss: 0.3851 - binary_accuracy: 0.8114 - auc: 0.8997 - mcc_metric: 0.6002 - precision: 0.6901 - true_negatives: 425.0000 - true_positives: 216.0000 - false_negatives: 52.0000 - false_positives: 97.0000\n"
     ]
    },
    {
     "data": {
      "text/plain": [
       "[0.3851379454135895,\n",
       " 0.8113924264907837,\n",
       " 0.8996754884719849,\n",
       " 0.600176215171814,\n",
       " 0.690095841884613,\n",
       " 425.0,\n",
       " 216.0,\n",
       " 52.0,\n",
       " 97.0]"
      ]
     },
     "execution_count": 17,
     "metadata": {},
     "output_type": "execute_result"
    }
   ],
   "source": [
    "model.evaluate(np.array(xvalid), np.array(yvalid))"
   ]
  }
 ],
 "metadata": {
  "interpreter": {
   "hash": "579282893146967bc5d17141c601e8a8b8ad4a0a2a5a6fe1c87b1000077400d7"
  },
  "kernelspec": {
   "display_name": "Python 3.8.8 ('base')",
   "language": "python",
   "name": "python3"
  },
  "language_info": {
   "codemirror_mode": {
    "name": "ipython",
    "version": 3
   },
   "file_extension": ".py",
   "mimetype": "text/x-python",
   "name": "python",
   "nbconvert_exporter": "python",
   "pygments_lexer": "ipython3",
   "version": "3.8.8"
  },
  "orig_nbformat": 4
 },
 "nbformat": 4,
 "nbformat_minor": 2
}
