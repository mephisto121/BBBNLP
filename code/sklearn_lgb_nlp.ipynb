{
 "cells": [
  {
   "cell_type": "code",
   "execution_count": 1,
   "metadata": {},
   "outputs": [],
   "source": [
    "import pandas as pd\n",
    "import numpy as np\n",
    "from sklearn import metrics\n",
    "from sklearn.feature_extraction.text import TfidfVectorizer\n",
    "from sklearn.naive_bayes import MultinomialNB\n",
    "from sklearn.ensemble import RandomForestClassifier, ExtraTreesClassifier\n",
    "from sklearn.svm import SVC\n",
    "from sklearn.pipeline import Pipeline\n",
    "from sklearn.preprocessing import LabelEncoder\n",
    "from helper_functions import smi_tokenizer\n",
    "import joblib\n",
    "import lightgbm as lgb\n"
   ]
  },
  {
   "cell_type": "code",
   "execution_count": 2,
   "metadata": {},
   "outputs": [],
   "source": [
    "data = pd.read_table('F:/bbb/data/B3DB/B3DB_classification.tsv')\n",
    "X = data['SMILES']\n",
    "X = [smi_tokenizer(smile) for smile in X]\n",
    "target=data['BBB+/BBB-'].values.tolist()\n",
    "label_encoder = LabelEncoder()\n",
    "y_classification = label_encoder.fit_transform(target)"
   ]
  },
  {
   "cell_type": "code",
   "execution_count": 3,
   "metadata": {},
   "outputs": [],
   "source": [
    "def predict_metrics(model, xtest, ytest):\n",
    "    ypred = model.predict(xtest)\n",
    "    auc = metrics.roc_auc_score(ytest, ypred)\n",
    "    acc = metrics.accuracy_score(ytest, ypred)\n",
    "    tot = metrics.classification_report(ytest, ypred, output_dict=True)\n",
    "    tn, fp, fn, tp = metrics.confusion_matrix(ytest, ypred).ravel()\n",
    "    specificity = tn / (tn+fp)\n",
    "    sensitivity = tp / (tp+fn)\n",
    "\n",
    "    return auc, acc,tot, specificity, sensitivity"
   ]
  },
  {
   "cell_type": "code",
   "execution_count": 4,
   "metadata": {},
   "outputs": [],
   "source": [
    "from sklearn.model_selection import train_test_split\n",
    "xtrain, xtest, ytrain, ytest = train_test_split(X, y_classification, test_size = 0.2, random_state = 42)\n",
    "xtrain, xvalid, ytrain, yvalid = train_test_split(xtrain, ytrain, test_size = 0.16, random_state = 42)"
   ]
  },
  {
   "cell_type": "code",
   "execution_count": 5,
   "metadata": {},
   "outputs": [],
   "source": [
    "model_randomforset = Pipeline([('tfidf', TfidfVectorizer(lowercase = False, analyzer = \"char\")), ('clf', RandomForestClassifier())])\n",
    "model_svm = Pipeline([('tfidf', TfidfVectorizer(lowercase = False, analyzer = \"char\")), ('clf', SVC())])\n",
    "model_extratree = Pipeline([('tfidf', TfidfVectorizer(lowercase = False, analyzer = \"char\")), ('clf', ExtraTreesClassifier())])\n",
    "model_naive = Pipeline([('tfidf', TfidfVectorizer(lowercase = False, analyzer = \"char\")), ('clf', MultinomialNB())])\n",
    "model_light = Pipeline([('tfidf', TfidfVectorizer(lowercase = False, analyzer = \"char\")), ('clf', lgb.LGBMClassifier())])"
   ]
  },
  {
   "cell_type": "code",
   "execution_count": 6,
   "metadata": {},
   "outputs": [
    {
     "data": {
      "text/plain": [
       "Pipeline(steps=[('tfidf', TfidfVectorizer(analyzer='char', lowercase=False)),\n",
       "                ('clf', LGBMClassifier())])"
      ]
     },
     "execution_count": 6,
     "metadata": {},
     "output_type": "execute_result"
    }
   ],
   "source": [
    "model_randomforset.fit(xtrain, ytrain)\n",
    "model_svm.fit(xtrain, ytrain)\n",
    "model_extratree.fit(xtrain, ytrain)\n",
    "model_naive.fit(xtrain, ytrain)\n",
    "model_light.fit(xtrain, ytrain)"
   ]
  },
  {
   "cell_type": "markdown",
   "metadata": {},
   "source": [
    "## Lightgbm results"
   ]
  },
  {
   "cell_type": "code",
   "execution_count": 7,
   "metadata": {},
   "outputs": [
    {
     "name": "stdout",
     "output_type": "stream",
     "text": [
      "0.8287692699457405 0.850832266325224 0.9070929070929071 0.750445632798574\n"
     ]
    }
   ],
   "source": [
    "auc,acc,result, specificity, sensitivity = predict_metrics(model_light, xtest, ytest)\n",
    "print(auc, acc, specificity, sensitivity)"
   ]
  },
  {
   "cell_type": "code",
   "execution_count": 8,
   "metadata": {},
   "outputs": [
    {
     "data": {
      "text/plain": [
       "{'0': {'precision': 0.8664122137404581,\n",
       "  'recall': 0.9070929070929071,\n",
       "  'f1-score': 0.8862859931673988,\n",
       "  'support': 1001},\n",
       " '1': {'precision': 0.8190661478599222,\n",
       "  'recall': 0.750445632798574,\n",
       "  'f1-score': 0.7832558139534883,\n",
       "  'support': 561},\n",
       " 'accuracy': 0.850832266325224,\n",
       " 'macro avg': {'precision': 0.8427391808001901,\n",
       "  'recall': 0.8287692699457405,\n",
       "  'f1-score': 0.8347709035604436,\n",
       "  'support': 1562},\n",
       " 'weighted avg': {'precision': 0.8494076407833642,\n",
       "  'recall': 0.850832266325224,\n",
       "  'f1-score': 0.8492821964074732,\n",
       "  'support': 1562}}"
      ]
     },
     "execution_count": 8,
     "metadata": {},
     "output_type": "execute_result"
    }
   ],
   "source": [
    "result"
   ]
  },
  {
   "cell_type": "code",
   "execution_count": 9,
   "metadata": {},
   "outputs": [
    {
     "name": "stdout",
     "output_type": "stream",
     "text": [
      "0.8540853086307633 0.876 0.9340659340659341 0.7741046831955923\n"
     ]
    }
   ],
   "source": [
    "auc,acc,result, specificity, sensitivity = predict_metrics(model_light, xvalid, yvalid)\n",
    "print(auc, acc, specificity, sensitivity)"
   ]
  },
  {
   "cell_type": "code",
   "execution_count": 10,
   "metadata": {},
   "outputs": [
    {
     "data": {
      "text/plain": [
       "{'0': {'precision': 0.8788774002954209,\n",
       "  'recall': 0.9340659340659341,\n",
       "  'f1-score': 0.9056316590563166,\n",
       "  'support': 637},\n",
       " '1': {'precision': 0.8699690402476781,\n",
       "  'recall': 0.7741046831955923,\n",
       "  'f1-score': 0.8192419825072887,\n",
       "  'support': 363},\n",
       " 'accuracy': 0.876,\n",
       " 'macro avg': {'precision': 0.8744232202715495,\n",
       "  'recall': 0.8540853086307632,\n",
       "  'f1-score': 0.8624368207818027,\n",
       "  'support': 1000},\n",
       " 'weighted avg': {'precision': 0.8756436655980903,\n",
       "  'recall': 0.876,\n",
       "  'f1-score': 0.8742722064690195,\n",
       "  'support': 1000}}"
      ]
     },
     "execution_count": 10,
     "metadata": {},
     "output_type": "execute_result"
    }
   ],
   "source": [
    "result"
   ]
  },
  {
   "cell_type": "markdown",
   "metadata": {},
   "source": [
    "## SVM results"
   ]
  },
  {
   "cell_type": "code",
   "execution_count": 11,
   "metadata": {},
   "outputs": [
    {
     "name": "stdout",
     "output_type": "stream",
     "text": [
      "0.7574190515366985 0.7900128040973111 0.8731268731268731 0.6417112299465241\n"
     ]
    }
   ],
   "source": [
    "auc,acc,result, specificity, sensitivity = predict_metrics(model_svm, xtest, ytest)\n",
    "print(auc, acc, specificity, sensitivity)"
   ]
  },
  {
   "cell_type": "code",
   "execution_count": 12,
   "metadata": {},
   "outputs": [
    {
     "data": {
      "text/plain": [
       "{'0': {'precision': 0.8130232558139535,\n",
       "  'recall': 0.8731268731268731,\n",
       "  'f1-score': 0.8420038535645472,\n",
       "  'support': 1001},\n",
       " '1': {'precision': 0.7392197125256673,\n",
       "  'recall': 0.6417112299465241,\n",
       "  'f1-score': 0.6870229007633587,\n",
       "  'support': 561},\n",
       " 'accuracy': 0.7900128040973111,\n",
       " 'macro avg': {'precision': 0.7761214841698104,\n",
       "  'recall': 0.7574190515366985,\n",
       "  'f1-score': 0.764513377163953,\n",
       "  'support': 1562},\n",
       " 'weighted avg': {'precision': 0.7865163494216817,\n",
       "  'recall': 0.7900128040973111,\n",
       "  'f1-score': 0.786341680375388,\n",
       "  'support': 1562}}"
      ]
     },
     "execution_count": 12,
     "metadata": {},
     "output_type": "execute_result"
    }
   ],
   "source": [
    "result"
   ]
  },
  {
   "cell_type": "code",
   "execution_count": 13,
   "metadata": {},
   "outputs": [
    {
     "name": "stdout",
     "output_type": "stream",
     "text": [
      "0.7844904013735182 0.813 0.8885400313971743 0.6804407713498623\n"
     ]
    }
   ],
   "source": [
    "auc,acc,result, specificity, sensitivity = predict_metrics(model_svm, xvalid, yvalid)\n",
    "print(auc, acc, specificity, sensitivity)"
   ]
  },
  {
   "cell_type": "code",
   "execution_count": 14,
   "metadata": {},
   "outputs": [
    {
     "data": {
      "text/plain": [
       "{'0': {'precision': 0.8299120234604106,\n",
       "  'recall': 0.8885400313971743,\n",
       "  'f1-score': 0.8582259287338894,\n",
       "  'support': 637},\n",
       " '1': {'precision': 0.7767295597484277,\n",
       "  'recall': 0.6804407713498623,\n",
       "  'f1-score': 0.7254038179148311,\n",
       "  'support': 363},\n",
       " 'accuracy': 0.813,\n",
       " 'macro avg': {'precision': 0.8033207916044192,\n",
       "  'recall': 0.7844904013735183,\n",
       "  'f1-score': 0.7918148733243602,\n",
       "  'support': 1000},\n",
       " 'weighted avg': {'precision': 0.8106067891329608,\n",
       "  'recall': 0.813,\n",
       "  'f1-score': 0.8100115025065712,\n",
       "  'support': 1000}}"
      ]
     },
     "execution_count": 14,
     "metadata": {},
     "output_type": "execute_result"
    }
   ],
   "source": [
    "result"
   ]
  },
  {
   "cell_type": "markdown",
   "metadata": {},
   "source": [
    "## Random Forest model"
   ]
  },
  {
   "cell_type": "code",
   "execution_count": 15,
   "metadata": {},
   "outputs": [
    {
     "name": "stdout",
     "output_type": "stream",
     "text": [
      "0.8311296546590665 0.8578745198463509 0.926073926073926 0.7361853832442068\n"
     ]
    }
   ],
   "source": [
    "auc,acc,result, specificity, sensitivity = predict_metrics(model_randomforset, xtest, ytest)\n",
    "print(auc, acc, specificity, sensitivity)"
   ]
  },
  {
   "cell_type": "code",
   "execution_count": 16,
   "metadata": {},
   "outputs": [
    {
     "data": {
      "text/plain": [
       "{'0': {'precision': 0.8623255813953489,\n",
       "  'recall': 0.926073926073926,\n",
       "  'f1-score': 0.8930635838150289,\n",
       "  'support': 1001},\n",
       " '1': {'precision': 0.8480492813141683,\n",
       "  'recall': 0.7361853832442068,\n",
       "  'f1-score': 0.7881679389312977,\n",
       "  'support': 561},\n",
       " 'accuracy': 0.8578745198463509,\n",
       " 'macro avg': {'precision': 0.8551874313547586,\n",
       "  'recall': 0.8311296546590664,\n",
       "  'f1-score': 0.8406157613731633,\n",
       "  'support': 1562},\n",
       " 'weighted avg': {'precision': 0.8571981778450657,\n",
       "  'recall': 0.8578745198463509,\n",
       "  'f1-score': 0.8553897958638297,\n",
       "  'support': 1562}}"
      ]
     },
     "execution_count": 16,
     "metadata": {},
     "output_type": "execute_result"
    }
   ],
   "source": [
    "result"
   ]
  },
  {
   "cell_type": "code",
   "execution_count": 17,
   "metadata": {},
   "outputs": [
    {
     "name": "stdout",
     "output_type": "stream",
     "text": [
      "0.8481756338899197 0.873 0.9387755102040817 0.7575757575757576\n"
     ]
    }
   ],
   "source": [
    "auc,acc,result, specificity, sensitivity = predict_metrics(model_randomforset, xvalid, yvalid)\n",
    "print(auc, acc, specificity, sensitivity)"
   ]
  },
  {
   "cell_type": "code",
   "execution_count": 18,
   "metadata": {},
   "outputs": [
    {
     "data": {
      "text/plain": [
       "{'0': {'precision': 0.8717201166180758,\n",
       "  'recall': 0.9387755102040817,\n",
       "  'f1-score': 0.9040060468631896,\n",
       "  'support': 637},\n",
       " '1': {'precision': 0.8757961783439491,\n",
       "  'recall': 0.7575757575757576,\n",
       "  'f1-score': 0.8124076809453471,\n",
       "  'support': 363},\n",
       " 'accuracy': 0.873,\n",
       " 'macro avg': {'precision': 0.8737581474810124,\n",
       "  'recall': 0.8481756338899196,\n",
       "  'f1-score': 0.8582068639042684,\n",
       "  'support': 1000},\n",
       " 'weighted avg': {'precision': 0.8731997270245679,\n",
       "  'recall': 0.873,\n",
       "  'f1-score': 0.8707558400350128,\n",
       "  'support': 1000}}"
      ]
     },
     "execution_count": 18,
     "metadata": {},
     "output_type": "execute_result"
    }
   ],
   "source": [
    "result"
   ]
  },
  {
   "cell_type": "markdown",
   "metadata": {},
   "source": [
    "## ExtraTreeClassifier"
   ]
  },
  {
   "cell_type": "code",
   "execution_count": 19,
   "metadata": {},
   "outputs": [
    {
     "name": "stdout",
     "output_type": "stream",
     "text": [
      "0.8239603533721181 0.8501920614596671 0.9170829170829171 0.7308377896613191\n"
     ]
    }
   ],
   "source": [
    "auc,acc,result, specificity, sensitivity = predict_metrics(model_extratree, xtest, ytest)\n",
    "print(auc, acc, specificity, sensitivity)"
   ]
  },
  {
   "cell_type": "code",
   "execution_count": 20,
   "metadata": {},
   "outputs": [
    {
     "data": {
      "text/plain": [
       "{'0': {'precision': 0.8587464920486436,\n",
       "  'recall': 0.9170829170829171,\n",
       "  'f1-score': 0.8869565217391305,\n",
       "  'support': 1001},\n",
       " '1': {'precision': 0.8316430020283976,\n",
       "  'recall': 0.7308377896613191,\n",
       "  'f1-score': 0.777988614800759,\n",
       "  'support': 561},\n",
       " 'accuracy': 0.8501920614596671,\n",
       " 'macro avg': {'precision': 0.8451947470385206,\n",
       "  'recall': 0.823960353372118,\n",
       "  'f1-score': 0.8324725682699448,\n",
       "  'support': 1562},\n",
       " 'weighted avg': {'precision': 0.8490121399991186,\n",
       "  'recall': 0.8501920614596671,\n",
       "  'f1-score': 0.847820160796476,\n",
       "  'support': 1562}}"
      ]
     },
     "execution_count": 20,
     "metadata": {},
     "output_type": "execute_result"
    }
   ],
   "source": [
    "result"
   ]
  },
  {
   "cell_type": "code",
   "execution_count": 21,
   "metadata": {},
   "outputs": [
    {
     "name": "stdout",
     "output_type": "stream",
     "text": [
      "0.8487681150018813 0.873 0.9372056514913658 0.7603305785123967\n"
     ]
    }
   ],
   "source": [
    "auc,acc,result, specificity, sensitivity = predict_metrics(model_extratree, xvalid, yvalid)\n",
    "print(auc, acc, specificity, sensitivity)"
   ]
  },
  {
   "cell_type": "code",
   "execution_count": 22,
   "metadata": {},
   "outputs": [
    {
     "data": {
      "text/plain": [
       "{'0': {'precision': 0.8728070175438597,\n",
       "  'recall': 0.9372056514913658,\n",
       "  'f1-score': 0.9038607115821348,\n",
       "  'support': 637},\n",
       " '1': {'precision': 0.8734177215189873,\n",
       "  'recall': 0.7603305785123967,\n",
       "  'f1-score': 0.812960235640648,\n",
       "  'support': 363},\n",
       " 'accuracy': 0.873,\n",
       " 'macro avg': {'precision': 0.8731123695314236,\n",
       "  'recall': 0.8487681150018813,\n",
       "  'f1-score': 0.8584104736113913,\n",
       "  'support': 1000},\n",
       " 'weighted avg': {'precision': 0.873028703086831,\n",
       "  'recall': 0.873,\n",
       "  'f1-score': 0.8708638388153751,\n",
       "  'support': 1000}}"
      ]
     },
     "execution_count": 22,
     "metadata": {},
     "output_type": "execute_result"
    }
   ],
   "source": [
    "result"
   ]
  },
  {
   "cell_type": "markdown",
   "metadata": {},
   "source": [
    "## Naive Bayes "
   ]
  },
  {
   "cell_type": "code",
   "execution_count": 23,
   "metadata": {},
   "outputs": [
    {
     "name": "stdout",
     "output_type": "stream",
     "text": [
      "0.5039568274862394 0.6434058898847631 0.999000999000999 0.008912655971479501\n"
     ]
    }
   ],
   "source": [
    "auc,acc,result, specificity, sensitivity = predict_metrics(model_naive, xtest, ytest)\n",
    "print(auc, acc, specificity, sensitivity)"
   ]
  },
  {
   "cell_type": "code",
   "execution_count": 24,
   "metadata": {},
   "outputs": [
    {
     "data": {
      "text/plain": [
       "{'0': {'precision': 0.6426735218508998,\n",
       "  'recall': 0.999000999000999,\n",
       "  'f1-score': 0.7821666014861165,\n",
       "  'support': 1001},\n",
       " '1': {'precision': 0.8333333333333334,\n",
       "  'recall': 0.008912655971479501,\n",
       "  'f1-score': 0.01763668430335097,\n",
       "  'support': 561},\n",
       " 'accuracy': 0.6434058898847631,\n",
       " 'macro avg': {'precision': 0.7380034275921166,\n",
       "  'recall': 0.5039568274862393,\n",
       "  'f1-score': 0.39990164289473373,\n",
       "  'support': 1562},\n",
       " 'weighted avg': {'precision': 0.711149933017126,\n",
       "  'recall': 0.6434058898847631,\n",
       "  'f1-score': 0.5075819129204753,\n",
       "  'support': 1562}}"
      ]
     },
     "execution_count": 24,
     "metadata": {},
     "output_type": "execute_result"
    }
   ],
   "source": [
    "result"
   ]
  },
  {
   "cell_type": "code",
   "execution_count": 25,
   "metadata": {},
   "outputs": [
    {
     "name": "stdout",
     "output_type": "stream",
     "text": [
      "0.5027548209366391 0.639 1.0 0.005509641873278237\n"
     ]
    }
   ],
   "source": [
    "auc,acc,result, specificity, sensitivity = predict_metrics(model_naive, xvalid, yvalid)\n",
    "print(auc, acc, specificity, sensitivity)"
   ]
  },
  {
   "cell_type": "code",
   "execution_count": 26,
   "metadata": {},
   "outputs": [
    {
     "data": {
      "text/plain": [
       "{'0': {'precision': 0.6382765531062125,\n",
       "  'recall': 1.0,\n",
       "  'f1-score': 0.7792048929663609,\n",
       "  'support': 637},\n",
       " '1': {'precision': 1.0,\n",
       "  'recall': 0.005509641873278237,\n",
       "  'f1-score': 0.010958904109589041,\n",
       "  'support': 363},\n",
       " 'accuracy': 0.639,\n",
       " 'macro avg': {'precision': 0.8191382765531062,\n",
       "  'recall': 0.5027548209366391,\n",
       "  'f1-score': 0.39508189853797493,\n",
       "  'support': 1000},\n",
       " 'weighted avg': {'precision': 0.7695821643286573,\n",
       "  'recall': 0.639,\n",
       "  'f1-score': 0.5003315990113527,\n",
       "  'support': 1000}}"
      ]
     },
     "execution_count": 26,
     "metadata": {},
     "output_type": "execute_result"
    }
   ],
   "source": [
    "result"
   ]
  },
  {
   "cell_type": "markdown",
   "metadata": {},
   "source": [
    "## saving all the models"
   ]
  },
  {
   "cell_type": "code",
   "execution_count": 27,
   "metadata": {},
   "outputs": [
    {
     "data": {
      "text/plain": [
       "['F:/bbb/model/sklearn_lgb_models/lgb_classifier.pkl']"
      ]
     },
     "execution_count": 27,
     "metadata": {},
     "output_type": "execute_result"
    }
   ],
   "source": [
    "joblib.dump(model_randomforset, 'F:/bbb/model/sklearn_lgb_models/randomforest.pkl')\n",
    "joblib.dump(model_svm, 'F:/bbb/model/sklearn_lgb_models/svm.pkl')\n",
    "joblib.dump(model_extratree, 'F:/bbb/model/sklearn_lgb_models/extratree.pkl')\n",
    "joblib.dump(model_naive, 'F:/bbb/model/sklearn_lgb_models/naive.pkl')\n",
    "joblib.dump(model_light, 'F:/bbb/model/sklearn_lgb_models/lgb_classifier.pkl')"
   ]
  }
 ],
 "metadata": {
  "interpreter": {
   "hash": "579282893146967bc5d17141c601e8a8b8ad4a0a2a5a6fe1c87b1000077400d7"
  },
  "kernelspec": {
   "display_name": "Python 3.8.8 64-bit ('base': conda)",
   "language": "python",
   "name": "python3"
  },
  "language_info": {
   "codemirror_mode": {
    "name": "ipython",
    "version": 3
   },
   "file_extension": ".py",
   "mimetype": "text/x-python",
   "name": "python",
   "nbconvert_exporter": "python",
   "pygments_lexer": "ipython3",
   "version": "3.8.8"
  },
  "orig_nbformat": 4
 },
 "nbformat": 4,
 "nbformat_minor": 2
}
