{
 "cells": [
  {
   "cell_type": "code",
   "execution_count": 1,
   "metadata": {},
   "outputs": [
    {
     "name": "stdout",
     "output_type": "stream",
     "text": [
      "Thu Feb 17 15:40:06 2022       \n",
      "+-----------------------------------------------------------------------------+\n",
      "| NVIDIA-SMI 462.30       Driver Version: 462.30       CUDA Version: 11.2     |\n",
      "|-------------------------------+----------------------+----------------------+\n",
      "| GPU  Name            TCC/WDDM | Bus-Id        Disp.A | Volatile Uncorr. ECC |\n",
      "| Fan  Temp  Perf  Pwr:Usage/Cap|         Memory-Usage | GPU-Util  Compute M. |\n",
      "|                               |                      |               MIG M. |\n",
      "|===============================+======================+======================|\n",
      "|   0  GeForce GTX 165... WDDM  | 00000000:01:00.0 Off |                  N/A |\n",
      "| N/A   43C    P8     4W /  N/A |    134MiB /  4096MiB |      0%      Default |\n",
      "|                               |                      |                  N/A |\n",
      "+-------------------------------+----------------------+----------------------+\n",
      "                                                                               \n",
      "+-----------------------------------------------------------------------------+\n",
      "| Processes:                                                                  |\n",
      "|  GPU   GI   CI        PID   Type   Process name                  GPU Memory |\n",
      "|        ID   ID                                                   Usage      |\n",
      "|=============================================================================|\n",
      "|  No running processes found                                                 |\n",
      "+-----------------------------------------------------------------------------+\n"
     ]
    }
   ],
   "source": [
    "!nvidia-smi"
   ]
  },
  {
   "cell_type": "code",
   "execution_count": 2,
   "metadata": {},
   "outputs": [],
   "source": [
    "import pandas as pd\n",
    "import numpy as np\n",
    "import tensorflow as tf\n",
    "from tensorflow.keras.layers import  Dense, Bidirectional, LSTM, Dropout,Input, Embedding\n",
    "from tensorflow.keras.losses import BinaryCrossentropy\n",
    "from tensorflow.keras.models import Model \n",
    "from tensorflow.keras.metrics import Precision, AUC, binary_accuracy, TrueNegatives, TruePositives, FalseNegatives, FalsePositives\n",
    "from helper_functions import mcc_metric\n",
    "from sklearn.model_selection import train_test_split\n",
    "from sklearn.preprocessing import LabelEncoder\n",
    "from sklearn.utils import class_weight\n",
    "from transformers import AutoTokenizer"
   ]
  },
  {
   "cell_type": "code",
   "execution_count": 3,
   "metadata": {},
   "outputs": [
    {
     "data": {
      "text/html": [
       "<div>\n",
       "<style scoped>\n",
       "    .dataframe tbody tr th:only-of-type {\n",
       "        vertical-align: middle;\n",
       "    }\n",
       "\n",
       "    .dataframe tbody tr th {\n",
       "        vertical-align: top;\n",
       "    }\n",
       "\n",
       "    .dataframe thead th {\n",
       "        text-align: right;\n",
       "    }\n",
       "</style>\n",
       "<table border=\"1\" class=\"dataframe\">\n",
       "  <thead>\n",
       "    <tr style=\"text-align: right;\">\n",
       "      <th></th>\n",
       "      <th>NO.</th>\n",
       "      <th>compound_name</th>\n",
       "      <th>IUPAC_name</th>\n",
       "      <th>SMILES</th>\n",
       "      <th>CID</th>\n",
       "      <th>logBB</th>\n",
       "      <th>BBB+/BBB-</th>\n",
       "      <th>Inchi</th>\n",
       "      <th>threshold</th>\n",
       "      <th>reference</th>\n",
       "      <th>group</th>\n",
       "      <th>comments</th>\n",
       "    </tr>\n",
       "  </thead>\n",
       "  <tbody>\n",
       "    <tr>\n",
       "      <th>0</th>\n",
       "      <td>1</td>\n",
       "      <td>sulphasalazine</td>\n",
       "      <td>2-hydroxy-5-[[4-(pyridin-2-ylsulfamoyl)phenyl]...</td>\n",
       "      <td>O=C(O)c1cc(N=Nc2ccc(S(=O)(=O)Nc3ccccn3)cc2)ccc1O</td>\n",
       "      <td>5339.0</td>\n",
       "      <td>-2.69</td>\n",
       "      <td>BBB-</td>\n",
       "      <td>InChI=1S/C18H14N4O5S/c23-16-9-6-13(11-15(16)18...</td>\n",
       "      <td>NaN</td>\n",
       "      <td>R2|R2|R25|R46|</td>\n",
       "      <td>A</td>\n",
       "      <td>NaN</td>\n",
       "    </tr>\n",
       "  </tbody>\n",
       "</table>\n",
       "</div>"
      ],
      "text/plain": [
       "   NO.   compound_name                                         IUPAC_name  \\\n",
       "0    1  sulphasalazine  2-hydroxy-5-[[4-(pyridin-2-ylsulfamoyl)phenyl]...   \n",
       "\n",
       "                                             SMILES     CID  logBB BBB+/BBB-  \\\n",
       "0  O=C(O)c1cc(N=Nc2ccc(S(=O)(=O)Nc3ccccn3)cc2)ccc1O  5339.0  -2.69      BBB-   \n",
       "\n",
       "                                               Inchi  threshold  \\\n",
       "0  InChI=1S/C18H14N4O5S/c23-16-9-6-13(11-15(16)18...        NaN   \n",
       "\n",
       "        reference group comments  \n",
       "0  R2|R2|R25|R46|     A      NaN  "
      ]
     },
     "execution_count": 3,
     "metadata": {},
     "output_type": "execute_result"
    }
   ],
   "source": [
    "data = pd.read_table('F:/bbb/data/B3DB/B3DB_classification.tsv')\n",
    "data.head(1)"
   ]
  },
  {
   "cell_type": "code",
   "execution_count": 4,
   "metadata": {},
   "outputs": [],
   "source": [
    "X = data[\"SMILES\"]\n",
    "\n",
    "target=data['BBB+/BBB-'].values.tolist()\n",
    "label_encoder = LabelEncoder()\n",
    "y_classification = label_encoder.fit_transform(target)"
   ]
  },
  {
   "cell_type": "code",
   "execution_count": 5,
   "metadata": {},
   "outputs": [],
   "source": [
    "tokenizer = AutoTokenizer.from_pretrained('DeepChem/ChemBERTa-77M-MLM', from_pt = True)"
   ]
  },
  {
   "cell_type": "code",
   "execution_count": 6,
   "metadata": {},
   "outputs": [],
   "source": [
    "smiles_data = tokenizer(list(X),  truncation=True, padding=True)\n",
    "smiles_data = smiles_data['input_ids']"
   ]
  },
  {
   "cell_type": "code",
   "execution_count": 7,
   "metadata": {},
   "outputs": [],
   "source": [
    "xtrain, xtest, ytrain, ytest = train_test_split(smiles_data, y_classification, test_size=0.2, random_state=42)\n",
    "xtrain, xvalid, ytrain, yvalid  = train_test_split(xtrain, ytrain, test_size= 0.16, random_state=42)"
   ]
  },
  {
   "cell_type": "code",
   "execution_count": 8,
   "metadata": {},
   "outputs": [
    {
     "data": {
      "text/plain": [
       "7807"
      ]
     },
     "execution_count": 8,
     "metadata": {},
     "output_type": "execute_result"
    }
   ],
   "source": [
    "len(y_classification)"
   ]
  },
  {
   "cell_type": "code",
   "execution_count": 9,
   "metadata": {},
   "outputs": [
    {
     "data": {
      "text/plain": [
       "(array([0, 1], dtype=int64), array([4956, 2851], dtype=int64))"
      ]
     },
     "execution_count": 9,
     "metadata": {},
     "output_type": "execute_result"
    }
   ],
   "source": [
    "np.unique(y_classification, return_counts=True)"
   ]
  },
  {
   "cell_type": "code",
   "execution_count": 10,
   "metadata": {},
   "outputs": [
    {
     "name": "stderr",
     "output_type": "stream",
     "text": [
      "F:\\anaconda\\lib\\site-packages\\sklearn\\utils\\validation.py:70: FutureWarning: Pass classes=[0 1], y=[0 1 0 ... 0 1 0] as keyword args. From version 1.0 (renaming of 0.25) passing these as positional arguments will result in an error\n",
      "  warnings.warn(f\"Pass {args_msg} as keyword args. From version \"\n"
     ]
    }
   ],
   "source": [
    "class_weights = class_weight.compute_class_weight(\n",
    "           'balanced',\n",
    "            np.unique(ytrain), \n",
    "            ytrain)"
   ]
  },
  {
   "cell_type": "code",
   "execution_count": 11,
   "metadata": {},
   "outputs": [],
   "source": [
    "class_weights = {0:0.78950695,\n",
    "                1: 1.36353712} "
   ]
  },
  {
   "cell_type": "code",
   "execution_count": 12,
   "metadata": {},
   "outputs": [
    {
     "data": {
      "text/plain": [
       "593"
      ]
     },
     "execution_count": 12,
     "metadata": {},
     "output_type": "execute_result"
    }
   ],
   "source": [
    "word_in_vocab = tokenizer.vocab\n",
    "len(word_in_vocab)"
   ]
  },
  {
   "cell_type": "code",
   "execution_count": 13,
   "metadata": {},
   "outputs": [
    {
     "data": {
      "text/plain": [
       "(244,)"
      ]
     },
     "execution_count": 13,
     "metadata": {},
     "output_type": "execute_result"
    }
   ],
   "source": [
    "np.array(xtrain[0]).shape"
   ]
  },
  {
   "cell_type": "code",
   "execution_count": 14,
   "metadata": {},
   "outputs": [],
   "source": [
    "input = Input(shape = (244,))\n",
    "\n",
    "x = Embedding(input_dim=len(word_in_vocab),\n",
    "                        output_dim=128, \n",
    "                        input_length=None,\n",
    "                        )(input)\n",
    "x = Bidirectional(LSTM(128, return_sequences=True,name = 'lstm1'))(x)\n",
    "x = Bidirectional(LSTM(128, return_sequences=True,name = 'lstm1'))(x)\n",
    "x = Dropout(0.2)(x)\n",
    "x = Bidirectional(LSTM(128, return_sequences=False,name = 'lstm1'))(x)\n",
    "x = Dropout(0.2)(x)\n",
    "\n",
    "x = Dense(256, activation = 'relu')(x)\n",
    "x = Dense(10, activation = 'relu')(x)\n",
    "output = Dense(1, activation = \"sigmoid\")(x)\n",
    "model = Model(inputs = input, outputs = output)\n"
   ]
  },
  {
   "cell_type": "code",
   "execution_count": 15,
   "metadata": {},
   "outputs": [
    {
     "name": "stdout",
     "output_type": "stream",
     "text": [
      "Epoch 1/60\n",
      "164/164 [==============================] - ETA: 0s - loss: 0.5486 - binary_accuracy: 0.7455 - auc: 0.7883 - mcc_metric: nan - precision: 0.6486 - true_negatives: 2618.0000 - true_positives: 1292.0000 - false_negatives: 635.0000 - false_positives: 700.0000\n",
      "Epoch 00001: val_auc improved from -inf to 0.83727, saving model to F:/bbb/model/nlp\\model_33.tf\n"
     ]
    },
    {
     "name": "stderr",
     "output_type": "stream",
     "text": [
      "WARNING:absl:Found untraced functions such as lstm_cell_1_layer_call_fn, lstm_cell_1_layer_call_and_return_conditional_losses, lstm_cell_2_layer_call_fn, lstm_cell_2_layer_call_and_return_conditional_losses, lstm_cell_4_layer_call_fn while saving (showing 5 of 30). These functions will not be directly callable after loading.\n"
     ]
    },
    {
     "name": "stdout",
     "output_type": "stream",
     "text": [
      "INFO:tensorflow:Assets written to: F:/bbb/model/nlp\\model_33.tf\\assets\n"
     ]
    },
    {
     "name": "stderr",
     "output_type": "stream",
     "text": [
      "INFO:tensorflow:Assets written to: F:/bbb/model/nlp\\model_33.tf\\assets\n",
      "WARNING:absl:<keras.layers.recurrent.LSTMCell object at 0x0000028A07000D90> has the same name 'LSTMCell' as a built-in Keras object. Consider renaming <class 'keras.layers.recurrent.LSTMCell'> to avoid naming conflicts when loading with `tf.keras.models.load_model`. If renaming is not possible, pass the object in the `custom_objects` parameter of the load function.\n",
      "WARNING:absl:<keras.layers.recurrent.LSTMCell object at 0x0000028A07195880> has the same name 'LSTMCell' as a built-in Keras object. Consider renaming <class 'keras.layers.recurrent.LSTMCell'> to avoid naming conflicts when loading with `tf.keras.models.load_model`. If renaming is not possible, pass the object in the `custom_objects` parameter of the load function.\n",
      "WARNING:absl:<keras.layers.recurrent.LSTMCell object at 0x0000028A076A9610> has the same name 'LSTMCell' as a built-in Keras object. Consider renaming <class 'keras.layers.recurrent.LSTMCell'> to avoid naming conflicts when loading with `tf.keras.models.load_model`. If renaming is not possible, pass the object in the `custom_objects` parameter of the load function.\n",
      "WARNING:absl:<keras.layers.recurrent.LSTMCell object at 0x0000028A074D1940> has the same name 'LSTMCell' as a built-in Keras object. Consider renaming <class 'keras.layers.recurrent.LSTMCell'> to avoid naming conflicts when loading with `tf.keras.models.load_model`. If renaming is not possible, pass the object in the `custom_objects` parameter of the load function.\n",
      "WARNING:absl:<keras.layers.recurrent.LSTMCell object at 0x0000028A073ECB20> has the same name 'LSTMCell' as a built-in Keras object. Consider renaming <class 'keras.layers.recurrent.LSTMCell'> to avoid naming conflicts when loading with `tf.keras.models.load_model`. If renaming is not possible, pass the object in the `custom_objects` parameter of the load function.\n",
      "WARNING:absl:<keras.layers.recurrent.LSTMCell object at 0x0000028A071B6D00> has the same name 'LSTMCell' as a built-in Keras object. Consider renaming <class 'keras.layers.recurrent.LSTMCell'> to avoid naming conflicts when loading with `tf.keras.models.load_model`. If renaming is not possible, pass the object in the `custom_objects` parameter of the load function.\n"
     ]
    },
    {
     "name": "stdout",
     "output_type": "stream",
     "text": [
      "164/164 [==============================] - 55s 280ms/step - loss: 0.5486 - binary_accuracy: 0.7455 - auc: 0.7883 - mcc_metric: nan - precision: 0.6486 - true_negatives: 2618.0000 - true_positives: 1292.0000 - false_negatives: 635.0000 - false_positives: 700.0000 - val_loss: 0.4581 - val_binary_accuracy: 0.8070 - val_auc: 0.8373 - val_mcc_metric: 0.5547 - val_precision: 0.7796 - val_true_negatives: 570.0000 - val_true_positives: 237.0000 - val_false_negatives: 126.0000 - val_false_positives: 67.0000\n",
      "Epoch 2/60\n",
      "164/164 [==============================] - ETA: 0s - loss: 0.4977 - binary_accuracy: 0.7918 - auc: 0.8260 - mcc_metric: 0.5507 - precision: 0.7248 - true_negatives: 2807.0000 - true_positives: 1346.0000 - false_negatives: 581.0000 - false_positives: 511.0000 ETA: 8s - loss: 0.5015 - binary_accuracy: 0.7878 - auc: 0.8239 - mcc_metric: 0.5448 - precision\n",
      "Epoch 00002: val_auc improved from 0.83727 to 0.85191, saving model to F:/bbb/model/nlp\\model_33.tf\n"
     ]
    },
    {
     "name": "stderr",
     "output_type": "stream",
     "text": [
      "WARNING:absl:Found untraced functions such as lstm_cell_1_layer_call_fn, lstm_cell_1_layer_call_and_return_conditional_losses, lstm_cell_2_layer_call_fn, lstm_cell_2_layer_call_and_return_conditional_losses, lstm_cell_4_layer_call_fn while saving (showing 5 of 30). These functions will not be directly callable after loading.\n"
     ]
    },
    {
     "name": "stdout",
     "output_type": "stream",
     "text": [
      "INFO:tensorflow:Assets written to: F:/bbb/model/nlp\\model_33.tf\\assets\n"
     ]
    },
    {
     "name": "stderr",
     "output_type": "stream",
     "text": [
      "INFO:tensorflow:Assets written to: F:/bbb/model/nlp\\model_33.tf\\assets\n",
      "WARNING:absl:<keras.layers.recurrent.LSTMCell object at 0x0000028A07000D90> has the same name 'LSTMCell' as a built-in Keras object. Consider renaming <class 'keras.layers.recurrent.LSTMCell'> to avoid naming conflicts when loading with `tf.keras.models.load_model`. If renaming is not possible, pass the object in the `custom_objects` parameter of the load function.\n",
      "WARNING:absl:<keras.layers.recurrent.LSTMCell object at 0x0000028A07195880> has the same name 'LSTMCell' as a built-in Keras object. Consider renaming <class 'keras.layers.recurrent.LSTMCell'> to avoid naming conflicts when loading with `tf.keras.models.load_model`. If renaming is not possible, pass the object in the `custom_objects` parameter of the load function.\n",
      "WARNING:absl:<keras.layers.recurrent.LSTMCell object at 0x0000028A076A9610> has the same name 'LSTMCell' as a built-in Keras object. Consider renaming <class 'keras.layers.recurrent.LSTMCell'> to avoid naming conflicts when loading with `tf.keras.models.load_model`. If renaming is not possible, pass the object in the `custom_objects` parameter of the load function.\n",
      "WARNING:absl:<keras.layers.recurrent.LSTMCell object at 0x0000028A074D1940> has the same name 'LSTMCell' as a built-in Keras object. Consider renaming <class 'keras.layers.recurrent.LSTMCell'> to avoid naming conflicts when loading with `tf.keras.models.load_model`. If renaming is not possible, pass the object in the `custom_objects` parameter of the load function.\n",
      "WARNING:absl:<keras.layers.recurrent.LSTMCell object at 0x0000028A073ECB20> has the same name 'LSTMCell' as a built-in Keras object. Consider renaming <class 'keras.layers.recurrent.LSTMCell'> to avoid naming conflicts when loading with `tf.keras.models.load_model`. If renaming is not possible, pass the object in the `custom_objects` parameter of the load function.\n",
      "WARNING:absl:<keras.layers.recurrent.LSTMCell object at 0x0000028A071B6D00> has the same name 'LSTMCell' as a built-in Keras object. Consider renaming <class 'keras.layers.recurrent.LSTMCell'> to avoid naming conflicts when loading with `tf.keras.models.load_model`. If renaming is not possible, pass the object in the `custom_objects` parameter of the load function.\n"
     ]
    },
    {
     "name": "stdout",
     "output_type": "stream",
     "text": [
      "164/164 [==============================] - 44s 272ms/step - loss: 0.4977 - binary_accuracy: 0.7918 - auc: 0.8260 - mcc_metric: 0.5507 - precision: 0.7248 - true_negatives: 2807.0000 - true_positives: 1346.0000 - false_negatives: 581.0000 - false_positives: 511.0000 - val_loss: 0.5041 - val_binary_accuracy: 0.7990 - val_auc: 0.8519 - val_mcc_metric: 0.5676 - val_precision: 0.7045 - val_true_negatives: 520.0000 - val_true_positives: 279.0000 - val_false_negatives: 84.0000 - val_false_positives: 117.0000\n",
      "Epoch 3/60\n",
      "164/164 [==============================] - ETA: 0s - loss: 0.4958 - binary_accuracy: 0.7876 - auc: 0.8314 - mcc_metric: 0.5544 - precision: 0.7040 - true_negatives: 2728.0000 - true_positives: 1403.0000 - false_negatives: 524.0000 - false_positives: 590.0000\n",
      "Epoch 00003: val_auc did not improve from 0.85191\n",
      "164/164 [==============================] - 17s 106ms/step - loss: 0.4958 - binary_accuracy: 0.7876 - auc: 0.8314 - mcc_metric: 0.5544 - precision: 0.7040 - true_negatives: 2728.0000 - true_positives: 1403.0000 - false_negatives: 524.0000 - false_positives: 590.0000 - val_loss: 0.4747 - val_binary_accuracy: 0.7860 - val_auc: 0.8462 - val_mcc_metric: 0.5280 - val_precision: 0.6905 - val_true_negatives: 516.0000 - val_true_positives: 270.0000 - val_false_negatives: 93.0000 - val_false_positives: 121.0000\n",
      "Epoch 4/60\n",
      "164/164 [==============================] - ETA: 0s - loss: 0.4816 - binary_accuracy: 0.7971 - auc: 0.8403 - mcc_metric: 0.5641 - precision: 0.7258 - true_negatives: 2794.0000 - true_positives: 1387.0000 - false_negatives: 540.0000 - false_positives: 524.0000\n",
      "Epoch 00004: val_auc improved from 0.85191 to 0.85985, saving model to F:/bbb/model/nlp\\model_33.tf\n"
     ]
    },
    {
     "name": "stderr",
     "output_type": "stream",
     "text": [
      "WARNING:absl:Found untraced functions such as lstm_cell_1_layer_call_fn, lstm_cell_1_layer_call_and_return_conditional_losses, lstm_cell_2_layer_call_fn, lstm_cell_2_layer_call_and_return_conditional_losses, lstm_cell_4_layer_call_fn while saving (showing 5 of 30). These functions will not be directly callable after loading.\n"
     ]
    },
    {
     "name": "stdout",
     "output_type": "stream",
     "text": [
      "INFO:tensorflow:Assets written to: F:/bbb/model/nlp\\model_33.tf\\assets\n"
     ]
    },
    {
     "name": "stderr",
     "output_type": "stream",
     "text": [
      "INFO:tensorflow:Assets written to: F:/bbb/model/nlp\\model_33.tf\\assets\n",
      "WARNING:absl:<keras.layers.recurrent.LSTMCell object at 0x0000028A07000D90> has the same name 'LSTMCell' as a built-in Keras object. Consider renaming <class 'keras.layers.recurrent.LSTMCell'> to avoid naming conflicts when loading with `tf.keras.models.load_model`. If renaming is not possible, pass the object in the `custom_objects` parameter of the load function.\n",
      "WARNING:absl:<keras.layers.recurrent.LSTMCell object at 0x0000028A07195880> has the same name 'LSTMCell' as a built-in Keras object. Consider renaming <class 'keras.layers.recurrent.LSTMCell'> to avoid naming conflicts when loading with `tf.keras.models.load_model`. If renaming is not possible, pass the object in the `custom_objects` parameter of the load function.\n",
      "WARNING:absl:<keras.layers.recurrent.LSTMCell object at 0x0000028A076A9610> has the same name 'LSTMCell' as a built-in Keras object. Consider renaming <class 'keras.layers.recurrent.LSTMCell'> to avoid naming conflicts when loading with `tf.keras.models.load_model`. If renaming is not possible, pass the object in the `custom_objects` parameter of the load function.\n",
      "WARNING:absl:<keras.layers.recurrent.LSTMCell object at 0x0000028A074D1940> has the same name 'LSTMCell' as a built-in Keras object. Consider renaming <class 'keras.layers.recurrent.LSTMCell'> to avoid naming conflicts when loading with `tf.keras.models.load_model`. If renaming is not possible, pass the object in the `custom_objects` parameter of the load function.\n",
      "WARNING:absl:<keras.layers.recurrent.LSTMCell object at 0x0000028A073ECB20> has the same name 'LSTMCell' as a built-in Keras object. Consider renaming <class 'keras.layers.recurrent.LSTMCell'> to avoid naming conflicts when loading with `tf.keras.models.load_model`. If renaming is not possible, pass the object in the `custom_objects` parameter of the load function.\n",
      "WARNING:absl:<keras.layers.recurrent.LSTMCell object at 0x0000028A071B6D00> has the same name 'LSTMCell' as a built-in Keras object. Consider renaming <class 'keras.layers.recurrent.LSTMCell'> to avoid naming conflicts when loading with `tf.keras.models.load_model`. If renaming is not possible, pass the object in the `custom_objects` parameter of the load function.\n"
     ]
    },
    {
     "name": "stdout",
     "output_type": "stream",
     "text": [
      "164/164 [==============================] - 43s 266ms/step - loss: 0.4816 - binary_accuracy: 0.7971 - auc: 0.8403 - mcc_metric: 0.5641 - precision: 0.7258 - true_negatives: 2794.0000 - true_positives: 1387.0000 - false_negatives: 540.0000 - false_positives: 524.0000 - val_loss: 0.4749 - val_binary_accuracy: 0.8070 - val_auc: 0.8599 - val_mcc_metric: 0.5851 - val_precision: 0.7335 - val_true_negatives: 540.0000 - val_true_positives: 267.0000 - val_false_negatives: 96.0000 - val_false_positives: 97.0000\n",
      "Epoch 5/60\n",
      "164/164 [==============================] - ETA: 0s - loss: 0.4856 - binary_accuracy: 0.7922 - auc: 0.8378 - mcc_metric: 0.5599 - precision: 0.7130 - true_negatives: 2754.0000 - true_positives: 1401.0000 - false_negatives: 526.0000 - false_positives: 564.0000\n",
      "Epoch 00005: val_auc did not improve from 0.85985\n",
      "164/164 [==============================] - 18s 107ms/step - loss: 0.4856 - binary_accuracy: 0.7922 - auc: 0.8378 - mcc_metric: 0.5599 - precision: 0.7130 - true_negatives: 2754.0000 - true_positives: 1401.0000 - false_negatives: 526.0000 - false_positives: 564.0000 - val_loss: 0.4643 - val_binary_accuracy: 0.8050 - val_auc: 0.8546 - val_mcc_metric: 0.5552 - val_precision: 0.7593 - val_true_negatives: 559.0000 - val_true_positives: 246.0000 - val_false_negatives: 117.0000 - val_false_positives: 78.0000\n",
      "Epoch 6/60\n",
      "164/164 [==============================] - ETA: 0s - loss: 0.4724 - binary_accuracy: 0.8013 - auc: 0.8476 - mcc_metric: 0.5759 - precision: 0.7270 - true_negatives: 2786.0000 - true_positives: 1417.0000 - false_negatives: 510.0000 - false_positives: 532.0000\n",
      "Epoch 00006: val_auc did not improve from 0.85985\n",
      "164/164 [==============================] - 17s 103ms/step - loss: 0.4724 - binary_accuracy: 0.8013 - auc: 0.8476 - mcc_metric: 0.5759 - precision: 0.7270 - true_negatives: 2786.0000 - true_positives: 1417.0000 - false_negatives: 510.0000 - false_positives: 532.0000 - val_loss: 0.4544 - val_binary_accuracy: 0.8060 - val_auc: 0.8293 - val_mcc_metric: 0.5674 - val_precision: 0.7752 - val_true_negatives: 568.0000 - val_true_positives: 238.0000 - val_false_negatives: 125.0000 - val_false_positives: 69.0000\n",
      "Epoch 7/60\n",
      "164/164 [==============================] - ETA: 0s - loss: 0.4771 - binary_accuracy: 0.7929 - auc: 0.8489 - mcc_metric: 0.5623 - precision: 0.7093 - true_negatives: 2734.0000 - true_positives: 1425.0000 - false_negatives: 502.0000 - false_positives: 584.0000\n",
      "Epoch 00007: val_auc improved from 0.85985 to 0.86747, saving model to F:/bbb/model/nlp\\model_33.tf\n"
     ]
    },
    {
     "name": "stderr",
     "output_type": "stream",
     "text": [
      "WARNING:absl:Found untraced functions such as lstm_cell_1_layer_call_fn, lstm_cell_1_layer_call_and_return_conditional_losses, lstm_cell_2_layer_call_fn, lstm_cell_2_layer_call_and_return_conditional_losses, lstm_cell_4_layer_call_fn while saving (showing 5 of 30). These functions will not be directly callable after loading.\n"
     ]
    },
    {
     "name": "stdout",
     "output_type": "stream",
     "text": [
      "INFO:tensorflow:Assets written to: F:/bbb/model/nlp\\model_33.tf\\assets\n"
     ]
    },
    {
     "name": "stderr",
     "output_type": "stream",
     "text": [
      "INFO:tensorflow:Assets written to: F:/bbb/model/nlp\\model_33.tf\\assets\n",
      "WARNING:absl:<keras.layers.recurrent.LSTMCell object at 0x0000028A07000D90> has the same name 'LSTMCell' as a built-in Keras object. Consider renaming <class 'keras.layers.recurrent.LSTMCell'> to avoid naming conflicts when loading with `tf.keras.models.load_model`. If renaming is not possible, pass the object in the `custom_objects` parameter of the load function.\n",
      "WARNING:absl:<keras.layers.recurrent.LSTMCell object at 0x0000028A07195880> has the same name 'LSTMCell' as a built-in Keras object. Consider renaming <class 'keras.layers.recurrent.LSTMCell'> to avoid naming conflicts when loading with `tf.keras.models.load_model`. If renaming is not possible, pass the object in the `custom_objects` parameter of the load function.\n",
      "WARNING:absl:<keras.layers.recurrent.LSTMCell object at 0x0000028A076A9610> has the same name 'LSTMCell' as a built-in Keras object. Consider renaming <class 'keras.layers.recurrent.LSTMCell'> to avoid naming conflicts when loading with `tf.keras.models.load_model`. If renaming is not possible, pass the object in the `custom_objects` parameter of the load function.\n",
      "WARNING:absl:<keras.layers.recurrent.LSTMCell object at 0x0000028A074D1940> has the same name 'LSTMCell' as a built-in Keras object. Consider renaming <class 'keras.layers.recurrent.LSTMCell'> to avoid naming conflicts when loading with `tf.keras.models.load_model`. If renaming is not possible, pass the object in the `custom_objects` parameter of the load function.\n",
      "WARNING:absl:<keras.layers.recurrent.LSTMCell object at 0x0000028A073ECB20> has the same name 'LSTMCell' as a built-in Keras object. Consider renaming <class 'keras.layers.recurrent.LSTMCell'> to avoid naming conflicts when loading with `tf.keras.models.load_model`. If renaming is not possible, pass the object in the `custom_objects` parameter of the load function.\n",
      "WARNING:absl:<keras.layers.recurrent.LSTMCell object at 0x0000028A071B6D00> has the same name 'LSTMCell' as a built-in Keras object. Consider renaming <class 'keras.layers.recurrent.LSTMCell'> to avoid naming conflicts when loading with `tf.keras.models.load_model`. If renaming is not possible, pass the object in the `custom_objects` parameter of the load function.\n"
     ]
    },
    {
     "name": "stdout",
     "output_type": "stream",
     "text": [
      "164/164 [==============================] - 46s 284ms/step - loss: 0.4771 - binary_accuracy: 0.7929 - auc: 0.8489 - mcc_metric: 0.5623 - precision: 0.7093 - true_negatives: 2734.0000 - true_positives: 1425.0000 - false_negatives: 502.0000 - false_positives: 584.0000 - val_loss: 0.4798 - val_binary_accuracy: 0.7880 - val_auc: 0.8675 - val_mcc_metric: 0.5694 - val_precision: 0.6704 - val_true_negatives: 491.0000 - val_true_positives: 297.0000 - val_false_negatives: 66.0000 - val_false_positives: 146.0000\n",
      "Epoch 8/60\n",
      "164/164 [==============================] - ETA: 0s - loss: 0.4626 - binary_accuracy: 0.8006 - auc: 0.8572 - mcc_metric: 0.5773 - precision: 0.7175 - true_negatives: 2746.0000 - true_positives: 1453.0000 - false_negatives: 474.0000 - false_positives: 572.0000\n",
      "Epoch 00008: val_auc improved from 0.86747 to 0.88047, saving model to F:/bbb/model/nlp\\model_33.tf\n"
     ]
    },
    {
     "name": "stderr",
     "output_type": "stream",
     "text": [
      "WARNING:absl:Found untraced functions such as lstm_cell_1_layer_call_fn, lstm_cell_1_layer_call_and_return_conditional_losses, lstm_cell_2_layer_call_fn, lstm_cell_2_layer_call_and_return_conditional_losses, lstm_cell_4_layer_call_fn while saving (showing 5 of 30). These functions will not be directly callable after loading.\n"
     ]
    },
    {
     "name": "stdout",
     "output_type": "stream",
     "text": [
      "INFO:tensorflow:Assets written to: F:/bbb/model/nlp\\model_33.tf\\assets\n"
     ]
    },
    {
     "name": "stderr",
     "output_type": "stream",
     "text": [
      "INFO:tensorflow:Assets written to: F:/bbb/model/nlp\\model_33.tf\\assets\n",
      "WARNING:absl:<keras.layers.recurrent.LSTMCell object at 0x0000028A07000D90> has the same name 'LSTMCell' as a built-in Keras object. Consider renaming <class 'keras.layers.recurrent.LSTMCell'> to avoid naming conflicts when loading with `tf.keras.models.load_model`. If renaming is not possible, pass the object in the `custom_objects` parameter of the load function.\n",
      "WARNING:absl:<keras.layers.recurrent.LSTMCell object at 0x0000028A07195880> has the same name 'LSTMCell' as a built-in Keras object. Consider renaming <class 'keras.layers.recurrent.LSTMCell'> to avoid naming conflicts when loading with `tf.keras.models.load_model`. If renaming is not possible, pass the object in the `custom_objects` parameter of the load function.\n",
      "WARNING:absl:<keras.layers.recurrent.LSTMCell object at 0x0000028A076A9610> has the same name 'LSTMCell' as a built-in Keras object. Consider renaming <class 'keras.layers.recurrent.LSTMCell'> to avoid naming conflicts when loading with `tf.keras.models.load_model`. If renaming is not possible, pass the object in the `custom_objects` parameter of the load function.\n",
      "WARNING:absl:<keras.layers.recurrent.LSTMCell object at 0x0000028A074D1940> has the same name 'LSTMCell' as a built-in Keras object. Consider renaming <class 'keras.layers.recurrent.LSTMCell'> to avoid naming conflicts when loading with `tf.keras.models.load_model`. If renaming is not possible, pass the object in the `custom_objects` parameter of the load function.\n",
      "WARNING:absl:<keras.layers.recurrent.LSTMCell object at 0x0000028A073ECB20> has the same name 'LSTMCell' as a built-in Keras object. Consider renaming <class 'keras.layers.recurrent.LSTMCell'> to avoid naming conflicts when loading with `tf.keras.models.load_model`. If renaming is not possible, pass the object in the `custom_objects` parameter of the load function.\n",
      "WARNING:absl:<keras.layers.recurrent.LSTMCell object at 0x0000028A071B6D00> has the same name 'LSTMCell' as a built-in Keras object. Consider renaming <class 'keras.layers.recurrent.LSTMCell'> to avoid naming conflicts when loading with `tf.keras.models.load_model`. If renaming is not possible, pass the object in the `custom_objects` parameter of the load function.\n"
     ]
    },
    {
     "name": "stdout",
     "output_type": "stream",
     "text": [
      "164/164 [==============================] - 45s 274ms/step - loss: 0.4626 - binary_accuracy: 0.8006 - auc: 0.8572 - mcc_metric: 0.5773 - precision: 0.7175 - true_negatives: 2746.0000 - true_positives: 1453.0000 - false_negatives: 474.0000 - false_positives: 572.0000 - val_loss: 0.4708 - val_binary_accuracy: 0.7820 - val_auc: 0.8805 - val_mcc_metric: 0.5612 - val_precision: 0.6608 - val_true_negatives: 484.0000 - val_true_positives: 298.0000 - val_false_negatives: 65.0000 - val_false_positives: 153.0000\n",
      "Epoch 9/60\n",
      "164/164 [==============================] - ETA: 0s - loss: 0.4396 - binary_accuracy: 0.8023 - auc: 0.8735 - mcc_metric: 0.5808 - precision: 0.7154 - true_negatives: 2730.0000 - true_positives: 1478.0000 - false_negatives: 449.0000 - false_positives: 588.0000\n",
      "Epoch 00009: val_auc improved from 0.88047 to 0.89204, saving model to F:/bbb/model/nlp\\model_33.tf\n"
     ]
    },
    {
     "name": "stderr",
     "output_type": "stream",
     "text": [
      "WARNING:absl:Found untraced functions such as lstm_cell_1_layer_call_fn, lstm_cell_1_layer_call_and_return_conditional_losses, lstm_cell_2_layer_call_fn, lstm_cell_2_layer_call_and_return_conditional_losses, lstm_cell_4_layer_call_fn while saving (showing 5 of 30). These functions will not be directly callable after loading.\n"
     ]
    },
    {
     "name": "stdout",
     "output_type": "stream",
     "text": [
      "INFO:tensorflow:Assets written to: F:/bbb/model/nlp\\model_33.tf\\assets\n"
     ]
    },
    {
     "name": "stderr",
     "output_type": "stream",
     "text": [
      "INFO:tensorflow:Assets written to: F:/bbb/model/nlp\\model_33.tf\\assets\n",
      "WARNING:absl:<keras.layers.recurrent.LSTMCell object at 0x0000028A07000D90> has the same name 'LSTMCell' as a built-in Keras object. Consider renaming <class 'keras.layers.recurrent.LSTMCell'> to avoid naming conflicts when loading with `tf.keras.models.load_model`. If renaming is not possible, pass the object in the `custom_objects` parameter of the load function.\n",
      "WARNING:absl:<keras.layers.recurrent.LSTMCell object at 0x0000028A07195880> has the same name 'LSTMCell' as a built-in Keras object. Consider renaming <class 'keras.layers.recurrent.LSTMCell'> to avoid naming conflicts when loading with `tf.keras.models.load_model`. If renaming is not possible, pass the object in the `custom_objects` parameter of the load function.\n",
      "WARNING:absl:<keras.layers.recurrent.LSTMCell object at 0x0000028A076A9610> has the same name 'LSTMCell' as a built-in Keras object. Consider renaming <class 'keras.layers.recurrent.LSTMCell'> to avoid naming conflicts when loading with `tf.keras.models.load_model`. If renaming is not possible, pass the object in the `custom_objects` parameter of the load function.\n",
      "WARNING:absl:<keras.layers.recurrent.LSTMCell object at 0x0000028A074D1940> has the same name 'LSTMCell' as a built-in Keras object. Consider renaming <class 'keras.layers.recurrent.LSTMCell'> to avoid naming conflicts when loading with `tf.keras.models.load_model`. If renaming is not possible, pass the object in the `custom_objects` parameter of the load function.\n",
      "WARNING:absl:<keras.layers.recurrent.LSTMCell object at 0x0000028A073ECB20> has the same name 'LSTMCell' as a built-in Keras object. Consider renaming <class 'keras.layers.recurrent.LSTMCell'> to avoid naming conflicts when loading with `tf.keras.models.load_model`. If renaming is not possible, pass the object in the `custom_objects` parameter of the load function.\n",
      "WARNING:absl:<keras.layers.recurrent.LSTMCell object at 0x0000028A071B6D00> has the same name 'LSTMCell' as a built-in Keras object. Consider renaming <class 'keras.layers.recurrent.LSTMCell'> to avoid naming conflicts when loading with `tf.keras.models.load_model`. If renaming is not possible, pass the object in the `custom_objects` parameter of the load function.\n"
     ]
    },
    {
     "name": "stdout",
     "output_type": "stream",
     "text": [
      "164/164 [==============================] - 43s 261ms/step - loss: 0.4396 - binary_accuracy: 0.8023 - auc: 0.8735 - mcc_metric: 0.5808 - precision: 0.7154 - true_negatives: 2730.0000 - true_positives: 1478.0000 - false_negatives: 449.0000 - false_positives: 588.0000 - val_loss: 0.4575 - val_binary_accuracy: 0.7950 - val_auc: 0.8920 - val_mcc_metric: 0.5885 - val_precision: 0.6710 - val_true_negatives: 485.0000 - val_true_positives: 310.0000 - val_false_negatives: 53.0000 - val_false_positives: 152.0000\n",
      "Epoch 10/60\n",
      "164/164 [==============================] - ETA: 0s - loss: 0.4286 - binary_accuracy: 0.8099 - auc: 0.8810 - mcc_metric: 0.5990 - precision: 0.7251 - true_negatives: 2750.0000 - true_positives: 1498.0000 - false_negatives: 429.0000 - false_positives: 568.0000\n",
      "Epoch 00010: val_auc did not improve from 0.89204\n",
      "164/164 [==============================] - 17s 106ms/step - loss: 0.4286 - binary_accuracy: 0.8099 - auc: 0.8810 - mcc_metric: 0.5990 - precision: 0.7251 - true_negatives: 2750.0000 - true_positives: 1498.0000 - false_negatives: 429.0000 - false_positives: 568.0000 - val_loss: 0.4175 - val_binary_accuracy: 0.8030 - val_auc: 0.8864 - val_mcc_metric: 0.5868 - val_precision: 0.6986 - val_true_negatives: 511.0000 - val_true_positives: 292.0000 - val_false_negatives: 71.0000 - val_false_positives: 126.0000\n",
      "Epoch 11/60\n",
      "164/164 [==============================] - ETA: 0s - loss: 0.4265 - binary_accuracy: 0.8133 - auc: 0.8825 - mcc_metric: 0.6137 - precision: 0.7227 - true_negatives: 2728.0000 - true_positives: 1538.0000 - false_negatives: 389.0000 - false_positives: 590.0000\n",
      "Epoch 00011: val_auc improved from 0.89204 to 0.90244, saving model to F:/bbb/model/nlp\\model_33.tf\n"
     ]
    },
    {
     "name": "stderr",
     "output_type": "stream",
     "text": [
      "WARNING:absl:Found untraced functions such as lstm_cell_1_layer_call_fn, lstm_cell_1_layer_call_and_return_conditional_losses, lstm_cell_2_layer_call_fn, lstm_cell_2_layer_call_and_return_conditional_losses, lstm_cell_4_layer_call_fn while saving (showing 5 of 30). These functions will not be directly callable after loading.\n"
     ]
    },
    {
     "name": "stdout",
     "output_type": "stream",
     "text": [
      "INFO:tensorflow:Assets written to: F:/bbb/model/nlp\\model_33.tf\\assets\n"
     ]
    },
    {
     "name": "stderr",
     "output_type": "stream",
     "text": [
      "INFO:tensorflow:Assets written to: F:/bbb/model/nlp\\model_33.tf\\assets\n",
      "WARNING:absl:<keras.layers.recurrent.LSTMCell object at 0x0000028A07000D90> has the same name 'LSTMCell' as a built-in Keras object. Consider renaming <class 'keras.layers.recurrent.LSTMCell'> to avoid naming conflicts when loading with `tf.keras.models.load_model`. If renaming is not possible, pass the object in the `custom_objects` parameter of the load function.\n",
      "WARNING:absl:<keras.layers.recurrent.LSTMCell object at 0x0000028A07195880> has the same name 'LSTMCell' as a built-in Keras object. Consider renaming <class 'keras.layers.recurrent.LSTMCell'> to avoid naming conflicts when loading with `tf.keras.models.load_model`. If renaming is not possible, pass the object in the `custom_objects` parameter of the load function.\n",
      "WARNING:absl:<keras.layers.recurrent.LSTMCell object at 0x0000028A076A9610> has the same name 'LSTMCell' as a built-in Keras object. Consider renaming <class 'keras.layers.recurrent.LSTMCell'> to avoid naming conflicts when loading with `tf.keras.models.load_model`. If renaming is not possible, pass the object in the `custom_objects` parameter of the load function.\n",
      "WARNING:absl:<keras.layers.recurrent.LSTMCell object at 0x0000028A074D1940> has the same name 'LSTMCell' as a built-in Keras object. Consider renaming <class 'keras.layers.recurrent.LSTMCell'> to avoid naming conflicts when loading with `tf.keras.models.load_model`. If renaming is not possible, pass the object in the `custom_objects` parameter of the load function.\n",
      "WARNING:absl:<keras.layers.recurrent.LSTMCell object at 0x0000028A073ECB20> has the same name 'LSTMCell' as a built-in Keras object. Consider renaming <class 'keras.layers.recurrent.LSTMCell'> to avoid naming conflicts when loading with `tf.keras.models.load_model`. If renaming is not possible, pass the object in the `custom_objects` parameter of the load function.\n",
      "WARNING:absl:<keras.layers.recurrent.LSTMCell object at 0x0000028A071B6D00> has the same name 'LSTMCell' as a built-in Keras object. Consider renaming <class 'keras.layers.recurrent.LSTMCell'> to avoid naming conflicts when loading with `tf.keras.models.load_model`. If renaming is not possible, pass the object in the `custom_objects` parameter of the load function.\n"
     ]
    },
    {
     "name": "stdout",
     "output_type": "stream",
     "text": [
      "164/164 [==============================] - 41s 252ms/step - loss: 0.4265 - binary_accuracy: 0.8133 - auc: 0.8825 - mcc_metric: 0.6137 - precision: 0.7227 - true_negatives: 2728.0000 - true_positives: 1538.0000 - false_negatives: 389.0000 - false_positives: 590.0000 - val_loss: 0.4019 - val_binary_accuracy: 0.8220 - val_auc: 0.9024 - val_mcc_metric: 0.6347 - val_precision: 0.7229 - val_true_negatives: 522.0000 - val_true_positives: 300.0000 - val_false_negatives: 63.0000 - val_false_positives: 115.0000\n",
      "Epoch 12/60\n",
      "164/164 [==============================] - ETA: 0s - loss: 0.4260 - binary_accuracy: 0.8072 - auc: 0.8831 - mcc_metric: 0.5992 - precision: 0.7116 - true_negatives: 2694.0000 - true_positives: 1540.0000 - false_negatives: 387.0000 - false_positives: 624.0000\n",
      "Epoch 00012: val_auc did not improve from 0.90244\n",
      "164/164 [==============================] - 17s 106ms/step - loss: 0.4260 - binary_accuracy: 0.8072 - auc: 0.8831 - mcc_metric: 0.5992 - precision: 0.7116 - true_negatives: 2694.0000 - true_positives: 1540.0000 - false_negatives: 387.0000 - false_positives: 624.0000 - val_loss: 0.4348 - val_binary_accuracy: 0.8230 - val_auc: 0.8634 - val_mcc_metric: 0.6079 - val_precision: 0.7853 - val_true_negatives: 567.0000 - val_true_positives: 256.0000 - val_false_negatives: 107.0000 - val_false_positives: 70.0000\n",
      "Epoch 13/60\n",
      "164/164 [==============================] - ETA: 0s - loss: 0.4309 - binary_accuracy: 0.8107 - auc: 0.8804 - mcc_metric: 0.6022 - precision: 0.7314 - true_negatives: 2776.0000 - true_positives: 1476.0000 - false_negatives: 451.0000 - false_positives: 542.0000\n",
      "Epoch 00013: val_auc did not improve from 0.90244\n",
      "164/164 [==============================] - 17s 102ms/step - loss: 0.4309 - binary_accuracy: 0.8107 - auc: 0.8804 - mcc_metric: 0.6022 - precision: 0.7314 - true_negatives: 2776.0000 - true_positives: 1476.0000 - false_negatives: 451.0000 - false_positives: 542.0000 - val_loss: 0.3797 - val_binary_accuracy: 0.8220 - val_auc: 0.9003 - val_mcc_metric: 0.6060 - val_precision: 0.7729 - val_true_negatives: 560.0000 - val_true_positives: 262.0000 - val_false_negatives: 101.0000 - val_false_positives: 77.0000\n",
      "Epoch 14/60\n",
      "164/164 [==============================] - ETA: 0s - loss: 0.3991 - binary_accuracy: 0.8095 - auc: 0.8981 - mcc_metric: 0.6101 - precision: 0.7084 - true_negatives: 2669.0000 - true_positives: 1577.0000 - false_negatives: 350.0000 - false_positives: 649.0000\n",
      "Epoch 00014: val_auc did not improve from 0.90244\n",
      "164/164 [==============================] - 17s 102ms/step - loss: 0.3991 - binary_accuracy: 0.8095 - auc: 0.8981 - mcc_metric: 0.6101 - precision: 0.7084 - true_negatives: 2669.0000 - true_positives: 1577.0000 - false_negatives: 350.0000 - false_positives: 649.0000 - val_loss: 0.4050 - val_binary_accuracy: 0.8050 - val_auc: 0.9014 - val_mcc_metric: 0.6054 - val_precision: 0.6858 - val_true_negatives: 495.0000 - val_true_positives: 310.0000 - val_false_negatives: 53.0000 - val_false_positives: 142.0000\n",
      "Epoch 15/60\n",
      "164/164 [==============================] - ETA: 0s - loss: 0.3848 - binary_accuracy: 0.8225 - auc: 0.9066 - mcc_metric: 0.6367 - precision: 0.7245 - true_negatives: 2707.0000 - true_positives: 1607.0000 - false_negatives: 320.0000 - false_positives: 611.0000\n",
      "Epoch 00015: val_auc improved from 0.90244 to 0.90630, saving model to F:/bbb/model/nlp\\model_33.tf\n"
     ]
    },
    {
     "name": "stderr",
     "output_type": "stream",
     "text": [
      "WARNING:absl:Found untraced functions such as lstm_cell_1_layer_call_fn, lstm_cell_1_layer_call_and_return_conditional_losses, lstm_cell_2_layer_call_fn, lstm_cell_2_layer_call_and_return_conditional_losses, lstm_cell_4_layer_call_fn while saving (showing 5 of 30). These functions will not be directly callable after loading.\n"
     ]
    },
    {
     "name": "stdout",
     "output_type": "stream",
     "text": [
      "INFO:tensorflow:Assets written to: F:/bbb/model/nlp\\model_33.tf\\assets\n"
     ]
    },
    {
     "name": "stderr",
     "output_type": "stream",
     "text": [
      "INFO:tensorflow:Assets written to: F:/bbb/model/nlp\\model_33.tf\\assets\n",
      "WARNING:absl:<keras.layers.recurrent.LSTMCell object at 0x0000028A07000D90> has the same name 'LSTMCell' as a built-in Keras object. Consider renaming <class 'keras.layers.recurrent.LSTMCell'> to avoid naming conflicts when loading with `tf.keras.models.load_model`. If renaming is not possible, pass the object in the `custom_objects` parameter of the load function.\n",
      "WARNING:absl:<keras.layers.recurrent.LSTMCell object at 0x0000028A07195880> has the same name 'LSTMCell' as a built-in Keras object. Consider renaming <class 'keras.layers.recurrent.LSTMCell'> to avoid naming conflicts when loading with `tf.keras.models.load_model`. If renaming is not possible, pass the object in the `custom_objects` parameter of the load function.\n",
      "WARNING:absl:<keras.layers.recurrent.LSTMCell object at 0x0000028A076A9610> has the same name 'LSTMCell' as a built-in Keras object. Consider renaming <class 'keras.layers.recurrent.LSTMCell'> to avoid naming conflicts when loading with `tf.keras.models.load_model`. If renaming is not possible, pass the object in the `custom_objects` parameter of the load function.\n",
      "WARNING:absl:<keras.layers.recurrent.LSTMCell object at 0x0000028A074D1940> has the same name 'LSTMCell' as a built-in Keras object. Consider renaming <class 'keras.layers.recurrent.LSTMCell'> to avoid naming conflicts when loading with `tf.keras.models.load_model`. If renaming is not possible, pass the object in the `custom_objects` parameter of the load function.\n",
      "WARNING:absl:<keras.layers.recurrent.LSTMCell object at 0x0000028A073ECB20> has the same name 'LSTMCell' as a built-in Keras object. Consider renaming <class 'keras.layers.recurrent.LSTMCell'> to avoid naming conflicts when loading with `tf.keras.models.load_model`. If renaming is not possible, pass the object in the `custom_objects` parameter of the load function.\n",
      "WARNING:absl:<keras.layers.recurrent.LSTMCell object at 0x0000028A071B6D00> has the same name 'LSTMCell' as a built-in Keras object. Consider renaming <class 'keras.layers.recurrent.LSTMCell'> to avoid naming conflicts when loading with `tf.keras.models.load_model`. If renaming is not possible, pass the object in the `custom_objects` parameter of the load function.\n"
     ]
    },
    {
     "name": "stdout",
     "output_type": "stream",
     "text": [
      "164/164 [==============================] - 42s 258ms/step - loss: 0.3848 - binary_accuracy: 0.8225 - auc: 0.9066 - mcc_metric: 0.6367 - precision: 0.7245 - true_negatives: 2707.0000 - true_positives: 1607.0000 - false_negatives: 320.0000 - false_positives: 611.0000 - val_loss: 0.3966 - val_binary_accuracy: 0.8130 - val_auc: 0.9063 - val_mcc_metric: 0.6267 - val_precision: 0.6991 - val_true_negatives: 504.0000 - val_true_positives: 309.0000 - val_false_negatives: 54.0000 - val_false_positives: 133.0000\n",
      "Epoch 16/60\n",
      "164/164 [==============================] - ETA: 0s - loss: 0.3685 - binary_accuracy: 0.8290 - auc: 0.9146 - mcc_metric: 0.6501 - precision: 0.7316 - true_negatives: 2721.0000 - true_positives: 1627.0000 - false_negatives: 300.0000 - false_positives: 597.0000\n",
      "Epoch 00016: val_auc improved from 0.90630 to 0.90782, saving model to F:/bbb/model/nlp\\model_33.tf\n"
     ]
    },
    {
     "name": "stderr",
     "output_type": "stream",
     "text": [
      "WARNING:absl:Found untraced functions such as lstm_cell_1_layer_call_fn, lstm_cell_1_layer_call_and_return_conditional_losses, lstm_cell_2_layer_call_fn, lstm_cell_2_layer_call_and_return_conditional_losses, lstm_cell_4_layer_call_fn while saving (showing 5 of 30). These functions will not be directly callable after loading.\n"
     ]
    },
    {
     "name": "stdout",
     "output_type": "stream",
     "text": [
      "INFO:tensorflow:Assets written to: F:/bbb/model/nlp\\model_33.tf\\assets\n"
     ]
    },
    {
     "name": "stderr",
     "output_type": "stream",
     "text": [
      "INFO:tensorflow:Assets written to: F:/bbb/model/nlp\\model_33.tf\\assets\n",
      "WARNING:absl:<keras.layers.recurrent.LSTMCell object at 0x0000028A07000D90> has the same name 'LSTMCell' as a built-in Keras object. Consider renaming <class 'keras.layers.recurrent.LSTMCell'> to avoid naming conflicts when loading with `tf.keras.models.load_model`. If renaming is not possible, pass the object in the `custom_objects` parameter of the load function.\n",
      "WARNING:absl:<keras.layers.recurrent.LSTMCell object at 0x0000028A07195880> has the same name 'LSTMCell' as a built-in Keras object. Consider renaming <class 'keras.layers.recurrent.LSTMCell'> to avoid naming conflicts when loading with `tf.keras.models.load_model`. If renaming is not possible, pass the object in the `custom_objects` parameter of the load function.\n",
      "WARNING:absl:<keras.layers.recurrent.LSTMCell object at 0x0000028A076A9610> has the same name 'LSTMCell' as a built-in Keras object. Consider renaming <class 'keras.layers.recurrent.LSTMCell'> to avoid naming conflicts when loading with `tf.keras.models.load_model`. If renaming is not possible, pass the object in the `custom_objects` parameter of the load function.\n",
      "WARNING:absl:<keras.layers.recurrent.LSTMCell object at 0x0000028A074D1940> has the same name 'LSTMCell' as a built-in Keras object. Consider renaming <class 'keras.layers.recurrent.LSTMCell'> to avoid naming conflicts when loading with `tf.keras.models.load_model`. If renaming is not possible, pass the object in the `custom_objects` parameter of the load function.\n",
      "WARNING:absl:<keras.layers.recurrent.LSTMCell object at 0x0000028A073ECB20> has the same name 'LSTMCell' as a built-in Keras object. Consider renaming <class 'keras.layers.recurrent.LSTMCell'> to avoid naming conflicts when loading with `tf.keras.models.load_model`. If renaming is not possible, pass the object in the `custom_objects` parameter of the load function.\n",
      "WARNING:absl:<keras.layers.recurrent.LSTMCell object at 0x0000028A071B6D00> has the same name 'LSTMCell' as a built-in Keras object. Consider renaming <class 'keras.layers.recurrent.LSTMCell'> to avoid naming conflicts when loading with `tf.keras.models.load_model`. If renaming is not possible, pass the object in the `custom_objects` parameter of the load function.\n"
     ]
    },
    {
     "name": "stdout",
     "output_type": "stream",
     "text": [
      "164/164 [==============================] - 43s 263ms/step - loss: 0.3685 - binary_accuracy: 0.8290 - auc: 0.9146 - mcc_metric: 0.6501 - precision: 0.7316 - true_negatives: 2721.0000 - true_positives: 1627.0000 - false_negatives: 300.0000 - false_positives: 597.0000 - val_loss: 0.3753 - val_binary_accuracy: 0.8260 - val_auc: 0.9078 - val_mcc_metric: 0.6240 - val_precision: 0.7442 - val_true_negatives: 538.0000 - val_true_positives: 288.0000 - val_false_negatives: 75.0000 - val_false_positives: 99.0000\n",
      "Epoch 17/60\n",
      "164/164 [==============================] - ETA: 0s - loss: 0.3651 - binary_accuracy: 0.8305 - auc: 0.9159 - mcc_metric: 0.6526 - precision: 0.7383 - true_negatives: 2748.0000 - true_positives: 1608.0000 - false_negatives: 319.0000 - false_positives: 570.0000\n",
      "Epoch 00017: val_auc improved from 0.90782 to 0.91245, saving model to F:/bbb/model/nlp\\model_33.tf\n"
     ]
    },
    {
     "name": "stderr",
     "output_type": "stream",
     "text": [
      "WARNING:absl:Found untraced functions such as lstm_cell_1_layer_call_fn, lstm_cell_1_layer_call_and_return_conditional_losses, lstm_cell_2_layer_call_fn, lstm_cell_2_layer_call_and_return_conditional_losses, lstm_cell_4_layer_call_fn while saving (showing 5 of 30). These functions will not be directly callable after loading.\n"
     ]
    },
    {
     "name": "stdout",
     "output_type": "stream",
     "text": [
      "INFO:tensorflow:Assets written to: F:/bbb/model/nlp\\model_33.tf\\assets\n"
     ]
    },
    {
     "name": "stderr",
     "output_type": "stream",
     "text": [
      "INFO:tensorflow:Assets written to: F:/bbb/model/nlp\\model_33.tf\\assets\n",
      "WARNING:absl:<keras.layers.recurrent.LSTMCell object at 0x0000028A07000D90> has the same name 'LSTMCell' as a built-in Keras object. Consider renaming <class 'keras.layers.recurrent.LSTMCell'> to avoid naming conflicts when loading with `tf.keras.models.load_model`. If renaming is not possible, pass the object in the `custom_objects` parameter of the load function.\n",
      "WARNING:absl:<keras.layers.recurrent.LSTMCell object at 0x0000028A07195880> has the same name 'LSTMCell' as a built-in Keras object. Consider renaming <class 'keras.layers.recurrent.LSTMCell'> to avoid naming conflicts when loading with `tf.keras.models.load_model`. If renaming is not possible, pass the object in the `custom_objects` parameter of the load function.\n",
      "WARNING:absl:<keras.layers.recurrent.LSTMCell object at 0x0000028A076A9610> has the same name 'LSTMCell' as a built-in Keras object. Consider renaming <class 'keras.layers.recurrent.LSTMCell'> to avoid naming conflicts when loading with `tf.keras.models.load_model`. If renaming is not possible, pass the object in the `custom_objects` parameter of the load function.\n",
      "WARNING:absl:<keras.layers.recurrent.LSTMCell object at 0x0000028A074D1940> has the same name 'LSTMCell' as a built-in Keras object. Consider renaming <class 'keras.layers.recurrent.LSTMCell'> to avoid naming conflicts when loading with `tf.keras.models.load_model`. If renaming is not possible, pass the object in the `custom_objects` parameter of the load function.\n",
      "WARNING:absl:<keras.layers.recurrent.LSTMCell object at 0x0000028A073ECB20> has the same name 'LSTMCell' as a built-in Keras object. Consider renaming <class 'keras.layers.recurrent.LSTMCell'> to avoid naming conflicts when loading with `tf.keras.models.load_model`. If renaming is not possible, pass the object in the `custom_objects` parameter of the load function.\n",
      "WARNING:absl:<keras.layers.recurrent.LSTMCell object at 0x0000028A071B6D00> has the same name 'LSTMCell' as a built-in Keras object. Consider renaming <class 'keras.layers.recurrent.LSTMCell'> to avoid naming conflicts when loading with `tf.keras.models.load_model`. If renaming is not possible, pass the object in the `custom_objects` parameter of the load function.\n"
     ]
    },
    {
     "name": "stdout",
     "output_type": "stream",
     "text": [
      "164/164 [==============================] - 50s 306ms/step - loss: 0.3651 - binary_accuracy: 0.8305 - auc: 0.9159 - mcc_metric: 0.6526 - precision: 0.7383 - true_negatives: 2748.0000 - true_positives: 1608.0000 - false_negatives: 319.0000 - false_positives: 570.0000 - val_loss: 0.3834 - val_binary_accuracy: 0.8110 - val_auc: 0.9124 - val_mcc_metric: 0.6299 - val_precision: 0.6900 - val_true_negatives: 495.0000 - val_true_positives: 316.0000 - val_false_negatives: 47.0000 - val_false_positives: 142.0000\n",
      "Epoch 18/60\n",
      "164/164 [==============================] - ETA: 0s - loss: 0.3513 - binary_accuracy: 0.8414 - auc: 0.9230 - mcc_metric: 0.6746 - precision: 0.7454 - true_negatives: 2750.0000 - true_positives: 1663.0000 - false_negatives: 264.0000 - false_positives: 568.0000\n",
      "Epoch 00018: val_auc improved from 0.91245 to 0.91711, saving model to F:/bbb/model/nlp\\model_33.tf\n"
     ]
    },
    {
     "name": "stderr",
     "output_type": "stream",
     "text": [
      "WARNING:absl:Found untraced functions such as lstm_cell_1_layer_call_fn, lstm_cell_1_layer_call_and_return_conditional_losses, lstm_cell_2_layer_call_fn, lstm_cell_2_layer_call_and_return_conditional_losses, lstm_cell_4_layer_call_fn while saving (showing 5 of 30). These functions will not be directly callable after loading.\n"
     ]
    },
    {
     "name": "stdout",
     "output_type": "stream",
     "text": [
      "INFO:tensorflow:Assets written to: F:/bbb/model/nlp\\model_33.tf\\assets\n"
     ]
    },
    {
     "name": "stderr",
     "output_type": "stream",
     "text": [
      "INFO:tensorflow:Assets written to: F:/bbb/model/nlp\\model_33.tf\\assets\n",
      "WARNING:absl:<keras.layers.recurrent.LSTMCell object at 0x0000028A07000D90> has the same name 'LSTMCell' as a built-in Keras object. Consider renaming <class 'keras.layers.recurrent.LSTMCell'> to avoid naming conflicts when loading with `tf.keras.models.load_model`. If renaming is not possible, pass the object in the `custom_objects` parameter of the load function.\n",
      "WARNING:absl:<keras.layers.recurrent.LSTMCell object at 0x0000028A07195880> has the same name 'LSTMCell' as a built-in Keras object. Consider renaming <class 'keras.layers.recurrent.LSTMCell'> to avoid naming conflicts when loading with `tf.keras.models.load_model`. If renaming is not possible, pass the object in the `custom_objects` parameter of the load function.\n",
      "WARNING:absl:<keras.layers.recurrent.LSTMCell object at 0x0000028A076A9610> has the same name 'LSTMCell' as a built-in Keras object. Consider renaming <class 'keras.layers.recurrent.LSTMCell'> to avoid naming conflicts when loading with `tf.keras.models.load_model`. If renaming is not possible, pass the object in the `custom_objects` parameter of the load function.\n",
      "WARNING:absl:<keras.layers.recurrent.LSTMCell object at 0x0000028A074D1940> has the same name 'LSTMCell' as a built-in Keras object. Consider renaming <class 'keras.layers.recurrent.LSTMCell'> to avoid naming conflicts when loading with `tf.keras.models.load_model`. If renaming is not possible, pass the object in the `custom_objects` parameter of the load function.\n",
      "WARNING:absl:<keras.layers.recurrent.LSTMCell object at 0x0000028A073ECB20> has the same name 'LSTMCell' as a built-in Keras object. Consider renaming <class 'keras.layers.recurrent.LSTMCell'> to avoid naming conflicts when loading with `tf.keras.models.load_model`. If renaming is not possible, pass the object in the `custom_objects` parameter of the load function.\n",
      "WARNING:absl:<keras.layers.recurrent.LSTMCell object at 0x0000028A071B6D00> has the same name 'LSTMCell' as a built-in Keras object. Consider renaming <class 'keras.layers.recurrent.LSTMCell'> to avoid naming conflicts when loading with `tf.keras.models.load_model`. If renaming is not possible, pass the object in the `custom_objects` parameter of the load function.\n"
     ]
    },
    {
     "name": "stdout",
     "output_type": "stream",
     "text": [
      "164/164 [==============================] - 48s 293ms/step - loss: 0.3513 - binary_accuracy: 0.8414 - auc: 0.9230 - mcc_metric: 0.6746 - precision: 0.7454 - true_negatives: 2750.0000 - true_positives: 1663.0000 - false_negatives: 264.0000 - false_positives: 568.0000 - val_loss: 0.3738 - val_binary_accuracy: 0.8350 - val_auc: 0.9171 - val_mcc_metric: 0.6555 - val_precision: 0.7438 - val_true_negatives: 533.0000 - val_true_positives: 302.0000 - val_false_negatives: 61.0000 - val_false_positives: 104.0000\n",
      "Epoch 19/60\n",
      "164/164 [==============================] - ETA: 0s - loss: 0.3811 - binary_accuracy: 0.8379 - auc: 0.9096 - mcc_metric: 0.6600 - precision: 0.7631 - true_negatives: 2833.0000 - true_positives: 1562.0000 - false_negatives: 365.0000 - false_positives: 485.0000\n",
      "Epoch 00019: val_auc did not improve from 0.91711\n",
      "164/164 [==============================] - 18s 110ms/step - loss: 0.3811 - binary_accuracy: 0.8379 - auc: 0.9096 - mcc_metric: 0.6600 - precision: 0.7631 - true_negatives: 2833.0000 - true_positives: 1562.0000 - false_negatives: 365.0000 - false_positives: 485.0000 - val_loss: 0.5252 - val_binary_accuracy: 0.7490 - val_auc: 0.8603 - val_mcc_metric: 0.4908 - val_precision: 0.6261 - val_true_negatives: 471.0000 - val_true_positives: 278.0000 - val_false_negatives: 85.0000 - val_false_positives: 166.0000\n",
      "Epoch 20/60\n",
      "164/164 [==============================] - ETA: 0s - loss: 0.3938 - binary_accuracy: 0.8265 - auc: 0.8992 - mcc_metric: 0.6323 - precision: 0.7536 - true_negatives: 2824.0000 - true_positives: 1511.0000 - false_negatives: 416.0000 - false_positives: 494.0000\n",
      "Epoch 00020: val_auc did not improve from 0.91711\n",
      "164/164 [==============================] - 17s 105ms/step - loss: 0.3938 - binary_accuracy: 0.8265 - auc: 0.8992 - mcc_metric: 0.6323 - precision: 0.7536 - true_negatives: 2824.0000 - true_positives: 1511.0000 - false_negatives: 416.0000 - false_positives: 494.0000 - val_loss: 0.3551 - val_binary_accuracy: 0.8430 - val_auc: 0.9067 - val_mcc_metric: 0.6613 - val_precision: 0.7845 - val_true_negatives: 559.0000 - val_true_positives: 284.0000 - val_false_negatives: 79.0000 - val_false_positives: 78.0000\n",
      "Epoch 21/60\n",
      "164/164 [==============================] - ETA: 0s - loss: 0.3492 - binary_accuracy: 0.8343 - auc: 0.9226 - mcc_metric: 0.6618 - precision: 0.7409 - true_negatives: 2749.0000 - true_positives: 1627.0000 - false_negatives: 300.0000 - false_positives: 569.0000\n",
      "Epoch 00021: val_auc improved from 0.91711 to 0.91769, saving model to F:/bbb/model/nlp\\model_33.tf\n"
     ]
    },
    {
     "name": "stderr",
     "output_type": "stream",
     "text": [
      "WARNING:absl:Found untraced functions such as lstm_cell_1_layer_call_fn, lstm_cell_1_layer_call_and_return_conditional_losses, lstm_cell_2_layer_call_fn, lstm_cell_2_layer_call_and_return_conditional_losses, lstm_cell_4_layer_call_fn while saving (showing 5 of 30). These functions will not be directly callable after loading.\n"
     ]
    },
    {
     "name": "stdout",
     "output_type": "stream",
     "text": [
      "INFO:tensorflow:Assets written to: F:/bbb/model/nlp\\model_33.tf\\assets\n"
     ]
    },
    {
     "name": "stderr",
     "output_type": "stream",
     "text": [
      "INFO:tensorflow:Assets written to: F:/bbb/model/nlp\\model_33.tf\\assets\n",
      "WARNING:absl:<keras.layers.recurrent.LSTMCell object at 0x0000028A07000D90> has the same name 'LSTMCell' as a built-in Keras object. Consider renaming <class 'keras.layers.recurrent.LSTMCell'> to avoid naming conflicts when loading with `tf.keras.models.load_model`. If renaming is not possible, pass the object in the `custom_objects` parameter of the load function.\n",
      "WARNING:absl:<keras.layers.recurrent.LSTMCell object at 0x0000028A07195880> has the same name 'LSTMCell' as a built-in Keras object. Consider renaming <class 'keras.layers.recurrent.LSTMCell'> to avoid naming conflicts when loading with `tf.keras.models.load_model`. If renaming is not possible, pass the object in the `custom_objects` parameter of the load function.\n",
      "WARNING:absl:<keras.layers.recurrent.LSTMCell object at 0x0000028A076A9610> has the same name 'LSTMCell' as a built-in Keras object. Consider renaming <class 'keras.layers.recurrent.LSTMCell'> to avoid naming conflicts when loading with `tf.keras.models.load_model`. If renaming is not possible, pass the object in the `custom_objects` parameter of the load function.\n",
      "WARNING:absl:<keras.layers.recurrent.LSTMCell object at 0x0000028A074D1940> has the same name 'LSTMCell' as a built-in Keras object. Consider renaming <class 'keras.layers.recurrent.LSTMCell'> to avoid naming conflicts when loading with `tf.keras.models.load_model`. If renaming is not possible, pass the object in the `custom_objects` parameter of the load function.\n",
      "WARNING:absl:<keras.layers.recurrent.LSTMCell object at 0x0000028A073ECB20> has the same name 'LSTMCell' as a built-in Keras object. Consider renaming <class 'keras.layers.recurrent.LSTMCell'> to avoid naming conflicts when loading with `tf.keras.models.load_model`. If renaming is not possible, pass the object in the `custom_objects` parameter of the load function.\n",
      "WARNING:absl:<keras.layers.recurrent.LSTMCell object at 0x0000028A071B6D00> has the same name 'LSTMCell' as a built-in Keras object. Consider renaming <class 'keras.layers.recurrent.LSTMCell'> to avoid naming conflicts when loading with `tf.keras.models.load_model`. If renaming is not possible, pass the object in the `custom_objects` parameter of the load function.\n"
     ]
    },
    {
     "name": "stdout",
     "output_type": "stream",
     "text": [
      "164/164 [==============================] - 46s 282ms/step - loss: 0.3492 - binary_accuracy: 0.8343 - auc: 0.9226 - mcc_metric: 0.6618 - precision: 0.7409 - true_negatives: 2749.0000 - true_positives: 1627.0000 - false_negatives: 300.0000 - false_positives: 569.0000 - val_loss: 0.3625 - val_binary_accuracy: 0.8140 - val_auc: 0.9177 - val_mcc_metric: 0.6294 - val_precision: 0.6937 - val_true_negatives: 497.0000 - val_true_positives: 317.0000 - val_false_negatives: 46.0000 - val_false_positives: 140.0000\n",
      "Epoch 22/60\n",
      "164/164 [==============================] - ETA: 0s - loss: 0.3239 - binary_accuracy: 0.8486 - auc: 0.9349 - mcc_metric: 0.6873 - precision: 0.7558 - true_negatives: 2777.0000 - true_positives: 1674.0000 - false_negatives: 253.0000 - false_positives: 541.0000\n",
      "Epoch 00022: val_auc did not improve from 0.91769\n",
      "164/164 [==============================] - 18s 110ms/step - loss: 0.3239 - binary_accuracy: 0.8486 - auc: 0.9349 - mcc_metric: 0.6873 - precision: 0.7558 - true_negatives: 2777.0000 - true_positives: 1674.0000 - false_negatives: 253.0000 - false_positives: 541.0000 - val_loss: 0.3492 - val_binary_accuracy: 0.8370 - val_auc: 0.9172 - val_mcc_metric: 0.6511 - val_precision: 0.7538 - val_true_negatives: 540.0000 - val_true_positives: 297.0000 - val_false_negatives: 66.0000 - val_false_positives: 97.0000\n",
      "Epoch 23/60\n",
      "164/164 [==============================] - ETA: 0s - loss: 0.3018 - binary_accuracy: 0.8652 - auc: 0.9438 - mcc_metric: 0.7236 - precision: 0.7788 - true_negatives: 2834.0000 - true_positives: 1704.0000 - false_negatives: 223.0000 - false_positives: 484.0000\n",
      "Epoch 00023: val_auc did not improve from 0.91769\n",
      "164/164 [==============================] - 17s 105ms/step - loss: 0.3018 - binary_accuracy: 0.8652 - auc: 0.9438 - mcc_metric: 0.7236 - precision: 0.7788 - true_negatives: 2834.0000 - true_positives: 1704.0000 - false_negatives: 223.0000 - false_positives: 484.0000 - val_loss: 0.4089 - val_binary_accuracy: 0.8120 - val_auc: 0.9086 - val_mcc_metric: 0.6241 - val_precision: 0.6984 - val_true_negatives: 504.0000 - val_true_positives: 308.0000 - val_false_negatives: 55.0000 - val_false_positives: 133.0000\n",
      "Epoch 24/60\n",
      "164/164 [==============================] - ETA: 0s - loss: 0.2917 - binary_accuracy: 0.8656 - auc: 0.9476 - mcc_metric: 0.7230 - precision: 0.7787 - true_negatives: 2833.0000 - true_positives: 1707.0000 - false_negatives: 220.0000 - false_positives: 485.0000\n",
      "Epoch 00024: val_auc improved from 0.91769 to 0.92379, saving model to F:/bbb/model/nlp\\model_33.tf\n"
     ]
    },
    {
     "name": "stderr",
     "output_type": "stream",
     "text": [
      "WARNING:absl:Found untraced functions such as lstm_cell_1_layer_call_fn, lstm_cell_1_layer_call_and_return_conditional_losses, lstm_cell_2_layer_call_fn, lstm_cell_2_layer_call_and_return_conditional_losses, lstm_cell_4_layer_call_fn while saving (showing 5 of 30). These functions will not be directly callable after loading.\n"
     ]
    },
    {
     "name": "stdout",
     "output_type": "stream",
     "text": [
      "INFO:tensorflow:Assets written to: F:/bbb/model/nlp\\model_33.tf\\assets\n"
     ]
    },
    {
     "name": "stderr",
     "output_type": "stream",
     "text": [
      "INFO:tensorflow:Assets written to: F:/bbb/model/nlp\\model_33.tf\\assets\n",
      "WARNING:absl:<keras.layers.recurrent.LSTMCell object at 0x0000028A07000D90> has the same name 'LSTMCell' as a built-in Keras object. Consider renaming <class 'keras.layers.recurrent.LSTMCell'> to avoid naming conflicts when loading with `tf.keras.models.load_model`. If renaming is not possible, pass the object in the `custom_objects` parameter of the load function.\n",
      "WARNING:absl:<keras.layers.recurrent.LSTMCell object at 0x0000028A07195880> has the same name 'LSTMCell' as a built-in Keras object. Consider renaming <class 'keras.layers.recurrent.LSTMCell'> to avoid naming conflicts when loading with `tf.keras.models.load_model`. If renaming is not possible, pass the object in the `custom_objects` parameter of the load function.\n",
      "WARNING:absl:<keras.layers.recurrent.LSTMCell object at 0x0000028A076A9610> has the same name 'LSTMCell' as a built-in Keras object. Consider renaming <class 'keras.layers.recurrent.LSTMCell'> to avoid naming conflicts when loading with `tf.keras.models.load_model`. If renaming is not possible, pass the object in the `custom_objects` parameter of the load function.\n",
      "WARNING:absl:<keras.layers.recurrent.LSTMCell object at 0x0000028A074D1940> has the same name 'LSTMCell' as a built-in Keras object. Consider renaming <class 'keras.layers.recurrent.LSTMCell'> to avoid naming conflicts when loading with `tf.keras.models.load_model`. If renaming is not possible, pass the object in the `custom_objects` parameter of the load function.\n",
      "WARNING:absl:<keras.layers.recurrent.LSTMCell object at 0x0000028A073ECB20> has the same name 'LSTMCell' as a built-in Keras object. Consider renaming <class 'keras.layers.recurrent.LSTMCell'> to avoid naming conflicts when loading with `tf.keras.models.load_model`. If renaming is not possible, pass the object in the `custom_objects` parameter of the load function.\n",
      "WARNING:absl:<keras.layers.recurrent.LSTMCell object at 0x0000028A071B6D00> has the same name 'LSTMCell' as a built-in Keras object. Consider renaming <class 'keras.layers.recurrent.LSTMCell'> to avoid naming conflicts when loading with `tf.keras.models.load_model`. If renaming is not possible, pass the object in the `custom_objects` parameter of the load function.\n"
     ]
    },
    {
     "name": "stdout",
     "output_type": "stream",
     "text": [
      "164/164 [==============================] - 45s 277ms/step - loss: 0.2917 - binary_accuracy: 0.8656 - auc: 0.9476 - mcc_metric: 0.7230 - precision: 0.7787 - true_negatives: 2833.0000 - true_positives: 1707.0000 - false_negatives: 220.0000 - false_positives: 485.0000 - val_loss: 0.3309 - val_binary_accuracy: 0.8470 - val_auc: 0.9238 - val_mcc_metric: 0.6767 - val_precision: 0.7869 - val_true_negatives: 559.0000 - val_true_positives: 288.0000 - val_false_negatives: 75.0000 - val_false_positives: 78.0000\n",
      "Epoch 25/60\n",
      "164/164 [==============================] - ETA: 0s - loss: 0.2767 - binary_accuracy: 0.8711 - auc: 0.9524 - mcc_metric: 0.7381 - precision: 0.7826 - true_negatives: 2837.0000 - true_positives: 1732.0000 - false_negatives: 195.0000 - false_positives: 481.0000\n",
      "Epoch 00025: val_auc improved from 0.92379 to 0.92551, saving model to F:/bbb/model/nlp\\model_33.tf\n"
     ]
    },
    {
     "name": "stderr",
     "output_type": "stream",
     "text": [
      "WARNING:absl:Found untraced functions such as lstm_cell_1_layer_call_fn, lstm_cell_1_layer_call_and_return_conditional_losses, lstm_cell_2_layer_call_fn, lstm_cell_2_layer_call_and_return_conditional_losses, lstm_cell_4_layer_call_fn while saving (showing 5 of 30). These functions will not be directly callable after loading.\n"
     ]
    },
    {
     "name": "stdout",
     "output_type": "stream",
     "text": [
      "INFO:tensorflow:Assets written to: F:/bbb/model/nlp\\model_33.tf\\assets\n"
     ]
    },
    {
     "name": "stderr",
     "output_type": "stream",
     "text": [
      "INFO:tensorflow:Assets written to: F:/bbb/model/nlp\\model_33.tf\\assets\n",
      "WARNING:absl:<keras.layers.recurrent.LSTMCell object at 0x0000028A07000D90> has the same name 'LSTMCell' as a built-in Keras object. Consider renaming <class 'keras.layers.recurrent.LSTMCell'> to avoid naming conflicts when loading with `tf.keras.models.load_model`. If renaming is not possible, pass the object in the `custom_objects` parameter of the load function.\n",
      "WARNING:absl:<keras.layers.recurrent.LSTMCell object at 0x0000028A07195880> has the same name 'LSTMCell' as a built-in Keras object. Consider renaming <class 'keras.layers.recurrent.LSTMCell'> to avoid naming conflicts when loading with `tf.keras.models.load_model`. If renaming is not possible, pass the object in the `custom_objects` parameter of the load function.\n",
      "WARNING:absl:<keras.layers.recurrent.LSTMCell object at 0x0000028A076A9610> has the same name 'LSTMCell' as a built-in Keras object. Consider renaming <class 'keras.layers.recurrent.LSTMCell'> to avoid naming conflicts when loading with `tf.keras.models.load_model`. If renaming is not possible, pass the object in the `custom_objects` parameter of the load function.\n",
      "WARNING:absl:<keras.layers.recurrent.LSTMCell object at 0x0000028A074D1940> has the same name 'LSTMCell' as a built-in Keras object. Consider renaming <class 'keras.layers.recurrent.LSTMCell'> to avoid naming conflicts when loading with `tf.keras.models.load_model`. If renaming is not possible, pass the object in the `custom_objects` parameter of the load function.\n",
      "WARNING:absl:<keras.layers.recurrent.LSTMCell object at 0x0000028A073ECB20> has the same name 'LSTMCell' as a built-in Keras object. Consider renaming <class 'keras.layers.recurrent.LSTMCell'> to avoid naming conflicts when loading with `tf.keras.models.load_model`. If renaming is not possible, pass the object in the `custom_objects` parameter of the load function.\n",
      "WARNING:absl:<keras.layers.recurrent.LSTMCell object at 0x0000028A071B6D00> has the same name 'LSTMCell' as a built-in Keras object. Consider renaming <class 'keras.layers.recurrent.LSTMCell'> to avoid naming conflicts when loading with `tf.keras.models.load_model`. If renaming is not possible, pass the object in the `custom_objects` parameter of the load function.\n"
     ]
    },
    {
     "name": "stdout",
     "output_type": "stream",
     "text": [
      "164/164 [==============================] - 48s 291ms/step - loss: 0.2767 - binary_accuracy: 0.8711 - auc: 0.9524 - mcc_metric: 0.7381 - precision: 0.7826 - true_negatives: 2837.0000 - true_positives: 1732.0000 - false_negatives: 195.0000 - false_positives: 481.0000 - val_loss: 0.3399 - val_binary_accuracy: 0.8370 - val_auc: 0.9255 - val_mcc_metric: 0.6662 - val_precision: 0.7439 - val_true_negatives: 532.0000 - val_true_positives: 305.0000 - val_false_negatives: 58.0000 - val_false_positives: 105.0000\n",
      "Epoch 26/60\n",
      "164/164 [==============================] - ETA: 0s - loss: 0.2598 - binary_accuracy: 0.8801 - auc: 0.9584 - mcc_metric: 0.7528 - precision: 0.7980 - true_negatives: 2878.0000 - true_positives: 1738.0000 - false_negatives: 189.0000 - false_positives: 440.0000 ETA: 10s - loss: 0.2376 - binar\n",
      "Epoch 00026: val_auc improved from 0.92551 to 0.92613, saving model to F:/bbb/model/nlp\\model_33.tf\n"
     ]
    },
    {
     "name": "stderr",
     "output_type": "stream",
     "text": [
      "WARNING:absl:Found untraced functions such as lstm_cell_1_layer_call_fn, lstm_cell_1_layer_call_and_return_conditional_losses, lstm_cell_2_layer_call_fn, lstm_cell_2_layer_call_and_return_conditional_losses, lstm_cell_4_layer_call_fn while saving (showing 5 of 30). These functions will not be directly callable after loading.\n"
     ]
    },
    {
     "name": "stdout",
     "output_type": "stream",
     "text": [
      "INFO:tensorflow:Assets written to: F:/bbb/model/nlp\\model_33.tf\\assets\n"
     ]
    },
    {
     "name": "stderr",
     "output_type": "stream",
     "text": [
      "INFO:tensorflow:Assets written to: F:/bbb/model/nlp\\model_33.tf\\assets\n",
      "WARNING:absl:<keras.layers.recurrent.LSTMCell object at 0x0000028A07000D90> has the same name 'LSTMCell' as a built-in Keras object. Consider renaming <class 'keras.layers.recurrent.LSTMCell'> to avoid naming conflicts when loading with `tf.keras.models.load_model`. If renaming is not possible, pass the object in the `custom_objects` parameter of the load function.\n",
      "WARNING:absl:<keras.layers.recurrent.LSTMCell object at 0x0000028A07195880> has the same name 'LSTMCell' as a built-in Keras object. Consider renaming <class 'keras.layers.recurrent.LSTMCell'> to avoid naming conflicts when loading with `tf.keras.models.load_model`. If renaming is not possible, pass the object in the `custom_objects` parameter of the load function.\n",
      "WARNING:absl:<keras.layers.recurrent.LSTMCell object at 0x0000028A076A9610> has the same name 'LSTMCell' as a built-in Keras object. Consider renaming <class 'keras.layers.recurrent.LSTMCell'> to avoid naming conflicts when loading with `tf.keras.models.load_model`. If renaming is not possible, pass the object in the `custom_objects` parameter of the load function.\n",
      "WARNING:absl:<keras.layers.recurrent.LSTMCell object at 0x0000028A074D1940> has the same name 'LSTMCell' as a built-in Keras object. Consider renaming <class 'keras.layers.recurrent.LSTMCell'> to avoid naming conflicts when loading with `tf.keras.models.load_model`. If renaming is not possible, pass the object in the `custom_objects` parameter of the load function.\n",
      "WARNING:absl:<keras.layers.recurrent.LSTMCell object at 0x0000028A073ECB20> has the same name 'LSTMCell' as a built-in Keras object. Consider renaming <class 'keras.layers.recurrent.LSTMCell'> to avoid naming conflicts when loading with `tf.keras.models.load_model`. If renaming is not possible, pass the object in the `custom_objects` parameter of the load function.\n",
      "WARNING:absl:<keras.layers.recurrent.LSTMCell object at 0x0000028A071B6D00> has the same name 'LSTMCell' as a built-in Keras object. Consider renaming <class 'keras.layers.recurrent.LSTMCell'> to avoid naming conflicts when loading with `tf.keras.models.load_model`. If renaming is not possible, pass the object in the `custom_objects` parameter of the load function.\n"
     ]
    },
    {
     "name": "stdout",
     "output_type": "stream",
     "text": [
      "164/164 [==============================] - 47s 285ms/step - loss: 0.2598 - binary_accuracy: 0.8801 - auc: 0.9584 - mcc_metric: 0.7528 - precision: 0.7980 - true_negatives: 2878.0000 - true_positives: 1738.0000 - false_negatives: 189.0000 - false_positives: 440.0000 - val_loss: 0.3652 - val_binary_accuracy: 0.8320 - val_auc: 0.9261 - val_mcc_metric: 0.6661 - val_precision: 0.7181 - val_true_negatives: 511.0000 - val_true_positives: 321.0000 - val_false_negatives: 42.0000 - val_false_positives: 126.0000\n",
      "Epoch 27/60\n",
      "164/164 [==============================] - ETA: 0s - loss: 0.2502 - binary_accuracy: 0.8812 - auc: 0.9613 - mcc_metric: 0.7618 - precision: 0.7860 - true_negatives: 2830.0000 - true_positives: 1792.0000 - false_negatives: 135.0000 - false_positives: 488.0000\n",
      "Epoch 00027: val_auc did not improve from 0.92613\n",
      "164/164 [==============================] - 18s 109ms/step - loss: 0.2502 - binary_accuracy: 0.8812 - auc: 0.9613 - mcc_metric: 0.7618 - precision: 0.7860 - true_negatives: 2830.0000 - true_positives: 1792.0000 - false_negatives: 135.0000 - false_positives: 488.0000 - val_loss: 0.3867 - val_binary_accuracy: 0.8350 - val_auc: 0.9223 - val_mcc_metric: 0.6691 - val_precision: 0.7271 - val_true_negatives: 518.0000 - val_true_positives: 317.0000 - val_false_negatives: 46.0000 - val_false_positives: 119.0000\n",
      "Epoch 28/60\n",
      "164/164 [==============================] - ETA: 0s - loss: 0.2448 - binary_accuracy: 0.8934 - auc: 0.9633 - mcc_metric: 0.7775 - precision: 0.8167 - true_negatives: 2922.0000 - true_positives: 1764.0000 - false_negatives: 163.0000 - false_positives: 396.0000\n",
      "Epoch 00028: val_auc did not improve from 0.92613\n",
      "164/164 [==============================] - 17s 104ms/step - loss: 0.2448 - binary_accuracy: 0.8934 - auc: 0.9633 - mcc_metric: 0.7775 - precision: 0.8167 - true_negatives: 2922.0000 - true_positives: 1764.0000 - false_negatives: 163.0000 - false_positives: 396.0000 - val_loss: 0.3763 - val_binary_accuracy: 0.8360 - val_auc: 0.9261 - val_mcc_metric: 0.6671 - val_precision: 0.7309 - val_true_negatives: 521.0000 - val_true_positives: 315.0000 - val_false_negatives: 48.0000 - val_false_positives: 116.0000\n",
      "Epoch 29/60\n",
      "164/164 [==============================] - ETA: 0s - loss: 0.2119 - binary_accuracy: 0.9037 - auc: 0.9724 - mcc_metric: 0.8020 - precision: 0.8332 - true_negatives: 2962.0000 - true_positives: 1778.0000 - false_negatives: 149.0000 - false_positives: 356.0000\n",
      "Epoch 00029: val_auc improved from 0.92613 to 0.93585, saving model to F:/bbb/model/nlp\\model_33.tf\n"
     ]
    },
    {
     "name": "stderr",
     "output_type": "stream",
     "text": [
      "WARNING:absl:Found untraced functions such as lstm_cell_1_layer_call_fn, lstm_cell_1_layer_call_and_return_conditional_losses, lstm_cell_2_layer_call_fn, lstm_cell_2_layer_call_and_return_conditional_losses, lstm_cell_4_layer_call_fn while saving (showing 5 of 30). These functions will not be directly callable after loading.\n"
     ]
    },
    {
     "name": "stdout",
     "output_type": "stream",
     "text": [
      "INFO:tensorflow:Assets written to: F:/bbb/model/nlp\\model_33.tf\\assets\n"
     ]
    },
    {
     "name": "stderr",
     "output_type": "stream",
     "text": [
      "INFO:tensorflow:Assets written to: F:/bbb/model/nlp\\model_33.tf\\assets\n",
      "WARNING:absl:<keras.layers.recurrent.LSTMCell object at 0x0000028A07000D90> has the same name 'LSTMCell' as a built-in Keras object. Consider renaming <class 'keras.layers.recurrent.LSTMCell'> to avoid naming conflicts when loading with `tf.keras.models.load_model`. If renaming is not possible, pass the object in the `custom_objects` parameter of the load function.\n",
      "WARNING:absl:<keras.layers.recurrent.LSTMCell object at 0x0000028A07195880> has the same name 'LSTMCell' as a built-in Keras object. Consider renaming <class 'keras.layers.recurrent.LSTMCell'> to avoid naming conflicts when loading with `tf.keras.models.load_model`. If renaming is not possible, pass the object in the `custom_objects` parameter of the load function.\n",
      "WARNING:absl:<keras.layers.recurrent.LSTMCell object at 0x0000028A076A9610> has the same name 'LSTMCell' as a built-in Keras object. Consider renaming <class 'keras.layers.recurrent.LSTMCell'> to avoid naming conflicts when loading with `tf.keras.models.load_model`. If renaming is not possible, pass the object in the `custom_objects` parameter of the load function.\n",
      "WARNING:absl:<keras.layers.recurrent.LSTMCell object at 0x0000028A074D1940> has the same name 'LSTMCell' as a built-in Keras object. Consider renaming <class 'keras.layers.recurrent.LSTMCell'> to avoid naming conflicts when loading with `tf.keras.models.load_model`. If renaming is not possible, pass the object in the `custom_objects` parameter of the load function.\n",
      "WARNING:absl:<keras.layers.recurrent.LSTMCell object at 0x0000028A073ECB20> has the same name 'LSTMCell' as a built-in Keras object. Consider renaming <class 'keras.layers.recurrent.LSTMCell'> to avoid naming conflicts when loading with `tf.keras.models.load_model`. If renaming is not possible, pass the object in the `custom_objects` parameter of the load function.\n",
      "WARNING:absl:<keras.layers.recurrent.LSTMCell object at 0x0000028A071B6D00> has the same name 'LSTMCell' as a built-in Keras object. Consider renaming <class 'keras.layers.recurrent.LSTMCell'> to avoid naming conflicts when loading with `tf.keras.models.load_model`. If renaming is not possible, pass the object in the `custom_objects` parameter of the load function.\n"
     ]
    },
    {
     "name": "stdout",
     "output_type": "stream",
     "text": [
      "164/164 [==============================] - 43s 265ms/step - loss: 0.2119 - binary_accuracy: 0.9037 - auc: 0.9724 - mcc_metric: 0.8020 - precision: 0.8332 - true_negatives: 2962.0000 - true_positives: 1778.0000 - false_negatives: 149.0000 - false_positives: 356.0000 - val_loss: 0.3578 - val_binary_accuracy: 0.8370 - val_auc: 0.9359 - val_mcc_metric: 0.6761 - val_precision: 0.7304 - val_true_negatives: 520.0000 - val_true_positives: 317.0000 - val_false_negatives: 46.0000 - val_false_positives: 117.0000\n",
      "Epoch 30/60\n",
      "164/164 [==============================] - ETA: 0s - loss: 0.1969 - binary_accuracy: 0.9153 - auc: 0.9759 - mcc_metric: 0.8239 - precision: 0.8506 - true_negatives: 3002.0000 - true_positives: 1799.0000 - false_negatives: 128.0000 - false_positives: 316.0000\n",
      "Epoch 00030: val_auc did not improve from 0.93585\n",
      "164/164 [==============================] - 17s 106ms/step - loss: 0.1969 - binary_accuracy: 0.9153 - auc: 0.9759 - mcc_metric: 0.8239 - precision: 0.8506 - true_negatives: 3002.0000 - true_positives: 1799.0000 - false_negatives: 128.0000 - false_positives: 316.0000 - val_loss: 0.3489 - val_binary_accuracy: 0.8480 - val_auc: 0.9335 - val_mcc_metric: 0.6895 - val_precision: 0.7530 - val_true_negatives: 534.0000 - val_true_positives: 314.0000 - val_false_negatives: 49.0000 - val_false_positives: 103.0000\n",
      "Epoch 31/60\n",
      "164/164 [==============================] - ETA: 0s - loss: 0.1858 - binary_accuracy: 0.9161 - auc: 0.9784 - mcc_metric: 0.8239 - precision: 0.8509 - true_negatives: 3002.0000 - true_positives: 1803.0000 - false_negatives: 124.0000 - false_positives: 316.0000\n",
      "Epoch 00031: val_auc did not improve from 0.93585\n",
      "164/164 [==============================] - 17s 106ms/step - loss: 0.1858 - binary_accuracy: 0.9161 - auc: 0.9784 - mcc_metric: 0.8239 - precision: 0.8509 - true_negatives: 3002.0000 - true_positives: 1803.0000 - false_negatives: 124.0000 - false_positives: 316.0000 - val_loss: 0.4230 - val_binary_accuracy: 0.8320 - val_auc: 0.9226 - val_mcc_metric: 0.6637 - val_precision: 0.7252 - val_true_negatives: 518.0000 - val_true_positives: 314.0000 - val_false_negatives: 49.0000 - val_false_positives: 119.0000\n",
      "Epoch 32/60\n",
      "164/164 [==============================] - ETA: 0s - loss: 0.1901 - binary_accuracy: 0.9171 - auc: 0.9776 - mcc_metric: 0.8271 - precision: 0.8489 - true_negatives: 2995.0000 - true_positives: 1815.0000 - false_negatives: 112.0000 - false_positives: 323.0000\n",
      "Epoch 00032: val_auc did not improve from 0.93585\n",
      "164/164 [==============================] - 17s 106ms/step - loss: 0.1901 - binary_accuracy: 0.9171 - auc: 0.9776 - mcc_metric: 0.8271 - precision: 0.8489 - true_negatives: 2995.0000 - true_positives: 1815.0000 - false_negatives: 112.0000 - false_positives: 323.0000 - val_loss: 0.3626 - val_binary_accuracy: 0.8560 - val_auc: 0.9206 - val_mcc_metric: 0.6870 - val_precision: 0.7936 - val_true_negatives: 560.0000 - val_true_positives: 296.0000 - val_false_negatives: 67.0000 - val_false_positives: 77.0000\n",
      "Epoch 33/60\n",
      "164/164 [==============================] - ETA: 0s - loss: 0.1635 - binary_accuracy: 0.9281 - auc: 0.9835 - mcc_metric: 0.8494 - precision: 0.8708 - true_negatives: 3048.0000 - true_positives: 1820.0000 - false_negatives: 107.0000 - false_positives: 270.0000\n",
      "Epoch 00033: val_auc did not improve from 0.93585\n",
      "164/164 [==============================] - 17s 105ms/step - loss: 0.1635 - binary_accuracy: 0.9281 - auc: 0.9835 - mcc_metric: 0.8494 - precision: 0.8708 - true_negatives: 3048.0000 - true_positives: 1820.0000 - false_negatives: 107.0000 - false_positives: 270.0000 - val_loss: 0.4264 - val_binary_accuracy: 0.8480 - val_auc: 0.9152 - val_mcc_metric: 0.6869 - val_precision: 0.7644 - val_true_negatives: 543.0000 - val_true_positives: 305.0000 - val_false_negatives: 58.0000 - val_false_positives: 94.0000\n",
      "Epoch 34/60\n",
      "164/164 [==============================] - ETA: 0s - loss: 0.1626 - binary_accuracy: 0.9304 - auc: 0.9828 - mcc_metric: 0.8542 - precision: 0.8712 - true_negatives: 3047.0000 - true_positives: 1833.0000 - false_negatives: 94.0000 - false_positives: 271.0000\n",
      "Epoch 00034: val_auc did not improve from 0.93585\n",
      "164/164 [==============================] - 17s 105ms/step - loss: 0.1626 - binary_accuracy: 0.9304 - auc: 0.9828 - mcc_metric: 0.8542 - precision: 0.8712 - true_negatives: 3047.0000 - true_positives: 1833.0000 - false_negatives: 94.0000 - false_positives: 271.0000 - val_loss: 0.4038 - val_binary_accuracy: 0.8540 - val_auc: 0.9228 - val_mcc_metric: 0.6996 - val_precision: 0.7761 - val_true_negatives: 549.0000 - val_true_positives: 305.0000 - val_false_negatives: 58.0000 - val_false_positives: 88.0000\n",
      "Epoch 35/60\n",
      "164/164 [==============================] - ETA: 0s - loss: 0.1347 - binary_accuracy: 0.9451 - auc: 0.9884 - mcc_metric: 0.8860 - precision: 0.8934 - true_negatives: 3096.0000 - true_positives: 1861.0000 - false_negatives: 66.0000 - false_positives: 222.0000\n",
      "Epoch 00035: val_auc did not improve from 0.93585\n",
      "164/164 [==============================] - 17s 105ms/step - loss: 0.1347 - binary_accuracy: 0.9451 - auc: 0.9884 - mcc_metric: 0.8860 - precision: 0.8934 - true_negatives: 3096.0000 - true_positives: 1861.0000 - false_negatives: 66.0000 - false_positives: 222.0000 - val_loss: 0.4328 - val_binary_accuracy: 0.8460 - val_auc: 0.9247 - val_mcc_metric: 0.6805 - val_precision: 0.7686 - val_true_negatives: 547.0000 - val_true_positives: 299.0000 - val_false_negatives: 64.0000 - val_false_positives: 90.0000\n",
      "Epoch 36/60\n",
      "164/164 [==============================] - ETA: 0s - loss: 0.1285 - binary_accuracy: 0.9436 - auc: 0.9890 - mcc_metric: 0.8817 - precision: 0.8930 - true_negatives: 3096.0000 - true_positives: 1853.0000 - false_negatives: 74.0000 - false_positives: 222.0000\n",
      "Epoch 00036: val_auc did not improve from 0.93585\n",
      "164/164 [==============================] - 17s 106ms/step - loss: 0.1285 - binary_accuracy: 0.9436 - auc: 0.9890 - mcc_metric: 0.8817 - precision: 0.8930 - true_negatives: 3096.0000 - true_positives: 1853.0000 - false_negatives: 74.0000 - false_positives: 222.0000 - val_loss: 0.4805 - val_binary_accuracy: 0.8540 - val_auc: 0.9152 - val_mcc_metric: 0.6945 - val_precision: 0.7833 - val_true_negatives: 554.0000 - val_true_positives: 300.0000 - val_false_negatives: 63.0000 - val_false_positives: 83.0000\n",
      "Epoch 37/60\n",
      "164/164 [==============================] - ETA: 0s - loss: 0.1323 - binary_accuracy: 0.9468 - auc: 0.9886 - mcc_metric: 0.8886 - precision: 0.8973 - true_negatives: 3105.0000 - true_positives: 1861.0000 - false_negatives: 66.0000 - false_positives: 213.0000\n",
      "Epoch 00037: val_auc did not improve from 0.93585\n",
      "164/164 [==============================] - 17s 106ms/step - loss: 0.1323 - binary_accuracy: 0.9468 - auc: 0.9886 - mcc_metric: 0.8886 - precision: 0.8973 - true_negatives: 3105.0000 - true_positives: 1861.0000 - false_negatives: 66.0000 - false_positives: 213.0000 - val_loss: 0.5120 - val_binary_accuracy: 0.8490 - val_auc: 0.9098 - val_mcc_metric: 0.6804 - val_precision: 0.7834 - val_true_negatives: 556.0000 - val_true_positives: 293.0000 - val_false_negatives: 70.0000 - val_false_positives: 81.0000\n",
      "Epoch 38/60\n",
      "164/164 [==============================] - ETA: 0s - loss: 0.1283 - binary_accuracy: 0.9439 - auc: 0.9897 - mcc_metric: 0.8820 - precision: 0.8943 - true_negatives: 3099.0000 - true_positives: 1852.0000 - false_negatives: 75.0000 - false_positives: 219.0000\n",
      "Epoch 00038: val_auc did not improve from 0.93585\n",
      "164/164 [==============================] - 17s 106ms/step - loss: 0.1283 - binary_accuracy: 0.9439 - auc: 0.9897 - mcc_metric: 0.8820 - precision: 0.8943 - true_negatives: 3099.0000 - true_positives: 1852.0000 - false_negatives: 75.0000 - false_positives: 219.0000 - val_loss: 0.4290 - val_binary_accuracy: 0.8520 - val_auc: 0.9215 - val_mcc_metric: 0.6950 - val_precision: 0.7603 - val_true_negatives: 538.0000 - val_true_positives: 314.0000 - val_false_negatives: 49.0000 - val_false_positives: 99.0000\n",
      "Epoch 39/60\n",
      "164/164 [==============================] - ETA: 0s - loss: 0.1200 - binary_accuracy: 0.9480 - auc: 0.9902 - mcc_metric: 0.8904 - precision: 0.8976 - true_negatives: 3105.0000 - true_positives: 1867.0000 - false_negatives: 60.0000 - false_positives: 213.0000\n",
      "Epoch 00039: val_auc did not improve from 0.93585\n",
      "164/164 [==============================] - 17s 106ms/step - loss: 0.1200 - binary_accuracy: 0.9480 - auc: 0.9902 - mcc_metric: 0.8904 - precision: 0.8976 - true_negatives: 3105.0000 - true_positives: 1867.0000 - false_negatives: 60.0000 - false_positives: 213.0000 - val_loss: 0.4660 - val_binary_accuracy: 0.8410 - val_auc: 0.9155 - val_mcc_metric: 0.6682 - val_precision: 0.7629 - val_true_negatives: 545.0000 - val_true_positives: 296.0000 - val_false_negatives: 67.0000 - val_false_positives: 92.0000\n",
      "Epoch 40/60\n",
      "164/164 [==============================] - ETA: 0s - loss: 0.1196 - binary_accuracy: 0.9518 - auc: 0.9902 - mcc_metric: 0.8980 - precision: 0.9099 - true_negatives: 3134.0000 - true_positives: 1858.0000 - false_negatives: 69.0000 - false_positives: 184.0000\n",
      "Epoch 00040: val_auc did not improve from 0.93585\n",
      "164/164 [==============================] - 17s 106ms/step - loss: 0.1196 - binary_accuracy: 0.9518 - auc: 0.9902 - mcc_metric: 0.8980 - precision: 0.9099 - true_negatives: 3134.0000 - true_positives: 1858.0000 - false_negatives: 69.0000 - false_positives: 184.0000 - val_loss: 0.5170 - val_binary_accuracy: 0.8560 - val_auc: 0.9118 - val_mcc_metric: 0.6970 - val_precision: 0.7859 - val_true_negatives: 555.0000 - val_true_positives: 301.0000 - val_false_negatives: 62.0000 - val_false_positives: 82.0000\n",
      "Epoch 41/60\n",
      "164/164 [==============================] - ETA: 0s - loss: 0.1096 - binary_accuracy: 0.9548 - auc: 0.9921 - mcc_metric: 0.9058 - precision: 0.9102 - true_negatives: 3133.0000 - true_positives: 1875.0000 - false_negatives: 52.0000 - false_positives: 185.0000\n",
      "Epoch 00041: val_auc did not improve from 0.93585\n",
      "164/164 [==============================] - 17s 106ms/step - loss: 0.1096 - binary_accuracy: 0.9548 - auc: 0.9921 - mcc_metric: 0.9058 - precision: 0.9102 - true_negatives: 3133.0000 - true_positives: 1875.0000 - false_negatives: 52.0000 - false_positives: 185.0000 - val_loss: 0.5469 - val_binary_accuracy: 0.8440 - val_auc: 0.9092 - val_mcc_metric: 0.6781 - val_precision: 0.7518 - val_true_negatives: 535.0000 - val_true_positives: 309.0000 - val_false_negatives: 54.0000 - val_false_positives: 102.0000\n",
      "Epoch 42/60\n",
      "164/164 [==============================] - ETA: 0s - loss: 0.1180 - binary_accuracy: 0.9521 - auc: 0.9908 - mcc_metric: 0.8991 - precision: 0.9104 - true_negatives: 3135.0000 - true_positives: 1859.0000 - false_negatives: 68.0000 - false_positives: 183.0000\n",
      "Epoch 00042: val_auc did not improve from 0.93585\n",
      "164/164 [==============================] - 18s 107ms/step - loss: 0.1180 - binary_accuracy: 0.9521 - auc: 0.9908 - mcc_metric: 0.8991 - precision: 0.9104 - true_negatives: 3135.0000 - true_positives: 1859.0000 - false_negatives: 68.0000 - false_positives: 183.0000 - val_loss: 0.4902 - val_binary_accuracy: 0.8560 - val_auc: 0.9136 - val_mcc_metric: 0.7020 - val_precision: 0.7744 - val_true_negatives: 547.0000 - val_true_positives: 309.0000 - val_false_negatives: 54.0000 - val_false_positives: 90.0000\n",
      "Epoch 43/60\n",
      "164/164 [==============================] - ETA: 0s - loss: 0.1070 - binary_accuracy: 0.9539 - auc: 0.9921 - mcc_metric: 0.9035 - precision: 0.9096 - true_negatives: 3132.0000 - true_positives: 1871.0000 - false_negatives: 56.0000 - false_positives: 186.0000\n",
      "Epoch 00043: val_auc did not improve from 0.93585\n",
      "164/164 [==============================] - 17s 106ms/step - loss: 0.1070 - binary_accuracy: 0.9539 - auc: 0.9921 - mcc_metric: 0.9035 - precision: 0.9096 - true_negatives: 3132.0000 - true_positives: 1871.0000 - false_negatives: 56.0000 - false_positives: 186.0000 - val_loss: 0.5363 - val_binary_accuracy: 0.8360 - val_auc: 0.9099 - val_mcc_metric: 0.6686 - val_precision: 0.7319 - val_true_negatives: 522.0000 - val_true_positives: 314.0000 - val_false_negatives: 49.0000 - val_false_positives: 115.0000\n",
      "Epoch 44/60\n",
      "164/164 [==============================] - ETA: 0s - loss: 0.0874 - binary_accuracy: 0.9638 - auc: 0.9944 - mcc_metric: 0.9230 - precision: 0.9280 - true_negatives: 3172.0000 - true_positives: 1883.0000 - false_negatives: 44.0000 - false_positives: 146.0000\n",
      "Epoch 00044: val_auc did not improve from 0.93585\n",
      "164/164 [==============================] - 17s 106ms/step - loss: 0.0874 - binary_accuracy: 0.9638 - auc: 0.9944 - mcc_metric: 0.9230 - precision: 0.9280 - true_negatives: 3172.0000 - true_positives: 1883.0000 - false_negatives: 44.0000 - false_positives: 146.0000 - val_loss: 0.6893 - val_binary_accuracy: 0.8500 - val_auc: 0.8931 - val_mcc_metric: 0.6860 - val_precision: 0.7683 - val_true_negatives: 545.0000 - val_true_positives: 305.0000 - val_false_negatives: 58.0000 - val_false_positives: 92.0000\n",
      "Epoch 45/60\n",
      "164/164 [==============================] - ETA: 0s - loss: 0.1023 - binary_accuracy: 0.9548 - auc: 0.9928 - mcc_metric: 0.9059 - precision: 0.9134 - true_negatives: 3141.0000 - true_positives: 1867.0000 - false_negatives: 60.0000 - false_positives: 177.0000\n",
      "Epoch 00045: val_auc did not improve from 0.93585\n",
      "164/164 [==============================] - 17s 106ms/step - loss: 0.1023 - binary_accuracy: 0.9548 - auc: 0.9928 - mcc_metric: 0.9059 - precision: 0.9134 - true_negatives: 3141.0000 - true_positives: 1867.0000 - false_negatives: 60.0000 - false_positives: 177.0000 - val_loss: 0.5430 - val_binary_accuracy: 0.8440 - val_auc: 0.9146 - val_mcc_metric: 0.6875 - val_precision: 0.7390 - val_true_negatives: 524.0000 - val_true_positives: 320.0000 - val_false_negatives: 43.0000 - val_false_positives: 113.0000\n",
      "Epoch 46/60\n",
      "164/164 [==============================] - ETA: 0s - loss: 0.0957 - binary_accuracy: 0.9584 - auc: 0.9937 - mcc_metric: 0.9125 - precision: 0.9154 - true_negatives: 3144.0000 - true_positives: 1883.0000 - false_negatives: 44.0000 - false_positives: 174.0000\n",
      "Epoch 00046: val_auc did not improve from 0.93585\n",
      "164/164 [==============================] - 17s 106ms/step - loss: 0.0957 - binary_accuracy: 0.9584 - auc: 0.9937 - mcc_metric: 0.9125 - precision: 0.9154 - true_negatives: 3144.0000 - true_positives: 1883.0000 - false_negatives: 44.0000 - false_positives: 174.0000 - val_loss: 0.6711 - val_binary_accuracy: 0.8440 - val_auc: 0.9036 - val_mcc_metric: 0.6779 - val_precision: 0.7607 - val_true_negatives: 542.0000 - val_true_positives: 302.0000 - val_false_negatives: 61.0000 - val_false_positives: 95.0000\n",
      "Epoch 47/60\n",
      "164/164 [==============================] - ETA: 0s - loss: 0.0924 - binary_accuracy: 0.9603 - auc: 0.9942 - mcc_metric: 0.9167 - precision: 0.9182 - true_negatives: 3150.0000 - true_positives: 1887.0000 - false_negatives: 40.0000 - false_positives: 168.0000\n",
      "Epoch 00047: val_auc did not improve from 0.93585\n",
      "164/164 [==============================] - 17s 106ms/step - loss: 0.0924 - binary_accuracy: 0.9603 - auc: 0.9942 - mcc_metric: 0.9167 - precision: 0.9182 - true_negatives: 3150.0000 - true_positives: 1887.0000 - false_negatives: 40.0000 - false_positives: 168.0000 - val_loss: 0.5871 - val_binary_accuracy: 0.8510 - val_auc: 0.9080 - val_mcc_metric: 0.6893 - val_precision: 0.7635 - val_true_negatives: 541.0000 - val_true_positives: 310.0000 - val_false_negatives: 53.0000 - val_false_positives: 96.0000\n",
      "Epoch 48/60\n",
      "164/164 [==============================] - ETA: 0s - loss: 0.1123 - binary_accuracy: 0.9560 - auc: 0.9911 - mcc_metric: 0.9070 - precision: 0.9137 - true_negatives: 3141.0000 - true_positives: 1873.0000 - false_negatives: 54.0000 - false_positives: 177.0000\n",
      "Epoch 00048: val_auc did not improve from 0.93585\n",
      "164/164 [==============================] - 17s 106ms/step - loss: 0.1123 - binary_accuracy: 0.9560 - auc: 0.9911 - mcc_metric: 0.9070 - precision: 0.9137 - true_negatives: 3141.0000 - true_positives: 1873.0000 - false_negatives: 54.0000 - false_positives: 177.0000 - val_loss: 0.5692 - val_binary_accuracy: 0.8440 - val_auc: 0.9066 - val_mcc_metric: 0.6633 - val_precision: 0.7647 - val_true_negatives: 545.0000 - val_true_positives: 299.0000 - val_false_negatives: 64.0000 - val_false_positives: 92.0000\n",
      "Epoch 49/60\n",
      "164/164 [==============================] - ETA: 0s - loss: 0.0883 - binary_accuracy: 0.9611 - auc: 0.9944 - mcc_metric: 0.9189 - precision: 0.9192 - true_negatives: 3152.0000 - true_positives: 1889.0000 - false_negatives: 38.0000 - false_positives: 166.0000\n",
      "Epoch 00049: val_auc did not improve from 0.93585\n",
      "164/164 [==============================] - 17s 106ms/step - loss: 0.0883 - binary_accuracy: 0.9611 - auc: 0.9944 - mcc_metric: 0.9189 - precision: 0.9192 - true_negatives: 3152.0000 - true_positives: 1889.0000 - false_negatives: 38.0000 - false_positives: 166.0000 - val_loss: 0.5129 - val_binary_accuracy: 0.8620 - val_auc: 0.9150 - val_mcc_metric: 0.6877 - val_precision: 0.8223 - val_true_negatives: 575.0000 - val_true_positives: 287.0000 - val_false_negatives: 76.0000 - val_false_positives: 62.0000\n",
      "Epoch 50/60\n",
      "164/164 [==============================] - ETA: 0s - loss: 0.1046 - binary_accuracy: 0.9581 - auc: 0.9927 - mcc_metric: 0.9125 - precision: 0.9211 - true_negatives: 3158.0000 - true_positives: 1867.0000 - false_negatives: 60.0000 - false_positives: 160.0000\n",
      "Epoch 00050: val_auc did not improve from 0.93585\n",
      "164/164 [==============================] - 17s 106ms/step - loss: 0.1046 - binary_accuracy: 0.9581 - auc: 0.9927 - mcc_metric: 0.9125 - precision: 0.9211 - true_negatives: 3158.0000 - true_positives: 1867.0000 - false_negatives: 60.0000 - false_positives: 160.0000 - val_loss: 0.5399 - val_binary_accuracy: 0.8320 - val_auc: 0.9106 - val_mcc_metric: 0.6377 - val_precision: 0.7456 - val_true_negatives: 536.0000 - val_true_positives: 296.0000 - val_false_negatives: 67.0000 - val_false_positives: 101.0000\n",
      "Epoch 51/60\n",
      "164/164 [==============================] - ETA: 0s - loss: 0.1145 - binary_accuracy: 0.9556 - auc: 0.9912 - mcc_metric: 0.9053 - precision: 0.9222 - true_negatives: 3162.0000 - true_positives: 1850.0000 - false_negatives: 77.0000 - false_positives: 156.0000\n",
      "Epoch 00051: val_auc did not improve from 0.93585\n",
      "164/164 [==============================] - 17s 106ms/step - loss: 0.1145 - binary_accuracy: 0.9556 - auc: 0.9912 - mcc_metric: 0.9053 - precision: 0.9222 - true_negatives: 3162.0000 - true_positives: 1850.0000 - false_negatives: 77.0000 - false_positives: 156.0000 - val_loss: 0.5302 - val_binary_accuracy: 0.8430 - val_auc: 0.9150 - val_mcc_metric: 0.6709 - val_precision: 0.7575 - val_true_negatives: 540.0000 - val_true_positives: 303.0000 - val_false_negatives: 60.0000 - val_false_positives: 97.0000\n",
      "Epoch 52/60\n",
      "164/164 [==============================] - ETA: 0s - loss: 0.0884 - binary_accuracy: 0.9630 - auc: 0.9945 - mcc_metric: 0.9215 - precision: 0.9271 - true_negatives: 3170.0000 - true_positives: 1881.0000 - false_negatives: 46.0000 - false_positives: 148.0000\n",
      "Epoch 00052: val_auc did not improve from 0.93585\n",
      "164/164 [==============================] - 17s 107ms/step - loss: 0.0884 - binary_accuracy: 0.9630 - auc: 0.9945 - mcc_metric: 0.9215 - precision: 0.9271 - true_negatives: 3170.0000 - true_positives: 1881.0000 - false_negatives: 46.0000 - false_positives: 148.0000 - val_loss: 0.4842 - val_binary_accuracy: 0.8500 - val_auc: 0.9141 - val_mcc_metric: 0.6840 - val_precision: 0.7683 - val_true_negatives: 545.0000 - val_true_positives: 305.0000 - val_false_negatives: 58.0000 - val_false_positives: 92.0000\n",
      "Epoch 53/60\n",
      "164/164 [==============================] - ETA: 0s - loss: 0.0707 - binary_accuracy: 0.9661 - auc: 0.9964 - mcc_metric: 0.9280 - precision: 0.9319 - true_negatives: 3180.0000 - true_positives: 1887.0000 - false_negatives: 40.0000 - false_positives: 138.0000\n",
      "Epoch 00053: val_auc did not improve from 0.93585\n",
      "164/164 [==============================] - 17s 106ms/step - loss: 0.0707 - binary_accuracy: 0.9661 - auc: 0.9964 - mcc_metric: 0.9280 - precision: 0.9319 - true_negatives: 3180.0000 - true_positives: 1887.0000 - false_negatives: 40.0000 - false_positives: 138.0000 - val_loss: 0.6082 - val_binary_accuracy: 0.8610 - val_auc: 0.9078 - val_mcc_metric: 0.7121 - val_precision: 0.7800 - val_true_negatives: 549.0000 - val_true_positives: 312.0000 - val_false_negatives: 51.0000 - val_false_positives: 88.0000\n",
      "Epoch 54/60\n",
      "164/164 [==============================] - ETA: 0s - loss: 0.0621 - binary_accuracy: 0.9708 - auc: 0.9974 - mcc_metric: 0.9388 - precision: 0.9391 - true_negatives: 3195.0000 - true_positives: 1897.0000 - false_negatives: 30.0000 - false_positives: 123.0000\n",
      "Epoch 00054: val_auc did not improve from 0.93585\n",
      "164/164 [==============================] - 18s 107ms/step - loss: 0.0621 - binary_accuracy: 0.9708 - auc: 0.9974 - mcc_metric: 0.9388 - precision: 0.9391 - true_negatives: 3195.0000 - true_positives: 1897.0000 - false_negatives: 30.0000 - false_positives: 123.0000 - val_loss: 0.6677 - val_binary_accuracy: 0.8520 - val_auc: 0.8994 - val_mcc_metric: 0.6854 - val_precision: 0.7867 - val_true_negatives: 557.0000 - val_true_positives: 295.0000 - val_false_negatives: 68.0000 - val_false_positives: 80.0000\n",
      "Epoch 55/60\n",
      "164/164 [==============================] - ETA: 0s - loss: 0.0606 - binary_accuracy: 0.9714 - auc: 0.9971 - mcc_metric: 0.9399 - precision: 0.9409 - true_negatives: 3199.0000 - true_positives: 1896.0000 - false_negatives: 31.0000 - false_positives: 119.0000\n",
      "Epoch 00055: val_auc did not improve from 0.93585\n",
      "164/164 [==============================] - 18s 107ms/step - loss: 0.0606 - binary_accuracy: 0.9714 - auc: 0.9971 - mcc_metric: 0.9399 - precision: 0.9409 - true_negatives: 3199.0000 - true_positives: 1896.0000 - false_negatives: 31.0000 - false_positives: 119.0000 - val_loss: 0.7307 - val_binary_accuracy: 0.8520 - val_auc: 0.8935 - val_mcc_metric: 0.6844 - val_precision: 0.7882 - val_true_negatives: 558.0000 - val_true_positives: 294.0000 - val_false_negatives: 69.0000 - val_false_positives: 79.0000\n",
      "Epoch 56/60\n",
      "164/164 [==============================] - ETA: 0s - loss: 0.0802 - binary_accuracy: 0.9617 - auc: 0.9956 - mcc_metric: 0.9197 - precision: 0.9235 - true_negatives: 3162.0000 - true_positives: 1882.0000 - false_negatives: 45.0000 - false_positives: 156.0000\n",
      "Epoch 00056: val_auc did not improve from 0.93585\n",
      "164/164 [==============================] - 18s 108ms/step - loss: 0.0802 - binary_accuracy: 0.9617 - auc: 0.9956 - mcc_metric: 0.9197 - precision: 0.9235 - true_negatives: 3162.0000 - true_positives: 1882.0000 - false_negatives: 45.0000 - false_positives: 156.0000 - val_loss: 0.5710 - val_binary_accuracy: 0.8440 - val_auc: 0.9092 - val_mcc_metric: 0.6697 - val_precision: 0.7634 - val_true_negatives: 544.0000 - val_true_positives: 300.0000 - val_false_negatives: 63.0000 - val_false_positives: 93.0000\n",
      "Epoch 57/60\n",
      "164/164 [==============================] - ETA: 0s - loss: 0.0967 - binary_accuracy: 0.9592 - auc: 0.9936 - mcc_metric: 0.9165 - precision: 0.9180 - true_negatives: 3150.0000 - true_positives: 1881.0000 - false_negatives: 46.0000 - false_positives: 168.0000\n",
      "Epoch 00057: val_auc did not improve from 0.93585\n",
      "164/164 [==============================] - 18s 107ms/step - loss: 0.0967 - binary_accuracy: 0.9592 - auc: 0.9936 - mcc_metric: 0.9165 - precision: 0.9180 - true_negatives: 3150.0000 - true_positives: 1881.0000 - false_negatives: 46.0000 - false_positives: 168.0000 - val_loss: 0.6463 - val_binary_accuracy: 0.8540 - val_auc: 0.9020 - val_mcc_metric: 0.6810 - val_precision: 0.7878 - val_true_negatives: 557.0000 - val_true_positives: 297.0000 - val_false_negatives: 66.0000 - val_false_positives: 80.0000\n",
      "Epoch 58/60\n",
      "164/164 [==============================] - ETA: 0s - loss: 0.0669 - binary_accuracy: 0.9680 - auc: 0.9967 - mcc_metric: 0.9310 - precision: 0.9335 - true_negatives: 3183.0000 - true_positives: 1894.0000 - false_negatives: 33.0000 - false_positives: 135.0000\n",
      "Epoch 00058: val_auc did not improve from 0.93585\n",
      "164/164 [==============================] - 18s 107ms/step - loss: 0.0669 - binary_accuracy: 0.9680 - auc: 0.9967 - mcc_metric: 0.9310 - precision: 0.9335 - true_negatives: 3183.0000 - true_positives: 1894.0000 - false_negatives: 33.0000 - false_positives: 135.0000 - val_loss: 0.8291 - val_binary_accuracy: 0.8550 - val_auc: 0.8944 - val_mcc_metric: 0.6943 - val_precision: 0.7839 - val_true_negatives: 554.0000 - val_true_positives: 301.0000 - val_false_negatives: 62.0000 - val_false_positives: 83.0000\n",
      "Epoch 59/60\n",
      "164/164 [==============================] - ETA: 0s - loss: 0.0938 - binary_accuracy: 0.9626 - auc: 0.9933 - mcc_metric: 0.9226 - precision: 0.9232 - true_negatives: 3161.0000 - true_positives: 1888.0000 - false_negatives: 39.0000 - false_positives: 157.0000\n",
      "Epoch 00059: val_auc did not improve from 0.93585\n",
      "164/164 [==============================] - 18s 107ms/step - loss: 0.0938 - binary_accuracy: 0.9626 - auc: 0.9933 - mcc_metric: 0.9226 - precision: 0.9232 - true_negatives: 3161.0000 - true_positives: 1888.0000 - false_negatives: 39.0000 - false_positives: 157.0000 - val_loss: 0.5992 - val_binary_accuracy: 0.8560 - val_auc: 0.8996 - val_mcc_metric: 0.6887 - val_precision: 0.7829 - val_true_negatives: 553.0000 - val_true_positives: 303.0000 - val_false_negatives: 60.0000 - val_false_positives: 84.0000\n",
      "Epoch 60/60\n",
      "164/164 [==============================] - ETA: 0s - loss: 0.0660 - binary_accuracy: 0.9710 - auc: 0.9969 - mcc_metric: 0.9395 - precision: 0.9396 - true_negatives: 3196.0000 - true_positives: 1897.0000 - false_negatives: 30.0000 - false_positives: 122.0000\n",
      "Epoch 00060: val_auc did not improve from 0.93585\n",
      "164/164 [==============================] - 18s 107ms/step - loss: 0.0660 - binary_accuracy: 0.9710 - auc: 0.9969 - mcc_metric: 0.9395 - precision: 0.9396 - true_negatives: 3196.0000 - true_positives: 1897.0000 - false_negatives: 30.0000 - false_positives: 122.0000 - val_loss: 0.6200 - val_binary_accuracy: 0.8640 - val_auc: 0.9050 - val_mcc_metric: 0.7173 - val_precision: 0.7845 - val_true_negatives: 551.0000 - val_true_positives: 313.0000 - val_false_negatives: 50.0000 - val_false_positives: 86.0000\n"
     ]
    },
    {
     "data": {
      "text/plain": [
       "<keras.callbacks.History at 0x28a224c71f0>"
      ]
     },
     "execution_count": 15,
     "metadata": {},
     "output_type": "execute_result"
    }
   ],
   "source": [
    "def save(i):\n",
    "    return 'F:/bbb/model/nlp/model_'+str(i)+'.tf'\n",
    "\n",
    "checkpoint = tf.keras.callbacks.ModelCheckpoint(save(33), \n",
    "                monitor='val_auc', verbose=1, \n",
    "                save_best_only=True, save_weights_only = False, mode='max')\n",
    "callbacks_list = [checkpoint]\n",
    "\n",
    "model.compile(optimizer = tf.keras.optimizers.Adam(learning_rate = 0.001) ,loss = BinaryCrossentropy(), metrics = [binary_accuracy, AUC(), mcc_metric \n",
    "                    ,Precision(),TrueNegatives(), TruePositives(), FalseNegatives(), FalsePositives()])\n",
    "model.fit(x = np.array(xtrain), y = np.array(ytrain), validation_data = (np.array(xvalid), np.array(yvalid)), epochs=60, batch_size = 32, \n",
    "              callbacks = callbacks_list, class_weight = class_weights)\n"
   ]
  },
  {
   "cell_type": "code",
   "execution_count": 16,
   "metadata": {},
   "outputs": [
    {
     "name": "stdout",
     "output_type": "stream",
     "text": [
      "49/49 [==============================] - 2s 40ms/step - loss: 0.4086 - binary_accuracy: 0.8284 - auc: 0.9175 - mcc_metric: 0.6441 - precision: 0.7183 - true_negatives: 812.0000 - true_positives: 482.0000 - false_negatives: 79.0000 - false_positives: 189.0000\n"
     ]
    },
    {
     "data": {
      "text/plain": [
       "[0.4085613787174225,\n",
       " 0.8284251093864441,\n",
       " 0.917498767375946,\n",
       " 0.6441357731819153,\n",
       " 0.7183308601379395,\n",
       " 812.0,\n",
       " 482.0,\n",
       " 79.0,\n",
       " 189.0]"
      ]
     },
     "execution_count": 16,
     "metadata": {},
     "output_type": "execute_result"
    }
   ],
   "source": [
    "model.load_weights(save(33))\n",
    "model.evaluate(np.array(xtest), np.array(ytest))"
   ]
  },
  {
   "cell_type": "code",
   "execution_count": 17,
   "metadata": {},
   "outputs": [
    {
     "name": "stdout",
     "output_type": "stream",
     "text": [
      "32/32 [==============================] - 1s 38ms/step - loss: 0.3578 - binary_accuracy: 0.8370 - auc: 0.9359 - mcc_metric: 0.6761 - precision: 0.7304 - true_negatives: 520.0000 - true_positives: 317.0000 - false_negatives: 46.0000 - false_positives: 117.0000\n"
     ]
    },
    {
     "data": {
      "text/plain": [
       "[0.3578473627567291,\n",
       " 0.8370000123977661,\n",
       " 0.93585205078125,\n",
       " 0.6760877966880798,\n",
       " 0.7304147481918335,\n",
       " 520.0,\n",
       " 317.0,\n",
       " 46.0,\n",
       " 117.0]"
      ]
     },
     "execution_count": 17,
     "metadata": {},
     "output_type": "execute_result"
    }
   ],
   "source": [
    "model.evaluate(np.array(xvalid), np.array(yvalid))"
   ]
  },
  {
   "cell_type": "code",
   "execution_count": 18,
   "metadata": {},
   "outputs": [
    {
     "data": {
      "text/plain": [
       "'2.7.0'"
      ]
     },
     "execution_count": 18,
     "metadata": {},
     "output_type": "execute_result"
    }
   ],
   "source": [
    "tf.__version__"
   ]
  }
 ],
 "metadata": {
  "interpreter": {
   "hash": "579282893146967bc5d17141c601e8a8b8ad4a0a2a5a6fe1c87b1000077400d7"
  },
  "kernelspec": {
   "display_name": "Python 3.8.8 64-bit ('base': conda)",
   "language": "python",
   "name": "python3"
  },
  "language_info": {
   "codemirror_mode": {
    "name": "ipython",
    "version": 3
   },
   "file_extension": ".py",
   "mimetype": "text/x-python",
   "name": "python",
   "nbconvert_exporter": "python",
   "pygments_lexer": "ipython3",
   "version": "3.8.8"
  },
  "orig_nbformat": 4
 },
 "nbformat": 4,
 "nbformat_minor": 2
}
