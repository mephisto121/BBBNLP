{
 "cells": [
  {
   "cell_type": "code",
   "execution_count": 1,
   "metadata": {},
   "outputs": [
    {
     "name": "stdout",
     "output_type": "stream",
     "text": [
      "Thu Feb 17 14:59:28 2022       \n",
      "+-----------------------------------------------------------------------------+\n",
      "| NVIDIA-SMI 462.30       Driver Version: 462.30       CUDA Version: 11.2     |\n",
      "|-------------------------------+----------------------+----------------------+\n",
      "| GPU  Name            TCC/WDDM | Bus-Id        Disp.A | Volatile Uncorr. ECC |\n",
      "| Fan  Temp  Perf  Pwr:Usage/Cap|         Memory-Usage | GPU-Util  Compute M. |\n",
      "|                               |                      |               MIG M. |\n",
      "|===============================+======================+======================|\n",
      "|   0  GeForce GTX 165... WDDM  | 00000000:01:00.0 Off |                  N/A |\n",
      "| N/A   47C    P8     2W /  N/A |    134MiB /  4096MiB |      0%      Default |\n",
      "|                               |                      |                  N/A |\n",
      "+-------------------------------+----------------------+----------------------+\n",
      "                                                                               \n",
      "+-----------------------------------------------------------------------------+\n",
      "| Processes:                                                                  |\n",
      "|  GPU   GI   CI        PID   Type   Process name                  GPU Memory |\n",
      "|        ID   ID                                                   Usage      |\n",
      "|=============================================================================|\n",
      "|  No running processes found                                                 |\n",
      "+-----------------------------------------------------------------------------+\n"
     ]
    }
   ],
   "source": [
    "!nvidia-smi"
   ]
  },
  {
   "cell_type": "code",
   "execution_count": 2,
   "metadata": {},
   "outputs": [],
   "source": [
    "import pandas as pd\n",
    "import numpy as np\n",
    "import tensorflow as tf\n",
    "from tensorflow.keras.layers import  Dense, Bidirectional, LSTM, Dropout,Input, Embedding\n",
    "from tensorflow.keras.losses import BinaryCrossentropy\n",
    "from tensorflow.keras.models import Model \n",
    "from tensorflow.keras.metrics import Precision, AUC, binary_accuracy, TrueNegatives, TruePositives, FalseNegatives, FalsePositives\n",
    "from helper_functions import mcc_metric\n",
    "from sklearn.model_selection import train_test_split\n",
    "from sklearn.preprocessing import LabelEncoder\n",
    "from sklearn.utils import class_weight\n",
    "from transformers import AutoTokenizer"
   ]
  },
  {
   "cell_type": "code",
   "execution_count": 3,
   "metadata": {},
   "outputs": [
    {
     "data": {
      "text/html": [
       "<div>\n",
       "<style scoped>\n",
       "    .dataframe tbody tr th:only-of-type {\n",
       "        vertical-align: middle;\n",
       "    }\n",
       "\n",
       "    .dataframe tbody tr th {\n",
       "        vertical-align: top;\n",
       "    }\n",
       "\n",
       "    .dataframe thead th {\n",
       "        text-align: right;\n",
       "    }\n",
       "</style>\n",
       "<table border=\"1\" class=\"dataframe\">\n",
       "  <thead>\n",
       "    <tr style=\"text-align: right;\">\n",
       "      <th></th>\n",
       "      <th>NO.</th>\n",
       "      <th>compound_name</th>\n",
       "      <th>IUPAC_name</th>\n",
       "      <th>SMILES</th>\n",
       "      <th>CID</th>\n",
       "      <th>logBB</th>\n",
       "      <th>BBB+/BBB-</th>\n",
       "      <th>Inchi</th>\n",
       "      <th>threshold</th>\n",
       "      <th>reference</th>\n",
       "      <th>group</th>\n",
       "      <th>comments</th>\n",
       "    </tr>\n",
       "  </thead>\n",
       "  <tbody>\n",
       "    <tr>\n",
       "      <th>0</th>\n",
       "      <td>1</td>\n",
       "      <td>sulphasalazine</td>\n",
       "      <td>2-hydroxy-5-[[4-(pyridin-2-ylsulfamoyl)phenyl]...</td>\n",
       "      <td>O=C(O)c1cc(N=Nc2ccc(S(=O)(=O)Nc3ccccn3)cc2)ccc1O</td>\n",
       "      <td>5339.0</td>\n",
       "      <td>-2.69</td>\n",
       "      <td>BBB-</td>\n",
       "      <td>InChI=1S/C18H14N4O5S/c23-16-9-6-13(11-15(16)18...</td>\n",
       "      <td>NaN</td>\n",
       "      <td>R2|R2|R25|R46|</td>\n",
       "      <td>A</td>\n",
       "      <td>NaN</td>\n",
       "    </tr>\n",
       "  </tbody>\n",
       "</table>\n",
       "</div>"
      ],
      "text/plain": [
       "   NO.   compound_name                                         IUPAC_name  \\\n",
       "0    1  sulphasalazine  2-hydroxy-5-[[4-(pyridin-2-ylsulfamoyl)phenyl]...   \n",
       "\n",
       "                                             SMILES     CID  logBB BBB+/BBB-  \\\n",
       "0  O=C(O)c1cc(N=Nc2ccc(S(=O)(=O)Nc3ccccn3)cc2)ccc1O  5339.0  -2.69      BBB-   \n",
       "\n",
       "                                               Inchi  threshold  \\\n",
       "0  InChI=1S/C18H14N4O5S/c23-16-9-6-13(11-15(16)18...        NaN   \n",
       "\n",
       "        reference group comments  \n",
       "0  R2|R2|R25|R46|     A      NaN  "
      ]
     },
     "execution_count": 3,
     "metadata": {},
     "output_type": "execute_result"
    }
   ],
   "source": [
    "data = pd.read_table('F:/bbb/data/B3DB/B3DB_classification.tsv')\n",
    "data.head(1)"
   ]
  },
  {
   "cell_type": "code",
   "execution_count": 4,
   "metadata": {},
   "outputs": [],
   "source": [
    "data_new = data.dropna(subset=['IUPAC_name'])\n",
    "X = data_new['IUPAC_name']\n",
    "target=data_new['BBB+/BBB-'].values.tolist()\n",
    "label_encoder = LabelEncoder()\n",
    "y_classification = label_encoder.fit_transform(target)"
   ]
  },
  {
   "cell_type": "code",
   "execution_count": 5,
   "metadata": {},
   "outputs": [],
   "source": [
    "tokenizer = AutoTokenizer.from_pretrained('gumgo91/IUPAC_BERT', from_pt = True)"
   ]
  },
  {
   "cell_type": "code",
   "execution_count": 6,
   "metadata": {},
   "outputs": [],
   "source": [
    "iupac_data = tokenizer(list(X),  truncation=True, padding=True, max_length=256)\n",
    "iupac_data = iupac_data['input_ids']"
   ]
  },
  {
   "cell_type": "code",
   "execution_count": 7,
   "metadata": {},
   "outputs": [],
   "source": [
    "from sklearn.model_selection import train_test_split\n",
    "xtrain, xtest, ytrain, ytest = train_test_split(iupac_data, y_classification, test_size = 0.2, random_state = 42)\n",
    "xtrain, xvalid, ytrain, yvalid = train_test_split(xtrain, ytrain, test_size = 0.16, random_state = 42)"
   ]
  },
  {
   "cell_type": "code",
   "execution_count": 8,
   "metadata": {},
   "outputs": [
    {
     "data": {
      "text/plain": [
       "6170"
      ]
     },
     "execution_count": 8,
     "metadata": {},
     "output_type": "execute_result"
    }
   ],
   "source": [
    "len(y_classification)"
   ]
  },
  {
   "cell_type": "code",
   "execution_count": 9,
   "metadata": {},
   "outputs": [
    {
     "data": {
      "text/plain": [
       "(array([0, 1], dtype=int64), array([3992, 2178], dtype=int64))"
      ]
     },
     "execution_count": 9,
     "metadata": {},
     "output_type": "execute_result"
    }
   ],
   "source": [
    "np.unique(y_classification, return_counts=True)"
   ]
  },
  {
   "cell_type": "code",
   "execution_count": 10,
   "metadata": {},
   "outputs": [
    {
     "name": "stderr",
     "output_type": "stream",
     "text": [
      "F:\\anaconda\\lib\\site-packages\\sklearn\\utils\\validation.py:70: FutureWarning: Pass classes=[0 1], y=[0 0 0 ... 1 1 0] as keyword args. From version 1.0 (renaming of 0.25) passing these as positional arguments will result in an error\n",
      "  warnings.warn(f\"Pass {args_msg} as keyword args. From version \"\n"
     ]
    }
   ],
   "source": [
    "class_weights = class_weight.compute_class_weight(\n",
    "           'balanced',\n",
    "            np.unique(ytrain), \n",
    "            ytrain)"
   ]
  },
  {
   "cell_type": "code",
   "execution_count": 11,
   "metadata": {},
   "outputs": [
    {
     "data": {
      "text/plain": [
       "1500"
      ]
     },
     "execution_count": 11,
     "metadata": {},
     "output_type": "execute_result"
    }
   ],
   "source": [
    "word_in_vocab = tokenizer.vocab\n",
    "len(word_in_vocab)"
   ]
  },
  {
   "cell_type": "code",
   "execution_count": 12,
   "metadata": {},
   "outputs": [
    {
     "data": {
      "text/plain": [
       "(256,)"
      ]
     },
     "execution_count": 12,
     "metadata": {},
     "output_type": "execute_result"
    }
   ],
   "source": [
    "np.array(xtrain[0]).shape"
   ]
  },
  {
   "cell_type": "code",
   "execution_count": 13,
   "metadata": {},
   "outputs": [],
   "source": [
    "input = Input(shape = (256,))\n",
    "\n",
    "x = Embedding(input_dim=len(word_in_vocab),\n",
    "                        output_dim=256, \n",
    "                        input_length=None,\n",
    "                        )(input)\n",
    "x = Bidirectional(LSTM(128, return_sequences=True,name = 'lstm1'))(x)\n",
    "x = Bidirectional(LSTM(128, return_sequences=True,name = 'lstm1'))(x)\n",
    "x = Dropout(0.2)(x)\n",
    "x = Bidirectional(LSTM(128, return_sequences=False,name = 'lstm1'))(x)\n",
    "x = Dropout(0.2)(x)\n",
    "\n",
    "x = Dense(256, activation = 'relu')(x)\n",
    "x = Dense(10, activation = 'relu')(x)\n",
    "output = Dense(1, activation = \"sigmoid\")(x)\n",
    "model = Model(inputs = input, outputs = output)\n"
   ]
  },
  {
   "cell_type": "code",
   "execution_count": 14,
   "metadata": {},
   "outputs": [
    {
     "data": {
      "text/plain": [
       "array([0.77582335, 1.4063772 ])"
      ]
     },
     "execution_count": 14,
     "metadata": {},
     "output_type": "execute_result"
    }
   ],
   "source": [
    "class_weights"
   ]
  },
  {
   "cell_type": "code",
   "execution_count": 15,
   "metadata": {},
   "outputs": [
    {
     "name": "stdout",
     "output_type": "stream",
     "text": [
      "Epoch 1/60\n",
      "130/130 [==============================] - ETA: 0s - loss: 0.6441 - binary_accuracy: 0.6889 - auc: 0.6745 - mcc_metric: nan - precision: 0.5970 - true_negatives: 2290.0000 - true_positives: 566.0000 - false_negatives: 908.0000 - false_positives: 382.0000\n",
      "Epoch 00001: val_auc improved from -inf to 0.75479, saving model to F:/bbb/model/nlp\\model_34iupac.tf\n"
     ]
    },
    {
     "name": "stderr",
     "output_type": "stream",
     "text": [
      "WARNING:absl:Found untraced functions such as lstm_cell_1_layer_call_fn, lstm_cell_1_layer_call_and_return_conditional_losses, lstm_cell_2_layer_call_fn, lstm_cell_2_layer_call_and_return_conditional_losses, lstm_cell_4_layer_call_fn while saving (showing 5 of 30). These functions will not be directly callable after loading.\n"
     ]
    },
    {
     "name": "stdout",
     "output_type": "stream",
     "text": [
      "INFO:tensorflow:Assets written to: F:/bbb/model/nlp\\model_34iupac.tf\\assets\n"
     ]
    },
    {
     "name": "stderr",
     "output_type": "stream",
     "text": [
      "INFO:tensorflow:Assets written to: F:/bbb/model/nlp\\model_34iupac.tf\\assets\n",
      "WARNING:absl:<keras.layers.recurrent.LSTMCell object at 0x0000025404AAC0D0> has the same name 'LSTMCell' as a built-in Keras object. Consider renaming <class 'keras.layers.recurrent.LSTMCell'> to avoid naming conflicts when loading with `tf.keras.models.load_model`. If renaming is not possible, pass the object in the `custom_objects` parameter of the load function.\n",
      "WARNING:absl:<keras.layers.recurrent.LSTMCell object at 0x0000025404AACA60> has the same name 'LSTMCell' as a built-in Keras object. Consider renaming <class 'keras.layers.recurrent.LSTMCell'> to avoid naming conflicts when loading with `tf.keras.models.load_model`. If renaming is not possible, pass the object in the `custom_objects` parameter of the load function.\n",
      "WARNING:absl:<keras.layers.recurrent.LSTMCell object at 0x00000254047EAF40> has the same name 'LSTMCell' as a built-in Keras object. Consider renaming <class 'keras.layers.recurrent.LSTMCell'> to avoid naming conflicts when loading with `tf.keras.models.load_model`. If renaming is not possible, pass the object in the `custom_objects` parameter of the load function.\n",
      "WARNING:absl:<keras.layers.recurrent.LSTMCell object at 0x000002540482FAC0> has the same name 'LSTMCell' as a built-in Keras object. Consider renaming <class 'keras.layers.recurrent.LSTMCell'> to avoid naming conflicts when loading with `tf.keras.models.load_model`. If renaming is not possible, pass the object in the `custom_objects` parameter of the load function.\n",
      "WARNING:absl:<keras.layers.recurrent.LSTMCell object at 0x000002540487FCA0> has the same name 'LSTMCell' as a built-in Keras object. Consider renaming <class 'keras.layers.recurrent.LSTMCell'> to avoid naming conflicts when loading with `tf.keras.models.load_model`. If renaming is not possible, pass the object in the `custom_objects` parameter of the load function.\n",
      "WARNING:absl:<keras.layers.recurrent.LSTMCell object at 0x0000025404903E80> has the same name 'LSTMCell' as a built-in Keras object. Consider renaming <class 'keras.layers.recurrent.LSTMCell'> to avoid naming conflicts when loading with `tf.keras.models.load_model`. If renaming is not possible, pass the object in the `custom_objects` parameter of the load function.\n"
     ]
    },
    {
     "name": "stdout",
     "output_type": "stream",
     "text": [
      "130/130 [==============================] - 51s 325ms/step - loss: 0.6441 - binary_accuracy: 0.6889 - auc: 0.6745 - mcc_metric: nan - precision: 0.5970 - true_negatives: 2290.0000 - true_positives: 566.0000 - false_negatives: 908.0000 - false_positives: 382.0000 - val_loss: 0.5517 - val_binary_accuracy: 0.7747 - val_auc: 0.7548 - val_mcc_metric: 0.4864 - val_precision: 0.6923 - val_true_negatives: 450.0000 - val_true_positives: 162.0000 - val_false_negatives: 106.0000 - val_false_positives: 72.0000\n",
      "Epoch 2/60\n",
      "130/130 [==============================] - ETA: 0s - loss: 0.5135 - binary_accuracy: 0.7877 - auc: 0.8110 - mcc_metric: 0.5298 - precision: 0.7407 - true_negatives: 2352.0000 - true_positives: 914.0000 - false_negatives: 560.0000 - false_positives: 320.0000\n",
      "Epoch 00002: val_auc improved from 0.75479 to 0.85685, saving model to F:/bbb/model/nlp\\model_34iupac.tf\n"
     ]
    },
    {
     "name": "stderr",
     "output_type": "stream",
     "text": [
      "WARNING:absl:Found untraced functions such as lstm_cell_1_layer_call_fn, lstm_cell_1_layer_call_and_return_conditional_losses, lstm_cell_2_layer_call_fn, lstm_cell_2_layer_call_and_return_conditional_losses, lstm_cell_4_layer_call_fn while saving (showing 5 of 30). These functions will not be directly callable after loading.\n"
     ]
    },
    {
     "name": "stdout",
     "output_type": "stream",
     "text": [
      "INFO:tensorflow:Assets written to: F:/bbb/model/nlp\\model_34iupac.tf\\assets\n"
     ]
    },
    {
     "name": "stderr",
     "output_type": "stream",
     "text": [
      "INFO:tensorflow:Assets written to: F:/bbb/model/nlp\\model_34iupac.tf\\assets\n",
      "WARNING:absl:<keras.layers.recurrent.LSTMCell object at 0x0000025404AAC0D0> has the same name 'LSTMCell' as a built-in Keras object. Consider renaming <class 'keras.layers.recurrent.LSTMCell'> to avoid naming conflicts when loading with `tf.keras.models.load_model`. If renaming is not possible, pass the object in the `custom_objects` parameter of the load function.\n",
      "WARNING:absl:<keras.layers.recurrent.LSTMCell object at 0x0000025404AACA60> has the same name 'LSTMCell' as a built-in Keras object. Consider renaming <class 'keras.layers.recurrent.LSTMCell'> to avoid naming conflicts when loading with `tf.keras.models.load_model`. If renaming is not possible, pass the object in the `custom_objects` parameter of the load function.\n",
      "WARNING:absl:<keras.layers.recurrent.LSTMCell object at 0x00000254047EAF40> has the same name 'LSTMCell' as a built-in Keras object. Consider renaming <class 'keras.layers.recurrent.LSTMCell'> to avoid naming conflicts when loading with `tf.keras.models.load_model`. If renaming is not possible, pass the object in the `custom_objects` parameter of the load function.\n",
      "WARNING:absl:<keras.layers.recurrent.LSTMCell object at 0x000002540482FAC0> has the same name 'LSTMCell' as a built-in Keras object. Consider renaming <class 'keras.layers.recurrent.LSTMCell'> to avoid naming conflicts when loading with `tf.keras.models.load_model`. If renaming is not possible, pass the object in the `custom_objects` parameter of the load function.\n",
      "WARNING:absl:<keras.layers.recurrent.LSTMCell object at 0x000002540487FCA0> has the same name 'LSTMCell' as a built-in Keras object. Consider renaming <class 'keras.layers.recurrent.LSTMCell'> to avoid naming conflicts when loading with `tf.keras.models.load_model`. If renaming is not possible, pass the object in the `custom_objects` parameter of the load function.\n",
      "WARNING:absl:<keras.layers.recurrent.LSTMCell object at 0x0000025404903E80> has the same name 'LSTMCell' as a built-in Keras object. Consider renaming <class 'keras.layers.recurrent.LSTMCell'> to avoid naming conflicts when loading with `tf.keras.models.load_model`. If renaming is not possible, pass the object in the `custom_objects` parameter of the load function.\n"
     ]
    },
    {
     "name": "stdout",
     "output_type": "stream",
     "text": [
      "130/130 [==============================] - 40s 311ms/step - loss: 0.5135 - binary_accuracy: 0.7877 - auc: 0.8110 - mcc_metric: 0.5298 - precision: 0.7407 - true_negatives: 2352.0000 - true_positives: 914.0000 - false_negatives: 560.0000 - false_positives: 320.0000 - val_loss: 0.4427 - val_binary_accuracy: 0.8076 - val_auc: 0.8568 - val_mcc_metric: 0.5542 - val_precision: 0.7636 - val_true_negatives: 470.0000 - val_true_positives: 168.0000 - val_false_negatives: 100.0000 - val_false_positives: 52.0000\n",
      "Epoch 3/60\n",
      "130/130 [==============================] - ETA: 0s - loss: 0.4267 - binary_accuracy: 0.8218 - auc: 0.8843 - mcc_metric: 0.6221 - precision: 0.7379 - true_negatives: 2267.0000 - true_positives: 1140.0000 - false_negatives: 334.0000 - false_positives: 405.0000\n",
      "Epoch 00003: val_auc improved from 0.85685 to 0.89178, saving model to F:/bbb/model/nlp\\model_34iupac.tf\n"
     ]
    },
    {
     "name": "stderr",
     "output_type": "stream",
     "text": [
      "WARNING:absl:Found untraced functions such as lstm_cell_1_layer_call_fn, lstm_cell_1_layer_call_and_return_conditional_losses, lstm_cell_2_layer_call_fn, lstm_cell_2_layer_call_and_return_conditional_losses, lstm_cell_4_layer_call_fn while saving (showing 5 of 30). These functions will not be directly callable after loading.\n"
     ]
    },
    {
     "name": "stdout",
     "output_type": "stream",
     "text": [
      "INFO:tensorflow:Assets written to: F:/bbb/model/nlp\\model_34iupac.tf\\assets\n"
     ]
    },
    {
     "name": "stderr",
     "output_type": "stream",
     "text": [
      "INFO:tensorflow:Assets written to: F:/bbb/model/nlp\\model_34iupac.tf\\assets\n",
      "WARNING:absl:<keras.layers.recurrent.LSTMCell object at 0x0000025404AAC0D0> has the same name 'LSTMCell' as a built-in Keras object. Consider renaming <class 'keras.layers.recurrent.LSTMCell'> to avoid naming conflicts when loading with `tf.keras.models.load_model`. If renaming is not possible, pass the object in the `custom_objects` parameter of the load function.\n",
      "WARNING:absl:<keras.layers.recurrent.LSTMCell object at 0x0000025404AACA60> has the same name 'LSTMCell' as a built-in Keras object. Consider renaming <class 'keras.layers.recurrent.LSTMCell'> to avoid naming conflicts when loading with `tf.keras.models.load_model`. If renaming is not possible, pass the object in the `custom_objects` parameter of the load function.\n",
      "WARNING:absl:<keras.layers.recurrent.LSTMCell object at 0x00000254047EAF40> has the same name 'LSTMCell' as a built-in Keras object. Consider renaming <class 'keras.layers.recurrent.LSTMCell'> to avoid naming conflicts when loading with `tf.keras.models.load_model`. If renaming is not possible, pass the object in the `custom_objects` parameter of the load function.\n",
      "WARNING:absl:<keras.layers.recurrent.LSTMCell object at 0x000002540482FAC0> has the same name 'LSTMCell' as a built-in Keras object. Consider renaming <class 'keras.layers.recurrent.LSTMCell'> to avoid naming conflicts when loading with `tf.keras.models.load_model`. If renaming is not possible, pass the object in the `custom_objects` parameter of the load function.\n",
      "WARNING:absl:<keras.layers.recurrent.LSTMCell object at 0x000002540487FCA0> has the same name 'LSTMCell' as a built-in Keras object. Consider renaming <class 'keras.layers.recurrent.LSTMCell'> to avoid naming conflicts when loading with `tf.keras.models.load_model`. If renaming is not possible, pass the object in the `custom_objects` parameter of the load function.\n",
      "WARNING:absl:<keras.layers.recurrent.LSTMCell object at 0x0000025404903E80> has the same name 'LSTMCell' as a built-in Keras object. Consider renaming <class 'keras.layers.recurrent.LSTMCell'> to avoid naming conflicts when loading with `tf.keras.models.load_model`. If renaming is not possible, pass the object in the `custom_objects` parameter of the load function.\n"
     ]
    },
    {
     "name": "stdout",
     "output_type": "stream",
     "text": [
      "130/130 [==============================] - 40s 310ms/step - loss: 0.4267 - binary_accuracy: 0.8218 - auc: 0.8843 - mcc_metric: 0.6221 - precision: 0.7379 - true_negatives: 2267.0000 - true_positives: 1140.0000 - false_negatives: 334.0000 - false_positives: 405.0000 - val_loss: 0.4156 - val_binary_accuracy: 0.8266 - val_auc: 0.8918 - val_mcc_metric: 0.6251 - val_precision: 0.7266 - val_true_negatives: 443.0000 - val_true_positives: 210.0000 - val_false_negatives: 58.0000 - val_false_positives: 79.0000\n",
      "Epoch 4/60\n",
      "130/130 [==============================] - ETA: 0s - loss: 0.3725 - binary_accuracy: 0.8442 - auc: 0.9147 - mcc_metric: 0.6693 - precision: 0.7594 - true_negatives: 2288.0000 - true_positives: 1212.0000 - false_negatives: 262.0000 - false_positives: 384.0000\n",
      "Epoch 00004: val_auc improved from 0.89178 to 0.90010, saving model to F:/bbb/model/nlp\\model_34iupac.tf\n"
     ]
    },
    {
     "name": "stderr",
     "output_type": "stream",
     "text": [
      "WARNING:absl:Found untraced functions such as lstm_cell_1_layer_call_fn, lstm_cell_1_layer_call_and_return_conditional_losses, lstm_cell_2_layer_call_fn, lstm_cell_2_layer_call_and_return_conditional_losses, lstm_cell_4_layer_call_fn while saving (showing 5 of 30). These functions will not be directly callable after loading.\n"
     ]
    },
    {
     "name": "stdout",
     "output_type": "stream",
     "text": [
      "INFO:tensorflow:Assets written to: F:/bbb/model/nlp\\model_34iupac.tf\\assets\n"
     ]
    },
    {
     "name": "stderr",
     "output_type": "stream",
     "text": [
      "INFO:tensorflow:Assets written to: F:/bbb/model/nlp\\model_34iupac.tf\\assets\n",
      "WARNING:absl:<keras.layers.recurrent.LSTMCell object at 0x0000025404AAC0D0> has the same name 'LSTMCell' as a built-in Keras object. Consider renaming <class 'keras.layers.recurrent.LSTMCell'> to avoid naming conflicts when loading with `tf.keras.models.load_model`. If renaming is not possible, pass the object in the `custom_objects` parameter of the load function.\n",
      "WARNING:absl:<keras.layers.recurrent.LSTMCell object at 0x0000025404AACA60> has the same name 'LSTMCell' as a built-in Keras object. Consider renaming <class 'keras.layers.recurrent.LSTMCell'> to avoid naming conflicts when loading with `tf.keras.models.load_model`. If renaming is not possible, pass the object in the `custom_objects` parameter of the load function.\n",
      "WARNING:absl:<keras.layers.recurrent.LSTMCell object at 0x00000254047EAF40> has the same name 'LSTMCell' as a built-in Keras object. Consider renaming <class 'keras.layers.recurrent.LSTMCell'> to avoid naming conflicts when loading with `tf.keras.models.load_model`. If renaming is not possible, pass the object in the `custom_objects` parameter of the load function.\n",
      "WARNING:absl:<keras.layers.recurrent.LSTMCell object at 0x000002540482FAC0> has the same name 'LSTMCell' as a built-in Keras object. Consider renaming <class 'keras.layers.recurrent.LSTMCell'> to avoid naming conflicts when loading with `tf.keras.models.load_model`. If renaming is not possible, pass the object in the `custom_objects` parameter of the load function.\n",
      "WARNING:absl:<keras.layers.recurrent.LSTMCell object at 0x000002540487FCA0> has the same name 'LSTMCell' as a built-in Keras object. Consider renaming <class 'keras.layers.recurrent.LSTMCell'> to avoid naming conflicts when loading with `tf.keras.models.load_model`. If renaming is not possible, pass the object in the `custom_objects` parameter of the load function.\n",
      "WARNING:absl:<keras.layers.recurrent.LSTMCell object at 0x0000025404903E80> has the same name 'LSTMCell' as a built-in Keras object. Consider renaming <class 'keras.layers.recurrent.LSTMCell'> to avoid naming conflicts when loading with `tf.keras.models.load_model`. If renaming is not possible, pass the object in the `custom_objects` parameter of the load function.\n"
     ]
    },
    {
     "name": "stdout",
     "output_type": "stream",
     "text": [
      "130/130 [==============================] - 40s 313ms/step - loss: 0.3725 - binary_accuracy: 0.8442 - auc: 0.9147 - mcc_metric: 0.6693 - precision: 0.7594 - true_negatives: 2288.0000 - true_positives: 1212.0000 - false_negatives: 262.0000 - false_positives: 384.0000 - val_loss: 0.3906 - val_binary_accuracy: 0.8253 - val_auc: 0.9001 - val_mcc_metric: 0.6259 - val_precision: 0.7152 - val_true_negatives: 436.0000 - val_true_positives: 216.0000 - val_false_negatives: 52.0000 - val_false_positives: 86.0000\n",
      "Epoch 5/60\n",
      "130/130 [==============================] - ETA: 0s - loss: 0.3294 - binary_accuracy: 0.8630 - auc: 0.9333 - mcc_metric: 0.7119 - precision: 0.7755 - true_negatives: 2303.0000 - true_positives: 1275.0000 - false_negatives: 199.0000 - false_positives: 369.0000\n",
      "Epoch 00005: val_auc improved from 0.90010 to 0.90024, saving model to F:/bbb/model/nlp\\model_34iupac.tf\n"
     ]
    },
    {
     "name": "stderr",
     "output_type": "stream",
     "text": [
      "WARNING:absl:Found untraced functions such as lstm_cell_1_layer_call_fn, lstm_cell_1_layer_call_and_return_conditional_losses, lstm_cell_2_layer_call_fn, lstm_cell_2_layer_call_and_return_conditional_losses, lstm_cell_4_layer_call_fn while saving (showing 5 of 30). These functions will not be directly callable after loading.\n"
     ]
    },
    {
     "name": "stdout",
     "output_type": "stream",
     "text": [
      "INFO:tensorflow:Assets written to: F:/bbb/model/nlp\\model_34iupac.tf\\assets\n"
     ]
    },
    {
     "name": "stderr",
     "output_type": "stream",
     "text": [
      "INFO:tensorflow:Assets written to: F:/bbb/model/nlp\\model_34iupac.tf\\assets\n",
      "WARNING:absl:<keras.layers.recurrent.LSTMCell object at 0x0000025404AAC0D0> has the same name 'LSTMCell' as a built-in Keras object. Consider renaming <class 'keras.layers.recurrent.LSTMCell'> to avoid naming conflicts when loading with `tf.keras.models.load_model`. If renaming is not possible, pass the object in the `custom_objects` parameter of the load function.\n",
      "WARNING:absl:<keras.layers.recurrent.LSTMCell object at 0x0000025404AACA60> has the same name 'LSTMCell' as a built-in Keras object. Consider renaming <class 'keras.layers.recurrent.LSTMCell'> to avoid naming conflicts when loading with `tf.keras.models.load_model`. If renaming is not possible, pass the object in the `custom_objects` parameter of the load function.\n",
      "WARNING:absl:<keras.layers.recurrent.LSTMCell object at 0x00000254047EAF40> has the same name 'LSTMCell' as a built-in Keras object. Consider renaming <class 'keras.layers.recurrent.LSTMCell'> to avoid naming conflicts when loading with `tf.keras.models.load_model`. If renaming is not possible, pass the object in the `custom_objects` parameter of the load function.\n",
      "WARNING:absl:<keras.layers.recurrent.LSTMCell object at 0x000002540482FAC0> has the same name 'LSTMCell' as a built-in Keras object. Consider renaming <class 'keras.layers.recurrent.LSTMCell'> to avoid naming conflicts when loading with `tf.keras.models.load_model`. If renaming is not possible, pass the object in the `custom_objects` parameter of the load function.\n",
      "WARNING:absl:<keras.layers.recurrent.LSTMCell object at 0x000002540487FCA0> has the same name 'LSTMCell' as a built-in Keras object. Consider renaming <class 'keras.layers.recurrent.LSTMCell'> to avoid naming conflicts when loading with `tf.keras.models.load_model`. If renaming is not possible, pass the object in the `custom_objects` parameter of the load function.\n",
      "WARNING:absl:<keras.layers.recurrent.LSTMCell object at 0x0000025404903E80> has the same name 'LSTMCell' as a built-in Keras object. Consider renaming <class 'keras.layers.recurrent.LSTMCell'> to avoid naming conflicts when loading with `tf.keras.models.load_model`. If renaming is not possible, pass the object in the `custom_objects` parameter of the load function.\n"
     ]
    },
    {
     "name": "stdout",
     "output_type": "stream",
     "text": [
      "130/130 [==============================] - 42s 326ms/step - loss: 0.3294 - binary_accuracy: 0.8630 - auc: 0.9333 - mcc_metric: 0.7119 - precision: 0.7755 - true_negatives: 2303.0000 - true_positives: 1275.0000 - false_negatives: 199.0000 - false_positives: 369.0000 - val_loss: 0.3731 - val_binary_accuracy: 0.8405 - val_auc: 0.9002 - val_mcc_metric: 0.6440 - val_precision: 0.7817 - val_true_negatives: 467.0000 - val_true_positives: 197.0000 - val_false_negatives: 71.0000 - val_false_positives: 55.0000\n",
      "Epoch 6/60\n",
      "130/130 [==============================] - ETA: 0s - loss: 0.3145 - binary_accuracy: 0.8717 - auc: 0.9389 - mcc_metric: 0.7331 - precision: 0.7814 - true_negatives: 2306.0000 - true_positives: 1308.0000 - false_negatives: 166.0000 - false_positives: 366.0000\n",
      "Epoch 00006: val_auc improved from 0.90024 to 0.90808, saving model to F:/bbb/model/nlp\\model_34iupac.tf\n"
     ]
    },
    {
     "name": "stderr",
     "output_type": "stream",
     "text": [
      "WARNING:absl:Found untraced functions such as lstm_cell_1_layer_call_fn, lstm_cell_1_layer_call_and_return_conditional_losses, lstm_cell_2_layer_call_fn, lstm_cell_2_layer_call_and_return_conditional_losses, lstm_cell_4_layer_call_fn while saving (showing 5 of 30). These functions will not be directly callable after loading.\n"
     ]
    },
    {
     "name": "stdout",
     "output_type": "stream",
     "text": [
      "INFO:tensorflow:Assets written to: F:/bbb/model/nlp\\model_34iupac.tf\\assets\n"
     ]
    },
    {
     "name": "stderr",
     "output_type": "stream",
     "text": [
      "INFO:tensorflow:Assets written to: F:/bbb/model/nlp\\model_34iupac.tf\\assets\n",
      "WARNING:absl:<keras.layers.recurrent.LSTMCell object at 0x0000025404AAC0D0> has the same name 'LSTMCell' as a built-in Keras object. Consider renaming <class 'keras.layers.recurrent.LSTMCell'> to avoid naming conflicts when loading with `tf.keras.models.load_model`. If renaming is not possible, pass the object in the `custom_objects` parameter of the load function.\n",
      "WARNING:absl:<keras.layers.recurrent.LSTMCell object at 0x0000025404AACA60> has the same name 'LSTMCell' as a built-in Keras object. Consider renaming <class 'keras.layers.recurrent.LSTMCell'> to avoid naming conflicts when loading with `tf.keras.models.load_model`. If renaming is not possible, pass the object in the `custom_objects` parameter of the load function.\n",
      "WARNING:absl:<keras.layers.recurrent.LSTMCell object at 0x00000254047EAF40> has the same name 'LSTMCell' as a built-in Keras object. Consider renaming <class 'keras.layers.recurrent.LSTMCell'> to avoid naming conflicts when loading with `tf.keras.models.load_model`. If renaming is not possible, pass the object in the `custom_objects` parameter of the load function.\n",
      "WARNING:absl:<keras.layers.recurrent.LSTMCell object at 0x000002540482FAC0> has the same name 'LSTMCell' as a built-in Keras object. Consider renaming <class 'keras.layers.recurrent.LSTMCell'> to avoid naming conflicts when loading with `tf.keras.models.load_model`. If renaming is not possible, pass the object in the `custom_objects` parameter of the load function.\n",
      "WARNING:absl:<keras.layers.recurrent.LSTMCell object at 0x000002540487FCA0> has the same name 'LSTMCell' as a built-in Keras object. Consider renaming <class 'keras.layers.recurrent.LSTMCell'> to avoid naming conflicts when loading with `tf.keras.models.load_model`. If renaming is not possible, pass the object in the `custom_objects` parameter of the load function.\n",
      "WARNING:absl:<keras.layers.recurrent.LSTMCell object at 0x0000025404903E80> has the same name 'LSTMCell' as a built-in Keras object. Consider renaming <class 'keras.layers.recurrent.LSTMCell'> to avoid naming conflicts when loading with `tf.keras.models.load_model`. If renaming is not possible, pass the object in the `custom_objects` parameter of the load function.\n"
     ]
    },
    {
     "name": "stdout",
     "output_type": "stream",
     "text": [
      "130/130 [==============================] - 42s 326ms/step - loss: 0.3145 - binary_accuracy: 0.8717 - auc: 0.9389 - mcc_metric: 0.7331 - precision: 0.7814 - true_negatives: 2306.0000 - true_positives: 1308.0000 - false_negatives: 166.0000 - false_positives: 366.0000 - val_loss: 0.4243 - val_binary_accuracy: 0.8114 - val_auc: 0.9081 - val_mcc_metric: 0.6275 - val_precision: 0.6676 - val_true_negatives: 404.0000 - val_true_positives: 237.0000 - val_false_negatives: 31.0000 - val_false_positives: 118.0000\n",
      "Epoch 7/60\n",
      "130/130 [==============================] - ETA: 0s - loss: 0.3100 - binary_accuracy: 0.8695 - auc: 0.9401 - mcc_metric: 0.7371 - precision: 0.7755 - true_negatives: 2292.0000 - true_positives: 1313.0000 - false_negatives: 161.0000 - false_positives: 380.0000\n",
      "Epoch 00007: val_auc improved from 0.90808 to 0.91032, saving model to F:/bbb/model/nlp\\model_34iupac.tf\n"
     ]
    },
    {
     "name": "stderr",
     "output_type": "stream",
     "text": [
      "WARNING:absl:Found untraced functions such as lstm_cell_1_layer_call_fn, lstm_cell_1_layer_call_and_return_conditional_losses, lstm_cell_2_layer_call_fn, lstm_cell_2_layer_call_and_return_conditional_losses, lstm_cell_4_layer_call_fn while saving (showing 5 of 30). These functions will not be directly callable after loading.\n"
     ]
    },
    {
     "name": "stdout",
     "output_type": "stream",
     "text": [
      "INFO:tensorflow:Assets written to: F:/bbb/model/nlp\\model_34iupac.tf\\assets\n"
     ]
    },
    {
     "name": "stderr",
     "output_type": "stream",
     "text": [
      "INFO:tensorflow:Assets written to: F:/bbb/model/nlp\\model_34iupac.tf\\assets\n",
      "WARNING:absl:<keras.layers.recurrent.LSTMCell object at 0x0000025404AAC0D0> has the same name 'LSTMCell' as a built-in Keras object. Consider renaming <class 'keras.layers.recurrent.LSTMCell'> to avoid naming conflicts when loading with `tf.keras.models.load_model`. If renaming is not possible, pass the object in the `custom_objects` parameter of the load function.\n",
      "WARNING:absl:<keras.layers.recurrent.LSTMCell object at 0x0000025404AACA60> has the same name 'LSTMCell' as a built-in Keras object. Consider renaming <class 'keras.layers.recurrent.LSTMCell'> to avoid naming conflicts when loading with `tf.keras.models.load_model`. If renaming is not possible, pass the object in the `custom_objects` parameter of the load function.\n",
      "WARNING:absl:<keras.layers.recurrent.LSTMCell object at 0x00000254047EAF40> has the same name 'LSTMCell' as a built-in Keras object. Consider renaming <class 'keras.layers.recurrent.LSTMCell'> to avoid naming conflicts when loading with `tf.keras.models.load_model`. If renaming is not possible, pass the object in the `custom_objects` parameter of the load function.\n",
      "WARNING:absl:<keras.layers.recurrent.LSTMCell object at 0x000002540482FAC0> has the same name 'LSTMCell' as a built-in Keras object. Consider renaming <class 'keras.layers.recurrent.LSTMCell'> to avoid naming conflicts when loading with `tf.keras.models.load_model`. If renaming is not possible, pass the object in the `custom_objects` parameter of the load function.\n",
      "WARNING:absl:<keras.layers.recurrent.LSTMCell object at 0x000002540487FCA0> has the same name 'LSTMCell' as a built-in Keras object. Consider renaming <class 'keras.layers.recurrent.LSTMCell'> to avoid naming conflicts when loading with `tf.keras.models.load_model`. If renaming is not possible, pass the object in the `custom_objects` parameter of the load function.\n",
      "WARNING:absl:<keras.layers.recurrent.LSTMCell object at 0x0000025404903E80> has the same name 'LSTMCell' as a built-in Keras object. Consider renaming <class 'keras.layers.recurrent.LSTMCell'> to avoid naming conflicts when loading with `tf.keras.models.load_model`. If renaming is not possible, pass the object in the `custom_objects` parameter of the load function.\n"
     ]
    },
    {
     "name": "stdout",
     "output_type": "stream",
     "text": [
      "130/130 [==============================] - 45s 347ms/step - loss: 0.3100 - binary_accuracy: 0.8695 - auc: 0.9401 - mcc_metric: 0.7371 - precision: 0.7755 - true_negatives: 2292.0000 - true_positives: 1313.0000 - false_negatives: 161.0000 - false_positives: 380.0000 - val_loss: 0.3721 - val_binary_accuracy: 0.8367 - val_auc: 0.9103 - val_mcc_metric: 0.6496 - val_precision: 0.7324 - val_true_negatives: 442.0000 - val_true_positives: 219.0000 - val_false_negatives: 49.0000 - val_false_positives: 80.0000\n",
      "Epoch 8/60\n",
      "130/130 [==============================] - ETA: 0s - loss: 0.2713 - binary_accuracy: 0.8917 - auc: 0.9532 - mcc_metric: 0.7714 - precision: 0.8085 - true_negatives: 2354.0000 - true_positives: 1343.0000 - false_negatives: 131.0000 - false_positives: 318.0000\n",
      "Epoch 00008: val_auc did not improve from 0.91032\n",
      "130/130 [==============================] - 15s 114ms/step - loss: 0.2713 - binary_accuracy: 0.8917 - auc: 0.9532 - mcc_metric: 0.7714 - precision: 0.8085 - true_negatives: 2354.0000 - true_positives: 1343.0000 - false_negatives: 131.0000 - false_positives: 318.0000 - val_loss: 0.4102 - val_binary_accuracy: 0.8215 - val_auc: 0.9090 - val_mcc_metric: 0.6326 - val_precision: 0.6942 - val_true_negatives: 422.0000 - val_true_positives: 227.0000 - val_false_negatives: 41.0000 - val_false_positives: 100.0000\n",
      "Epoch 9/60\n",
      "130/130 [==============================] - ETA: 0s - loss: 0.2627 - binary_accuracy: 0.8968 - auc: 0.9558 - mcc_metric: 0.7870 - precision: 0.8189 - true_negatives: 2375.0000 - true_positives: 1343.0000 - false_negatives: 131.0000 - false_positives: 297.0000\n",
      "Epoch 00009: val_auc did not improve from 0.91032\n",
      "130/130 [==============================] - 15s 112ms/step - loss: 0.2627 - binary_accuracy: 0.8968 - auc: 0.9558 - mcc_metric: 0.7870 - precision: 0.8189 - true_negatives: 2375.0000 - true_positives: 1343.0000 - false_negatives: 131.0000 - false_positives: 297.0000 - val_loss: 0.4113 - val_binary_accuracy: 0.8203 - val_auc: 0.9052 - val_mcc_metric: 0.6179 - val_precision: 0.6981 - val_true_negatives: 426.0000 - val_true_positives: 222.0000 - val_false_negatives: 46.0000 - val_false_positives: 96.0000\n",
      "Epoch 10/60\n",
      "130/130 [==============================] - ETA: 0s - loss: 0.2505 - binary_accuracy: 0.8999 - auc: 0.9594 - mcc_metric: 0.7937 - precision: 0.8157 - true_negatives: 2363.0000 - true_positives: 1368.0000 - false_negatives: 106.0000 - false_positives: 309.0000\n",
      "Epoch 00010: val_auc did not improve from 0.91032\n",
      "130/130 [==============================] - 14s 111ms/step - loss: 0.2505 - binary_accuracy: 0.8999 - auc: 0.9594 - mcc_metric: 0.7937 - precision: 0.8157 - true_negatives: 2363.0000 - true_positives: 1368.0000 - false_negatives: 106.0000 - false_positives: 309.0000 - val_loss: 0.4523 - val_binary_accuracy: 0.8101 - val_auc: 0.9076 - val_mcc_metric: 0.6215 - val_precision: 0.6686 - val_true_negatives: 406.0000 - val_true_positives: 234.0000 - val_false_negatives: 34.0000 - val_false_positives: 116.0000\n",
      "Epoch 11/60\n",
      "130/130 [==============================] - ETA: 0s - loss: 0.2394 - binary_accuracy: 0.9050 - auc: 0.9617 - mcc_metric: 0.8028 - precision: 0.8253 - true_negatives: 2382.0000 - true_positives: 1370.0000 - false_negatives: 104.0000 - false_positives: 290.0000\n",
      "Epoch 00011: val_auc did not improve from 0.91032\n",
      "130/130 [==============================] - 14s 111ms/step - loss: 0.2394 - binary_accuracy: 0.9050 - auc: 0.9617 - mcc_metric: 0.8028 - precision: 0.8253 - true_negatives: 2382.0000 - true_positives: 1370.0000 - false_negatives: 104.0000 - false_positives: 290.0000 - val_loss: 0.4794 - val_binary_accuracy: 0.7772 - val_auc: 0.9077 - val_mcc_metric: 0.5731 - val_precision: 0.6211 - val_true_negatives: 378.0000 - val_true_positives: 236.0000 - val_false_negatives: 32.0000 - val_false_positives: 144.0000\n",
      "Epoch 12/60\n",
      "130/130 [==============================] - ETA: 0s - loss: 0.2297 - binary_accuracy: 0.9103 - auc: 0.9646 - mcc_metric: 0.8141 - precision: 0.8323 - true_negatives: 2394.0000 - true_positives: 1380.0000 - false_negatives: 94.0000 - false_positives: 278.0000\n",
      "Epoch 00012: val_auc did not improve from 0.91032\n",
      "130/130 [==============================] - 14s 111ms/step - loss: 0.2297 - binary_accuracy: 0.9103 - auc: 0.9646 - mcc_metric: 0.8141 - precision: 0.8323 - true_negatives: 2394.0000 - true_positives: 1380.0000 - false_negatives: 94.0000 - false_positives: 278.0000 - val_loss: 0.4257 - val_binary_accuracy: 0.8190 - val_auc: 0.9076 - val_mcc_metric: 0.6275 - val_precision: 0.6877 - val_true_negatives: 418.0000 - val_true_positives: 229.0000 - val_false_negatives: 39.0000 - val_false_positives: 104.0000\n",
      "Epoch 13/60\n",
      "130/130 [==============================] - ETA: 0s - loss: 0.2246 - binary_accuracy: 0.9112 - auc: 0.9659 - mcc_metric: 0.8152 - precision: 0.8356 - true_negatives: 2401.0000 - true_positives: 1377.0000 - false_negatives: 97.0000 - false_positives: 271.0000\n",
      "Epoch 00013: val_auc did not improve from 0.91032\n",
      "130/130 [==============================] - 14s 110ms/step - loss: 0.2246 - binary_accuracy: 0.9112 - auc: 0.9659 - mcc_metric: 0.8152 - precision: 0.8356 - true_negatives: 2401.0000 - true_positives: 1377.0000 - false_negatives: 97.0000 - false_positives: 271.0000 - val_loss: 0.4573 - val_binary_accuracy: 0.8139 - val_auc: 0.9067 - val_mcc_metric: 0.6216 - val_precision: 0.6795 - val_true_negatives: 414.0000 - val_true_positives: 229.0000 - val_false_negatives: 39.0000 - val_false_positives: 108.0000\n",
      "Epoch 14/60\n",
      "130/130 [==============================] - ETA: 0s - loss: 0.2104 - binary_accuracy: 0.9197 - auc: 0.9689 - mcc_metric: 0.8328 - precision: 0.8481 - true_negatives: 2423.0000 - true_positives: 1390.0000 - false_negatives: 84.0000 - false_positives: 249.0000\n",
      "Epoch 00014: val_auc did not improve from 0.91032\n",
      "130/130 [==============================] - 14s 110ms/step - loss: 0.2104 - binary_accuracy: 0.9197 - auc: 0.9689 - mcc_metric: 0.8328 - precision: 0.8481 - true_negatives: 2423.0000 - true_positives: 1390.0000 - false_negatives: 84.0000 - false_positives: 249.0000 - val_loss: 0.4056 - val_binary_accuracy: 0.8392 - val_auc: 0.9034 - val_mcc_metric: 0.6497 - val_precision: 0.7439 - val_true_negatives: 448.0000 - val_true_positives: 215.0000 - val_false_negatives: 53.0000 - val_false_positives: 74.0000\n",
      "Epoch 15/60\n",
      "130/130 [==============================] - ETA: 0s - loss: 0.1958 - binary_accuracy: 0.9267 - auc: 0.9713 - mcc_metric: 0.8487 - precision: 0.8541 - true_negatives: 2431.0000 - true_positives: 1411.0000 - false_negatives: 63.0000 - false_positives: 241.0000\n",
      "Epoch 00015: val_auc did not improve from 0.91032\n",
      "130/130 [==============================] - 14s 111ms/step - loss: 0.1958 - binary_accuracy: 0.9267 - auc: 0.9713 - mcc_metric: 0.8487 - precision: 0.8541 - true_negatives: 2431.0000 - true_positives: 1411.0000 - false_negatives: 63.0000 - false_positives: 241.0000 - val_loss: 0.4486 - val_binary_accuracy: 0.8291 - val_auc: 0.9074 - val_mcc_metric: 0.6383 - val_precision: 0.7111 - val_true_negatives: 431.0000 - val_true_positives: 224.0000 - val_false_negatives: 44.0000 - val_false_positives: 91.0000\n",
      "Epoch 16/60\n",
      "130/130 [==============================] - ETA: 0s - loss: 0.1934 - binary_accuracy: 0.9264 - auc: 0.9726 - mcc_metric: 0.8388 - precision: 0.8588 - true_negatives: 2442.0000 - true_positives: 1399.0000 - false_negatives: 75.0000 - false_positives: 230.0000\n",
      "Epoch 00016: val_auc did not improve from 0.91032\n",
      "130/130 [==============================] - 15s 112ms/step - loss: 0.1934 - binary_accuracy: 0.9264 - auc: 0.9726 - mcc_metric: 0.8388 - precision: 0.8588 - true_negatives: 2442.0000 - true_positives: 1399.0000 - false_negatives: 75.0000 - false_positives: 230.0000 - val_loss: 0.4589 - val_binary_accuracy: 0.8380 - val_auc: 0.9044 - val_mcc_metric: 0.6353 - val_precision: 0.7917 - val_true_negatives: 472.0000 - val_true_positives: 190.0000 - val_false_negatives: 78.0000 - val_false_positives: 50.0000\n",
      "Epoch 17/60\n",
      "130/130 [==============================] - ETA: 0s - loss: 0.1916 - binary_accuracy: 0.9298 - auc: 0.9720 - mcc_metric: 0.8545 - precision: 0.8591 - true_negatives: 2440.0000 - true_positives: 1415.0000 - false_negatives: 59.0000 - false_positives: 232.0000\n",
      "Epoch 00017: val_auc did not improve from 0.91032\n",
      "130/130 [==============================] - 14s 110ms/step - loss: 0.1916 - binary_accuracy: 0.9298 - auc: 0.9720 - mcc_metric: 0.8545 - precision: 0.8591 - true_negatives: 2440.0000 - true_positives: 1415.0000 - false_negatives: 59.0000 - false_positives: 232.0000 - val_loss: 0.4590 - val_binary_accuracy: 0.8278 - val_auc: 0.8970 - val_mcc_metric: 0.6276 - val_precision: 0.7292 - val_true_negatives: 444.0000 - val_true_positives: 210.0000 - val_false_negatives: 58.0000 - val_false_positives: 78.0000\n",
      "Epoch 18/60\n",
      "130/130 [==============================] - ETA: 0s - loss: 0.1972 - binary_accuracy: 0.9272 - auc: 0.9711 - mcc_metric: 0.8485 - precision: 0.8578 - true_negatives: 2439.0000 - true_positives: 1405.0000 - false_negatives: 69.0000 - false_positives: 233.0000\n",
      "Epoch 00018: val_auc did not improve from 0.91032\n",
      "130/130 [==============================] - 14s 109ms/step - loss: 0.1972 - binary_accuracy: 0.9272 - auc: 0.9711 - mcc_metric: 0.8485 - precision: 0.8578 - true_negatives: 2439.0000 - true_positives: 1405.0000 - false_negatives: 69.0000 - false_positives: 233.0000 - val_loss: 0.4923 - val_binary_accuracy: 0.8278 - val_auc: 0.9000 - val_mcc_metric: 0.6363 - val_precision: 0.7075 - val_true_negatives: 429.0000 - val_true_positives: 225.0000 - val_false_negatives: 43.0000 - val_false_positives: 93.0000\n",
      "Epoch 19/60\n",
      "130/130 [==============================] - ETA: 0s - loss: 0.1789 - binary_accuracy: 0.9339 - auc: 0.9750 - mcc_metric: 0.8627 - precision: 0.8667 - true_negatives: 2454.0000 - true_positives: 1418.0000 - false_negatives: 56.0000 - false_positives: 218.0000\n",
      "Epoch 00019: val_auc did not improve from 0.91032\n",
      "130/130 [==============================] - 14s 109ms/step - loss: 0.1789 - binary_accuracy: 0.9339 - auc: 0.9750 - mcc_metric: 0.8627 - precision: 0.8667 - true_negatives: 2454.0000 - true_positives: 1418.0000 - false_negatives: 56.0000 - false_positives: 218.0000 - val_loss: 0.4903 - val_binary_accuracy: 0.8253 - val_auc: 0.8999 - val_mcc_metric: 0.6246 - val_precision: 0.7124 - val_true_negatives: 434.0000 - val_true_positives: 218.0000 - val_false_negatives: 50.0000 - val_false_positives: 88.0000\n",
      "Epoch 20/60\n",
      "130/130 [==============================] - ETA: 0s - loss: 0.1770 - binary_accuracy: 0.9329 - auc: 0.9751 - mcc_metric: 0.8600 - precision: 0.8669 - true_negatives: 2455.0000 - true_positives: 1413.0000 - false_negatives: 61.0000 - false_positives: 217.0000\n",
      "Epoch 00020: val_auc did not improve from 0.91032\n",
      "130/130 [==============================] - 14s 112ms/step - loss: 0.1770 - binary_accuracy: 0.9329 - auc: 0.9751 - mcc_metric: 0.8600 - precision: 0.8669 - true_negatives: 2455.0000 - true_positives: 1413.0000 - false_negatives: 61.0000 - false_positives: 217.0000 - val_loss: 0.4890 - val_binary_accuracy: 0.8215 - val_auc: 0.8964 - val_mcc_metric: 0.6164 - val_precision: 0.7138 - val_true_negatives: 437.0000 - val_true_positives: 212.0000 - val_false_negatives: 56.0000 - val_false_positives: 85.0000\n",
      "Epoch 21/60\n",
      "130/130 [==============================] - ETA: 0s - loss: 0.1725 - binary_accuracy: 0.9354 - auc: 0.9756 - mcc_metric: 0.8647 - precision: 0.8695 - true_negatives: 2459.0000 - true_positives: 1419.0000 - false_negatives: 55.0000 - false_positives: 213.0000\n",
      "Epoch 00021: val_auc did not improve from 0.91032\n",
      "130/130 [==============================] - 15s 112ms/step - loss: 0.1725 - binary_accuracy: 0.9354 - auc: 0.9756 - mcc_metric: 0.8647 - precision: 0.8695 - true_negatives: 2459.0000 - true_positives: 1419.0000 - false_negatives: 55.0000 - false_positives: 213.0000 - val_loss: 0.4709 - val_binary_accuracy: 0.8367 - val_auc: 0.9007 - val_mcc_metric: 0.6379 - val_precision: 0.7643 - val_true_negatives: 460.0000 - val_true_positives: 201.0000 - val_false_negatives: 67.0000 - val_false_positives: 62.0000\n",
      "Epoch 22/60\n",
      "130/130 [==============================] - ETA: 0s - loss: 0.1748 - binary_accuracy: 0.9361 - auc: 0.9754 - mcc_metric: 0.8664 - precision: 0.8725 - true_negatives: 2465.0000 - true_positives: 1416.0000 - false_negatives: 58.0000 - false_positives: 207.0000\n",
      "Epoch 00022: val_auc did not improve from 0.91032\n",
      "130/130 [==============================] - 15s 112ms/step - loss: 0.1748 - binary_accuracy: 0.9361 - auc: 0.9754 - mcc_metric: 0.8664 - precision: 0.8725 - true_negatives: 2465.0000 - true_positives: 1416.0000 - false_negatives: 58.0000 - false_positives: 207.0000 - val_loss: 0.4983 - val_binary_accuracy: 0.8304 - val_auc: 0.8919 - val_mcc_metric: 0.6348 - val_precision: 0.7233 - val_true_negatives: 439.0000 - val_true_positives: 217.0000 - val_false_negatives: 51.0000 - val_false_positives: 83.0000\n",
      "Epoch 23/60\n",
      "130/130 [==============================] - ETA: 0s - loss: 0.1723 - binary_accuracy: 0.9346 - auc: 0.9767 - mcc_metric: 0.8639 - precision: 0.8679 - true_negatives: 2456.0000 - true_positives: 1419.0000 - false_negatives: 55.0000 - false_positives: 216.0000\n",
      "Epoch 00023: val_auc did not improve from 0.91032\n",
      "130/130 [==============================] - 15s 112ms/step - loss: 0.1723 - binary_accuracy: 0.9346 - auc: 0.9767 - mcc_metric: 0.8639 - precision: 0.8679 - true_negatives: 2456.0000 - true_positives: 1419.0000 - false_negatives: 55.0000 - false_positives: 216.0000 - val_loss: 0.5063 - val_binary_accuracy: 0.8304 - val_auc: 0.8993 - val_mcc_metric: 0.6230 - val_precision: 0.7617 - val_true_negatives: 461.0000 - val_true_positives: 195.0000 - val_false_negatives: 73.0000 - val_false_positives: 61.0000\n",
      "Epoch 24/60\n",
      "130/130 [==============================] - ETA: 0s - loss: 0.1619 - binary_accuracy: 0.9436 - auc: 0.9773 - mcc_metric: 0.8793 - precision: 0.8832 - true_negatives: 2483.0000 - true_positives: 1429.0000 - false_negatives: 45.0000 - false_positives: 189.0000\n",
      "Epoch 00024: val_auc did not improve from 0.91032\n",
      "130/130 [==============================] - 14s 111ms/step - loss: 0.1619 - binary_accuracy: 0.9436 - auc: 0.9773 - mcc_metric: 0.8793 - precision: 0.8832 - true_negatives: 2483.0000 - true_positives: 1429.0000 - false_negatives: 45.0000 - false_positives: 189.0000 - val_loss: 0.4903 - val_binary_accuracy: 0.8190 - val_auc: 0.9004 - val_mcc_metric: 0.6174 - val_precision: 0.7036 - val_true_negatives: 431.0000 - val_true_positives: 216.0000 - val_false_negatives: 52.0000 - val_false_positives: 91.0000\n",
      "Epoch 25/60\n",
      "130/130 [==============================] - ETA: 0s - loss: 0.1606 - binary_accuracy: 0.9433 - auc: 0.9784 - mcc_metric: 0.8829 - precision: 0.8855 - true_negatives: 2488.0000 - true_positives: 1423.0000 - false_negatives: 51.0000 - false_positives: 184.0000\n",
      "Epoch 00025: val_auc did not improve from 0.91032\n",
      "130/130 [==============================] - 15s 112ms/step - loss: 0.1606 - binary_accuracy: 0.9433 - auc: 0.9784 - mcc_metric: 0.8829 - precision: 0.8855 - true_negatives: 2488.0000 - true_positives: 1423.0000 - false_negatives: 51.0000 - false_positives: 184.0000 - val_loss: 0.4748 - val_binary_accuracy: 0.8228 - val_auc: 0.8986 - val_mcc_metric: 0.6225 - val_precision: 0.7105 - val_true_negatives: 434.0000 - val_true_positives: 216.0000 - val_false_negatives: 52.0000 - val_false_positives: 88.0000\n",
      "Epoch 26/60\n",
      "130/130 [==============================] - ETA: 0s - loss: 0.1483 - binary_accuracy: 0.9472 - auc: 0.9804 - mcc_metric: 0.8911 - precision: 0.8900 - true_negatives: 2495.0000 - true_positives: 1432.0000 - false_negatives: 42.0000 - false_positives: 177.0000\n",
      "Epoch 00026: val_auc did not improve from 0.91032\n",
      "130/130 [==============================] - 14s 111ms/step - loss: 0.1483 - binary_accuracy: 0.9472 - auc: 0.9804 - mcc_metric: 0.8911 - precision: 0.8900 - true_negatives: 2495.0000 - true_positives: 1432.0000 - false_negatives: 42.0000 - false_positives: 177.0000 - val_loss: 0.5223 - val_binary_accuracy: 0.8241 - val_auc: 0.8922 - val_mcc_metric: 0.6152 - val_precision: 0.7279 - val_true_negatives: 445.0000 - val_true_positives: 206.0000 - val_false_negatives: 62.0000 - val_false_positives: 77.0000\n",
      "Epoch 27/60\n",
      "130/130 [==============================] - ETA: 0s - loss: 0.1418 - binary_accuracy: 0.9510 - auc: 0.9810 - mcc_metric: 0.8976 - precision: 0.8960 - true_negatives: 2505.0000 - true_positives: 1438.0000 - false_negatives: 36.0000 - false_positives: 167.0000\n",
      "Epoch 00027: val_auc did not improve from 0.91032\n",
      "130/130 [==============================] - 14s 111ms/step - loss: 0.1418 - binary_accuracy: 0.9510 - auc: 0.9810 - mcc_metric: 0.8976 - precision: 0.8960 - true_negatives: 2505.0000 - true_positives: 1438.0000 - false_negatives: 36.0000 - false_positives: 167.0000 - val_loss: 0.5493 - val_binary_accuracy: 0.8215 - val_auc: 0.8900 - val_mcc_metric: 0.6126 - val_precision: 0.7197 - val_true_negatives: 441.0000 - val_true_positives: 208.0000 - val_false_negatives: 60.0000 - val_false_positives: 81.0000\n",
      "Epoch 28/60\n",
      "130/130 [==============================] - ETA: 0s - loss: 0.1485 - binary_accuracy: 0.9445 - auc: 0.9805 - mcc_metric: 0.8846 - precision: 0.8821 - true_negatives: 2480.0000 - true_positives: 1436.0000 - false_negatives: 38.0000 - false_positives: 192.0000\n",
      "Epoch 00028: val_auc did not improve from 0.91032\n",
      "130/130 [==============================] - 14s 111ms/step - loss: 0.1485 - binary_accuracy: 0.9445 - auc: 0.9805 - mcc_metric: 0.8846 - precision: 0.8821 - true_negatives: 2480.0000 - true_positives: 1436.0000 - false_negatives: 38.0000 - false_positives: 192.0000 - val_loss: 0.5673 - val_binary_accuracy: 0.8152 - val_auc: 0.8909 - val_mcc_metric: 0.6061 - val_precision: 0.7007 - val_true_negatives: 431.0000 - val_true_positives: 213.0000 - val_false_negatives: 55.0000 - val_false_positives: 91.0000\n",
      "Epoch 29/60\n",
      "130/130 [==============================] - ETA: 0s - loss: 0.1456 - binary_accuracy: 0.9498 - auc: 0.9807 - mcc_metric: 0.8957 - precision: 0.8932 - true_negatives: 2500.0000 - true_positives: 1438.0000 - false_negatives: 36.0000 - false_positives: 172.0000\n",
      "Epoch 00029: val_auc did not improve from 0.91032\n",
      "130/130 [==============================] - 14s 111ms/step - loss: 0.1456 - binary_accuracy: 0.9498 - auc: 0.9807 - mcc_metric: 0.8957 - precision: 0.8932 - true_negatives: 2500.0000 - true_positives: 1438.0000 - false_negatives: 36.0000 - false_positives: 172.0000 - val_loss: 0.5368 - val_binary_accuracy: 0.8089 - val_auc: 0.8964 - val_mcc_metric: 0.5975 - val_precision: 0.6881 - val_true_negatives: 425.0000 - val_true_positives: 214.0000 - val_false_negatives: 54.0000 - val_false_positives: 97.0000\n",
      "Epoch 30/60\n",
      "130/130 [==============================] - ETA: 0s - loss: 0.1339 - binary_accuracy: 0.9539 - auc: 0.9816 - mcc_metric: 0.9035 - precision: 0.8997 - true_negatives: 2511.0000 - true_positives: 1444.0000 - false_negatives: 30.0000 - false_positives: 161.0000\n",
      "Epoch 00030: val_auc did not improve from 0.91032\n",
      "130/130 [==============================] - 14s 111ms/step - loss: 0.1339 - binary_accuracy: 0.9539 - auc: 0.9816 - mcc_metric: 0.9035 - precision: 0.8997 - true_negatives: 2511.0000 - true_positives: 1444.0000 - false_negatives: 30.0000 - false_positives: 161.0000 - val_loss: 0.5696 - val_binary_accuracy: 0.8139 - val_auc: 0.8965 - val_mcc_metric: 0.6072 - val_precision: 0.6945 - val_true_negatives: 427.0000 - val_true_positives: 216.0000 - val_false_negatives: 52.0000 - val_false_positives: 95.0000\n",
      "Epoch 31/60\n",
      "130/130 [==============================] - ETA: 0s - loss: 0.1390 - binary_accuracy: 0.9539 - auc: 0.9826 - mcc_metric: 0.9015 - precision: 0.9037 - true_negatives: 2519.0000 - true_positives: 1436.0000 - false_negatives: 38.0000 - false_positives: 153.0000\n",
      "Epoch 00031: val_auc did not improve from 0.91032\n",
      "130/130 [==============================] - 14s 111ms/step - loss: 0.1390 - binary_accuracy: 0.9539 - auc: 0.9826 - mcc_metric: 0.9015 - precision: 0.9037 - true_negatives: 2519.0000 - true_positives: 1436.0000 - false_negatives: 38.0000 - false_positives: 153.0000 - val_loss: 0.5552 - val_binary_accuracy: 0.8152 - val_auc: 0.8881 - val_mcc_metric: 0.5966 - val_precision: 0.7148 - val_true_negatives: 441.0000 - val_true_positives: 203.0000 - val_false_negatives: 65.0000 - val_false_positives: 81.0000\n",
      "Epoch 32/60\n",
      "130/130 [==============================] - ETA: 0s - loss: 0.1357 - binary_accuracy: 0.9518 - auc: 0.9827 - mcc_metric: 0.9000 - precision: 0.8976 - true_negatives: 2508.0000 - true_positives: 1438.0000 - false_negatives: 36.0000 - false_positives: 164.0000\n",
      "Epoch 00032: val_auc did not improve from 0.91032\n",
      "130/130 [==============================] - 15s 112ms/step - loss: 0.1357 - binary_accuracy: 0.9518 - auc: 0.9827 - mcc_metric: 0.9000 - precision: 0.8976 - true_negatives: 2508.0000 - true_positives: 1438.0000 - false_negatives: 36.0000 - false_positives: 164.0000 - val_loss: 0.5562 - val_binary_accuracy: 0.8139 - val_auc: 0.8942 - val_mcc_metric: 0.6058 - val_precision: 0.6945 - val_true_negatives: 427.0000 - val_true_positives: 216.0000 - val_false_negatives: 52.0000 - val_false_positives: 95.0000\n",
      "Epoch 33/60\n",
      "130/130 [==============================] - ETA: 0s - loss: 0.1337 - binary_accuracy: 0.9522 - auc: 0.9832 - mcc_metric: 0.9001 - precision: 0.8983 - true_negatives: 2509.0000 - true_positives: 1439.0000 - false_negatives: 35.0000 - false_positives: 163.0000\n",
      "Epoch 00033: val_auc did not improve from 0.91032\n",
      "130/130 [==============================] - 15s 112ms/step - loss: 0.1337 - binary_accuracy: 0.9522 - auc: 0.9832 - mcc_metric: 0.9001 - precision: 0.8983 - true_negatives: 2509.0000 - true_positives: 1439.0000 - false_negatives: 35.0000 - false_positives: 163.0000 - val_loss: 0.5681 - val_binary_accuracy: 0.8114 - val_auc: 0.8853 - val_mcc_metric: 0.6084 - val_precision: 0.6842 - val_true_negatives: 420.0000 - val_true_positives: 221.0000 - val_false_negatives: 47.0000 - val_false_positives: 102.0000\n",
      "Epoch 34/60\n",
      "130/130 [==============================] - ETA: 0s - loss: 0.1302 - binary_accuracy: 0.9551 - auc: 0.9828 - mcc_metric: 0.9062 - precision: 0.9010 - true_negatives: 2513.0000 - true_positives: 1447.0000 - false_negatives: 27.0000 - false_positives: 159.0000\n",
      "Epoch 00034: val_auc did not improve from 0.91032\n",
      "130/130 [==============================] - 15s 112ms/step - loss: 0.1302 - binary_accuracy: 0.9551 - auc: 0.9828 - mcc_metric: 0.9062 - precision: 0.9010 - true_negatives: 2513.0000 - true_positives: 1447.0000 - false_negatives: 27.0000 - false_positives: 159.0000 - val_loss: 0.5800 - val_binary_accuracy: 0.8278 - val_auc: 0.8806 - val_mcc_metric: 0.6215 - val_precision: 0.7481 - val_true_negatives: 455.0000 - val_true_positives: 199.0000 - val_false_negatives: 69.0000 - val_false_positives: 67.0000\n",
      "Epoch 35/60\n",
      "130/130 [==============================] - ETA: 0s - loss: 0.1306 - binary_accuracy: 0.9559 - auc: 0.9845 - mcc_metric: 0.9068 - precision: 0.9047 - true_negatives: 2520.0000 - true_positives: 1443.0000 - false_negatives: 31.0000 - false_positives: 152.0000\n",
      "Epoch 00035: val_auc did not improve from 0.91032\n",
      "130/130 [==============================] - 14s 112ms/step - loss: 0.1306 - binary_accuracy: 0.9559 - auc: 0.9845 - mcc_metric: 0.9068 - precision: 0.9047 - true_negatives: 2520.0000 - true_positives: 1443.0000 - false_negatives: 31.0000 - false_positives: 152.0000 - val_loss: 0.5251 - val_binary_accuracy: 0.8304 - val_auc: 0.8778 - val_mcc_metric: 0.6277 - val_precision: 0.7445 - val_true_negatives: 452.0000 - val_true_positives: 204.0000 - val_false_negatives: 64.0000 - val_false_positives: 70.0000\n",
      "Epoch 36/60\n",
      "130/130 [==============================] - ETA: 0s - loss: 0.1283 - binary_accuracy: 0.9554 - auc: 0.9820 - mcc_metric: 0.9066 - precision: 0.9026 - true_negatives: 2516.0000 - true_positives: 1445.0000 - false_negatives: 29.0000 - false_positives: 156.0000\n",
      "Epoch 00036: val_auc did not improve from 0.91032\n",
      "130/130 [==============================] - 15s 112ms/step - loss: 0.1283 - binary_accuracy: 0.9554 - auc: 0.9820 - mcc_metric: 0.9066 - precision: 0.9026 - true_negatives: 2516.0000 - true_positives: 1445.0000 - false_negatives: 29.0000 - false_positives: 156.0000 - val_loss: 0.5385 - val_binary_accuracy: 0.8266 - val_auc: 0.8850 - val_mcc_metric: 0.6226 - val_precision: 0.7235 - val_true_negatives: 441.0000 - val_true_positives: 212.0000 - val_false_negatives: 56.0000 - val_false_positives: 81.0000\n",
      "Epoch 37/60\n",
      "130/130 [==============================] - ETA: 0s - loss: 0.1202 - binary_accuracy: 0.9600 - auc: 0.9851 - mcc_metric: 0.9158 - precision: 0.9118 - true_negatives: 2532.0000 - true_positives: 1448.0000 - false_negatives: 26.0000 - false_positives: 140.0000\n",
      "Epoch 00037: val_auc did not improve from 0.91032\n",
      "130/130 [==============================] - 15s 112ms/step - loss: 0.1202 - binary_accuracy: 0.9600 - auc: 0.9851 - mcc_metric: 0.9158 - precision: 0.9118 - true_negatives: 2532.0000 - true_positives: 1448.0000 - false_negatives: 26.0000 - false_positives: 140.0000 - val_loss: 0.5447 - val_binary_accuracy: 0.8266 - val_auc: 0.8887 - val_mcc_metric: 0.6334 - val_precision: 0.7093 - val_true_negatives: 431.0000 - val_true_positives: 222.0000 - val_false_negatives: 46.0000 - val_false_positives: 91.0000\n",
      "Epoch 38/60\n",
      "130/130 [==============================] - ETA: 0s - loss: 0.1159 - binary_accuracy: 0.9604 - auc: 0.9865 - mcc_metric: 0.9159 - precision: 0.9140 - true_negatives: 2536.0000 - true_positives: 1446.0000 - false_negatives: 28.0000 - false_positives: 136.0000\n",
      "Epoch 00038: val_auc did not improve from 0.91032\n",
      "130/130 [==============================] - 15s 112ms/step - loss: 0.1159 - binary_accuracy: 0.9604 - auc: 0.9865 - mcc_metric: 0.9159 - precision: 0.9140 - true_negatives: 2536.0000 - true_positives: 1446.0000 - false_negatives: 28.0000 - false_positives: 136.0000 - val_loss: 0.5988 - val_binary_accuracy: 0.8278 - val_auc: 0.8846 - val_mcc_metric: 0.6309 - val_precision: 0.7171 - val_true_negatives: 436.0000 - val_true_positives: 218.0000 - val_false_negatives: 50.0000 - val_false_positives: 86.0000\n",
      "Epoch 39/60\n",
      "130/130 [==============================] - ETA: 0s - loss: 0.1117 - binary_accuracy: 0.9619 - auc: 0.9869 - mcc_metric: 0.9167 - precision: 0.9149 - true_negatives: 2537.0000 - true_positives: 1451.0000 - false_negatives: 23.0000 - false_positives: 135.0000\n",
      "Epoch 00039: val_auc did not improve from 0.91032\n",
      "130/130 [==============================] - 15s 112ms/step - loss: 0.1117 - binary_accuracy: 0.9619 - auc: 0.9869 - mcc_metric: 0.9167 - precision: 0.9149 - true_negatives: 2537.0000 - true_positives: 1451.0000 - false_negatives: 23.0000 - false_positives: 135.0000 - val_loss: 0.5993 - val_binary_accuracy: 0.8304 - val_auc: 0.8803 - val_mcc_metric: 0.6313 - val_precision: 0.7326 - val_true_negatives: 445.0000 - val_true_positives: 211.0000 - val_false_negatives: 57.0000 - val_false_positives: 77.0000\n",
      "Epoch 40/60\n",
      "130/130 [==============================] - ETA: 0s - loss: 0.1151 - binary_accuracy: 0.9604 - auc: 0.9869 - mcc_metric: 0.9179 - precision: 0.9146 - true_negatives: 2537.0000 - true_positives: 1445.0000 - false_negatives: 29.0000 - false_positives: 135.0000\n",
      "Epoch 00040: val_auc did not improve from 0.91032\n",
      "130/130 [==============================] - 15s 112ms/step - loss: 0.1151 - binary_accuracy: 0.9604 - auc: 0.9869 - mcc_metric: 0.9179 - precision: 0.9146 - true_negatives: 2537.0000 - true_positives: 1445.0000 - false_negatives: 29.0000 - false_positives: 135.0000 - val_loss: 0.5626 - val_binary_accuracy: 0.8329 - val_auc: 0.8650 - val_mcc_metric: 0.6325 - val_precision: 0.7698 - val_true_negatives: 464.0000 - val_true_positives: 194.0000 - val_false_negatives: 74.0000 - val_false_positives: 58.0000\n",
      "Epoch 41/60\n",
      "130/130 [==============================] - ETA: 0s - loss: 0.1243 - binary_accuracy: 0.9559 - auc: 0.9862 - mcc_metric: 0.9052 - precision: 0.9104 - true_negatives: 2531.0000 - true_positives: 1432.0000 - false_negatives: 42.0000 - false_positives: 141.0000\n",
      "Epoch 00041: val_auc did not improve from 0.91032\n",
      "130/130 [==============================] - 15s 112ms/step - loss: 0.1243 - binary_accuracy: 0.9559 - auc: 0.9862 - mcc_metric: 0.9052 - precision: 0.9104 - true_negatives: 2531.0000 - true_positives: 1432.0000 - false_negatives: 42.0000 - false_positives: 141.0000 - val_loss: 0.5677 - val_binary_accuracy: 0.8253 - val_auc: 0.8745 - val_mcc_metric: 0.6228 - val_precision: 0.7226 - val_true_negatives: 441.0000 - val_true_positives: 211.0000 - val_false_negatives: 57.0000 - val_false_positives: 81.0000\n",
      "Epoch 42/60\n",
      "130/130 [==============================] - ETA: 0s - loss: 0.1062 - binary_accuracy: 0.9655 - auc: 0.9874 - mcc_metric: 0.9295 - precision: 0.9225 - true_negatives: 2550.0000 - true_positives: 1453.0000 - false_negatives: 21.0000 - false_positives: 122.0000\n",
      "Epoch 00042: val_auc did not improve from 0.91032\n",
      "130/130 [==============================] - 15s 112ms/step - loss: 0.1062 - binary_accuracy: 0.9655 - auc: 0.9874 - mcc_metric: 0.9295 - precision: 0.9225 - true_negatives: 2550.0000 - true_positives: 1453.0000 - false_negatives: 21.0000 - false_positives: 122.0000 - val_loss: 0.5676 - val_binary_accuracy: 0.8367 - val_auc: 0.8691 - val_mcc_metric: 0.6414 - val_precision: 0.7509 - val_true_negatives: 453.0000 - val_true_positives: 208.0000 - val_false_negatives: 60.0000 - val_false_positives: 69.0000\n",
      "Epoch 43/60\n",
      "130/130 [==============================] - ETA: 0s - loss: 0.1173 - binary_accuracy: 0.9580 - auc: 0.9881 - mcc_metric: 0.9138 - precision: 0.9083 - true_negatives: 2526.0000 - true_positives: 1446.0000 - false_negatives: 28.0000 - false_positives: 146.0000\n",
      "Epoch 00043: val_auc did not improve from 0.91032\n",
      "130/130 [==============================] - 14s 111ms/step - loss: 0.1173 - binary_accuracy: 0.9580 - auc: 0.9881 - mcc_metric: 0.9138 - precision: 0.9083 - true_negatives: 2526.0000 - true_positives: 1446.0000 - false_negatives: 28.0000 - false_positives: 146.0000 - val_loss: 0.5775 - val_binary_accuracy: 0.8329 - val_auc: 0.8683 - val_mcc_metric: 0.6326 - val_precision: 0.7500 - val_true_negatives: 454.0000 - val_true_positives: 204.0000 - val_false_negatives: 64.0000 - val_false_positives: 68.0000\n",
      "Epoch 44/60\n",
      "130/130 [==============================] - ETA: 0s - loss: 0.1041 - binary_accuracy: 0.9655 - auc: 0.9882 - mcc_metric: 0.9268 - precision: 0.9225 - true_negatives: 2550.0000 - true_positives: 1453.0000 - false_negatives: 21.0000 - false_positives: 122.0000\n",
      "Epoch 00044: val_auc did not improve from 0.91032\n",
      "130/130 [==============================] - 14s 111ms/step - loss: 0.1041 - binary_accuracy: 0.9655 - auc: 0.9882 - mcc_metric: 0.9268 - precision: 0.9225 - true_negatives: 2550.0000 - true_positives: 1453.0000 - false_negatives: 21.0000 - false_positives: 122.0000 - val_loss: 0.6005 - val_binary_accuracy: 0.8329 - val_auc: 0.8669 - val_mcc_metric: 0.6339 - val_precision: 0.7500 - val_true_negatives: 454.0000 - val_true_positives: 204.0000 - val_false_negatives: 64.0000 - val_false_positives: 68.0000\n",
      "Epoch 45/60\n",
      "130/130 [==============================] - ETA: 0s - loss: 0.1024 - binary_accuracy: 0.9660 - auc: 0.9890 - mcc_metric: 0.9261 - precision: 0.9253 - true_negatives: 2555.0000 - true_positives: 1450.0000 - false_negatives: 24.0000 - false_positives: 117.0000\n",
      "Epoch 00045: val_auc did not improve from 0.91032\n",
      "130/130 [==============================] - 14s 111ms/step - loss: 0.1024 - binary_accuracy: 0.9660 - auc: 0.9890 - mcc_metric: 0.9261 - precision: 0.9253 - true_negatives: 2555.0000 - true_positives: 1450.0000 - false_negatives: 24.0000 - false_positives: 117.0000 - val_loss: 0.5761 - val_binary_accuracy: 0.8203 - val_auc: 0.8716 - val_mcc_metric: 0.6127 - val_precision: 0.7172 - val_true_negatives: 440.0000 - val_true_positives: 208.0000 - val_false_negatives: 60.0000 - val_false_positives: 82.0000\n",
      "Epoch 46/60\n",
      "130/130 [==============================] - ETA: 0s - loss: 0.1010 - binary_accuracy: 0.9665 - auc: 0.9889 - mcc_metric: 0.9285 - precision: 0.9260 - true_negatives: 2556.0000 - true_positives: 1451.0000 - false_negatives: 23.0000 - false_positives: 116.0000\n",
      "Epoch 00046: val_auc did not improve from 0.91032\n",
      "130/130 [==============================] - 14s 111ms/step - loss: 0.1010 - binary_accuracy: 0.9665 - auc: 0.9889 - mcc_metric: 0.9285 - precision: 0.9260 - true_negatives: 2556.0000 - true_positives: 1451.0000 - false_negatives: 23.0000 - false_positives: 116.0000 - val_loss: 0.5905 - val_binary_accuracy: 0.8241 - val_auc: 0.8677 - val_mcc_metric: 0.6231 - val_precision: 0.7115 - val_true_negatives: 434.0000 - val_true_positives: 217.0000 - val_false_negatives: 51.0000 - val_false_positives: 88.0000\n",
      "Epoch 47/60\n",
      "130/130 [==============================] - ETA: 0s - loss: 0.1321 - binary_accuracy: 0.9515 - auc: 0.9867 - mcc_metric: 0.8995 - precision: 0.8971 - true_negatives: 2507.0000 - true_positives: 1438.0000 - false_negatives: 36.0000 - false_positives: 165.0000\n",
      "Epoch 00047: val_auc did not improve from 0.91032\n",
      "130/130 [==============================] - 14s 110ms/step - loss: 0.1321 - binary_accuracy: 0.9515 - auc: 0.9867 - mcc_metric: 0.8995 - precision: 0.8971 - true_negatives: 2507.0000 - true_positives: 1438.0000 - false_negatives: 36.0000 - false_positives: 165.0000 - val_loss: 0.5064 - val_binary_accuracy: 0.8354 - val_auc: 0.8826 - val_mcc_metric: 0.6447 - val_precision: 0.7331 - val_true_negatives: 443.0000 - val_true_positives: 217.0000 - val_false_negatives: 51.0000 - val_false_positives: 79.0000\n",
      "Epoch 48/60\n",
      "130/130 [==============================] - ETA: 0s - loss: 0.0984 - binary_accuracy: 0.9696 - auc: 0.9898 - mcc_metric: 0.9372 - precision: 0.9309 - true_negatives: 2564.0000 - true_positives: 1456.0000 - false_negatives: 18.0000 - false_positives: 108.0000\n",
      "Epoch 00048: val_auc did not improve from 0.91032\n",
      "130/130 [==============================] - 14s 111ms/step - loss: 0.0984 - binary_accuracy: 0.9696 - auc: 0.9898 - mcc_metric: 0.9372 - precision: 0.9309 - true_negatives: 2564.0000 - true_positives: 1456.0000 - false_negatives: 18.0000 - false_positives: 108.0000 - val_loss: 0.6103 - val_binary_accuracy: 0.8329 - val_auc: 0.8735 - val_mcc_metric: 0.6410 - val_precision: 0.7329 - val_true_negatives: 444.0000 - val_true_positives: 214.0000 - val_false_negatives: 54.0000 - val_false_positives: 78.0000\n",
      "Epoch 49/60\n",
      "130/130 [==============================] - ETA: 0s - loss: 0.0947 - binary_accuracy: 0.9701 - auc: 0.9904 - mcc_metric: 0.9367 - precision: 0.9321 - true_negatives: 2566.0000 - true_positives: 1456.0000 - false_negatives: 18.0000 - false_positives: 106.0000\n",
      "Epoch 00049: val_auc did not improve from 0.91032\n",
      "130/130 [==============================] - 14s 111ms/step - loss: 0.0947 - binary_accuracy: 0.9701 - auc: 0.9904 - mcc_metric: 0.9367 - precision: 0.9321 - true_negatives: 2566.0000 - true_positives: 1456.0000 - false_negatives: 18.0000 - false_positives: 106.0000 - val_loss: 0.6057 - val_binary_accuracy: 0.8316 - val_auc: 0.8710 - val_mcc_metric: 0.6336 - val_precision: 0.7352 - val_true_negatives: 446.0000 - val_true_positives: 211.0000 - val_false_negatives: 57.0000 - val_false_positives: 76.0000\n",
      "Epoch 50/60\n",
      "130/130 [==============================] - ETA: 0s - loss: 0.0915 - binary_accuracy: 0.9713 - auc: 0.9906 - mcc_metric: 0.9401 - precision: 0.9346 - true_negatives: 2570.0000 - true_positives: 1457.0000 - false_negatives: 17.0000 - false_positives: 102.0000\n",
      "Epoch 00050: val_auc did not improve from 0.91032\n",
      "130/130 [==============================] - 14s 110ms/step - loss: 0.0915 - binary_accuracy: 0.9713 - auc: 0.9906 - mcc_metric: 0.9401 - precision: 0.9346 - true_negatives: 2570.0000 - true_positives: 1457.0000 - false_negatives: 17.0000 - false_positives: 102.0000 - val_loss: 0.6214 - val_binary_accuracy: 0.8342 - val_auc: 0.8797 - val_mcc_metric: 0.6467 - val_precision: 0.7276 - val_true_negatives: 440.0000 - val_true_positives: 219.0000 - val_false_negatives: 49.0000 - val_false_positives: 82.0000\n",
      "Epoch 51/60\n",
      "130/130 [==============================] - ETA: 0s - loss: 0.0915 - binary_accuracy: 0.9713 - auc: 0.9905 - mcc_metric: 0.9389 - precision: 0.9346 - true_negatives: 2570.0000 - true_positives: 1457.0000 - false_negatives: 17.0000 - false_positives: 102.0000\n",
      "Epoch 00051: val_auc did not improve from 0.91032\n",
      "130/130 [==============================] - 14s 111ms/step - loss: 0.0915 - binary_accuracy: 0.9713 - auc: 0.9905 - mcc_metric: 0.9389 - precision: 0.9346 - true_negatives: 2570.0000 - true_positives: 1457.0000 - false_negatives: 17.0000 - false_positives: 102.0000 - val_loss: 0.6959 - val_binary_accuracy: 0.8203 - val_auc: 0.8747 - val_mcc_metric: 0.6225 - val_precision: 0.7019 - val_true_negatives: 429.0000 - val_true_positives: 219.0000 - val_false_negatives: 49.0000 - val_false_positives: 93.0000\n",
      "Epoch 52/60\n",
      "130/130 [==============================] - ETA: 0s - loss: 0.0923 - binary_accuracy: 0.9696 - auc: 0.9913 - mcc_metric: 0.9353 - precision: 0.9309 - true_negatives: 2564.0000 - true_positives: 1456.0000 - false_negatives: 18.0000 - false_positives: 108.0000\n",
      "Epoch 00052: val_auc did not improve from 0.91032\n",
      "130/130 [==============================] - 14s 111ms/step - loss: 0.0923 - binary_accuracy: 0.9696 - auc: 0.9913 - mcc_metric: 0.9353 - precision: 0.9309 - true_negatives: 2564.0000 - true_positives: 1456.0000 - false_negatives: 18.0000 - false_positives: 108.0000 - val_loss: 0.6160 - val_binary_accuracy: 0.8278 - val_auc: 0.8662 - val_mcc_metric: 0.6344 - val_precision: 0.7157 - val_true_negatives: 435.0000 - val_true_positives: 219.0000 - val_false_negatives: 49.0000 - val_false_positives: 87.0000\n",
      "Epoch 53/60\n",
      "130/130 [==============================] - ETA: 0s - loss: 0.1078 - binary_accuracy: 0.9626 - auc: 0.9903 - mcc_metric: 0.9216 - precision: 0.9214 - true_negatives: 2549.0000 - true_positives: 1442.0000 - false_negatives: 32.0000 - false_positives: 123.0000\n",
      "Epoch 00053: val_auc did not improve from 0.91032\n",
      "130/130 [==============================] - 14s 111ms/step - loss: 0.1078 - binary_accuracy: 0.9626 - auc: 0.9903 - mcc_metric: 0.9216 - precision: 0.9214 - true_negatives: 2549.0000 - true_positives: 1442.0000 - false_negatives: 32.0000 - false_positives: 123.0000 - val_loss: 0.6203 - val_binary_accuracy: 0.8190 - val_auc: 0.8625 - val_mcc_metric: 0.6191 - val_precision: 0.6984 - val_true_negatives: 427.0000 - val_true_positives: 220.0000 - val_false_negatives: 48.0000 - val_false_positives: 95.0000\n",
      "Epoch 54/60\n",
      "130/130 [==============================] - ETA: 0s - loss: 0.0884 - binary_accuracy: 0.9711 - auc: 0.9917 - mcc_metric: 0.9387 - precision: 0.9351 - true_negatives: 2571.0000 - true_positives: 1455.0000 - false_negatives: 19.0000 - false_positives: 101.0000\n",
      "Epoch 00054: val_auc did not improve from 0.91032\n",
      "130/130 [==============================] - 14s 111ms/step - loss: 0.0884 - binary_accuracy: 0.9711 - auc: 0.9917 - mcc_metric: 0.9387 - precision: 0.9351 - true_negatives: 2571.0000 - true_positives: 1455.0000 - false_negatives: 19.0000 - false_positives: 101.0000 - val_loss: 0.6425 - val_binary_accuracy: 0.8253 - val_auc: 0.8553 - val_mcc_metric: 0.6216 - val_precision: 0.7257 - val_true_negatives: 443.0000 - val_true_positives: 209.0000 - val_false_negatives: 59.0000 - val_false_positives: 79.0000\n",
      "Epoch 55/60\n",
      "130/130 [==============================] - ETA: 0s - loss: 0.0875 - binary_accuracy: 0.9715 - auc: 0.9922 - mcc_metric: 0.9398 - precision: 0.9363 - true_negatives: 2573.0000 - true_positives: 1455.0000 - false_negatives: 19.0000 - false_positives: 99.0000\n",
      "Epoch 00055: val_auc did not improve from 0.91032\n",
      "130/130 [==============================] - 14s 110ms/step - loss: 0.0875 - binary_accuracy: 0.9715 - auc: 0.9922 - mcc_metric: 0.9398 - precision: 0.9363 - true_negatives: 2573.0000 - true_positives: 1455.0000 - false_negatives: 19.0000 - false_positives: 99.0000 - val_loss: 0.6605 - val_binary_accuracy: 0.7835 - val_auc: 0.8442 - val_mcc_metric: 0.5639 - val_precision: 0.6390 - val_true_negatives: 396.0000 - val_true_positives: 223.0000 - val_false_negatives: 45.0000 - val_false_positives: 126.0000\n",
      "Epoch 56/60\n",
      "130/130 [==============================] - ETA: 0s - loss: 0.1018 - binary_accuracy: 0.9655 - auc: 0.9900 - mcc_metric: 0.9272 - precision: 0.9231 - true_negatives: 2551.0000 - true_positives: 1452.0000 - false_negatives: 22.0000 - false_positives: 121.0000\n",
      "Epoch 00056: val_auc did not improve from 0.91032\n",
      "130/130 [==============================] - 14s 111ms/step - loss: 0.1018 - binary_accuracy: 0.9655 - auc: 0.9900 - mcc_metric: 0.9272 - precision: 0.9231 - true_negatives: 2551.0000 - true_positives: 1452.0000 - false_negatives: 22.0000 - false_positives: 121.0000 - val_loss: 0.6612 - val_binary_accuracy: 0.8241 - val_auc: 0.8512 - val_mcc_metric: 0.6133 - val_precision: 0.7380 - val_true_negatives: 451.0000 - val_true_positives: 200.0000 - val_false_negatives: 68.0000 - val_false_positives: 71.0000\n",
      "Epoch 57/60\n",
      "130/130 [==============================] - ETA: 0s - loss: 0.0969 - binary_accuracy: 0.9648 - auc: 0.9921 - mcc_metric: 0.9261 - precision: 0.9219 - true_negatives: 2549.0000 - true_positives: 1451.0000 - false_negatives: 23.0000 - false_positives: 123.0000\n",
      "Epoch 00057: val_auc did not improve from 0.91032\n",
      "130/130 [==============================] - 14s 111ms/step - loss: 0.0969 - binary_accuracy: 0.9648 - auc: 0.9921 - mcc_metric: 0.9261 - precision: 0.9219 - true_negatives: 2549.0000 - true_positives: 1451.0000 - false_negatives: 23.0000 - false_positives: 123.0000 - val_loss: 0.6177 - val_binary_accuracy: 0.8354 - val_auc: 0.8638 - val_mcc_metric: 0.6393 - val_precision: 0.7575 - val_true_negatives: 457.0000 - val_true_positives: 203.0000 - val_false_negatives: 65.0000 - val_false_positives: 65.0000\n",
      "Epoch 58/60\n",
      "130/130 [==============================] - ETA: 0s - loss: 0.0811 - binary_accuracy: 0.9708 - auc: 0.9933 - mcc_metric: 0.9378 - precision: 0.9334 - true_negatives: 2568.0000 - true_positives: 1457.0000 - false_negatives: 17.0000 - false_positives: 104.0000\n",
      "Epoch 00058: val_auc did not improve from 0.91032\n",
      "130/130 [==============================] - 14s 111ms/step - loss: 0.0811 - binary_accuracy: 0.9708 - auc: 0.9933 - mcc_metric: 0.9378 - precision: 0.9334 - true_negatives: 2568.0000 - true_positives: 1457.0000 - false_negatives: 17.0000 - false_positives: 104.0000 - val_loss: 0.7064 - val_binary_accuracy: 0.8342 - val_auc: 0.8377 - val_mcc_metric: 0.6347 - val_precision: 0.7491 - val_true_negatives: 453.0000 - val_true_positives: 206.0000 - val_false_negatives: 62.0000 - val_false_positives: 69.0000\n",
      "Epoch 59/60\n",
      "130/130 [==============================] - ETA: 0s - loss: 0.0842 - binary_accuracy: 0.9718 - auc: 0.9928 - mcc_metric: 0.9399 - precision: 0.9386 - true_negatives: 2577.0000 - true_positives: 1452.0000 - false_negatives: 22.0000 - false_positives: 95.0000\n",
      "Epoch 00059: val_auc did not improve from 0.91032\n",
      "130/130 [==============================] - 14s 111ms/step - loss: 0.0842 - binary_accuracy: 0.9718 - auc: 0.9928 - mcc_metric: 0.9399 - precision: 0.9386 - true_negatives: 2577.0000 - true_positives: 1452.0000 - false_negatives: 22.0000 - false_positives: 95.0000 - val_loss: 0.7369 - val_binary_accuracy: 0.8215 - val_auc: 0.8576 - val_mcc_metric: 0.6215 - val_precision: 0.7055 - val_true_negatives: 431.0000 - val_true_positives: 218.0000 - val_false_negatives: 50.0000 - val_false_positives: 91.0000\n",
      "Epoch 60/60\n",
      "130/130 [==============================] - ETA: 0s - loss: 0.0887 - binary_accuracy: 0.9686 - auc: 0.9931 - mcc_metric: 0.9334 - precision: 0.9308 - true_negatives: 2564.0000 - true_positives: 1452.0000 - false_negatives: 22.0000 - false_positives: 108.0000\n",
      "Epoch 00060: val_auc did not improve from 0.91032\n",
      "130/130 [==============================] - 14s 111ms/step - loss: 0.0887 - binary_accuracy: 0.9686 - auc: 0.9931 - mcc_metric: 0.9334 - precision: 0.9308 - true_negatives: 2564.0000 - true_positives: 1452.0000 - false_negatives: 22.0000 - false_positives: 108.0000 - val_loss: 0.6715 - val_binary_accuracy: 0.8076 - val_auc: 0.8671 - val_mcc_metric: 0.5985 - val_precision: 0.6779 - val_true_negatives: 417.0000 - val_true_positives: 221.0000 - val_false_negatives: 47.0000 - val_false_positives: 105.0000\n"
     ]
    },
    {
     "data": {
      "text/plain": [
       "<keras.callbacks.History at 0x254209b3550>"
      ]
     },
     "execution_count": 15,
     "metadata": {},
     "output_type": "execute_result"
    }
   ],
   "source": [
    "class_weights = {0: 0.77582335,\n",
    "                1: 1.4063772}\n",
    "def save(i):\n",
    "    return 'F:/bbb/model/nlp/model_'+str(i)+'iupac'+'.tf'\n",
    "\n",
    "checkpoint = tf.keras.callbacks.ModelCheckpoint(save(34), \n",
    "                monitor='val_auc', verbose=1, \n",
    "                save_best_only=True, save_weights_only = False, mode='max')\n",
    "callbacks_list = [checkpoint]\n",
    "\n",
    "model.compile(optimizer = tf.keras.optimizers.Adam(learning_rate = 0.0001) ,loss = BinaryCrossentropy(), metrics = [binary_accuracy, AUC(), mcc_metric \n",
    "                    ,Precision(),TrueNegatives(), TruePositives(), FalseNegatives(), FalsePositives()])\n",
    "model.fit(x = np.array(xtrain), y = np.array(ytrain), validation_data = (np.array(xvalid), np.array(yvalid)), epochs=60, batch_size = 32, \n",
    "              callbacks = callbacks_list, class_weight = class_weights)"
   ]
  },
  {
   "cell_type": "code",
   "execution_count": 17,
   "metadata": {},
   "outputs": [
    {
     "name": "stdout",
     "output_type": "stream",
     "text": [
      "39/39 [==============================] - 2s 45ms/step - loss: 0.3966 - binary_accuracy: 0.8298 - auc: 0.9023 - mcc_metric: 0.6357 - precision: 0.7335 - true_negatives: 669.0000 - true_positives: 355.0000 - false_negatives: 81.0000 - false_positives: 129.0000\n"
     ]
    },
    {
     "data": {
      "text/plain": [
       "[0.3966178894042969,\n",
       " 0.8298217058181763,\n",
       " 0.902349054813385,\n",
       " 0.6356543302536011,\n",
       " 0.7334710955619812,\n",
       " 669.0,\n",
       " 355.0,\n",
       " 81.0,\n",
       " 129.0]"
      ]
     },
     "execution_count": 17,
     "metadata": {},
     "output_type": "execute_result"
    }
   ],
   "source": [
    "model.load_weights(save(34))\n",
    "model.evaluate(np.array(xtest), np.array(ytest))"
   ]
  },
  {
   "cell_type": "code",
   "execution_count": 18,
   "metadata": {},
   "outputs": [
    {
     "name": "stdout",
     "output_type": "stream",
     "text": [
      "25/25 [==============================] - 1s 47ms/step - loss: 0.3721 - binary_accuracy: 0.8367 - auc: 0.9103 - mcc_metric: 0.6496 - precision: 0.7324 - true_negatives: 442.0000 - true_positives: 219.0000 - false_negatives: 49.0000 - false_positives: 80.0000\n"
     ]
    },
    {
     "data": {
      "text/plain": [
       "[0.3720516860485077,\n",
       " 0.8367088437080383,\n",
       " 0.9103155732154846,\n",
       " 0.6496498584747314,\n",
       " 0.7324414849281311,\n",
       " 442.0,\n",
       " 219.0,\n",
       " 49.0,\n",
       " 80.0]"
      ]
     },
     "execution_count": 18,
     "metadata": {},
     "output_type": "execute_result"
    }
   ],
   "source": [
    "model.evaluate(np.array(xvalid), np.array(yvalid))"
   ]
  }
 ],
 "metadata": {
  "interpreter": {
   "hash": "579282893146967bc5d17141c601e8a8b8ad4a0a2a5a6fe1c87b1000077400d7"
  },
  "kernelspec": {
   "display_name": "Python 3.8.8 ('base')",
   "language": "python",
   "name": "python3"
  },
  "language_info": {
   "codemirror_mode": {
    "name": "ipython",
    "version": 3
   },
   "file_extension": ".py",
   "mimetype": "text/x-python",
   "name": "python",
   "nbconvert_exporter": "python",
   "pygments_lexer": "ipython3",
   "version": "3.8.8"
  },
  "orig_nbformat": 4
 },
 "nbformat": 4,
 "nbformat_minor": 2
}
