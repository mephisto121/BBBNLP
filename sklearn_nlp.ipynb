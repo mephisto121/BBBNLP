{
 "cells": [
  {
   "cell_type": "code",
   "execution_count": 1,
   "metadata": {},
   "outputs": [],
   "source": [
    "import pandas as pd\n",
    "import numpy as np\n",
    "from sklearn import metrics\n",
    "from sklearn.feature_extraction.text import TfidfVectorizer\n",
    "from sklearn.naive_bayes import MultinomialNB\n",
    "from sklearn.ensemble import RandomForestClassifier, ExtraTreesClassifier\n",
    "from sklearn.svm import SVC\n",
    "from sklearn.pipeline import Pipeline\n",
    "from sklearn.preprocessing import LabelEncoder\n",
    "from helper_functions import smi_tokenizer\n",
    "import joblib"
   ]
  },
  {
   "cell_type": "code",
   "execution_count": 2,
   "metadata": {},
   "outputs": [],
   "source": [
    "def predict_metrics(model, xtest, ytest):\n",
    "    ypred = model.predict(xtest)\n",
    "    auc = metrics.roc_auc_score(ytest, ypred)\n",
    "    acc = metrics.accuracy_score(ytest, ypred)\n",
    "    tot = metrics.classification_report(ytest, ypred, output_dict=True)\n",
    "    tn, fp, fn, tp = metrics.confusion_matrix(ytest, ypred).ravel()\n",
    "    specificity = tn / (tn+fp)\n",
    "    sensitivity = tp / (tp+fn)\n",
    "\n",
    "    return auc, acc,tot, specificity, sensitivity"
   ]
  },
  {
   "cell_type": "code",
   "execution_count": 3,
   "metadata": {},
   "outputs": [],
   "source": [
    "data = pd.read_table('F:/bbb/data/B3DB/B3DB_classification.tsv')\n",
    "X = data['SMILES']\n",
    "X = [smi_tokenizer(smile) for smile in X]\n",
    "target=data['BBB+/BBB-'].values.tolist()\n",
    "label_encoder = LabelEncoder()\n",
    "y_classification = label_encoder.fit_transform(target)"
   ]
  },
  {
   "cell_type": "code",
   "execution_count": 4,
   "metadata": {},
   "outputs": [],
   "source": [
    "from sklearn.model_selection import train_test_split\n",
    "xtrain, xtest, ytrain, ytest = train_test_split(X, y_classification, test_size = 0.2, random_state = 42)\n",
    "xtrain, xvalid, ytrain, yvalid = train_test_split(xtrain, ytrain, test_size = 0.16, random_state = 42)"
   ]
  },
  {
   "cell_type": "code",
   "execution_count": 5,
   "metadata": {},
   "outputs": [],
   "source": [
    "model_randomforset = Pipeline([('tfidf', TfidfVectorizer(lowercase = False, analyzer = \"char\")), ('clf', RandomForestClassifier())])\n",
    "model_svm = Pipeline([('tfidf', TfidfVectorizer(lowercase = False, analyzer = \"char\")), ('clf', SVC())])\n",
    "model_extratree = Pipeline([('tfidf', TfidfVectorizer(lowercase = False, analyzer = \"char\")), ('clf', ExtraTreesClassifier())])\n",
    "model_naive = Pipeline([('tfidf', TfidfVectorizer(lowercase = False, analyzer = \"char\")), ('clf', MultinomialNB())])"
   ]
  },
  {
   "cell_type": "code",
   "execution_count": 6,
   "metadata": {},
   "outputs": [
    {
     "data": {
      "text/plain": [
       "Pipeline(steps=[('tfidf', TfidfVectorizer(analyzer='char', lowercase=False)),\n",
       "                ('clf', MultinomialNB())])"
      ]
     },
     "execution_count": 6,
     "metadata": {},
     "output_type": "execute_result"
    }
   ],
   "source": [
    "model_randomforset.fit(xtrain, ytrain)\n",
    "model_svm.fit(xtrain, ytrain)\n",
    "model_extratree.fit(xtrain, ytrain)\n",
    "model_naive.fit(xtrain, ytrain)"
   ]
  },
  {
   "cell_type": "markdown",
   "metadata": {},
   "source": [
    "## SVM results"
   ]
  },
  {
   "cell_type": "code",
   "execution_count": 7,
   "metadata": {},
   "outputs": [
    {
     "name": "stdout",
     "output_type": "stream",
     "text": [
      "0.7574190515366985 0.7900128040973111 0.8731268731268731 0.6417112299465241\n"
     ]
    }
   ],
   "source": [
    "auc,acc,result, specificity, sensitivity = predict_metrics(model_svm, xtest, ytest)\n",
    "print(auc, acc, specificity, sensitivity)"
   ]
  },
  {
   "cell_type": "code",
   "execution_count": 8,
   "metadata": {},
   "outputs": [
    {
     "data": {
      "text/plain": [
       "{'0': {'precision': 0.8130232558139535,\n",
       "  'recall': 0.8731268731268731,\n",
       "  'f1-score': 0.8420038535645472,\n",
       "  'support': 1001},\n",
       " '1': {'precision': 0.7392197125256673,\n",
       "  'recall': 0.6417112299465241,\n",
       "  'f1-score': 0.6870229007633587,\n",
       "  'support': 561},\n",
       " 'accuracy': 0.7900128040973111,\n",
       " 'macro avg': {'precision': 0.7761214841698104,\n",
       "  'recall': 0.7574190515366985,\n",
       "  'f1-score': 0.764513377163953,\n",
       "  'support': 1562},\n",
       " 'weighted avg': {'precision': 0.7865163494216817,\n",
       "  'recall': 0.7900128040973111,\n",
       "  'f1-score': 0.786341680375388,\n",
       "  'support': 1562}}"
      ]
     },
     "execution_count": 8,
     "metadata": {},
     "output_type": "execute_result"
    }
   ],
   "source": [
    "result"
   ]
  },
  {
   "cell_type": "markdown",
   "metadata": {},
   "source": [
    "## Random Forest model"
   ]
  },
  {
   "cell_type": "code",
   "execution_count": 9,
   "metadata": {},
   "outputs": [
    {
     "name": "stdout",
     "output_type": "stream",
     "text": [
      "0.7574190515366985 0.7900128040973111 0.8731268731268731 0.6417112299465241\n"
     ]
    }
   ],
   "source": [
    "auc,acc,result, specificity, sensitivity = predict_metrics(model_svm, xtest, ytest)\n",
    "print(auc, acc, specificity, sensitivity)"
   ]
  },
  {
   "cell_type": "code",
   "execution_count": 10,
   "metadata": {},
   "outputs": [
    {
     "data": {
      "text/plain": [
       "{'0': {'precision': 0.8130232558139535,\n",
       "  'recall': 0.8731268731268731,\n",
       "  'f1-score': 0.8420038535645472,\n",
       "  'support': 1001},\n",
       " '1': {'precision': 0.7392197125256673,\n",
       "  'recall': 0.6417112299465241,\n",
       "  'f1-score': 0.6870229007633587,\n",
       "  'support': 561},\n",
       " 'accuracy': 0.7900128040973111,\n",
       " 'macro avg': {'precision': 0.7761214841698104,\n",
       "  'recall': 0.7574190515366985,\n",
       "  'f1-score': 0.764513377163953,\n",
       "  'support': 1562},\n",
       " 'weighted avg': {'precision': 0.7865163494216817,\n",
       "  'recall': 0.7900128040973111,\n",
       "  'f1-score': 0.786341680375388,\n",
       "  'support': 1562}}"
      ]
     },
     "execution_count": 10,
     "metadata": {},
     "output_type": "execute_result"
    }
   ],
   "source": [
    "result"
   ]
  },
  {
   "cell_type": "markdown",
   "metadata": {},
   "source": [
    "## ExtraTreeClassifier"
   ]
  },
  {
   "cell_type": "code",
   "execution_count": 11,
   "metadata": {},
   "outputs": [
    {
     "name": "stdout",
     "output_type": "stream",
     "text": [
      "0.7574190515366985 0.7900128040973111 0.8731268731268731 0.6417112299465241\n"
     ]
    }
   ],
   "source": [
    "auc,acc,result, specificity, sensitivity = predict_metrics(model_svm, xtest, ytest)\n",
    "print(auc, acc, specificity, sensitivity)"
   ]
  },
  {
   "cell_type": "code",
   "execution_count": 12,
   "metadata": {},
   "outputs": [
    {
     "data": {
      "text/plain": [
       "{'0': {'precision': 0.8130232558139535,\n",
       "  'recall': 0.8731268731268731,\n",
       "  'f1-score': 0.8420038535645472,\n",
       "  'support': 1001},\n",
       " '1': {'precision': 0.7392197125256673,\n",
       "  'recall': 0.6417112299465241,\n",
       "  'f1-score': 0.6870229007633587,\n",
       "  'support': 561},\n",
       " 'accuracy': 0.7900128040973111,\n",
       " 'macro avg': {'precision': 0.7761214841698104,\n",
       "  'recall': 0.7574190515366985,\n",
       "  'f1-score': 0.764513377163953,\n",
       "  'support': 1562},\n",
       " 'weighted avg': {'precision': 0.7865163494216817,\n",
       "  'recall': 0.7900128040973111,\n",
       "  'f1-score': 0.786341680375388,\n",
       "  'support': 1562}}"
      ]
     },
     "execution_count": 12,
     "metadata": {},
     "output_type": "execute_result"
    }
   ],
   "source": [
    "result"
   ]
  },
  {
   "cell_type": "markdown",
   "metadata": {},
   "source": [
    "## Naive Bayes "
   ]
  },
  {
   "cell_type": "code",
   "execution_count": 13,
   "metadata": {},
   "outputs": [
    {
     "name": "stdout",
     "output_type": "stream",
     "text": [
      "0.7574190515366985 0.7900128040973111 0.8731268731268731 0.6417112299465241\n"
     ]
    }
   ],
   "source": [
    "auc,acc,result, specificity, sensitivity = predict_metrics(model_svm, xtest, ytest)\n",
    "print(auc, acc, specificity, sensitivity)"
   ]
  },
  {
   "cell_type": "code",
   "execution_count": 14,
   "metadata": {},
   "outputs": [
    {
     "data": {
      "text/plain": [
       "{'0': {'precision': 0.8130232558139535,\n",
       "  'recall': 0.8731268731268731,\n",
       "  'f1-score': 0.8420038535645472,\n",
       "  'support': 1001},\n",
       " '1': {'precision': 0.7392197125256673,\n",
       "  'recall': 0.6417112299465241,\n",
       "  'f1-score': 0.6870229007633587,\n",
       "  'support': 561},\n",
       " 'accuracy': 0.7900128040973111,\n",
       " 'macro avg': {'precision': 0.7761214841698104,\n",
       "  'recall': 0.7574190515366985,\n",
       "  'f1-score': 0.764513377163953,\n",
       "  'support': 1562},\n",
       " 'weighted avg': {'precision': 0.7865163494216817,\n",
       "  'recall': 0.7900128040973111,\n",
       "  'f1-score': 0.786341680375388,\n",
       "  'support': 1562}}"
      ]
     },
     "execution_count": 14,
     "metadata": {},
     "output_type": "execute_result"
    }
   ],
   "source": [
    "result"
   ]
  },
  {
   "cell_type": "code",
   "execution_count": 15,
   "metadata": {},
   "outputs": [
    {
     "data": {
      "text/plain": [
       "['F:/bbb/model/sklearn_models/naive.pkl']"
      ]
     },
     "execution_count": 15,
     "metadata": {},
     "output_type": "execute_result"
    }
   ],
   "source": [
    "joblib.dump(model_randomforset, 'F:/bbb/model/sklearn_models/randomforest.pkl')\n",
    "joblib.dump(model_svm, 'F:/bbb/model/sklearn_models/svm.pkl')\n",
    "joblib.dump(model_extratree, 'F:/bbb/model/sklearn_models/extratree.pkl')\n",
    "joblib.dump(model_naive, 'F:/bbb/model/sklearn_models/naive.pkl')"
   ]
  }
 ],
 "metadata": {
  "interpreter": {
   "hash": "579282893146967bc5d17141c601e8a8b8ad4a0a2a5a6fe1c87b1000077400d7"
  },
  "kernelspec": {
   "display_name": "Python 3.8.8 64-bit ('base': conda)",
   "language": "python",
   "name": "python3"
  },
  "language_info": {
   "codemirror_mode": {
    "name": "ipython",
    "version": 3
   },
   "file_extension": ".py",
   "mimetype": "text/x-python",
   "name": "python",
   "nbconvert_exporter": "python",
   "pygments_lexer": "ipython3",
   "version": "3.8.8"
  },
  "orig_nbformat": 4
 },
 "nbformat": 4,
 "nbformat_minor": 2
}
